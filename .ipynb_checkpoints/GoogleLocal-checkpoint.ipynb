{
 "cells": [
  {
   "cell_type": "code",
   "execution_count": 1,
   "metadata": {},
   "outputs": [],
   "source": [
    "import torch\n",
    "from collections import defaultdict\n",
    "import csv\n",
    "import numpy\n",
    "import random\n",
    "import matplotlib.pyplot as plt\n",
    "import math\n"
   ]
  },
  {
   "cell_type": "code",
   "execution_count": 2,
   "metadata": {},
   "outputs": [
    {
     "name": "stdout",
     "output_type": "stream",
     "text": [
      "1.1.0\n"
     ]
    }
   ],
   "source": [
    "print(torch.__version__)"
   ]
  },
  {
   "cell_type": "code",
   "execution_count": 3,
   "metadata": {},
   "outputs": [],
   "source": [
    "def readCSV(path):\n",
    "  f = open(path, 'rt')\n",
    "  f.readline()\n",
    "  for l in f:\n",
    "    yield l.strip().split(',')\n",
    "    \n",
    "def parseData(fname):\n",
    "  for l in open(fname):\n",
    "    yield eval(l)\n",
    "\n",
    "def parseDataFromURL(fname):\n",
    "  for l in urlopen(fname):\n",
    "    yield eval(l)"
   ]
  },
  {
   "cell_type": "code",
   "execution_count": 4,
   "metadata": {},
   "outputs": [
    {
     "name": "stdout",
     "output_type": "stream",
     "text": [
      "Reading data...\n",
      "done\n"
     ]
    },
    {
     "data": {
      "text/plain": [
       "[{'address': ['2615 Angler Ave', 'Hemet, CA 92545'],\n",
       "  'closed': False,\n",
       "  'gPlusPlaceId': '104699454385822125632',\n",
       "  'gps': [33.703804, -117.003209],\n",
       "  'hours': [['Monday', [['6:30 am--4:15 pm']]],\n",
       "   ['Tuesday', [['6:30 am--4:15 pm']]],\n",
       "   ['Wednesday', [['6:30 am--4:15 pm']], 1],\n",
       "   ['Thursday', [['6:30 am--4:15 pm']]],\n",
       "   ['Friday', [['6:30 am--4:15 pm']]],\n",
       "   ['Saturday', [['6:30 am--4:15 pm']]],\n",
       "   ['Sunday', [['6:30 am--4:15 pm']]]],\n",
       "  'name': 'Diamond Valley Lake Marina',\n",
       "  'phone': '(951) 926-7201',\n",
       "  'price': None},\n",
       " {'address': ['Parole', 'Annapolis, MD'],\n",
       "  'closed': False,\n",
       "  'gPlusPlaceId': '103054478949000078829',\n",
       "  'gps': [38.979759, -76.547538],\n",
       "  'hours': None,\n",
       "  'name': 'Blue Ribbon Cleaners',\n",
       "  'phone': '(410) 266-6123',\n",
       "  'price': None}]"
      ]
     },
     "execution_count": 4,
     "metadata": {},
     "output_type": "execute_result"
    }
   ],
   "source": [
    "print(\"Reading data...\")\n",
    "# data = list(parseDataFromURL(\"http://jmcauley.ucsd.edu/cse255/data/beer/beer_50000.json\"))\n",
    "# Save the file to disk first...\n",
    "place_data = list(parseData(\"../datasets/google_local/places.clean.json\"))\n",
    "print(\"done\")\n",
    "\n",
    "place_data[:2]"
   ]
  },
  {
   "cell_type": "code",
   "execution_count": 5,
   "metadata": {},
   "outputs": [
    {
     "name": "stdout",
     "output_type": "stream",
     "text": [
      "Reading data...\n",
      "done\n"
     ]
    },
    {
     "data": {
      "text/plain": [
       "[{'currentPlace': ['Thành phố Hồ Chí Minh, Việt Nam',\n",
       "   [[], 108230990, 1066296640, 1]],\n",
       "  'education': [[[], [], [], [], [], 6],\n",
       "   [['Đại học Kiến trúc tp Hồ chí minh, Việt nam',\n",
       "     'KS.XD',\n",
       "     [[], [1, 1, 2013], 1],\n",
       "     '',\n",
       "     '']]],\n",
       "  'gPlusUserId': '100000010817154263736',\n",
       "  'jobs': [['Tổng công ty IDICO',\n",
       "    'Chuyên viên Kỹ thuật XD',\n",
       "    [[1, 1, 1998], [1, 1, 2013], 1],\n",
       "    '',\n",
       "    '']],\n",
       "  'previousPlaces': [['tp. Nam Định, Nam Định, Việt Nam',\n",
       "    [[], 204200000, 1061683330, 1]]],\n",
       "  'userName': 'an lam'},\n",
       " {'currentPlace': ['Adana', [[], 370000000, 353213330, 1]],\n",
       "  'education': [[[], [], [], [], [], 6],\n",
       "   [['Anadolu University',\n",
       "     '',\n",
       "     [[], [1, 1, 2001]],\n",
       "     'http://www.freebase.com/view/m/064f68',\n",
       "     '']]],\n",
       "  'gPlusUserId': '100000013500285534661',\n",
       "  'jobs': [['Mustafa Nevzat İlaç San. A.Ş.', 'Rebrezant', [], '', '']],\n",
       "  'previousPlaces': None,\n",
       "  'userName': 'HALİL TURGUT'},\n",
       " {'currentPlace': None,\n",
       "  'education': [[[], [], [], [], [], 6], []],\n",
       "  'gPlusUserId': '100000021336848867366',\n",
       "  'jobs': None,\n",
       "  'previousPlaces': None,\n",
       "  'userName': '森田さとこ'},\n",
       " {'currentPlace': None,\n",
       "  'education': [[[], [], [], [], [], 6], []],\n",
       "  'gPlusUserId': '100000030557048145331',\n",
       "  'jobs': None,\n",
       "  'previousPlaces': None,\n",
       "  'userName': 'amey kore'},\n",
       " {'currentPlace': None,\n",
       "  'education': [[[], [], [], [], [], 6], []],\n",
       "  'gPlusUserId': '100000032416892623125',\n",
       "  'jobs': None,\n",
       "  'previousPlaces': None,\n",
       "  'userName': 'william spindler'},\n",
       " {'currentPlace': ['Pomona, CA', [[], 340552270, -1177523050, 1]],\n",
       "  'education': [[[], [], [], [], [], 6],\n",
       "   [['Upland High School', '', [[1, 1, 2008], [1, 1, 2012]], '', '']]],\n",
       "  'gPlusUserId': '100000035085750632094',\n",
       "  'jobs': [['PS Medical Supplies, Inc.',\n",
       "    'Customer Service',\n",
       "    [[1, 1, 2012], [1, 1, 2013], 1],\n",
       "    '',\n",
       "    '']],\n",
       "  'previousPlaces': [['Upland, Ca', [[], 340975100, -1176483880, 1]],\n",
       "   ['Azusa, CA', [[], 341336190, -1179075630, 1]],\n",
       "   ['Rancho Cucamonga, CA', [[], 341063990, -1175931080, 1]]],\n",
       "  'userName': 'Jacquelyn Dorris'},\n",
       " {'currentPlace': None,\n",
       "  'education': [[[], [], [], [], [], 6], []],\n",
       "  'gPlusUserId': '100000036174088924566',\n",
       "  'jobs': None,\n",
       "  'previousPlaces': None,\n",
       "  'userName': 'Bharti Phand'},\n",
       " {'currentPlace': None,\n",
       "  'education': [[[], [], [], [], [], 6], []],\n",
       "  'gPlusUserId': '100000037905537879319',\n",
       "  'jobs': None,\n",
       "  'previousPlaces': None,\n",
       "  'userName': '李棟梁'},\n",
       " {'currentPlace': None,\n",
       "  'education': [[[], [], [], [], [], 6], []],\n",
       "  'gPlusUserId': '100000039815955317902',\n",
       "  'jobs': None,\n",
       "  'previousPlaces': None,\n",
       "  'userName': 'Sazidur Rahman'},\n",
       " {'currentPlace': None,\n",
       "  'education': [[[], [], [], [], [], 6], []],\n",
       "  'gPlusUserId': '100000042779388982190',\n",
       "  'jobs': None,\n",
       "  'previousPlaces': None,\n",
       "  'userName': 'Malaba Geoffrey'}]"
      ]
     },
     "execution_count": 5,
     "metadata": {},
     "output_type": "execute_result"
    }
   ],
   "source": [
    "print(\"Reading data...\")\n",
    "# data = list(parseDataFromURL(\"http://jmcauley.ucsd.edu/cse255/data/beer/beer_50000.json\"))\n",
    "# Save the file to disk first...\n",
    "user_data = list(parseData(\"../datasets/google_local/users.clean.json\"))\n",
    "print(\"done\")\n",
    "\n",
    "user_data[:10]"
   ]
  },
  {
   "cell_type": "code",
   "execution_count": 6,
   "metadata": {},
   "outputs": [
    {
     "name": "stdout",
     "output_type": "stream",
     "text": [
      "Reading data...\n",
      "done\n"
     ]
    },
    {
     "data": {
      "text/plain": [
       "[{'categories': ['Giải Trí - Café'],\n",
       "  'gPlusPlaceId': '108103314380004200232',\n",
       "  'gPlusUserId': '100000010817154263736',\n",
       "  'rating': 3.0,\n",
       "  'reviewText': 'Chất lượng tạm ổn',\n",
       "  'reviewTime': 'Jul 1, 2013',\n",
       "  'reviewerName': 'an lam',\n",
       "  'unixReviewTime': 1372686659},\n",
       " {'categories': ['Turkish Cuisine'],\n",
       "  'gPlusPlaceId': '102194128241608748649',\n",
       "  'gPlusUserId': '100000013500285534661',\n",
       "  'rating': 5.0,\n",
       "  'reviewText': 'Wc si temiz duzenli..',\n",
       "  'reviewTime': 'Jul 21, 2012',\n",
       "  'reviewerName': 'HALİL TURGUT',\n",
       "  'unixReviewTime': 1342870724},\n",
       " {'categories': ['Fishing', 'Pond Fish Supplier', 'Seafood Market'],\n",
       "  'gPlusPlaceId': '101409858828175402384',\n",
       "  'gPlusUserId': '100000021336848867366',\n",
       "  'rating': 5.0,\n",
       "  'reviewText': '何回も私は予定に休みがセルバに行ったので覚えて見て、分かります❗',\n",
       "  'reviewTime': 'Jan 25, 2014',\n",
       "  'reviewerName': '森田さとこ',\n",
       "  'unixReviewTime': 1390653513},\n",
       " {'categories': ['Museum'],\n",
       "  'gPlusPlaceId': '101477177500158511502',\n",
       "  'gPlusUserId': '100000021336848867366',\n",
       "  'rating': 5.0,\n",
       "  'reviewText': '今度は予定に休みが登米市に行きたい❗☀😅🌌 楽しいに日帰りに登米の見学の観光(*^)(*^-^*)ゞ',\n",
       "  'reviewTime': 'Jan 8, 2014',\n",
       "  'reviewerName': '森田さとこ',\n",
       "  'unixReviewTime': 1389187706},\n",
       " {'categories': ['Police'],\n",
       "  'gPlusPlaceId': '106994170641063333085',\n",
       "  'gPlusUserId': '100000021336848867366',\n",
       "  'rating': 4.0,\n",
       "  'reviewText': '気仙沼警察署に移転中に絆 👮🐎☺🙋🚓頑張ろう❗',\n",
       "  'reviewTime': 'Jan 23, 2014',\n",
       "  'reviewerName': '森田さとこ',\n",
       "  'unixReviewTime': 1390486279}]"
      ]
     },
     "execution_count": 6,
     "metadata": {},
     "output_type": "execute_result"
    }
   ],
   "source": [
    "print(\"Reading data...\")\n",
    "# data = list(parseDataFromURL(\"http://jmcauley.ucsd.edu/cse255/data/beer/beer_50000.json\"))\n",
    "# Save the file to disk first...\n",
    "review_data = list(parseData(\"../datasets/google_local/reviews.clean.json\"))\n",
    "print(\"done\")\n",
    "\n",
    "review_data[:5]"
   ]
  },
  {
   "cell_type": "code",
   "execution_count": 7,
   "metadata": {},
   "outputs": [],
   "source": [
    "placeCount = defaultdict(int)\n",
    "userCount = defaultdict(int)\n",
    "totalRatings = 0\n",
    "review_times=[]\n",
    "\n",
    "reviews = [(review['gPlusPlaceId'],review['gPlusUserId'],review['rating'],\\\n",
    "            review['unixReviewTime']) for review in review_data] \n",
    "\n",
    "for place,user,rating,time in reviews:\n",
    "  placeCount[place] += 1\n",
    "  userCount[user] += 1\n",
    "  review_times.append(time)  \n",
    "  totalRatings += 1"
   ]
  },
  {
   "cell_type": "code",
   "execution_count": 8,
   "metadata": {},
   "outputs": [
    {
     "data": {
      "text/plain": [
       "3116785"
      ]
     },
     "execution_count": 8,
     "metadata": {},
     "output_type": "execute_result"
    }
   ],
   "source": [
    "mostPopular = [(placeCount[x], x) for x in placeCount]\n",
    "mostPopular.sort()\n",
    "mostPopular.reverse()\n",
    "\n",
    "len(mostPopular)"
   ]
  },
  {
   "cell_type": "code",
   "execution_count": 54,
   "metadata": {},
   "outputs": [
    {
     "data": {
      "text/plain": [
       "492554"
      ]
     },
     "execution_count": 54,
     "metadata": {},
     "output_type": "execute_result"
    }
   ],
   "source": [
    "morePopular=[]\n",
    "\n",
    "for count,id in mostPopular:\n",
    "    if count > 5:\n",
    "        morePopular.append([int(count),id])\n",
    "\n",
    "len(morePopular)"
   ]
  },
  {
   "cell_type": "code",
   "execution_count": 60,
   "metadata": {},
   "outputs": [
    {
     "data": {
      "text/plain": [
       "<function matplotlib.pyplot.show>"
      ]
     },
     "execution_count": 60,
     "metadata": {},
     "output_type": "execute_result"
    },
    {
     "data": {
      "image/png": "[encoded data removed]",
      "text/plain": [
       "<Figure size 720x504 with 1 Axes>"
      ]
     },
     "metadata": {},
     "output_type": "display_data"
    }
   ],
   "source": [
    "place_counts = numpy.array(morePopular)\n",
    "counts = place_counts.T[0].astype(int)\n",
    "\n",
    "plt.figure(figsize=(10,7))\n",
    "plt.hist(counts, bins=5)\n",
    "plt.show"
   ]
  },
  {
   "cell_type": "code",
   "execution_count": 58,
   "metadata": {},
   "outputs": [
    {
     "data": {
      "text/plain": [
       "array([1662,  982,  790, ...,    6,    6,    6])"
      ]
     },
     "execution_count": 58,
     "metadata": {},
     "output_type": "execute_result"
    }
   ],
   "source": [
    "place_counts.T[0].astype(int)"
   ]
  },
  {
   "cell_type": "code",
   "execution_count": 52,
   "metadata": {},
   "outputs": [
    {
     "name": "stderr",
     "output_type": "stream",
     "text": [
      "/home/lukeai/miniconda3/envs/py36/lib/python3.6/site-packages/matplotlib/axes/_axes.py:6448: UserWarning: The 'normed' kwarg is deprecated, and has been replaced by the 'density' kwarg.\n",
      "  warnings.warn(\"The 'normed' kwarg is deprecated, and has been \"\n"
     ]
    },
    {
     "data": {
      "image/png": "[encoded data removed]",
      "text/plain": [
       "<Figure size 432x288 with 1 Axes>"
      ]
     },
     "metadata": {},
     "output_type": "display_data"
    }
   ],
   "source": [
    "mu, sigma = 100, 1500\n",
    "x = mu + sigma*numpy.random.randn(100000)\n",
    "\n",
    "# the histogram of the data\n",
    "n, bins, patches = plt.hist(x, 50, normed=1, facecolor='green', alpha=0.75)\n",
    "plt.grid(True)\n",
    "\n",
    "plt.show()"
   ]
  },
  {
   "cell_type": "code",
   "execution_count": 53,
   "metadata": {},
   "outputs": [
    {
     "data": {
      "text/plain": [
       "array([ 1899.66744221,  1980.39315162,   509.37230882, ...,\n",
       "        2542.81912809, -1008.19833026, -1194.10521235])"
      ]
     },
     "execution_count": 53,
     "metadata": {},
     "output_type": "execute_result"
    }
   ],
   "source": [
    "x"
   ]
  },
  {
   "cell_type": "code",
   "execution_count": null,
   "metadata": {},
   "outputs": [],
   "source": []
  }
 ],
 "metadata": {
  "kernelspec": {
   "display_name": "Python [conda env:py36]",
   "language": "python",
   "name": "conda-env-py36-py"
  },
  "language_info": {
   "codemirror_mode": {
    "name": "ipython",
    "version": 3
   },
   "file_extension": ".py",
   "mimetype": "text/x-python",
   "name": "python",
   "nbconvert_exporter": "python",
   "pygments_lexer": "ipython3",
   "version": "3.6.8"
  }
 },
 "nbformat": 4,
 "nbformat_minor": 2
}
