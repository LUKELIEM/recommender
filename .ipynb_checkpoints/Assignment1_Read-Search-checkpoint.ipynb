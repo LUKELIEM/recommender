{
 "cells": [
  {
   "cell_type": "code",
   "execution_count": 3,
   "metadata": {},
   "outputs": [],
   "source": [
    "from collections import defaultdict\n",
    "import csv\n",
    "from sklearn import linear_model\n",
    "from sklearn.decomposition import PCA\n",
    "import scipy\n",
    "import scipy.optimize\n",
    "import numpy\n",
    "import random\n",
    "import matplotlib.pyplot as plt"
   ]
  },
  {
   "cell_type": "code",
   "execution_count": 4,
   "metadata": {},
   "outputs": [],
   "source": [
    "def readCSV(path):\n",
    "  f = open(path, 'rt')\n",
    "  f.readline()\n",
    "  for l in f:\n",
    "    yield l.strip().split(',')\n",
    "    \n",
    "def calc_model_stats(pred,label):\n",
    "    \n",
    "    TP,FP,TN,FN = calc_metrics(pred,label)\n",
    "\n",
    "    print(\"Stats\")\n",
    "    print(TP,FP,TN,FN)\n",
    "\n",
    "    print(\"Predict N: {} ({}%)\".format(TN+FN,(TN+FN)/(TP+TN+FP+FN)))\n",
    "    print(\"Predict P: {} ({}%)\".format(TP+FP,(TP+FP)/(TP+TN+FP+FN)))\n",
    "\n",
    "    accuracy, TPR, TNR, BER = calc_error_rates(TP, FP, TN, FN)\n",
    "\n",
    "    print(\"Accuracy: {}\".format(accuracy))\n",
    "    print(\"TPR: {}\".format(TPR))\n",
    "    print(\"TNR: {}\".format(TNR))\n",
    "    print(\"BER: {}\".format(BER))\n",
    "    \n",
    "    return\n",
    " \n",
    "def calc_metrics(predictions, labels):\n",
    "    # Calculate True positives, false positives, etc.\n",
    "\n",
    "    TP_ = numpy.logical_and(predictions, labels)\n",
    "    FP_ = numpy.logical_and(predictions, numpy.logical_not(labels))\n",
    "    TN_ = numpy.logical_and(numpy.logical_not(predictions), numpy.logical_not(labels))\n",
    "    FN_ = numpy.logical_and(numpy.logical_not(predictions), labels)\n",
    "\n",
    "    TP=sum(TP_)\n",
    "    FP=sum(FP_)\n",
    "    TN=sum(TN_)\n",
    "    FN=sum(FN_)\n",
    "    \n",
    "    return TP,FP,TN,FN\n",
    "\n",
    "def calc_error_rates(TP, FP, TN, FN):\n",
    "    # Calculate accuracy, TPR, TNR and BER\n",
    "    accuracy = (TP+TN)/(TP+TN+FP+FN)\n",
    "    TPR = TP/(TP+FN)\n",
    "    TNR = TN/(TN+FP)\n",
    "    BER = 1.0 - (TPR+TNR)/2\n",
    "    \n",
    "    return accuracy, TPR, TNR, BER"
   ]
  },
  {
   "cell_type": "markdown",
   "metadata": {},
   "source": [
    "### Split Training Dataset into Train and Validation Datasets"
   ]
  },
  {
   "cell_type": "code",
   "execution_count": 5,
   "metadata": {},
   "outputs": [
    {
     "name": "stdout",
     "output_type": "stream",
     "text": [
      "200000 190001 9999\n"
     ]
    }
   ],
   "source": [
    "dataset = []\n",
    "\n",
    "for user,book,rating in readCSV(\"assignment1/train_Interactions.csv\"):\n",
    "  dataset.append([user,book,rating,1])\n",
    "\n",
    "random.shuffle(dataset)\n",
    "\n",
    "X = [values[0:3] for values in dataset]\n",
    "y = [values[-1] for values in dataset]\n",
    "\n",
    "N = len(dataset)\n",
    "Ntrain = 190001\n",
    "\n",
    "Xtrain = X[:Ntrain]\n",
    "Xvalid = X[Ntrain:]\n",
    "\n",
    "ytrain = y[:Ntrain]\n",
    "yvalid = y[Ntrain:]\n",
    "\n",
    "print(N, len(ytrain),len(yvalid))"
   ]
  },
  {
   "cell_type": "code",
   "execution_count": 60,
   "metadata": {},
   "outputs": [
    {
     "data": {
      "text/plain": [
       "['u92860617', 'b49351989', '5', 1]"
      ]
     },
     "execution_count": 60,
     "metadata": {},
     "output_type": "execute_result"
    }
   ],
   "source": [
    "dataset[0]"
   ]
  },
  {
   "cell_type": "code",
   "execution_count": 7,
   "metadata": {},
   "outputs": [
    {
     "data": {
      "text/plain": [
       "[1, 1, 1, 1, 1, 1, 1, 1, 1, 1]"
      ]
     },
     "execution_count": 7,
     "metadata": {},
     "output_type": "execute_result"
    }
   ],
   "source": [
    "yvalid[:10]"
   ]
  },
  {
   "cell_type": "code",
   "execution_count": 120,
   "metadata": {},
   "outputs": [
    {
     "name": "stdout",
     "output_type": "stream",
     "text": [
      "Total num of books: 7170\n",
      "Total num of readers: 11357\n",
      "Total num of reads: 200000\n"
     ]
    }
   ],
   "source": [
    "bookCount = defaultdict(int)\n",
    "readerCount = defaultdict(int)\n",
    "totalRead = 0\n",
    "\n",
    "# Count the num of times a book is read, and aggregate the total num of reads\n",
    "for user,book,_ in readCSV(\"assignment1/train_Interactions.csv\"):\n",
    "  bookCount[book] += 1\n",
    "  readerCount[user] += 1\n",
    "  totalRead += 1\n",
    "\n",
    "print(\"Total num of books: {}\".format(len(bookCount)))    \n",
    "print(\"Total num of readers: {}\".format(len(readerCount))) \n",
    "print(\"Total num of reads: {}\".format(totalRead))\n",
    "\n",
    "# Generate a list of book_id and times_read in descending popularity\n",
    "mostPopular = [(bookCount[x], x) for x in bookCount]\n",
    "mostPopular.sort()\n",
    "mostPopular.reverse()\n",
    "\n",
    "# Generate a list of user_id and books_read in descending popularity\n",
    "mostWellRead = [(readerCount[x], x) for x in readerCount]\n",
    "mostWellRead.sort()\n",
    "mostWellRead.reverse()"
   ]
  },
  {
   "cell_type": "markdown",
   "metadata": {},
   "source": [
    "### Generate lists and sets for Similarity Calculations\n",
    "\n",
    "#### Jaccard Similarity between Books\n",
    "\n",
    "Jsim(i,j) = Intersection(U_i, U_j)/ Union(U_i, U_j)  \n",
    "\n",
    "where U_i, U_j are set of readers who have read book i and book j  \n",
    "\n",
    "#### Pearson Similarity between Books\n",
    "\n",
    "\n",
    "Psim(i,j) = Sum_Product_crij((R_u_i-AR_u), (R_u_j-AR_u))/ SqRt(Sum_crij(Sq(R_u_i-AR_u)))SqRt(Sum_crij(Sq(R_u_j-AR_u)))  \n",
    "\n",
    "where \n",
    "* crij - the set of readers who have read both book i and j  \n",
    "* R_u_i = Rating that reader u gives book i  \n",
    "* AR_u = Average rating given by reader u  \n",
    "\n",
    "\n",
    "\n"
   ]
  },
  {
   "cell_type": "code",
   "execution_count": 8,
   "metadata": {},
   "outputs": [],
   "source": [
    "user_Books_full = defaultdict(set)  # Set of (user, books_read)\n",
    "user_Books_Ratings_full = defaultdict(set)  # Set of (user, set(book_read, rating))\n",
    "book_Readers_full = defaultdict(set)  # Set of (book, readers)\n",
    "book_ids=[]\n",
    "\n",
    "for user,book,rating in X:\n",
    "  user_Books_full[user].add(book)\n",
    "  user_Books_Ratings_full[user].add((book,rating))\n",
    "  book_Readers_full[book].add(user)\n",
    "  if book not in book_ids:\n",
    "        book_ids.append(book)"
   ]
  },
  {
   "cell_type": "code",
   "execution_count": 9,
   "metadata": {},
   "outputs": [
    {
     "data": {
      "text/plain": [
       "(11357, 11357, 7170, 7170)"
      ]
     },
     "execution_count": 9,
     "metadata": {},
     "output_type": "execute_result"
    }
   ],
   "source": [
    "len(user_Books_full),len(user_Books_Ratings_full),len(book_Readers_full), len(book_ids)"
   ]
  },
  {
   "cell_type": "code",
   "execution_count": 10,
   "metadata": {},
   "outputs": [],
   "source": [
    "user_Books_train = defaultdict(set)\n",
    "user_Books_Ratings_train = defaultdict(set)\n",
    "book_Readers_train = defaultdict(set)\n",
    "book_Ratings_train = defaultdict(set)\n",
    "\n",
    "for user,book,rating in Xtrain:\n",
    "  user_Books_train[user].add(book)\n",
    "  user_Books_Ratings_train[user].add((book,rating))\n",
    "  book_Readers_train[book].add(user)\n",
    "  book_Ratings_train[book].add(rating)\n"
   ]
  },
  {
   "cell_type": "code",
   "execution_count": 11,
   "metadata": {},
   "outputs": [
    {
     "data": {
      "text/plain": [
       "(11357, 11357, 7170, 7170)"
      ]
     },
     "execution_count": 11,
     "metadata": {},
     "output_type": "execute_result"
    }
   ],
   "source": [
    "len(user_Books_train),len(user_Books_Ratings_train),len(book_Readers_train),len(book_Ratings_train)"
   ]
  },
  {
   "cell_type": "code",
   "execution_count": 12,
   "metadata": {},
   "outputs": [
    {
     "name": "stdout",
     "output_type": "stream",
     "text": [
      "Books read by user:\n",
      "u92860617 {'b14149814', 'b10666766', 'b76818420', 'b65490699', 'b49351989', 'b12292730', 'b72600319', 'b14154147', 'b08270813', 'b88970616', 'b14534905', 'b45789004', 'b28154053', 'b73465859'}\n",
      "u32396276 {'b59474527', 'b74382968', 'b47715156', 'b85011129', 'b33452085', 'b90262618', 'b30848216', 'b59875953', 'b57813406', 'b96712865', 'b46190346', 'b09925221', 'b02298658', 'b11544830', 'b82374557', 'b69000470', 'b54843135', 'b00989537', 'b34889122', 'b61189181', 'b29181017', 'b76389452', 'b17700065', 'b92812801', 'b30178176', 'b28776102', 'b12503442', 'b66352499', 'b25228847', 'b89338766', 'b40689362', 'b93849292', 'b28550617', 'b24746202', 'b85126302', 'b88697698', 'b02293155', 'b92838791', 'b28947111', 'b95498075', 'b70011719', 'b92725558', 'b16755175', 'b23178965', 'b66937334', 'b09588767', 'b57692646', 'b12292730', 'b43247600', 'b81698526', 'b66968346', 'b11403370', 'b92733205', 'b80488508', 'b07334075'}\n",
      "u93705814 {'b88633275', 'b09661260', 'b08515491', 'b28889278', 'b19842396', 'b19091559', 'b37000803', 'b39996061', 'b94999012', 'b00855555', 'b56939874', 'b23648201', 'b93415220'}\n",
      "Books and Ratings by user:\n",
      "u92860617 b73465859 4\n",
      "u92860617 b10666766 0\n",
      "u92860617 b08270813 5\n",
      "u92860617 b14154147 5\n",
      "u92860617 b14149814 5\n",
      "u92860617 b14534905 4\n",
      "u92860617 b72600319 4\n",
      "u92860617 b49351989 5\n",
      "u92860617 b45789004 5\n",
      "u92860617 b76818420 4\n",
      "u92860617 b88970616 4\n",
      "u92860617 b65490699 5\n",
      "u92860617 b28154053 3\n",
      "u92860617 b12292730 4\n",
      "u32396276 b09925221 5\n",
      "u32396276 b59474527 5\n",
      "u32396276 b85011129 5\n",
      "u32396276 b90262618 5\n",
      "u32396276 b74382968 4\n",
      "u32396276 b59875953 5\n",
      "u32396276 b34889122 5\n",
      "u32396276 b66352499 5\n",
      "u32396276 b02298658 5\n",
      "u32396276 b92812801 3\n",
      "u32396276 b30848216 5\n",
      "u32396276 b11403370 5\n",
      "u32396276 b95498075 0\n",
      "u32396276 b80488508 5\n",
      "u32396276 b47715156 5\n",
      "u32396276 b54843135 5\n",
      "u32396276 b33452085 5\n",
      "u32396276 b61189181 5\n",
      "u32396276 b82374557 4\n",
      "u32396276 b25228847 5\n",
      "u32396276 b89338766 5\n",
      "u32396276 b57692646 0\n",
      "u32396276 b28550617 5\n",
      "u32396276 b85126302 5\n",
      "u32396276 b17700065 4\n",
      "u32396276 b40689362 5\n",
      "u32396276 b81698526 5\n",
      "u32396276 b70011719 5\n",
      "u32396276 b23178965 5\n",
      "u32396276 b16755175 4\n",
      "u32396276 b11544830 0\n",
      "u32396276 b57813406 5\n",
      "u32396276 b30178176 5\n",
      "u32396276 b28776102 5\n",
      "u32396276 b00989537 5\n",
      "u32396276 b88697698 5\n",
      "u32396276 b66968346 4\n",
      "u32396276 b76389452 5\n",
      "u32396276 b12503442 4\n",
      "u32396276 b24746202 5\n",
      "u32396276 b43247600 5\n",
      "u32396276 b92725558 5\n",
      "u32396276 b09588767 5\n",
      "u32396276 b93849292 5\n",
      "u32396276 b92733205 5\n",
      "u32396276 b46190346 3\n",
      "u32396276 b28947111 5\n",
      "u32396276 b29181017 5\n",
      "u32396276 b07334075 5\n",
      "u32396276 b66937334 5\n",
      "u32396276 b02293155 5\n",
      "u32396276 b96712865 4\n",
      "u32396276 b69000470 5\n",
      "u32396276 b92838791 4\n",
      "u32396276 b12292730 4\n",
      "u93705814 b08515491 4\n",
      "u93705814 b23648201 5\n",
      "u93705814 b39996061 4\n",
      "u93705814 b37000803 4\n",
      "u93705814 b28889278 5\n",
      "u93705814 b19842396 5\n",
      "u93705814 b56939874 5\n",
      "u93705814 b88633275 4\n",
      "u93705814 b19091559 5\n",
      "u93705814 b93415220 5\n",
      "u93705814 b94999012 4\n",
      "u93705814 b09661260 5\n",
      "u93705814 b00855555 5\n",
      "Readers of book:\n",
      "b49351989 {'u03268163', 'u87487461', 'u80505092', 'u31475416', 'u48884068', 'u57214559', 'u17832368', 'u31547094', 'u51756780', 'u04455330', 'u87213292', 'u17908034', 'u19523222', 'u44419773', 'u41085407', 'u38006422', 'u82946950', 'u98246587', 'u00024543', 'u25854247', 'u82520241', 'u47784655', 'u82072260', 'u07620522', 'u51475909', 'u37120394', 'u12177307', 'u99163718', 'u07878687', 'u62305347', 'u73239193', 'u85492408', 'u24594259', 'u92860617', 'u76314046', 'u51943178', 'u04428454', 'u20329201', 'u77810949', 'u55802170', 'u54516554', 'u58678660', 'u78333136', 'u70421182', 'u87309854', 'u91675942', 'u09968763', 'u53491656', 'u17085064', 'u08727359', 'u45721541', 'u64015490', 'u05898558', 'u65222115', 'u89999718', 'u42592659', 'u59261520', 'u08971584', 'u11471856', 'u56960769', 'u46697847', 'u62605681', 'u47757141', 'u48953717', 'u94730814', 'u72743266', 'u43112358', 'u82529171', 'u25293287', 'u80330430', 'u50514791', 'u36642122', 'u20777792', 'u84806724', 'u75040124', 'u83222305'}\n",
      "b74382968 {'u19906106', 'u30639096', 'u45843458', 'u87412844', 'u56364958', 'u32159469', 'u63471599', 'u34527140', 'u65222384', 'u79728444', 'u51175264', 'u43906778', 'u85068960', 'u20690198', 'u33960086', 'u06161419', 'u28841151', 'u10327640', 'u96165389', 'u32396276', 'u97594241', 'u61635008', 'u63795757', 'u34390936', 'u12879213', 'u14330245', 'u89329975', 'u59190670', 'u76724585', 'u75833490', 'u84427916', 'u01721724', 'u75095053', 'u95713441', 'u88778549', 'u99330931', 'u72647231', 'u27668585', 'u77185356', 'u31731175', 'u27230234', 'u69677611', 'u41933417', 'u57747891', 'u78951635', 'u54293223', 'u46870619'}\n",
      "b28889278 {'u25890150', 'u04169893', 'u05361635', 'u52363840', 'u73565501', 'u45344129', 'u44691848', 'u85078962', 'u31802642', 'u03313048', 'u93384740', 'u27116254', 'u43701189', 'u55649017', 'u58636455', 'u81177722', 'u41253526', 'u43585846', 'u52427822', 'u01694940', 'u81828514', 'u97424295', 'u55196056', 'u10808528', 'u98332135', 'u74850187', 'u33824612', 'u70272523', 'u83482203', 'u48343308', 'u54404922', 'u54270805', 'u95934096', 'u62398207', 'u85007224', 'u97951816', 'u82256499', 'u59456529', 'u32863365', 'u38414044', 'u32991373', 'u21383159', 'u60293330', 'u56837949', 'u46390134', 'u37985589', 'u93705814', 'u66325627', 'u90212824', 'u24299267', 'u22151967', 'u06908596', 'u77050793', 'u52159177', 'u60281081', 'u86676972', 'u45446825', 'u90823682', 'u71752084', 'u17634916', 'u78102001', 'u03688407', 'u48953717', 'u49949176', 'u50836784', 'u61750205', 'u84565203', 'u68479436', 'u97879156', 'u50407418', 'u60891972', 'u83973596', 'u55318126', 'u80004655', 'u19046216', 'u06995421', 'u73858809', 'u56328623', 'u35637431', 'u09891241', 'u03917685', 'u22131522', 'u77300327', 'u35563934', 'u01150047'}\n"
     ]
    }
   ],
   "source": [
    "print (\"Books read by user:\")\n",
    "i = 0\n",
    "for value in user_Books_train:\n",
    "    i += 1\n",
    "    if i > 3:\n",
    "        break\n",
    "    print (value, user_Books_train[value])\n",
    "    \n",
    "print (\"Books and Ratings by user:\")\n",
    "i = 0\n",
    "for value in user_Books_Ratings_train:\n",
    "    i += 1\n",
    "    if i > 3:\n",
    "        break\n",
    "    for book, rating in user_Books_Ratings_train[value]:\n",
    "        print(value, book, rating)\n",
    "\n",
    "print (\"Readers of book:\")\n",
    "i = 0\n",
    "for value in book_Readers_train:\n",
    "    i += 1\n",
    "    if i > 3:\n",
    "        break\n",
    "    print (value, book_Readers_train[value])\n"
   ]
  },
  {
   "cell_type": "markdown",
   "metadata": {},
   "source": [
    "### Create a validation dataset of alternating read and unread books per user"
   ]
  },
  {
   "cell_type": "code",
   "execution_count": 13,
   "metadata": {},
   "outputs": [],
   "source": [
    "def unread_book(user, read_books):\n",
    "    # Find a random unread book for a specific user\n",
    "    \n",
    "    book = random.choice(book_ids)  # pick a book from full library\n",
    "    while book in read_books:\n",
    "        book = random.choice(book_ids)\n",
    "    return book"
   ]
  },
  {
   "cell_type": "code",
   "execution_count": 66,
   "metadata": {},
   "outputs": [],
   "source": [
    "Xvalid_full = []\n",
    "yvalid_full = []\n",
    "\n",
    "for value in zip(Xvalid,yvalid):\n",
    "    x,read = value\n",
    "    user = x[0]\n",
    "    book = x[1]\n",
    "    Xvalid_full.append([user, book])\n",
    "    yvalid_full.append(read)\n",
    "    \n",
    "    book = unread_book(user, user_Books_full[user])\n",
    "    Xvalid_full.append([user, book])\n",
    "    yvalid_full.append(0)\n",
    "    \n",
    "Xtrain_full = []\n",
    "ytrain_full = []\n",
    "\n",
    "for value in zip(Xtrain,ytrain):\n",
    "    x,read = value\n",
    "    user = x[0]\n",
    "    book = x[1]\n",
    "    Xtrain_full.append([user, book])\n",
    "    ytrain_full.append(read)\n",
    "    \n",
    "    book = unread_book(user, user_Books_full[user])\n",
    "    Xtrain_full.append([user, book])\n",
    "    ytrain_full.append(0)"
   ]
  },
  {
   "cell_type": "markdown",
   "metadata": {},
   "source": [
    "## (1) Popularity Threshold at 65%, Accuracy=0.664"
   ]
  },
  {
   "cell_type": "code",
   "execution_count": 17,
   "metadata": {},
   "outputs": [
    {
     "name": "stdout",
     "output_type": "stream",
     "text": [
      "Accuracy at 10% popularity: 0.5436543654365437\n",
      "Accuracy at 20% popularity: 0.5817581758175817\n",
      "Accuracy at 30% popularity: 0.6113111311131113\n",
      "Accuracy at 40% popularity: 0.6407140714071408\n",
      "Accuracy at 50% popularity: 0.6538153815381538\n",
      "Accuracy at 55% popularity: 0.659015901590159\n",
      "Accuracy at 60% popularity: 0.6607660766076607\n",
      "Accuracy at 65% popularity: 0.6597659765976598\n",
      "Accuracy at 70% popularity: 0.6535153515351535\n",
      "Accuracy at 80% popularity: 0.6322132213221322\n",
      "Accuracy at 90% popularity: 0.5923592359235924\n"
     ]
    }
   ],
   "source": [
    "popularity = [0.1,0.2,0.3,0.4,0.5,0.55,0.6,0.65,0.7,0.8,0.9]\n",
    "\n",
    "for popular in popularity:\n",
    "    \n",
    "    # Generate popular book set\n",
    "    popular_books = set()\n",
    "    count = 0\n",
    "    for ic, i in mostPopular:\n",
    "      count += ic\n",
    "      popular_books.add(i)\n",
    "      if count > totalRead * popular: \n",
    "        break\n",
    "    \n",
    "    # Generate prediction\n",
    "    pred_valid = []\n",
    "    for user,book in Xvalid_full:\n",
    "        if book in popular_books:\n",
    "            pred_valid.append(1)\n",
    "        else:\n",
    "            pred_valid.append(0)\n",
    "            \n",
    "    correct_pred = numpy.equal(pred_valid,yvalid_full)\n",
    "    accuracy = sum(correct_pred)/len(correct_pred)\n",
    "    print(\"Accuracy at {}% popularity: {}\".format(int(popular*100),accuracy))"
   ]
  },
  {
   "cell_type": "markdown",
   "metadata": {},
   "source": [
    "## Best Popularity Model\n"
   ]
  },
  {
   "cell_type": "code",
   "execution_count": 18,
   "metadata": {},
   "outputs": [],
   "source": [
    "popularity = [0.60]\n",
    "\n",
    "for popular in popularity:\n",
    "    \n",
    "    # Generate popular book set\n",
    "    popular_books = set()\n",
    "    count = 0\n",
    "    for ic, i in mostPopular:\n",
    "      count += ic\n",
    "      popular_books.add(i)\n",
    "      if count > totalRead * popular: \n",
    "        break\n",
    "    \n",
    "    # Generate prediction\n",
    "    pred_valid = []\n",
    "    for user,book in Xvalid_full:\n",
    "        if book in popular_books:\n",
    "            pred_valid.append(1)\n",
    "        else:\n",
    "            pred_valid.append(0)"
   ]
  },
  {
   "cell_type": "markdown",
   "metadata": {},
   "source": [
    "### Baseline Model --> High FP and FN\n",
    "\n",
    "The Baseline Model based on Popularity evenly predicts P and N. But TPR and TNR are only 60% and 72%."
   ]
  },
  {
   "cell_type": "code",
   "execution_count": 19,
   "metadata": {},
   "outputs": [
    {
     "name": "stdout",
     "output_type": "stream",
     "text": [
      "Validation Error Stats\n",
      "Stats\n",
      "6022 2807 7192 3977\n",
      "Predict N: 11169 (0.5585058505850585%)\n",
      "Predict P: 8829 (0.4414941494149415%)\n",
      "Accuracy: 0.6607660766076607\n",
      "TPR: 0.6022602260226022\n",
      "TNR: 0.7192719271927193\n",
      "BER: 0.33923392339233926\n"
     ]
    }
   ],
   "source": [
    "print(\"Validation Error Stats\")\n",
    "calc_model_stats(pred_valid,yvalid_full)"
   ]
  },
  {
   "cell_type": "code",
   "execution_count": 21,
   "metadata": {},
   "outputs": [],
   "source": [
    "def list_pad(l, n):\n",
    "    # if len(l) > n, the method truncates the list l to length n \n",
    "    # if n > len(l), the method pads list l with zero up to length n \n",
    "    return l[:n] + [0]*(n-len(l))\n",
    "\n",
    "\"\"\"\n",
    "Jaccard Similarity\n",
    "\"\"\"\n",
    "\n",
    "def Jaccard(s1, s2):\n",
    "    numer = len(s1.intersection(s2))\n",
    "    denom = len(s1.union(s2))\n",
    "    return numer / denom\n",
    "\n",
    "\"\"\"\n",
    "When evaluating whether a reader will read a certain book, we can approach it in two ways:\n",
    "(1) Is the book similar to all the other books the reader has read?\n",
    "(2) Is the reader similar to all the other readers who have read the same book?\n",
    "\"\"\"\n",
    "\n",
    "def items_jsim(book1, book2):\n",
    "    # generate readers set for the 2 books based on train dataset\n",
    "    s1 = book_Readers_train[book1]\n",
    "    s2 = book_Readers_train[book2]\n",
    "    return Jaccard(s1, s2)\n",
    "\n",
    "def users_jsim(reader1, reader2):\n",
    "    # generate Books set for the 2 readers based on train dataset\n",
    "    s1 = user_Books_train[reader1]\n",
    "    s2 = user_Books_train[reader2]\n",
    "    return Jaccard(s1, s2)\n",
    "\n",
    "def jsim_mostSimilar_items(r,b):\n",
    "    # Find books read by reader r that are most similar to book b\n",
    "    # and return Jaccard(b, book) in descending order\n",
    "    jsims = []\n",
    "    \n",
    "    # Go through the books read by reader r\n",
    "    for other_book in user_Books_train[r]:\n",
    "        if b == other_book: \n",
    "           continue   # skip if the book is b\n",
    "        jsim = items_jsim(b, other_book)\n",
    "        jsims.append(jsim)\n",
    "       \n",
    "    jsims.sort(reverse=True)  # sort in descending order of Jaccard Similarity\n",
    "    return jsims  \n",
    "\n",
    "def jsim_mostSimilar_users(b,r):\n",
    "    # Find readers who read book b that are most similar to the reader r\n",
    "    # and return Jaccard(r, reader) in descending order\n",
    "    jsims = []\n",
    "    \n",
    "    # Go through the readers who read book b\n",
    "    for reader in book_Readers_train[b]:\n",
    "        if r == reader: \n",
    "           continue   # skip if the reader is r\n",
    "        jsim = users_jsim(r, reader)\n",
    "        jsims.append(jsim)\n",
    "       \n",
    "    jsims.sort(reverse=True)  # sort in descending order of Jaccard Similarity\n",
    "    return jsims  \n",
    "\n",
    "\n",
    "def user_jaccard_predict(user, book, threshold):\n",
    "    \n",
    "    user_jsims = jsim_mostSimilar_users(book,user)\n",
    "    if len(user_jsims) is 0:\n",
    "        max_jsim = 0\n",
    "    else:\n",
    "        max_jsim = user_jsims[0]\n",
    "        \n",
    "    if max_jsim > threshold:\n",
    "        predict = True\n",
    "    else:\n",
    "        predict = False\n",
    "    return predict, max_jsim\n",
    "\n",
    "def book_jaccard_predict(user, book, threshold):\n",
    "    \n",
    "    book_jsims = jsim_mostSimilar_items(user,book)\n",
    "    if len(book_jsims) is 0:\n",
    "        max_jsim = 0\n",
    "    else:\n",
    "        max_jsim = book_jsims[0]\n",
    "        \n",
    "    if max_jsim > threshold:\n",
    "        predict = True\n",
    "    else:\n",
    "        predict = False\n",
    "    return predict, max_jsim\n"
   ]
  },
  {
   "cell_type": "code",
   "execution_count": 22,
   "metadata": {},
   "outputs": [
    {
     "data": {
      "text/plain": [
       "[0.04,\n",
       " 0.03333333333333333,\n",
       " 0.03225806451612903,\n",
       " 0.03125,\n",
       " 0.03125,\n",
       " 0.02702702702702703,\n",
       " 0.02702702702702703,\n",
       " 0.02702702702702703,\n",
       " 0.02564102564102564,\n",
       " 0.02127659574468085,\n",
       " 0.02040816326530612,\n",
       " 0.017241379310344827,\n",
       " 0.011627906976744186,\n",
       " 0.011235955056179775,\n",
       " 0.011111111111111112,\n",
       " 0.009433962264150943,\n",
       " 0.007633587786259542]"
      ]
     },
     "execution_count": 22,
     "metadata": {},
     "output_type": "execute_result"
    }
   ],
   "source": [
    "jsim_mostSimilar_items('u80908575', 'b72504285')"
   ]
  },
  {
   "cell_type": "code",
   "execution_count": 23,
   "metadata": {},
   "outputs": [
    {
     "data": {
      "text/plain": [
       "[0.038461538461538464,\n",
       " 0.037037037037037035,\n",
       " 0.03571428571428571,\n",
       " 0.034482758620689655,\n",
       " 0.034482758620689655,\n",
       " 0.03333333333333333,\n",
       " 0.03333333333333333,\n",
       " 0.03225806451612903,\n",
       " 0.03125,\n",
       " 0.030303030303030304,\n",
       " 0.030303030303030304,\n",
       " 0.02702702702702703,\n",
       " 0.02702702702702703,\n",
       " 0.024390243902439025,\n",
       " 0.023255813953488372,\n",
       " 0.022222222222222223,\n",
       " 0.0196078431372549,\n",
       " 0.015625]"
      ]
     },
     "execution_count": 23,
     "metadata": {},
     "output_type": "execute_result"
    }
   ],
   "source": [
    "jsim_mostSimilar_users('b72504285','u80908575')"
   ]
  },
  {
   "cell_type": "markdown",
   "metadata": {},
   "source": [
    "## (2) User Jaccard Similarity Threshold @ 0.03, Accuracy=0.643\n",
    "\n",
    "When Jaccard threshold is too high, the model predicts False all the time, so accuracy is 0.5 since the validation labels at 50-50 True-False.\n",
    "\n",
    "The optimal threshold is around 0.01, whereby accuracy peaks at 0.625.\n",
    "\n",
    "Accuracy falls as threshold approaches zero. At threshold=0, the model only predicts False when the readers set of the book is completely disjoint from the readers sets of all the books read by the user."
   ]
  },
  {
   "cell_type": "code",
   "execution_count": 25,
   "metadata": {},
   "outputs": [
    {
     "name": "stdout",
     "output_type": "stream",
     "text": [
      "Accuracy at threshold=1.0: 0.5\n",
      "Accuracy at threshold=0.25: 0.5\n",
      "Accuracy at threshold=0.1: 0.502050205020502\n",
      "Accuracy at threshold=0.05: 0.5616561656165616\n",
      "Accuracy at threshold=0.04: 0.6081608160816082\n",
      "Accuracy at threshold=0.03: 0.6426142614261426\n",
      "Accuracy at threshold=0.025: 0.6416141614161416\n",
      "Accuracy at threshold=0.02: 0.6259625962596259\n",
      "Accuracy at threshold=0.01: 0.5894089408940895\n",
      "Accuracy at threshold=0: 0.587958795879588\n"
     ]
    }
   ],
   "source": [
    "thresholds = [1.0, 0.25, 0.10, 0.05, 0.04, 0.03, 0.025, 0.02, 0.01, 0]\n",
    "\n",
    "for threshold in thresholds:\n",
    "    # Generate prediction\n",
    "    pred_valid = []\n",
    "\n",
    "    for value in Xvalid_full:\n",
    "        user, book = value\n",
    "        predict, max_jsim = user_jaccard_predict(user,book,threshold)\n",
    "        pred_valid.append(predict)    \n",
    "        \n",
    "    correct_pred = numpy.equal(pred_valid,yvalid_full)\n",
    "    accuracy = sum(correct_pred)/len(correct_pred)\n",
    "    print(\"Accuracy at threshold={}: {}\".format(threshold,accuracy))"
   ]
  },
  {
   "cell_type": "code",
   "execution_count": 26,
   "metadata": {},
   "outputs": [],
   "source": [
    "threshold = 0.03\n",
    "# Generate prediction\n",
    "pred_valid = []\n",
    "\n",
    "for value in Xvalid_full:\n",
    "    user, book = value\n",
    "    predict, max_jsim = user_jaccard_predict(user,book,threshold)\n",
    "    # print (user,book,predict, max_jsim)\n",
    "    pred_valid.append(predict) "
   ]
  },
  {
   "cell_type": "markdown",
   "metadata": {},
   "source": [
    "### User_Jaccard Model --> Lower False-Negatives\n",
    "\n",
    "The Jaccard Model overpredicts Positive, resulting in high FP."
   ]
  },
  {
   "cell_type": "code",
   "execution_count": 27,
   "metadata": {},
   "outputs": [
    {
     "name": "stdout",
     "output_type": "stream",
     "text": [
      "Validation Error Stats\n",
      "Stats\n",
      "6255 3403 6596 3744\n",
      "Predict N: 10340 (0.517051705170517%)\n",
      "Predict P: 9658 (0.4829482948294829%)\n",
      "Accuracy: 0.6426142614261426\n",
      "TPR: 0.6255625562556255\n",
      "TNR: 0.6596659665966597\n",
      "BER: 0.35738573857385747\n"
     ]
    }
   ],
   "source": [
    "print(\"Validation Error Stats\")\n",
    "calc_model_stats(pred_valid,yvalid_full)"
   ]
  },
  {
   "cell_type": "code",
   "execution_count": 30,
   "metadata": {},
   "outputs": [
    {
     "name": "stdout",
     "output_type": "stream",
     "text": [
      "Accuracy at threshold=1.0: 0.5\n",
      "Accuracy at threshold=0.1: 0.5002000200020001\n",
      "Accuracy at threshold=0.05: 0.504000400040004\n",
      "Accuracy at threshold=0.02: 0.5659065906590659\n",
      "Accuracy at threshold=0.01: 0.618011801180118\n",
      "Accuracy at threshold=0.005: 0.5957595759575958\n",
      "Accuracy at threshold=0: 0.587958795879588\n"
     ]
    }
   ],
   "source": [
    "thresholds = [1.0, 0.10, 0.05, 0.02, 0.01, 0.005, 0]\n",
    "\n",
    "for threshold in thresholds:\n",
    "    # Generate prediction\n",
    "    pred_valid = []\n",
    "\n",
    "    for value in Xvalid_full:\n",
    "        user, book = value\n",
    "        predict, max_jsim = book_jaccard_predict(user,book,threshold)\n",
    "        pred_valid.append(predict)    \n",
    "        \n",
    "    correct_pred = numpy.equal(pred_valid,yvalid_full)\n",
    "    accuracy = sum(correct_pred)/len(correct_pred)\n",
    "    print(\"Accuracy at threshold={}: {}\".format(threshold,accuracy))"
   ]
  },
  {
   "cell_type": "code",
   "execution_count": 31,
   "metadata": {},
   "outputs": [
    {
     "name": "stdout",
     "output_type": "stream",
     "text": [
      "Validation Error Stats\n",
      "Stats\n",
      "8130 5770 4229 1869\n",
      "Predict N: 6098 (0.3049304930493049%)\n",
      "Predict P: 13900 (0.695069506950695%)\n",
      "Accuracy: 0.618011801180118\n",
      "TPR: 0.813081308130813\n",
      "TNR: 0.4229422942294229\n",
      "BER: 0.381988198819882\n"
     ]
    }
   ],
   "source": [
    "threshold = 0.01\n",
    "# Generate prediction\n",
    "pred_valid = []\n",
    "\n",
    "for value in Xvalid_full:\n",
    "    user, book = value\n",
    "    predict, max_jsim = book_jaccard_predict(user,book,threshold)\n",
    "    # print (user,book,predict, max_jsim)\n",
    "    pred_valid.append(predict) \n",
    "\n",
    "print(\"Validation Error Stats\")\n",
    "calc_model_stats(pred_valid,yvalid_full)"
   ]
  },
  {
   "cell_type": "markdown",
   "metadata": {},
   "source": [
    "## (3) Ensemble Popularity, Book and User Jaccard Similarity\n",
    "\n",
    "Two approaches are used:\n",
    "\n",
    "1. If book is popular, predict read. If book is not popular, use Jaccard Similarity to predict read.\n",
    "Accuracy = 0.62\n",
    "\n",
    "2. If book is popular and Jaccard Similarity > 0.01, predict read. Otherwise, predict zero.\n",
    "Accuracy = 0.673\n",
    "\n"
   ]
  },
  {
   "cell_type": "code",
   "execution_count": 58,
   "metadata": {},
   "outputs": [],
   "source": [
    "popularity_thresholds = [0.65]\n",
    "user_jaccard_threshold = 0.025\n",
    "book_jaccard_threshold = 0.008\n",
    "\n",
    "for popular in popularity_thresholds:\n",
    "    \n",
    "    # Generate popular book set\n",
    "    popular_books = set()\n",
    "    count = 0\n",
    "    for ic, i in mostPopular:\n",
    "      count += ic\n",
    "      popular_books.add(i)\n",
    "      if count > totalRead * popular: \n",
    "        break\n",
    "    \n",
    "    # Generate +ve prediction when book is popular OR is similar\n",
    "    pred_valid = []\n",
    "    for user,book in Xvalid_full:\n",
    "        # Predict using Jaccard similarity\n",
    "        similar_users, user_max_jsim = user_jaccard_predict(user,book,user_jaccard_threshold)\n",
    "        similar_books, book_max_jsim = book_jaccard_predict(user,book,book_jaccard_threshold)\n",
    "        \n",
    "        popular_book = book in popular_books\n",
    "        \n",
    "        if (popular_book and similar_users) or (popular_book and similar_books):\n",
    "            pred_valid.append(1)\n",
    "        elif user_max_jsim > 0.05 or book_max_jsim > 0.045:\n",
    "            pred_valid.append(1)\n",
    "        else:  \n",
    "            pred_valid.append(0)"
   ]
  },
  {
   "cell_type": "code",
   "execution_count": 59,
   "metadata": {},
   "outputs": [
    {
     "name": "stdout",
     "output_type": "stream",
     "text": [
      "Validation Error Stats\n",
      "Stats\n",
      "6743 3324 6675 3256\n",
      "Predict N: 9931 (0.4965996599659966%)\n",
      "Predict P: 10067 (0.5034003400340034%)\n",
      "Accuracy: 0.6709670967096709\n",
      "TPR: 0.6743674367436744\n",
      "TNR: 0.6675667566756676\n",
      "BER: 0.32903290329032897\n"
     ]
    }
   ],
   "source": [
    "print(\"Validation Error Stats\")\n",
    "calc_model_stats(pred_valid,yvalid_full)"
   ]
  },
  {
   "cell_type": "code",
   "execution_count": 43,
   "metadata": {},
   "outputs": [],
   "source": [
    "popularity_thresholds = [0.60]\n",
    "user_jaccard_threshold = 0.03\n",
    "book_jaccard_threshold = 0.01\n",
    "\n",
    "for popular in popularity_thresholds:\n",
    "    \n",
    "    # Generate popular book set\n",
    "    popular_books = set()\n",
    "    count = 0\n",
    "    for ic, i in mostPopular:\n",
    "      count += ic\n",
    "      popular_books.add(i)\n",
    "      if count > totalRead * popular: \n",
    "        break\n",
    "    \n",
    "    # Generate +ve prediction when book is popular OR is similar\n",
    "    pred_valid = []\n",
    "    for user,book in Xvalid_full:\n",
    "        # Predict using Jaccard similarity\n",
    "        user_jsim_predict, max_jsim = user_jaccard_predict(user,book,user_jaccard_threshold)\n",
    "        book_jsim_predict, max_jsim = book_jaccard_predict(user,book,book_jaccard_threshold)\n",
    "        \n",
    "            pred_valid.append(1)\n",
    "        elif user_jsim_predict and book_jsim_predict:\n",
    "            pred_valid.append(1)\n",
    "        else:  \n",
    "            pred_valid.append(0)\n"
   ]
  },
  {
   "cell_type": "code",
   "execution_count": 44,
   "metadata": {},
   "outputs": [
    {
     "name": "stdout",
     "output_type": "stream",
     "text": [
      "Validation Error Stats\n",
      "Stats\n",
      "5653 2744 7255 4346\n",
      "Predict N: 11601 (0.5801080108010801%)\n",
      "Predict P: 8397 (0.4198919891989199%)\n",
      "Accuracy: 0.6454645464546455\n",
      "TPR: 0.5653565356535654\n",
      "TNR: 0.7255725572557256\n",
      "BER: 0.35453545354535454\n"
     ]
    }
   ],
   "source": [
    "print(\"Validation Error Stats\")\n",
    "calc_model_stats(pred_valid,yvalid_full)"
   ]
  },
  {
   "cell_type": "markdown",
   "metadata": {},
   "source": [
    "## Kaggle Submission, Accuracy=0.68, User_Name='Luke Liem'\n",
    "\n",
    "This result is based on optimizing popularity and Jaccard thresholds using hyperparameter search.\n",
    "\n",
    "Essentially the model predicts that a user will read a book (P) if:\n",
    "\n",
    "* the book is popular AND it is similar to the other books read by the user\n",
    "* the book is very very similar to the other books read by the user."
   ]
  },
  {
   "cell_type": "code",
   "execution_count": 290,
   "metadata": {},
   "outputs": [],
   "source": [
    "popularity_threshold = 0.650\n",
    "jaccard_threshold = 0.008\n",
    "very_similar_threshold = 0.045\n",
    "\n",
    "# Generate popular book set\n",
    "popular_books = set()\n",
    "count = 0\n",
    "for ic, i in mostPopular:\n",
    "    count += ic\n",
    "    popular_books.add(i)\n",
    "    if count > totalRead * popularity_threshold: \n",
    "        break\n",
    "\n",
    "predictions = open(\"assignment1/predictions_Read.txt\", 'w')\n",
    "for l in open(\"assignment1/pairs_Read.txt\"):\n",
    "\n",
    "    if l.startswith(\"userID\"):\n",
    "        #header\n",
    "        predictions.write(l)\n",
    "        continue\n",
    "    \n",
    "    user,book = l.strip().split('-')\n",
    "\n",
    "    # Predict using Jaccard similarity\n",
    "\n",
    "    jsim_predict, max_jsim = jaccard_predict(user,book,jaccard_threshold)\n",
    "    \n",
    "    similar = jsim_predict\n",
    "    popularbook = book in popular_books\n",
    "    \n",
    "    if popularbook and similar:\n",
    "        predictions.write(user + '-' + book + \",1\\n\")\n",
    "    elif max_jsim > very_similar_threshold:\n",
    "        predictions.write(user + '-' + book + \",1\\n\") \n",
    "    else:  \n",
    "        predictions.write(user + '-' + book + \",0\\n\")\n",
    "\n",
    "predictions.close()"
   ]
  },
  {
   "cell_type": "markdown",
   "metadata": {},
   "source": [
    "## (4) Logistic Regression Model - Popularity Only\n",
    "\n",
    "Start simple:\n",
    "\n",
    "X.theta = y\n",
    "\n",
    "where X = [popularity], popularity= (times a book is read)/(total num of reads)\n",
    "\n",
    "Accuracy = 0.65"
   ]
  },
  {
   "cell_type": "code",
   "execution_count": 123,
   "metadata": {},
   "outputs": [
    {
     "data": {
      "text/plain": [
       "19998"
      ]
     },
     "execution_count": 123,
     "metadata": {},
     "output_type": "execute_result"
    }
   ],
   "source": [
    "len(Xvalid_full)"
   ]
  },
  {
   "cell_type": "code",
   "execution_count": 71,
   "metadata": {},
   "outputs": [
    {
     "data": {
      "text/plain": [
       "[['u19508046', 'b58516196'],\n",
       " ['u14337391', 'b70852919'],\n",
       " ['u51044012', 'b87887241'],\n",
       " ['u72647231', 'b08218205'],\n",
       " ['u76903642', 'b83219157'],\n",
       " ['u98136734', 'b80466863'],\n",
       " ['u91675942', 'b07530537'],\n",
       " ['u68997607', 'b63964479'],\n",
       " ['u26968875', 'b96347205'],\n",
       " ['u47039508', 'b33382845']]"
      ]
     },
     "execution_count": 71,
     "metadata": {},
     "output_type": "execute_result"
    }
   ],
   "source": [
    "Xtrain_full[:10]"
   ]
  },
  {
   "cell_type": "code",
   "execution_count": 72,
   "metadata": {},
   "outputs": [
    {
     "data": {
      "text/plain": [
       "[1, 0, 0, 0, 0, 1, 0, 0, 1, 0]"
      ]
     },
     "execution_count": 72,
     "metadata": {},
     "output_type": "execute_result"
    }
   ],
   "source": [
    "ytrain_full[:10]"
   ]
  },
  {
   "cell_type": "code",
   "execution_count": 128,
   "metadata": {},
   "outputs": [
    {
     "name": "stdout",
     "output_type": "stream",
     "text": [
      "[[1, 0.00041], [1, 4.5e-05], [1, 0.000235], [1, 5e-05], [1, 0.000445], [1, 8e-05], [1, 0.000275], [1, 8.5e-05], [1, 0.00131], [1, 0.0001]]\n"
     ]
    }
   ],
   "source": [
    "# X_train = [[1,bookCount[b]/totalRead,readerCount[u]/totalRead] for u,b in Xtrain_full]\n",
    "X_train = [[1,bookCount[b]/totalRead] for u,b in Xtrain_full]\n",
    "\n",
    "y_train = ytrain_full\n",
    "\n",
    "# X_valid = [[1,bookCount[b]/totalRead,readerCount[u]/totalRead] for u,b in Xvalid_full]\n",
    "X_valid = [[1,bookCount[b]/totalRead] for u,b in Xvalid_full]\n",
    "y_valid = yvalid_full\n",
    "\n",
    "print(X_train[:10])"
   ]
  },
  {
   "cell_type": "markdown",
   "metadata": {},
   "source": [
    "## Dataset Characterization\n",
    "\n",
    "Total num of books: 7170\n",
    "Total num of readers: 11357\n",
    "Total num of reads: 200000"
   ]
  },
  {
   "cell_type": "code",
   "execution_count": 114,
   "metadata": {},
   "outputs": [
    {
     "data": {
      "text/plain": [
       "<function matplotlib.pyplot.show>"
      ]
     },
     "execution_count": 114,
     "metadata": {},
     "output_type": "execute_result"
    },
    {
     "data": {
      "image/png": "[encoded data removed]",
      "text/plain": [
       "<matplotlib.figure.Figure at 0x7fbdffe6c390>"
      ]
     },
     "metadata": {},
     "output_type": "display_data"
    }
   ],
   "source": [
    "book_popularity=numpy.array(numpy.array(mostPopular).T[0],dtype=int)\n",
    "plt.figure(figsize=(10,7))\n",
    "plt.title(\"Book Popularity\")\n",
    "plt.hist(book_popularity, bins=20)\n",
    "plt.show\n"
   ]
  },
  {
   "cell_type": "code",
   "execution_count": 115,
   "metadata": {},
   "outputs": [
    {
     "data": {
      "text/plain": [
       "<function matplotlib.pyplot.show>"
      ]
     },
     "execution_count": 115,
     "metadata": {},
     "output_type": "execute_result"
    },
    {
     "data": {
      "image/png": "[encoded data removed]",
      "text/plain": [
       "<matplotlib.figure.Figure at 0x7fbe10757080>"
      ]
     },
     "metadata": {},
     "output_type": "display_data"
    }
   ],
   "source": [
    "well_read=numpy.array(numpy.array(mostWellRead).T[0],dtype=int)\n",
    "plt.figure(figsize=(10,7))\n",
    "plt.title(\"Num Books read by Readers\")\n",
    "plt.hist(well_read, bins=30)\n",
    "plt.show\n"
   ]
  },
  {
   "cell_type": "code",
   "execution_count": 129,
   "metadata": {},
   "outputs": [
    {
     "name": "stderr",
     "output_type": "stream",
     "text": [
      "/home/lukeliem/miniconda3/lib/python3.6/site-packages/sklearn/linear_model/logistic.py:432: FutureWarning: Default solver will be changed to 'lbfgs' in 0.22. Specify a solver to silence this warning.\n",
      "  FutureWarning)\n"
     ]
    },
    {
     "name": "stdout",
     "output_type": "stream",
     "text": [
      "Training Error Stats\n",
      "Stats\n",
      "86231 30701 159300 103770\n",
      "Predict N: 263070 (0.6922858300745786%)\n",
      "Predict P: 116932 (0.30771416992542144%)\n",
      "Accuracy: 0.646130809837843\n",
      "TPR: 0.4538449797632644\n",
      "TNR: 0.8384166399124215\n",
      "BER: 0.353869190162157\n",
      "Validation Error Stats\n",
      "Stats\n",
      "4563 1630 8369 5436\n",
      "Predict N: 13805 (0.6903190319031903%)\n",
      "Predict P: 6193 (0.3096809680968097%)\n",
      "Accuracy: 0.6466646664666467\n",
      "TPR: 0.45634563456345634\n",
      "TNR: 0.836983698369837\n",
      "BER: 0.35333533353335334\n"
     ]
    }
   ],
   "source": [
    "model = linear_model.LogisticRegression(C=1.0)\n",
    "model.fit(X_train, y_train)\n",
    "\n",
    "train_pred = model.predict(X_train)\n",
    "valid_pred = model.predict(X_valid)\n",
    "\n",
    "print(\"Training Error Stats\")\n",
    "calc_model_stats(train_pred,y_train)\n",
    "\n",
    "print(\"Validation Error Stats\")\n",
    "calc_model_stats(valid_pred,y_valid)\n"
   ]
  },
  {
   "cell_type": "code",
   "execution_count": null,
   "metadata": {},
   "outputs": [],
   "source": []
  }
 ],
 "metadata": {
  "kernelspec": {
   "display_name": "Python [default]",
   "language": "python",
   "name": "python3"
  },
  "language_info": {
   "codemirror_mode": {
    "name": "ipython",
    "version": 3
   },
   "file_extension": ".py",
   "mimetype": "text/x-python",
   "name": "python",
   "nbconvert_exporter": "python",
   "pygments_lexer": "ipython3",
   "version": "3.6.9"
  }
 },
 "nbformat": 4,
 "nbformat_minor": 2
}
