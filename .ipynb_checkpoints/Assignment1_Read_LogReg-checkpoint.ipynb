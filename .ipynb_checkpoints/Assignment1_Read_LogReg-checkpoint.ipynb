{
 "cells": [
  {
   "cell_type": "code",
   "execution_count": 479,
   "metadata": {},
   "outputs": [],
   "source": [
    "from collections import defaultdict\n",
    "import csv\n",
    "from sklearn import linear_model\n",
    "from sklearn.decomposition import PCA\n",
    "import scipy\n",
    "import scipy.optimize\n",
    "import numpy\n",
    "import random\n",
    "import matplotlib.pyplot as plt\n",
    "import math"
   ]
  },
  {
   "cell_type": "code",
   "execution_count": 480,
   "metadata": {},
   "outputs": [],
   "source": [
    "def readCSV(path):\n",
    "  f = open(path, 'rt')\n",
    "  f.readline()\n",
    "  for l in f:\n",
    "    yield l.strip().split(',')\n",
    "    \n",
    "def calc_model_stats(pred,label):\n",
    "    \n",
    "    TP,FP,TN,FN = calc_metrics(pred,label)\n",
    "\n",
    "    # print(\"Stats\")\n",
    "    # print(TP,FP,TN,FN)\n",
    "\n",
    "    # print(\"Predict N: {} ({}%)\".format(TN+FN,(TN+FN)/(TP+TN+FP+FN)))\n",
    "    # print(\"Predict P: {} ({}%)\".format(TP+FP,(TP+FP)/(TP+TN+FP+FN)))\n",
    "\n",
    "    accuracy, TPR, TNR, BER = calc_error_rates(TP, FP, TN, FN)\n",
    "\n",
    "    print(\"Accuracy: {}\".format(accuracy))\n",
    "    # print(\"TPR: {}\".format(TPR))\n",
    "    # print(\"TNR: {}\".format(TNR))\n",
    "    # print(\"BER: {}\".format(BER))\n",
    "    \n",
    "    return\n",
    " \n",
    "def calc_metrics(predictions, labels):\n",
    "    # Calculate True positives, false positives, etc.\n",
    "\n",
    "    TP_ = numpy.logical_and(predictions, labels)\n",
    "    FP_ = numpy.logical_and(predictions, numpy.logical_not(labels))\n",
    "    TN_ = numpy.logical_and(numpy.logical_not(predictions), numpy.logical_not(labels))\n",
    "    FN_ = numpy.logical_and(numpy.logical_not(predictions), labels)\n",
    "\n",
    "    TP=sum(TP_)\n",
    "    FP=sum(FP_)\n",
    "    TN=sum(TN_)\n",
    "    FN=sum(FN_)\n",
    "    \n",
    "    return TP,FP,TN,FN\n",
    "\n",
    "def calc_error_rates(TP, FP, TN, FN):\n",
    "    # Calculate accuracy, TPR, TNR and BER\n",
    "    accuracy = (TP+TN)/(TP+TN+FP+FN)\n",
    "    TPR = TP/(TP+FN)\n",
    "    TNR = TN/(TN+FP)\n",
    "    BER = 1.0 - (TPR+TNR)/2\n",
    "    \n",
    "    return accuracy, TPR, TNR, BER\n",
    "\n"
   ]
  },
  {
   "cell_type": "markdown",
   "metadata": {},
   "source": [
    "### Split Training Dataset into Train and Validation Datasets"
   ]
  },
  {
   "cell_type": "code",
   "execution_count": 481,
   "metadata": {},
   "outputs": [
    {
     "name": "stdout",
     "output_type": "stream",
     "text": [
      "200000 190001 9999\n"
     ]
    }
   ],
   "source": [
    "dataset = []\n",
    "\n",
    "for user,book,rating in readCSV(\"assignment1/train_Interactions.csv\"):\n",
    "  dataset.append([user,book,rating,1])\n",
    "\n",
    "random.shuffle(dataset)\n",
    "\n",
    "X = [values[0:3] for values in dataset]\n",
    "y = [values[-1] for values in dataset]\n",
    "\n",
    "N = len(dataset)\n",
    "Ntrain = 190001\n",
    "\n",
    "Xtrain = X[:Ntrain]\n",
    "Xvalid = X[Ntrain:]\n",
    "\n",
    "ytrain = y[:Ntrain]\n",
    "yvalid = y[Ntrain:]\n",
    "\n",
    "print(N, len(ytrain),len(yvalid))"
   ]
  },
  {
   "cell_type": "code",
   "execution_count": 482,
   "metadata": {},
   "outputs": [
    {
     "name": "stdout",
     "output_type": "stream",
     "text": [
      "Total num of books: 7170\n",
      "Total num of readers: 11357\n",
      "Total num of reads: 200000\n"
     ]
    }
   ],
   "source": [
    "bookCount = defaultdict(int)\n",
    "readerCount = defaultdict(int)\n",
    "totalRead = 0\n",
    "\n",
    "# Count the num of times a book is read, and aggregate the total num of reads\n",
    "for user,book,_ in readCSV(\"assignment1/train_Interactions.csv\"):\n",
    "  bookCount[book] += 1\n",
    "  readerCount[user] += 1\n",
    "  totalRead += 1\n",
    "\n",
    "print(\"Total num of books: {}\".format(len(bookCount)))    \n",
    "print(\"Total num of readers: {}\".format(len(readerCount))) \n",
    "print(\"Total num of reads: {}\".format(totalRead))"
   ]
  },
  {
   "cell_type": "markdown",
   "metadata": {},
   "source": [
    "### Generate lists and sets for Similarity Calculations\n",
    "\n",
    "#### Jaccard Similarity between Books\n",
    "\n",
    "Jsim(i,j) = Intersection(U_i, U_j)/ Union(U_i, U_j)  \n",
    "\n",
    "where U_i, U_j are set of readers who have read book i and book j  \n",
    "\n",
    "#### Pearson Similarity between Books\n",
    "\n",
    "\n",
    "Psim(i,j) = Sum_Product_crij((R_u_i-AR_u), (R_u_j-AR_u))/ SqRt(Sum_crij(Sq(R_u_i-AR_u)))SqRt(Sum_crij(Sq(R_u_j-AR_u)))  \n",
    "\n",
    "where \n",
    "* crij - the set of readers who have read both book i and j  \n",
    "* R_u_i = Rating that reader u gives book i  \n",
    "* AR_u = Average rating given by reader u  \n",
    "\n",
    "\n",
    "\n"
   ]
  },
  {
   "cell_type": "code",
   "execution_count": 483,
   "metadata": {},
   "outputs": [
    {
     "name": "stdout",
     "output_type": "stream",
     "text": [
      "........................................................................................................................................................................................................"
     ]
    }
   ],
   "source": [
    "user_Books_full = defaultdict(set)  # Set of (user, books_read)\n",
    "user_Books_Ratings_full = defaultdict(set)  # Set of (user, set(book_read, rating))\n",
    "book_Readers_full = defaultdict(set)  # Set of (book, readers)\n",
    "book_ids=[]\n",
    "reader_ids=[]\n",
    "\n",
    "i=0\n",
    "for user,book,rating in X:\n",
    "  if i % 1000 == 0:\n",
    "      print ('.', end='')\n",
    "  i += 1\n",
    "\n",
    "  user_Books_full[user].add(book)\n",
    "  user_Books_Ratings_full[user].add((book,rating))\n",
    "  book_Readers_full[book].add(user)\n",
    "  if book not in book_ids:\n",
    "        book_ids.append(book)\n",
    "  if user not in reader_ids:\n",
    "        reader_ids.append(user)"
   ]
  },
  {
   "cell_type": "code",
   "execution_count": 484,
   "metadata": {},
   "outputs": [
    {
     "name": "stdout",
     "output_type": "stream",
     "text": [
      "11357 7170\n"
     ]
    }
   ],
   "source": [
    "print(len(reader_ids), len(book_ids))"
   ]
  },
  {
   "cell_type": "code",
   "execution_count": 485,
   "metadata": {},
   "outputs": [],
   "source": [
    "user_Books_train = defaultdict(set)\n",
    "user_Books_Ratings_train = defaultdict(set)\n",
    "book_Readers_train = defaultdict(set)\n",
    "book_Ratings_train = defaultdict(set)\n",
    "\n",
    "for user,book,rating in Xtrain:\n",
    "  user_Books_train[user].add(book)\n",
    "  user_Books_Ratings_train[user].add((book,rating))\n",
    "  book_Readers_train[book].add(user)\n",
    "  book_Ratings_train[book].add(rating)\n"
   ]
  },
  {
   "cell_type": "code",
   "execution_count": 486,
   "metadata": {},
   "outputs": [
    {
     "data": {
      "text/plain": [
       "(11357, 11357, 7170, 7170)"
      ]
     },
     "execution_count": 486,
     "metadata": {},
     "output_type": "execute_result"
    }
   ],
   "source": [
    "len(user_Books_train),len(user_Books_Ratings_train),len(book_Readers_train),len(book_Ratings_train)"
   ]
  },
  {
   "cell_type": "markdown",
   "metadata": {},
   "source": [
    "## Data Composition of Xtrain\n",
    "\n",
    "Some of the readers have very few datapoints. We need to augment them."
   ]
  },
  {
   "cell_type": "code",
   "execution_count": 487,
   "metadata": {},
   "outputs": [
    {
     "data": {
      "text/plain": [
       "<function matplotlib.pyplot.show>"
      ]
     },
     "execution_count": 487,
     "metadata": {},
     "output_type": "execute_result"
    },
    {
     "data": {
      "image/png": "[encoded data removed]",
      "text/plain": [
       "<matplotlib.figure.Figure at 0x7f5ebd90a9e8>"
      ]
     },
     "metadata": {},
     "output_type": "display_data"
    }
   ],
   "source": [
    "uCount = defaultdict(int)\n",
    "# Count the num of times a book is read, and aggregate the total num of reads\n",
    "for user,book,rating in Xtrain:\n",
    "  uCount[user] += 1\n",
    "\n",
    "counts = []\n",
    "for id, count in  uCount.items():\n",
    "    counts.append(count)\n",
    "\n",
    "data = numpy.array(counts).T\n",
    "plt.figure(figsize=(10,7))\n",
    "plt.hist(data, bins=100)\n",
    "plt.show    "
   ]
  },
  {
   "cell_type": "markdown",
   "metadata": {},
   "source": [
    "### Create a validation dataset of alternating read and unread books per user"
   ]
  },
  {
   "cell_type": "code",
   "execution_count": 488,
   "metadata": {},
   "outputs": [],
   "source": [
    "def unread_book(user, read_books):\n",
    "    # Find a random unread book for a specific user\n",
    "    \n",
    "    book = random.choice(book_ids)  # pick a book from full library\n",
    "    while book in read_books:\n",
    "        book = random.choice(book_ids)\n",
    "    return book"
   ]
  },
  {
   "cell_type": "code",
   "execution_count": 489,
   "metadata": {},
   "outputs": [],
   "source": [
    "Xvalid_full = []\n",
    "yvalid_full = []\n",
    "\n",
    "for value in zip(Xvalid,yvalid):\n",
    "    x,read = value\n",
    "    user = x[0]\n",
    "    book = x[1]\n",
    "    Xvalid_full.append([user, book])\n",
    "    yvalid_full.append(read)\n",
    "    \n",
    "    book = unread_book(user, user_Books_full[user])\n",
    "    Xvalid_full.append([user, book])\n",
    "    yvalid_full.append(0)\n",
    "    \n",
    "Xtrain_full = []\n",
    "ytrain_full = []\n",
    "\n",
    "for value in zip(Xtrain,ytrain):\n",
    "    x,read = value\n",
    "    user = x[0]\n",
    "    book = x[1]\n",
    "    Xtrain_full.append([user, book])\n",
    "    ytrain_full.append(read)\n",
    "    \n",
    "    book = unread_book(user, user_Books_full[user])\n",
    "    Xtrain_full.append([user, book])\n",
    "    ytrain_full.append(0)\n"
   ]
  },
  {
   "cell_type": "code",
   "execution_count": 497,
   "metadata": {},
   "outputs": [
    {
     "data": {
      "text/plain": [
       "[1, 0, 1, 0, 1]"
      ]
     },
     "execution_count": 497,
     "metadata": {},
     "output_type": "execute_result"
    }
   ],
   "source": [
    "ytrain_full[:5]"
   ]
  },
  {
   "cell_type": "code",
   "execution_count": 490,
   "metadata": {},
   "outputs": [
    {
     "data": {
      "text/plain": [
       "<function matplotlib.pyplot.show>"
      ]
     },
     "execution_count": 490,
     "metadata": {},
     "output_type": "execute_result"
    },
    {
     "data": {
      "image/png": "[encoded data removed]",
      "text/plain": [
       "<matplotlib.figure.Figure at 0x7f5eef1a3d30>"
      ]
     },
     "metadata": {},
     "output_type": "display_data"
    }
   ],
   "source": [
    "uCount = defaultdict(int)\n",
    "# Count the num of times a book is read, and aggregate the total num of reads\n",
    "for user,book in Xtrain_full:\n",
    "  uCount[user] += 1\n",
    "\n",
    "counts = []\n",
    "for id, count in  uCount.items():\n",
    "    counts.append(count)\n",
    "\n",
    "data = numpy.array(counts).T\n",
    "plt.figure(figsize=(10,7))\n",
    "plt.hist(data, bins=100)\n",
    "plt.show   "
   ]
  },
  {
   "cell_type": "code",
   "execution_count": 491,
   "metadata": {},
   "outputs": [],
   "source": [
    "U_Jsims_train = []\n",
    "U_Psims_train = []\n",
    "B_Jsims_train = []\n",
    "B_Psims_train = []\n",
    "\n",
    "U_Jsims_valid = []\n",
    "U_Psims_valid = []\n",
    "B_Jsims_valid = []\n",
    "B_Psims_valid = []\n",
    "\n",
    "for u,b in Xtrain_full:\n",
    "    U_Jsims_train.append(list_pad(jsim_mostSimilar_users(b,u),8))\n",
    "    U_Psims_train.append(list_pad(psim_mostSimilar_users(b,u),8))    \n",
    "    B_Jsims_train.append(list_pad(jsim_mostSimilar_items(u,b),8))\n",
    "    B_Psims_train.append(list_pad(psim_mostSimilar_items(u,b),8))\n",
    "\n",
    "for u,b in Xvalid_full:\n",
    "    U_Jsims_valid.append(list_pad(jsim_mostSimilar_users(b,u),8))\n",
    "    U_Psims_valid.append(list_pad(psim_mostSimilar_users(b,u),8))    \n",
    "    B_Jsims_valid.append(list_pad(jsim_mostSimilar_items(u,b),8)) \n",
    "    B_Psims_valid.append(list_pad(psim_mostSimilar_items(u,b),8))"
   ]
  },
  {
   "cell_type": "code",
   "execution_count": 472,
   "metadata": {},
   "outputs": [],
   "source": [
    "def list_pad(l, n):\n",
    "    # if len(l) > n, the method truncates the list l to length n \n",
    "    # if n > len(l), the method pads list l with zero up to length n \n",
    "    return l[:n] + [0]*(n-len(l))\n",
    "\n",
    "def find_rating(reader,book):\n",
    "    rating = 0\n",
    "    for b, rating in user_Books_Ratings_train[reader]:\n",
    "        if book == b:\n",
    "            return int(rating)\n",
    "    return int(rating)\n",
    "\n",
    "def average_rating(reader):\n",
    "    ratings = []\n",
    "    for _, rating in user_Books_Ratings_train[reader]:\n",
    "        ratings.append(int(rating))\n",
    "    \n",
    "    if len(ratings) == 0:\n",
    "        return 0\n",
    "    \n",
    "    return sum(ratings)/len(ratings)\n",
    "\n",
    "\"\"\"\n",
    "Jaccard Similarity\n",
    "\"\"\"\n",
    "\n",
    "def Jaccard(s1, s2):\n",
    "    numer = len(s1.intersection(s2))\n",
    "    denom = len(s1.union(s2))\n",
    "    return numer / denom\n",
    "\n",
    "\"\"\"\n",
    "When evaluating whether a reader will read a certain book, we can approach it in two ways:\n",
    "(1) Is the book similar to all the other books the reader has read?\n",
    "(2) Is the reader similar to all the other readers who have read the same book?\n",
    "\"\"\"\n",
    "\n",
    "def items_jsim(book1, book2):\n",
    "    # generate readers set for the 2 books based on train dataset\n",
    "    s1 = book_Readers_train[book1]\n",
    "    s2 = book_Readers_train[book2]\n",
    "    return Jaccard(s1, s2)\n",
    "\n",
    "def users_jsim(reader1, reader2):\n",
    "    # generate Books set for the 2 readers based on train dataset\n",
    "    s1 = user_Books_train[reader1]\n",
    "    s2 = user_Books_train[reader2]\n",
    "    return Jaccard(s1, s2)\n",
    "\n",
    "def jsim_mostSimilar_items(r,b):\n",
    "    # Find books read by reader r that are most similar to book b\n",
    "    # and return Jaccard(b, book) in descending order\n",
    "    jsims = []\n",
    "    \n",
    "    # Go through the books read by reader r\n",
    "    for other_book in user_Books_train[r]:\n",
    "        if b == other_book: \n",
    "           continue   # skip if the book is b\n",
    "        jsim = items_jsim(b, other_book)\n",
    "        jsims.append(jsim)\n",
    "       \n",
    "    jsims.sort(reverse=True)  # sort in descending order of Jaccard Similarity\n",
    "    return jsims  \n",
    "\n",
    "def jsim_mostSimilar_users(b,r):\n",
    "    # Find readers who read book b that are most similar to the reader r\n",
    "    # and return Jaccard(r, reader) in descending order\n",
    "    jsims = []\n",
    "    \n",
    "    # Go through the readers who read book b\n",
    "    for reader in book_Readers_train[b]:\n",
    "        if r == reader: \n",
    "           continue   # skip if the reader is r\n",
    "        jsim = users_jsim(r, reader)\n",
    "        jsims.append(jsim)\n",
    "       \n",
    "    jsims.sort(reverse=True)  # sort in descending order of Jaccard Similarity\n",
    "    return jsims  \n",
    "\n",
    "\n",
    "def jaccard_predict(user, book, threshold):\n",
    "    \"\"\"\n",
    "    user_jsims = jsim_mostSimilar_users(book,user)\n",
    "    if len(user_jsims) is 0:\n",
    "        max_jsim = 0\n",
    "    else:\n",
    "        max_jsim = user_jsims[0]\n",
    "    \"\"\"    \n",
    "    book_jsims = jsim_mostSimilar_items(user,book)\n",
    "    if len(book_jsims) is 0:\n",
    "        max_jsim = 0\n",
    "    else:\n",
    "        max_jsim = book_jsims[0]\n",
    "        \n",
    "    if max_jsim > threshold:\n",
    "        predict = True\n",
    "    else:\n",
    "        predict = False\n",
    "    return predict, max_jsim\n",
    "\n",
    "\"\"\"\n",
    "Pearson Similarity\n",
    "\n",
    "When evaluating whether a reader will read a certain book, we can approach it in two ways:\n",
    "(1) Is the book similar to all the other books the reader has read?\n",
    "(2) Is the reader similar to all the other readers who have read the same book?\n",
    "\"\"\"\n",
    "\n",
    "def users_Pearson(r1,r2):\n",
    "    \n",
    "    books_r1 = set([])\n",
    "    ratings_r1 = []\n",
    "    \n",
    "    for book,rating in user_Books_Ratings_train[r1]:\n",
    "        # print (book,rating)\n",
    "        books_r1.add(book)\n",
    "        ratings_r1.append(int(rating))\n",
    "        \n",
    "    if len(ratings_r1) == 0:\n",
    "        avRating_r1 = 0\n",
    "    else:\n",
    "        avRating_r1 = sum(ratings_r1)/len(ratings_r1)\n",
    "        \n",
    "    # print(books_r1)\n",
    "    # print(avRating_r1)\n",
    "    \n",
    "    books_r2 = set([])\n",
    "    ratings_r2 = []\n",
    "    \n",
    "    for book,rating in user_Books_Ratings_train[r2]:\n",
    "        # print (book,rating)\n",
    "        books_r2.add(book)\n",
    "        ratings_r2.append(int(rating))\n",
    "        \n",
    "    if len(ratings_r2) == 0:\n",
    "        avRating_r2 = 0\n",
    "    else:\n",
    "        avRating_r2 = sum(ratings_r2)/len(ratings_r2)  \n",
    "    \n",
    "    # print(books_r2)\n",
    "    # print(avRating_r2)\n",
    "        \n",
    "    common = books_r1.intersection(books_r2)\n",
    "    if len(common) == 0:  # return psim=0 if no common book\n",
    "        return 0\n",
    "        \n",
    "    # print(common)\n",
    "    \n",
    "    sumProducts = []\n",
    "    sumSq_R1 = []\n",
    "    sumSq_R2 = []\n",
    "    for book in common:\n",
    "        pR_r1 = find_rating(r1,book) - avRating_r1\n",
    "        pR_r2 = find_rating(r2,book) - avRating_r2\n",
    "        # print(find_rating(r1,book), pR_r1)\n",
    "        # print(find_rating(r2,book), pR_r2)\n",
    "        sumProducts.append(pR_r1*pR_r2)\n",
    "        sumSq_R1.append(pR_r1**2)\n",
    "        sumSq_R2.append(pR_r2**2)\n",
    "        \n",
    "    if sum(sumSq_R1) == 0 or sum(sumSq_R2) == 0:\n",
    "        return 0\n",
    "        \n",
    "    # print(sumProducts)\n",
    "    # print(sumSq_R1)\n",
    "    # print(sumSq_R2)\n",
    "    \n",
    "    psim = sum(sumProducts)/math.sqrt(sum(sumSq_R1)*sum(sumSq_R2))\n",
    "    return psim\n",
    "\n",
    "def items_Pearson(b1,b2):\n",
    "    \n",
    "    # Create a set of common readers for book b1 and b2\n",
    "    readers_b1 = set([])\n",
    "    for reader in book_Readers_train[b1]:\n",
    "        readers_b1.add(reader)\n",
    "        \n",
    "    readers_b2 = set([])\n",
    "    for reader in book_Readers_train[b2]:\n",
    "        readers_b2.add(reader)\n",
    "        \n",
    "    common = readers_b1.intersection(readers_b2)\n",
    "    if len(common) == 0:  # return psim=0 if no common readers\n",
    "        return 0\n",
    "        \n",
    "    # print(common)\n",
    "    \n",
    "    sumProducts = []\n",
    "    sumSq_R1 = []\n",
    "    sumSq_R2 = []\n",
    "    for reader in common:\n",
    "        avRating = average_rating(reader)\n",
    "        # print(avRating)\n",
    "        pR_b1 = find_rating(reader,b1) - avRating\n",
    "        pR_b2 = find_rating(reader,b2) - avRating\n",
    "        # print(find_rating(reader,b1), pR_b1)\n",
    "        # print(find_rating(reader,b2), pR_b2)\n",
    "        sumProducts.append(pR_b1*pR_b2)\n",
    "        sumSq_R1.append(pR_b1**2)\n",
    "        sumSq_R2.append(pR_b2**2)\n",
    "        \n",
    "    if sum(sumSq_R1) == 0 or sum(sumSq_R2) == 0:\n",
    "        return 0\n",
    "        \n",
    "    # print(sumProducts)\n",
    "    # print(sumSq_R1)\n",
    "    # print(sumSq_R2)\n",
    "    \n",
    "    psim = sum(sumProducts)/math.sqrt(sum(sumSq_R1)*sum(sumSq_R2))\n",
    "    return psim\n",
    "\n",
    "def psim_mostSimilar_users(b,r):\n",
    "    # Find readers who read book b that are most similar to the reader r\n",
    "    # and return Pearson(r, reader) in descending order\n",
    "    psims = []\n",
    "    \n",
    "    # Go through the readers who read book b\n",
    "    for reader in book_Readers_train[b]:\n",
    "        if r == reader: \n",
    "           continue   # skip if the reader is r\n",
    "        psim = users_Pearson(r, reader)\n",
    "        # print (reader, psim)\n",
    "        psims.append(psim)\n",
    "       \n",
    "    psims.sort(reverse=True)  # sort in descending order of Jaccard Similarity\n",
    "    return psims  \n",
    "\n",
    "def psim_mostSimilar_items(r,b):\n",
    "    # Find books read by reader r that are most similar to the book b\n",
    "    # and return Pearson(b, book) in descending order\n",
    "    psims = []\n",
    "    \n",
    "    # Go through the books read by reader r \n",
    "    for book in user_Books_train[r]:\n",
    "        if book == b: \n",
    "           continue   # skip if the book is b\n",
    "        psim = items_Pearson(b, book)\n",
    "        # print (book, psim)\n",
    "        psims.append(psim)\n",
    "       \n",
    "    psims.sort(reverse=True)  # sort in descending order of Jaccard Similarity\n",
    "    return psims  "
   ]
  },
  {
   "cell_type": "code",
   "execution_count": 498,
   "metadata": {},
   "outputs": [
    {
     "data": {
      "text/plain": [
       "[0.043478260869565216,\n",
       " 0.03508771929824561,\n",
       " 0.03333333333333333,\n",
       " 0.03333333333333333,\n",
       " 0.029411764705882353,\n",
       " 0.02857142857142857,\n",
       " 0.027777777777777776,\n",
       " 0.02631578947368421,\n",
       " 0.023255813953488372,\n",
       " 0.021739130434782608,\n",
       " 0.017543859649122806,\n",
       " 0.012048192771084338,\n",
       " 0.011627906976744186,\n",
       " 0.011494252873563218,\n",
       " 0.00980392156862745,\n",
       " 0.007751937984496124]"
      ]
     },
     "execution_count": 498,
     "metadata": {},
     "output_type": "execute_result"
    }
   ],
   "source": [
    "jsim_mostSimilar_items('u80908575', 'b72504285')"
   ]
  },
  {
   "cell_type": "code",
   "execution_count": 499,
   "metadata": {},
   "outputs": [
    {
     "data": {
      "text/plain": [
       "[0.04,\n",
       " 0.038461538461538464,\n",
       " 0.038461538461538464,\n",
       " 0.037037037037037035,\n",
       " 0.03571428571428571,\n",
       " 0.034482758620689655,\n",
       " 0.034482758620689655,\n",
       " 0.03333333333333333,\n",
       " 0.03225806451612903,\n",
       " 0.03225806451612903,\n",
       " 0.027777777777777776,\n",
       " 0.02564102564102564,\n",
       " 0.025,\n",
       " 0.023255813953488372,\n",
       " 0.02,\n",
       " 0.015625]"
      ]
     },
     "execution_count": 499,
     "metadata": {},
     "output_type": "execute_result"
    }
   ],
   "source": [
    "jsim_mostSimilar_users('b72504285','u80908575')"
   ]
  },
  {
   "cell_type": "code",
   "execution_count": 500,
   "metadata": {},
   "outputs": [
    {
     "name": "stdout",
     "output_type": "stream",
     "text": [
      "0.8625965372547114\n"
     ]
    }
   ],
   "source": [
    "psim = users_Pearson('u39338306', 'u26190516')\n",
    "\n",
    "print (psim)"
   ]
  },
  {
   "cell_type": "code",
   "execution_count": 501,
   "metadata": {},
   "outputs": [
    {
     "data": {
      "text/plain": [
       "[1.0,\n",
       " 0.2583995305802754,\n",
       " 0,\n",
       " 0,\n",
       " 0,\n",
       " 0,\n",
       " 0,\n",
       " 0,\n",
       " 0,\n",
       " 0,\n",
       " 0,\n",
       " 0,\n",
       " 0,\n",
       " 0,\n",
       " -0.9999999999999999,\n",
       " -1.0,\n",
       " -1.0]"
      ]
     },
     "execution_count": 501,
     "metadata": {},
     "output_type": "execute_result"
    }
   ],
   "source": [
    "psim_mostSimilar_users('b72504285','u26190516')"
   ]
  },
  {
   "cell_type": "code",
   "execution_count": 502,
   "metadata": {},
   "outputs": [
    {
     "name": "stdout",
     "output_type": "stream",
     "text": [
      "0.9143933864809832\n"
     ]
    }
   ],
   "source": [
    "psim = items_Pearson('b25543219', 'b21517939')\n",
    "\n",
    "print (psim)"
   ]
  },
  {
   "cell_type": "code",
   "execution_count": 503,
   "metadata": {},
   "outputs": [
    {
     "name": "stdout",
     "output_type": "stream",
     "text": [
      "[1.0000000000000002, 1.0, 0, 0, 0, 0, 0, 0, 0, 0, 0, 0, 0, -0.6528305817830342, -0.9607324330163716, -1.0, -1.0]\n",
      "-0.09491547145878858\n"
     ]
    }
   ],
   "source": [
    "psims = psim_mostSimilar_items('u77362867','b98180843')\n",
    "\n",
    "print(psims)\n",
    "print(sum(psims)/len(psims))"
   ]
  },
  {
   "cell_type": "markdown",
   "metadata": {},
   "source": [
    "## (4) Logistic Regression Model - Popularity Only\n",
    "\n",
    "Start simple:\n",
    "\n",
    "X.theta = y\n",
    "\n",
    "where X = [popularity], popularity= (times a book is read)/(total num of reads)\n",
    "\n",
    "Accuracy = 0.65"
   ]
  },
  {
   "cell_type": "code",
   "execution_count": 504,
   "metadata": {},
   "outputs": [
    {
     "name": "stdout",
     "output_type": "stream",
     "text": [
      "[[1, 0.000315], [1, 0.000115], [1, 0.000395], [1, 0.00014], [1, 0.00015], [1, 0.00031], [1, 7.5e-05], [1, 9e-05], [1, 0.00016], [1, 6.5e-05]]\n"
     ]
    }
   ],
   "source": [
    "X_train = [[1,bookCount[x]/totalRead] for _,x in Xtrain_full]\n",
    "y_train = ytrain_full\n",
    "\n",
    "X_valid = [[1,bookCount[x]/totalRead] for _,x in Xvalid_full]\n",
    "y_valid = yvalid_full\n",
    "\n",
    "print(X_train[:10])"
   ]
  },
  {
   "cell_type": "code",
   "execution_count": 455,
   "metadata": {},
   "outputs": [
    {
     "name": "stdout",
     "output_type": "stream",
     "text": [
      "[[1, 0.000375], [1, 3.5e-05], [1, 8e-05], [1, 0.000755], [1, 7e-05], [1, 3.5e-05], [1, 0.00013], [1, 0.000115], [1, 0.00014], [1, 0.000195]]\n"
     ]
    }
   ],
   "source": [
    "# X_train = [[1,bookCount[b]/totalRead,readerCount[u]/totalRead] for u,b in Xtrain_full]\n",
    "X_train = [[1,bookCount[b]/totalRead] for u,b in Xtrain_full]\n",
    "\n",
    "y_train = ytrain_full\n",
    "\n",
    "# X_valid = [[1,bookCount[b]/totalRead,readerCount[u]/totalRead] for u,b in Xvalid_full]\n",
    "X_valid = [[1,bookCount[b]/totalRead] for u,b in Xvalid_full]\n",
    "y_valid = yvalid_full\n",
    "\n",
    "print(X_train[:10])"
   ]
  },
  {
   "cell_type": "code",
   "execution_count": 507,
   "metadata": {},
   "outputs": [
    {
     "name": "stdout",
     "output_type": "stream",
     "text": [
      "Regularization = 1e-06\n",
      "Training:\n",
      "Accuracy: 0.5\n",
      "Validation:\n",
      "Accuracy: 0.5\n",
      "\n",
      "\n",
      "Regularization = 8e-06\n",
      "Training:\n",
      "Accuracy: 0.6589939000321051\n",
      "Validation:\n",
      "Accuracy: 0.6557655765576558\n",
      "\n",
      "\n",
      "Regularization = 1e-05\n",
      "Training:\n",
      "Accuracy: 0.658172851721833\n",
      "Validation:\n",
      "Accuracy: 0.6548154815481548\n",
      "\n",
      "\n",
      "Regularization = 1.2e-05\n",
      "Training:\n",
      "Accuracy: 0.6606991542149778\n",
      "Validation:\n",
      "Accuracy: 0.6578157815781578\n",
      "\n",
      "\n",
      "Regularization = 0.0001\n",
      "Training:\n",
      "Accuracy: 0.6473071194362134\n",
      "Validation:\n",
      "Accuracy: 0.6468646864686468\n",
      "\n",
      "\n",
      "Regularization = 0.001\n",
      "Training:\n",
      "Accuracy: 0.6461229151425519\n",
      "Validation:\n",
      "Accuracy: 0.6449144914491449\n",
      "\n",
      "\n",
      "Regularization = 0.01\n",
      "Training:\n",
      "Accuracy: 0.6461229151425519\n",
      "Validation:\n",
      "Accuracy: 0.6449144914491449\n",
      "\n",
      "\n",
      "Regularization = 0.1\n",
      "Training:\n",
      "Accuracy: 0.6461229151425519\n",
      "Validation:\n",
      "Accuracy: 0.6449144914491449\n",
      "\n",
      "\n"
     ]
    }
   ],
   "source": [
    "lambs = [1e-6, 8e-6, 1e-5, 1.2e-5,1e-4, 1e-3, 0.01, 0.1]\n",
    "\n",
    "for lamb in lambs:\n",
    "    print(\"Regularization = {}\".format(lamb))\n",
    "    model = linear_model.LogisticRegression(max_iter = 1000, C=lamb, class_weight='balanced')\n",
    "    model.fit(X_train, y_train)\n",
    "\n",
    "    train_pred = model.predict(X_train)\n",
    "    valid_pred = model.predict(X_valid)\n",
    "\n",
    "    print(\"Training:\")\n",
    "    calc_model_stats(train_pred,y_train)\n",
    "\n",
    "    print(\"Validation:\")\n",
    "    calc_model_stats(valid_pred,y_valid)\n",
    "    \n",
    "    print(\"\\n\")"
   ]
  },
  {
   "cell_type": "markdown",
   "metadata": {},
   "source": [
    "## (5) Logistic Regression Model - Popularity + Books' Jaccard Similarity\n",
    "\n",
    "X.theta = y\n",
    "\n",
    "where X = [book_popularity, book_similarity_1,book_similarity_2] \n",
    "\n",
    "book_popularity= (times a book is read)/(total num of reads)  \n",
    "book_similarity_1 = Jaccard similarity of the book and the most similar book read by the reader  \n",
    "book_similarity_2 = Jaccard similarity of the book and 2nd most similar book read by the reader  \n",
    "and so on ...  \n",
    "\n",
    "Accuracy = 0.56"
   ]
  },
  {
   "cell_type": "code",
   "execution_count": 508,
   "metadata": {},
   "outputs": [],
   "source": [
    "X_train = []\n",
    "X_valid = []\n",
    "\n",
    "\"\"\"\n",
    "for u,b in Xtrain_full:\n",
    "    user_jsims = list_pad(jsim_mostSimilar_users(b,u),4)\n",
    "    X_train.append([1, bookCount[b]/totalRead, user_jsims[0]])\n",
    "y_train = ytrain_full\n",
    "\n",
    "for u,b in Xvalid_full:\n",
    "    user_jsims = list_pad(jsim_mostSimilar_users(b,u),4)\n",
    "    X_valid.append([1, bookCount[b]/totalRead, user_jsims[0]])\n",
    "y_valid = yvalid_full\n",
    "\n",
    "\"\"\"\n",
    "\n",
    "for (u,b),user_jsims,user_psims,book_jsims,book_psims in zip(Xtrain_full, U_Jsims_train,U_Psims_train, \\\n",
    "                                                             B_Jsims_train,B_Psims_train):\n",
    "    X_train.append([1, bookCount[b]/totalRead, user_jsims[0]])\n",
    "y_train = ytrain_full\n",
    "\n",
    "for (u,b),user_jsims,user_psims,book_jsims,book_psims in zip(Xvalid_full, U_Jsims_valid,U_Psims_valid, \\\n",
    "                                                             B_Jsims_valid,B_Psims_valid):\n",
    "    X_valid.append([1, bookCount[b]/totalRead, user_jsims[0]])\n",
    "y_valid = yvalid_full\n"
   ]
  },
  {
   "cell_type": "code",
   "execution_count": 511,
   "metadata": {},
   "outputs": [
    {
     "name": "stdout",
     "output_type": "stream",
     "text": [
      "Regularization = 1e-06\n"
     ]
    },
    {
     "name": "stderr",
     "output_type": "stream",
     "text": [
      "/home/lukeliem/miniconda3/lib/python3.6/site-packages/sklearn/linear_model/logistic.py:432: FutureWarning: Default solver will be changed to 'lbfgs' in 0.22. Specify a solver to silence this warning.\n",
      "  FutureWarning)\n"
     ]
    },
    {
     "name": "stdout",
     "output_type": "stream",
     "text": [
      "Training:\n",
      "Accuracy: 0.6227519855158657\n",
      "Validation:\n",
      "Accuracy: 0.5894089408940895\n",
      "\n",
      "\n",
      "Regularization = 5e-06\n"
     ]
    },
    {
     "name": "stderr",
     "output_type": "stream",
     "text": [
      "/home/lukeliem/miniconda3/lib/python3.6/site-packages/sklearn/linear_model/logistic.py:432: FutureWarning: Default solver will be changed to 'lbfgs' in 0.22. Specify a solver to silence this warning.\n",
      "  FutureWarning)\n"
     ]
    },
    {
     "name": "stdout",
     "output_type": "stream",
     "text": [
      "Training:\n",
      "Accuracy: 0.7285777443276614\n",
      "Validation:\n",
      "Accuracy: 0.6333633363336334\n",
      "\n",
      "\n",
      "Regularization = 6e-06\n"
     ]
    },
    {
     "name": "stderr",
     "output_type": "stream",
     "text": [
      "/home/lukeliem/miniconda3/lib/python3.6/site-packages/sklearn/linear_model/logistic.py:432: FutureWarning: Default solver will be changed to 'lbfgs' in 0.22. Specify a solver to silence this warning.\n",
      "  FutureWarning)\n"
     ]
    },
    {
     "name": "stdout",
     "output_type": "stream",
     "text": [
      "Training:\n",
      "Accuracy: 0.7577196962121252\n",
      "Validation:\n",
      "Accuracy: 0.6365636563656366\n",
      "\n",
      "\n",
      "Regularization = 7e-06\n"
     ]
    },
    {
     "name": "stderr",
     "output_type": "stream",
     "text": [
      "/home/lukeliem/miniconda3/lib/python3.6/site-packages/sklearn/linear_model/logistic.py:432: FutureWarning: Default solver will be changed to 'lbfgs' in 0.22. Specify a solver to silence this warning.\n",
      "  FutureWarning)\n"
     ]
    },
    {
     "name": "stdout",
     "output_type": "stream",
     "text": [
      "Training:\n",
      "Accuracy: 0.7824485134288767\n",
      "Validation:\n",
      "Accuracy: 0.6407640764076408\n",
      "\n",
      "\n",
      "Regularization = 8e-06\n"
     ]
    },
    {
     "name": "stderr",
     "output_type": "stream",
     "text": [
      "/home/lukeliem/miniconda3/lib/python3.6/site-packages/sklearn/linear_model/logistic.py:432: FutureWarning: Default solver will be changed to 'lbfgs' in 0.22. Specify a solver to silence this warning.\n",
      "  FutureWarning)\n"
     ]
    },
    {
     "name": "stdout",
     "output_type": "stream",
     "text": [
      "Training:\n",
      "Accuracy: 0.7998800006315756\n",
      "Validation:\n",
      "Accuracy: 0.6432143214321432\n",
      "\n",
      "\n",
      "Regularization = 9e-06\n"
     ]
    },
    {
     "name": "stderr",
     "output_type": "stream",
     "text": [
      "/home/lukeliem/miniconda3/lib/python3.6/site-packages/sklearn/linear_model/logistic.py:432: FutureWarning: Default solver will be changed to 'lbfgs' in 0.22. Specify a solver to silence this warning.\n",
      "  FutureWarning)\n"
     ]
    },
    {
     "name": "stdout",
     "output_type": "stream",
     "text": [
      "Training:\n",
      "Accuracy: 0.809208898900532\n",
      "Validation:\n",
      "Accuracy: 0.6422642264226422\n",
      "\n",
      "\n",
      "Regularization = 1e-05\n"
     ]
    },
    {
     "name": "stderr",
     "output_type": "stream",
     "text": [
      "/home/lukeliem/miniconda3/lib/python3.6/site-packages/sklearn/linear_model/logistic.py:432: FutureWarning: Default solver will be changed to 'lbfgs' in 0.22. Specify a solver to silence this warning.\n",
      "  FutureWarning)\n"
     ]
    },
    {
     "name": "stdout",
     "output_type": "stream",
     "text": [
      "Training:\n",
      "Accuracy: 0.8181193783190615\n",
      "Validation:\n",
      "Accuracy: 0.6402640264026402\n",
      "\n",
      "\n",
      "Regularization = 1.1e-05\n"
     ]
    },
    {
     "name": "stderr",
     "output_type": "stream",
     "text": [
      "/home/lukeliem/miniconda3/lib/python3.6/site-packages/sklearn/linear_model/logistic.py:432: FutureWarning: Default solver will be changed to 'lbfgs' in 0.22. Specify a solver to silence this warning.\n",
      "  FutureWarning)\n"
     ]
    },
    {
     "name": "stdout",
     "output_type": "stream",
     "text": [
      "Training:\n",
      "Accuracy: 0.8270245946073969\n",
      "Validation:\n",
      "Accuracy: 0.6408140814081408\n",
      "\n",
      "\n",
      "Regularization = 1.2e-05\n"
     ]
    },
    {
     "name": "stderr",
     "output_type": "stream",
     "text": [
      "/home/lukeliem/miniconda3/lib/python3.6/site-packages/sklearn/linear_model/logistic.py:432: FutureWarning: Default solver will be changed to 'lbfgs' in 0.22. Specify a solver to silence this warning.\n",
      "  FutureWarning)\n"
     ]
    },
    {
     "name": "stdout",
     "output_type": "stream",
     "text": [
      "Training:\n",
      "Accuracy: 0.8352798143167668\n",
      "Validation:\n",
      "Accuracy: 0.6385638563856386\n",
      "\n",
      "\n",
      "Regularization = 1.3e-05\n"
     ]
    },
    {
     "name": "stderr",
     "output_type": "stream",
     "text": [
      "/home/lukeliem/miniconda3/lib/python3.6/site-packages/sklearn/linear_model/logistic.py:432: FutureWarning: Default solver will be changed to 'lbfgs' in 0.22. Specify a solver to silence this warning.\n",
      "  FutureWarning)\n"
     ]
    },
    {
     "name": "stdout",
     "output_type": "stream",
     "text": [
      "Training:\n",
      "Accuracy: 0.8436508228904058\n",
      "Validation:\n",
      "Accuracy: 0.6375137513751375\n",
      "\n",
      "\n",
      "Regularization = 1.4e-05\n"
     ]
    },
    {
     "name": "stderr",
     "output_type": "stream",
     "text": [
      "/home/lukeliem/miniconda3/lib/python3.6/site-packages/sklearn/linear_model/logistic.py:432: FutureWarning: Default solver will be changed to 'lbfgs' in 0.22. Specify a solver to silence this warning.\n",
      "  FutureWarning)\n"
     ]
    },
    {
     "name": "stdout",
     "output_type": "stream",
     "text": [
      "Training:\n",
      "Accuracy: 0.8509007847327119\n",
      "Validation:\n",
      "Accuracy: 0.6347134713471347\n",
      "\n",
      "\n",
      "Regularization = 1.5e-05\n"
     ]
    },
    {
     "name": "stderr",
     "output_type": "stream",
     "text": [
      "/home/lukeliem/miniconda3/lib/python3.6/site-packages/sklearn/linear_model/logistic.py:432: FutureWarning: Default solver will be changed to 'lbfgs' in 0.22. Specify a solver to silence this warning.\n",
      "  FutureWarning)\n"
     ]
    },
    {
     "name": "stdout",
     "output_type": "stream",
     "text": [
      "Training:\n",
      "Accuracy: 0.8509271003836822\n",
      "Validation:\n",
      "Accuracy: 0.6340634063406341\n",
      "\n",
      "\n",
      "Regularization = 5e-05\n"
     ]
    },
    {
     "name": "stderr",
     "output_type": "stream",
     "text": [
      "/home/lukeliem/miniconda3/lib/python3.6/site-packages/sklearn/linear_model/logistic.py:432: FutureWarning: Default solver will be changed to 'lbfgs' in 0.22. Specify a solver to silence this warning.\n",
      "  FutureWarning)\n"
     ]
    },
    {
     "name": "stdout",
     "output_type": "stream",
     "text": [
      "Training:\n",
      "Accuracy: 0.8731269835421919\n",
      "Validation:\n",
      "Accuracy: 0.6006600660066007\n",
      "\n",
      "\n"
     ]
    }
   ],
   "source": [
    "lambs = [1e-6, 5e-6, 6e-6, 7e-6, 8e-6, 9e-6, 1e-5, 1.1e-5, 1.2e-5, 1.3e-5, 1.4e-5, 1.5e-5, 5e-5]\n",
    "\n",
    "for lamb in lambs:\n",
    "    print(\"Regularization = {}\".format(lamb))\n",
    "    model = linear_model.LogisticRegression(max_iter = 1000, C=lamb, class_weight='balanced')\n",
    "    model.fit(X_train, y_train)\n",
    "\n",
    "    train_pred = model.predict(X_train)\n",
    "    valid_pred = model.predict(X_valid)\n",
    "\n",
    "    print(\"Training:\")\n",
    "    calc_model_stats(train_pred,y_train)\n",
    "\n",
    "    print(\"Validation:\")\n",
    "    calc_model_stats(valid_pred,y_valid)\n",
    "    \n",
    "    print(\"\\n\")\n"
   ]
  },
  {
   "cell_type": "markdown",
   "metadata": {},
   "source": [
    "## (6) Logistic Regression Model - Popularity+ Books' JSim + Users' JSim\n",
    "\n",
    "X.theta = y\n",
    "\n",
    "where X = [book_popularity, user_similarity_1,user_similarity_2, book_similarity_1,book_similarity_2] \n",
    "\n",
    "book_popularity= (times a book is read)/(total num of reads)  \n",
    "user_similarity_1 = Jaccard similarity of the user and the most similar user who read the book  \n",
    "user_similarity_2 = Jaccard similarity of the user and the 2nd most similar user who read the book  \n",
    "book_similarity_1 = Jaccard similarity of the book and the most similar book read by the reader  \n",
    "book_similarity_2 = Jaccard similarity of the book and 2nd most similar book read by the reader  \n",
    "\n",
    "and so on ...  \n",
    "\n",
    "Accuracy = 0.693"
   ]
  },
  {
   "cell_type": "code",
   "execution_count": 512,
   "metadata": {},
   "outputs": [],
   "source": [
    "X_train = []\n",
    "X_valid = []\n",
    "\"\"\"\n",
    "for u,b in Xtrain_full:\n",
    "    user_jsims = list_pad(jsim_mostSimilar_users(b,u),4)\n",
    "    X_train.append([1, bookCount[b]/totalRead, user_jsims[0], user_jsims[1], user_jsims[2], user_jsims[3]])\n",
    "y_train = ytrain_full\n",
    "\n",
    "for u,b in Xvalid_full:\n",
    "    user_jsims = list_pad(jsim_mostSimilar_users(b,u),4)\n",
    "    X_valid.append([1, bookCount[b]/totalRead, user_jsims[0], user_jsims[1], user_jsims[2], user_jsims[3]])\n",
    "y_valid = yvalid_full\n",
    "\"\"\"\n",
    "for (u,b),user_jsims,user_psims,book_jsims,book_psims in zip(Xtrain_full, U_Jsims_train,U_Psims_train, \\\n",
    "                                                             B_Jsims_train,B_Psims_train):\n",
    "    X_train.append([1, bookCount[b]/totalRead, user_jsims[0], user_jsims[1], user_jsims[2], user_jsims[3]])\n",
    "y_train = ytrain_full\n",
    "\n",
    "for (u,b),user_jsims,user_psims,book_jsims,book_psims in zip(Xvalid_full, U_Jsims_valid,U_Psims_valid, \\\n",
    "                                                             B_Jsims_valid,B_Psims_valid):\n",
    "    X_valid.append([1, bookCount[b]/totalRead, user_jsims[0], user_jsims[1], user_jsims[2], user_jsims[3]])\n",
    "y_valid = yvalid_full\n"
   ]
  },
  {
   "cell_type": "code",
   "execution_count": 513,
   "metadata": {},
   "outputs": [
    {
     "name": "stdout",
     "output_type": "stream",
     "text": [
      "Regularization = 1e-06\n"
     ]
    },
    {
     "name": "stderr",
     "output_type": "stream",
     "text": [
      "/home/lukeliem/miniconda3/lib/python3.6/site-packages/sklearn/linear_model/logistic.py:432: FutureWarning: Default solver will be changed to 'lbfgs' in 0.22. Specify a solver to silence this warning.\n",
      "  FutureWarning)\n"
     ]
    },
    {
     "name": "stdout",
     "output_type": "stream",
     "text": [
      "Training:\n",
      "Accuracy: 0.6688201641043995\n",
      "Validation:\n",
      "Accuracy: 0.6154615461546155\n",
      "\n",
      "\n",
      "Regularization = 2e-06\n"
     ]
    },
    {
     "name": "stderr",
     "output_type": "stream",
     "text": [
      "/home/lukeliem/miniconda3/lib/python3.6/site-packages/sklearn/linear_model/logistic.py:432: FutureWarning: Default solver will be changed to 'lbfgs' in 0.22. Specify a solver to silence this warning.\n",
      "  FutureWarning)\n"
     ]
    },
    {
     "name": "stdout",
     "output_type": "stream",
     "text": [
      "Training:\n",
      "Accuracy: 0.7419382003252615\n",
      "Validation:\n",
      "Accuracy: 0.6486148614861487\n",
      "\n",
      "\n",
      "Regularization = 3e-06\n"
     ]
    },
    {
     "name": "stderr",
     "output_type": "stream",
     "text": [
      "/home/lukeliem/miniconda3/lib/python3.6/site-packages/sklearn/linear_model/logistic.py:432: FutureWarning: Default solver will be changed to 'lbfgs' in 0.22. Specify a solver to silence this warning.\n",
      "  FutureWarning)\n"
     ]
    },
    {
     "name": "stdout",
     "output_type": "stream",
     "text": [
      "Training:\n",
      "Accuracy: 0.7864853342877143\n",
      "Validation:\n",
      "Accuracy: 0.6652665266526653\n",
      "\n",
      "\n",
      "Regularization = 4e-06\n"
     ]
    },
    {
     "name": "stderr",
     "output_type": "stream",
     "text": [
      "/home/lukeliem/miniconda3/lib/python3.6/site-packages/sklearn/linear_model/logistic.py:432: FutureWarning: Default solver will be changed to 'lbfgs' in 0.22. Specify a solver to silence this warning.\n",
      "  FutureWarning)\n"
     ]
    },
    {
     "name": "stdout",
     "output_type": "stream",
     "text": [
      "Training:\n",
      "Accuracy: 0.8167378066431229\n",
      "Validation:\n",
      "Accuracy: 0.6702670267026702\n",
      "\n",
      "\n",
      "Regularization = 5e-06\n"
     ]
    },
    {
     "name": "stderr",
     "output_type": "stream",
     "text": [
      "/home/lukeliem/miniconda3/lib/python3.6/site-packages/sklearn/linear_model/logistic.py:432: FutureWarning: Default solver will be changed to 'lbfgs' in 0.22. Specify a solver to silence this warning.\n",
      "  FutureWarning)\n"
     ]
    },
    {
     "name": "stdout",
     "output_type": "stream",
     "text": [
      "Training:\n",
      "Accuracy: 0.8387850590260051\n",
      "Validation:\n",
      "Accuracy: 0.6718171817181718\n",
      "\n",
      "\n",
      "Regularization = 6e-06\n"
     ]
    },
    {
     "name": "stderr",
     "output_type": "stream",
     "text": [
      "/home/lukeliem/miniconda3/lib/python3.6/site-packages/sklearn/linear_model/logistic.py:432: FutureWarning: Default solver will be changed to 'lbfgs' in 0.22. Specify a solver to silence this warning.\n",
      "  FutureWarning)\n"
     ]
    },
    {
     "name": "stdout",
     "output_type": "stream",
     "text": [
      "Training:\n",
      "Accuracy: 0.8555770759101268\n",
      "Validation:\n",
      "Accuracy: 0.6725672567256725\n",
      "\n",
      "\n",
      "Regularization = 1e-05\n"
     ]
    },
    {
     "name": "stderr",
     "output_type": "stream",
     "text": [
      "/home/lukeliem/miniconda3/lib/python3.6/site-packages/sklearn/linear_model/logistic.py:432: FutureWarning: Default solver will be changed to 'lbfgs' in 0.22. Specify a solver to silence this warning.\n",
      "  FutureWarning)\n"
     ]
    },
    {
     "name": "stdout",
     "output_type": "stream",
     "text": [
      "Training:\n",
      "Accuracy: 0.8935847706064705\n",
      "Validation:\n",
      "Accuracy: 0.6669166916691669\n",
      "\n",
      "\n",
      "Regularization = 0.0001\n"
     ]
    },
    {
     "name": "stderr",
     "output_type": "stream",
     "text": [
      "/home/lukeliem/miniconda3/lib/python3.6/site-packages/sklearn/linear_model/logistic.py:432: FutureWarning: Default solver will be changed to 'lbfgs' in 0.22. Specify a solver to silence this warning.\n",
      "  FutureWarning)\n"
     ]
    },
    {
     "name": "stdout",
     "output_type": "stream",
     "text": [
      "Training:\n",
      "Accuracy: 0.9189477950116052\n",
      "Validation:\n",
      "Accuracy: 0.61001100110011\n",
      "\n",
      "\n"
     ]
    }
   ],
   "source": [
    "lambs = [1e-6, 2e-6, 3e-6, 4e-6, 5e-6, 6e-6, 1e-5, 1e-4]\n",
    "\n",
    "for lamb in lambs:\n",
    "    print(\"Regularization = {}\".format(lamb))\n",
    "    model = linear_model.LogisticRegression(max_iter = 1000, C=lamb, class_weight='balanced')\n",
    "    model.fit(X_train, y_train)\n",
    "\n",
    "    train_pred = model.predict(X_train)\n",
    "    valid_pred = model.predict(X_valid)\n",
    "\n",
    "    print(\"Training:\")\n",
    "    calc_model_stats(train_pred,y_train)\n",
    "\n",
    "    print(\"Validation:\")\n",
    "    calc_model_stats(valid_pred,y_valid)\n",
    "    \n",
    "    print(\"\\n\")\n"
   ]
  },
  {
   "cell_type": "code",
   "execution_count": 514,
   "metadata": {},
   "outputs": [],
   "source": [
    "X_train = []\n",
    "X_valid = []\n",
    "\n",
    "for (u,b),user_jsims,user_psims,book_jsims,book_psims in zip(Xtrain_full, U_Jsims_train,U_Psims_train, \\\n",
    "                                                             B_Jsims_train,B_Psims_train):\n",
    "    X_train.append([1, bookCount[b]/totalRead, readerCount[u]/totalRead,\n",
    "                    user_jsims[0],user_jsims[1],user_jsims[2],user_jsims[3],user_jsims[4], \\\n",
    "                    book_jsims[0], book_jsims[1]])\n",
    "y_train = ytrain_full\n",
    "\n",
    "for (u,b),user_jsims,user_psims,book_jsims,book_psims in zip(Xvalid_full, U_Jsims_valid,U_Psims_valid, \\\n",
    "                                                             B_Jsims_valid,B_Psims_valid):\n",
    "    X_valid.append([1, bookCount[b]/totalRead, readerCount[u]/totalRead,\n",
    "                    user_jsims[0],user_jsims[1],user_jsims[2],user_jsims[3],user_jsims[4], \\\n",
    "                    book_jsims[0], book_jsims[1]])\n",
    "y_valid = yvalid_full"
   ]
  },
  {
   "cell_type": "code",
   "execution_count": 516,
   "metadata": {},
   "outputs": [
    {
     "name": "stdout",
     "output_type": "stream",
     "text": [
      "Regularization = 1e-06\n",
      "Validation Error Stats\n",
      "Accuracy: 0.6157615761576157\n",
      "\n",
      "\n",
      "Regularization = 4e-06\n",
      "Validation Error Stats\n",
      "Accuracy: 0.6742674267426743\n",
      "\n",
      "\n",
      "Regularization = 5e-06\n",
      "Validation Error Stats\n",
      "Accuracy: 0.678067806780678\n",
      "\n",
      "\n",
      "Regularization = 6e-06\n",
      "Validation Error Stats\n",
      "Accuracy: 0.6757675767576757\n",
      "\n",
      "\n",
      "Regularization = 7e-06\n",
      "Validation Error Stats\n",
      "Accuracy: 0.6756675667566757\n",
      "\n",
      "\n",
      "Regularization = 8e-06\n",
      "Validation Error Stats\n",
      "Accuracy: 0.6732673267326733\n",
      "\n",
      "\n",
      "Regularization = 9e-06\n",
      "Validation Error Stats\n",
      "Accuracy: 0.6706170617061706\n",
      "\n",
      "\n",
      "Regularization = 1e-05\n",
      "Validation Error Stats\n",
      "Accuracy: 0.6684668466846685\n",
      "\n",
      "\n",
      "Regularization = 1.1e-05\n",
      "Validation Error Stats\n",
      "Accuracy: 0.6658165816581658\n",
      "\n",
      "\n",
      "Regularization = 1.2e-05\n",
      "Validation Error Stats\n",
      "Accuracy: 0.662966296629663\n",
      "\n",
      "\n",
      "Regularization = 1.3e-05\n",
      "Validation Error Stats\n",
      "Accuracy: 0.6602660266026603\n",
      "\n",
      "\n",
      "Regularization = 1.4e-05\n",
      "Validation Error Stats\n",
      "Accuracy: 0.6567656765676567\n",
      "\n",
      "\n",
      "Regularization = 1.5e-05\n",
      "Validation Error Stats\n",
      "Accuracy: 0.6526652665266527\n",
      "\n",
      "\n",
      "Regularization = 5e-05\n",
      "Validation Error Stats\n",
      "Accuracy: 0.6147114711471147\n",
      "\n",
      "\n"
     ]
    }
   ],
   "source": [
    "lambs = [1e-6, 4e-6, 5e-6, 6e-6, 7e-6, 8e-6, 9e-6, 1e-5, 1.1e-5, 1.2e-5, 1.3e-5, 1.4e-5, 1.5e-5, 5e-5]\n",
    "\n",
    "for lamb in lambs:\n",
    "    print(\"Regularization = {}\".format(lamb))\n",
    "    model = linear_model.LogisticRegression(max_iter = 1000, C=lamb, class_weight='balanced',solver='liblinear')\n",
    "    model.fit(X_train, y_train)\n",
    "\n",
    "    train_pred = model.predict(X_train)\n",
    "    valid_pred = model.predict(X_valid)\n",
    "\n",
    "    # print(\"Training Error Stats\")\n",
    "    # calc_model_stats(train_pred,y_train)\n",
    "\n",
    "    print(\"Validation Error Stats\")\n",
    "    calc_model_stats(valid_pred,y_valid)\n",
    "    \n",
    "    print(\"\\n\")"
   ]
  },
  {
   "cell_type": "markdown",
   "metadata": {},
   "source": [
    "## Kaggle Submission, Accuracy=0.693, User_Name='Luke Liem'"
   ]
  },
  {
   "cell_type": "code",
   "execution_count": 180,
   "metadata": {},
   "outputs": [
    {
     "name": "stderr",
     "output_type": "stream",
     "text": [
      "/home/lukeliem/miniconda3/lib/python3.6/site-packages/sklearn/linear_model/logistic.py:432: FutureWarning: Default solver will be changed to 'lbfgs' in 0.22. Specify a solver to silence this warning.\n",
      "  FutureWarning)\n"
     ]
    }
   ],
   "source": [
    "users=[]\n",
    "books=[]\n",
    "X_test=[]\n",
    "\n",
    "model = linear_model.LogisticRegression(max_iter = 1000, C=5e-6, class_weight='balanced')\n",
    "model.fit(X_train, y_train)\n",
    "\n",
    "predictions = open(\"assignment1/predictions_Read.txt\", 'w')\n",
    "for l in open(\"assignment1/pairs_Read.txt\"):\n",
    "\n",
    "    if l.startswith(\"userID\"):\n",
    "        #header\n",
    "        predictions.write(l)\n",
    "        continue\n",
    "    \n",
    "    u,b = l.strip().split('-')\n",
    "    \n",
    "    users.append(u)\n",
    "    books.append(b)\n",
    "    \n",
    "    # Predict using Jaccard similarity\n",
    "    user_jsims = list_pad(jsim_mostSimilar_users(b,u),8)\n",
    "    book_jsims = list_pad(jsim_mostSimilar_items(u,b),8)\n",
    "    X_test.append([1, bookCount[b]/totalRead, readerCount[u]/totalRead, \\\n",
    "                    user_jsims[0],user_jsims[1],user_jsims[2],user_jsims[3],user_jsims[4], \\\n",
    "                    book_jsims[0], book_jsims[1]])\n",
    "\n",
    "test_pred = model.predict(X_test)\n",
    "\n",
    "for u,b,pred in zip(users,books,test_pred):\n",
    "        predictions.write(u + '-' + b + \",\" + str(pred) + \"\\n\")\n",
    "\n",
    "predictions.close()"
   ]
  },
  {
   "cell_type": "markdown",
   "metadata": {},
   "source": [
    "## (7) Logistic Regression Model - Popularity+ Books' JSim + Users' JSim\n",
    "\n",
    "X.theta = y\n",
    "\n",
    "where X = [book_popularity, user_Jsim_1,user_Jsim_2, book_Jsim_1,book_Jsim_2, user_Psim_1,user_Psim_2] \n",
    "\n",
    "book_popularity= (times a book is read)/(total num of reads)  \n",
    "user_Jsim_1 = Jaccard similarity of the user and the most similar user who read the book  \n",
    "user_Jsim_2 = Jaccard similarity of the user and the 2nd most similar user who read the book  \n",
    "book_Jsim_1 = Jaccard similarity of the book and the most similar book read by the reader  \n",
    "book_Jsim_2 = Jaccard similarity of the book and 2nd most similar book read by the reader \n",
    "user_Psim_1 = Pearson similarity of the user and the most similar user who read the book  \n",
    "user_Psim_2 = Pearson similarity of the user and the 2nd most similar user who read the book \n",
    "\n",
    "and so on ...  \n",
    "\n",
    "Accuracy = 0.693"
   ]
  },
  {
   "cell_type": "code",
   "execution_count": 519,
   "metadata": {},
   "outputs": [],
   "source": [
    "X_train = []\n",
    "X_valid = []\n",
    "\n",
    "for (u,b),user_jsims,user_psims,book_jsims,book_psims in zip(Xtrain_full, U_Jsims_train,U_Psims_train, \\\n",
    "                                                             B_Jsims_train,B_Psims_train):\n",
    "    X_train.append([1, bookCount[b]/totalRead,\n",
    "                     user_jsims[0],user_jsims[1],user_jsims[2],user_jsims[3],user_jsims[4], \\\n",
    "#                    book_jsims[0] \\\n",
    "                     user_psims[0],user_psims[1],user_psims[2], \\\n",
    "                     book_psims[0],book_psims[1]  \\\n",
    "                   ])\n",
    "y_train = ytrain_full\n",
    "\n",
    "for (u,b),user_jsims,user_psims,book_jsims,book_psims in zip(Xvalid_full, U_Jsims_valid,U_Psims_valid, \\\n",
    "                                                             B_Jsims_valid,B_Psims_valid):\n",
    "    X_valid.append([1, bookCount[b]/totalRead,\n",
    "                     user_jsims[0],user_jsims[1],user_jsims[2],user_jsims[3],user_jsims[4],\\\n",
    "#                    book_jsims[0] \\\n",
    "                     user_psims[0],user_psims[1],user_psims[2], \\\n",
    "                     book_psims[0],book_psims[1]  \\\n",
    "                   ])\n",
    "y_valid = yvalid_full"
   ]
  },
  {
   "cell_type": "code",
   "execution_count": 520,
   "metadata": {},
   "outputs": [
    {
     "name": "stdout",
     "output_type": "stream",
     "text": [
      "Regularization = 1e-08\n",
      "Training:\n",
      "Accuracy: 0.6551544465555444\n",
      "Validation:\n",
      "Accuracy: 0.6048104810481049\n",
      "\n",
      "\n",
      "Regularization = 1e-07\n",
      "Training:\n",
      "Accuracy: 0.6515702548933953\n",
      "Validation:\n",
      "Accuracy: 0.6037603760376038\n",
      "\n",
      "\n",
      "Regularization = 1e-06\n",
      "Training:\n",
      "Accuracy: 0.651028152483408\n",
      "Validation:\n",
      "Accuracy: 0.6040604060406041\n",
      "\n",
      "\n",
      "Regularization = 3e-06\n",
      "Training:\n",
      "Accuracy: 0.7832774564344398\n",
      "Validation:\n",
      "Accuracy: 0.6517151715171517\n",
      "\n",
      "\n",
      "Regularization = 4e-06\n",
      "Training:\n",
      "Accuracy: 0.7833590349524476\n",
      "Validation:\n",
      "Accuracy: 0.6517651765176518\n",
      "\n",
      "\n",
      "Regularization = 5e-06\n",
      "Training:\n",
      "Accuracy: 0.7836353492876353\n",
      "Validation:\n",
      "Accuracy: 0.6513151315131513\n",
      "\n",
      "\n",
      "Regularization = 6e-06\n",
      "Training:\n",
      "Accuracy: 0.7927089857421803\n",
      "Validation:\n",
      "Accuracy: 0.6538653865386539\n",
      "\n",
      "\n",
      "Regularization = 1e-05\n",
      "Training:\n",
      "Accuracy: 0.8226798806322072\n",
      "Validation:\n",
      "Accuracy: 0.6534153415341534\n",
      "\n",
      "\n",
      "Regularization = 5e-05\n",
      "Training:\n",
      "Accuracy: 0.8495297393171615\n",
      "Validation:\n",
      "Accuracy: 0.6507150715071507\n",
      "\n",
      "\n",
      "Regularization = 0.0001\n",
      "Training:\n",
      "Accuracy: 0.8752427618802007\n",
      "Validation:\n",
      "Accuracy: 0.6395639563956396\n",
      "\n",
      "\n",
      "Regularization = 0.001\n",
      "Training:\n",
      "Accuracy: 0.8849427108278377\n",
      "Validation:\n",
      "Accuracy: 0.6343134313431343\n",
      "\n",
      "\n",
      "Regularization = 0.0015\n",
      "Training:\n",
      "Accuracy: 0.8882400618944111\n",
      "Validation:\n",
      "Accuracy: 0.6320632063206321\n",
      "\n",
      "\n",
      "Regularization = 0.002\n",
      "Training:\n",
      "Accuracy: 0.8896663701769991\n",
      "Validation:\n",
      "Accuracy: 0.6313131313131313\n",
      "\n",
      "\n",
      "Regularization = 0.0025\n",
      "Training:\n",
      "Accuracy: 0.8911426781964306\n",
      "Validation:\n",
      "Accuracy: 0.6307630763076307\n",
      "\n",
      "\n",
      "Regularization = 0.005\n",
      "Training:\n",
      "Accuracy: 0.8961400203156825\n",
      "Validation:\n",
      "Accuracy: 0.6296629662966297\n",
      "\n",
      "\n",
      "Regularization = 0.01\n",
      "Training:\n",
      "Accuracy: 0.9009952579196951\n",
      "Validation:\n",
      "Accuracy: 0.6303630363036303\n",
      "\n",
      "\n",
      "Regularization = 0.025\n",
      "Training:\n",
      "Accuracy: 0.9115583602191567\n",
      "Validation:\n",
      "Accuracy: 0.6321132113211321\n",
      "\n",
      "\n",
      "Regularization = 0.05\n",
      "Training:\n",
      "Accuracy: 0.9260845995547392\n",
      "Validation:\n",
      "Accuracy: 0.6314631463146315\n",
      "\n",
      "\n"
     ]
    }
   ],
   "source": [
    "# lambs = [1e-7, 1e-6, 5e-6, 1e-5, 5e-5, 1e-4, 1e-3, 1.5e-3, 2e-3, 2.5e-3, 5e-3, 0.01, 0.025, 0.05]\n",
    "# [1, bookCount[b]/totalRead, readerCount[u]/totalRead,\n",
    "#                    user_jsims[0],user_jsims[1],user_jsims[2],user_jsims[3],user_jsims[4], \\\n",
    "#                    book_jsims[0],book_jsims[1], \\\n",
    "#                   ])\n",
    "# Regularization = 5e-06; Accuracy: 0.682018201820182\n",
    "\n",
    "lambs = [1e-8, 1e-7, 1e-6, 3e-6, 4e-6,5e-6,6e-6, 1e-5, 5e-5, 1e-4, 1e-3, 1.5e-3, 2e-3, 2.5e-3, 5e-3, 0.01, 0.025, 0.05]\n",
    "\n",
    "for lamb in lambs:\n",
    "\n",
    "    print(\"Regularization = {}\".format(lamb))\n",
    "    model = linear_model.LogisticRegression(max_iter = 1000, C=lamb, class_weight='balanced',solver='liblinear')\n",
    "    model.fit(X_train, y_train)\n",
    "\n",
    "    train_pred = model.predict(X_train)\n",
    "    valid_pred = model.predict(X_valid)\n",
    "\n",
    "    print(\"Training:\")\n",
    "    calc_model_stats(train_pred,y_train)\n",
    "\n",
    "    print(\"Validation:\")\n",
    "    calc_model_stats(valid_pred,y_valid)\n",
    "    \n",
    "    print(\"\\n\")"
   ]
  },
  {
   "cell_type": "code",
   "execution_count": 517,
   "metadata": {},
   "outputs": [],
   "source": [
    "X_train = []\n",
    "X_valid = []\n",
    "\n",
    "for (u,b),user_jsims,user_psims,book_jsims,book_psims in zip(Xtrain_full, U_Jsims_train,U_Psims_train, \\\n",
    "                                                             B_Jsims_train,B_Psims_train):\n",
    "    X_train.append([1, bookCount[b]/totalRead, readerCount[u]/totalRead,\n",
    "                    user_jsims[0],user_jsims[1],user_jsims[2],user_jsims[3],user_jsims[4], \\\n",
    "                    book_jsims[0],book_jsims[1], \\\n",
    "                   ])\n",
    "y_train = ytrain_full\n",
    "\n",
    "for (u,b),user_jsims,user_psims,book_jsims,book_psims in zip(Xvalid_full, U_Jsims_valid,U_Psims_valid, \\\n",
    "                                                             B_Jsims_valid,B_Psims_valid):\n",
    "    X_valid.append([1, bookCount[b]/totalRead, readerCount[u]/totalRead,\n",
    "                    user_jsims[0],user_jsims[1],user_jsims[2],user_jsims[3],user_jsims[4], \\\n",
    "                    book_jsims[0],book_jsims[1], \\\n",
    "                   ])\n",
    "y_valid = yvalid_full"
   ]
  },
  {
   "cell_type": "code",
   "execution_count": 518,
   "metadata": {},
   "outputs": [
    {
     "name": "stdout",
     "output_type": "stream",
     "text": [
      "Regularization = 1e-07\n",
      "Training:\n",
      "Accuracy: 0.6226677754327609\n",
      "Validation:\n",
      "Accuracy: 0.5894089408940895\n",
      "\n",
      "\n",
      "Regularization = 1e-06\n",
      "Training:\n",
      "Accuracy: 0.6663885979547476\n",
      "Validation:\n",
      "Accuracy: 0.6157615761576157\n",
      "\n",
      "\n",
      "Regularization = 5e-06\n",
      "Training:\n",
      "Accuracy: 0.8464955447602908\n",
      "Validation:\n",
      "Accuracy: 0.678067806780678\n",
      "\n",
      "\n",
      "Regularization = 1e-05\n",
      "Training:\n",
      "Accuracy: 0.9079715369919106\n",
      "Validation:\n",
      "Accuracy: 0.6684668466846685\n",
      "\n",
      "\n",
      "Regularization = 5e-05\n",
      "Training:\n",
      "Accuracy: 0.9579370634891395\n",
      "Validation:\n",
      "Accuracy: 0.6147114711471147\n",
      "\n",
      "\n",
      "Regularization = 0.0001\n",
      "Training:\n",
      "Accuracy: 0.959202846300809\n",
      "Validation:\n",
      "Accuracy: 0.6031103110311031\n",
      "\n",
      "\n",
      "Regularization = 0.001\n",
      "Training:\n",
      "Accuracy: 0.9601107362592829\n",
      "Validation:\n",
      "Accuracy: 0.5906590659065907\n",
      "\n",
      "\n",
      "Regularization = 0.0015\n",
      "Training:\n",
      "Accuracy: 0.9612396776859069\n",
      "Validation:\n",
      "Accuracy: 0.5910591059105911\n",
      "\n",
      "\n",
      "Regularization = 0.002\n",
      "Training:\n",
      "Accuracy: 0.9623896716333072\n",
      "Validation:\n",
      "Accuracy: 0.5909090909090909\n",
      "\n",
      "\n",
      "Regularization = 0.0025\n",
      "Training:\n",
      "Accuracy: 0.9632791406361019\n",
      "Validation:\n",
      "Accuracy: 0.5910591059105911\n",
      "\n",
      "\n",
      "Regularization = 0.005\n",
      "Training:\n",
      "Accuracy: 0.9661633359824422\n",
      "Validation:\n",
      "Accuracy: 0.5918091809180918\n",
      "\n",
      "\n",
      "Regularization = 0.01\n",
      "Training:\n",
      "Accuracy: 0.969000163157036\n",
      "Validation:\n",
      "Accuracy: 0.5912091209120912\n",
      "\n",
      "\n",
      "Regularization = 0.025\n",
      "Training:\n",
      "Accuracy: 0.9726869858579692\n",
      "Validation:\n",
      "Accuracy: 0.5895589558955896\n",
      "\n",
      "\n",
      "Regularization = 0.05\n",
      "Training:\n",
      "Accuracy: 0.9752369724369871\n",
      "Validation:\n",
      "Accuracy: 0.5857585758575857\n",
      "\n",
      "\n"
     ]
    }
   ],
   "source": [
    "# lambs = [1e-7, 1e-6, 5e-6, 1e-5, 5e-5, 1e-4, 1e-3, 1.5e-3, 2e-3, 2.5e-3, 5e-3, 0.01, 0.025, 0.05]\n",
    "# [1, bookCount[b]/totalRead, readerCount[u]/totalRead,\n",
    "#                    user_jsims[0],user_jsims[1],user_jsims[2],user_jsims[3],user_jsims[4], \\\n",
    "#                    book_jsims[0],book_jsims[1], \\\n",
    "#                   ])\n",
    "# Regularization = 5e-06; Accuracy: 0.682018201820182\n",
    "\n",
    "lambs = [1e-7, 1e-6, 5e-6, 1e-5, 5e-5, 1e-4, 1e-3, 1.5e-3, 2e-3, 2.5e-3, 5e-3, 0.01, 0.025, 0.05]\n",
    "\n",
    "for lamb in lambs:\n",
    "\n",
    "    print(\"Regularization = {}\".format(lamb))\n",
    "    model = linear_model.LogisticRegression(max_iter = 1000, C=lamb, class_weight='balanced',solver='liblinear')\n",
    "    model.fit(X_train, y_train)\n",
    "\n",
    "    train_pred = model.predict(X_train)\n",
    "    valid_pred = model.predict(X_valid)\n",
    "\n",
    "    print(\"Training:\")\n",
    "    calc_model_stats(train_pred,y_train)\n",
    "\n",
    "    print(\"Validation:\")\n",
    "    calc_model_stats(valid_pred,y_valid)\n",
    "    \n",
    "    print(\"\\n\")"
   ]
  },
  {
   "cell_type": "code",
   "execution_count": null,
   "metadata": {},
   "outputs": [],
   "source": []
  }
 ],
 "metadata": {
  "kernelspec": {
   "display_name": "Python [default]",
   "language": "python",
   "name": "python3"
  },
  "language_info": {
   "codemirror_mode": {
    "name": "ipython",
    "version": 3
   },
   "file_extension": ".py",
   "mimetype": "text/x-python",
   "name": "python",
   "nbconvert_exporter": "python",
   "pygments_lexer": "ipython3",
   "version": "3.6.9"
  }
 },
 "nbformat": 4,
 "nbformat_minor": 2
}
