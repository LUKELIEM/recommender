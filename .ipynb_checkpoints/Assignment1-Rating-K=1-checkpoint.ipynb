{
 "cells": [
  {
   "cell_type": "code",
   "execution_count": 28,
   "metadata": {},
   "outputs": [],
   "source": [
    "from collections import defaultdict\n",
    "import csv\n",
    "from sklearn import linear_model\n",
    "from sklearn.decomposition import PCA\n",
    "import scipy\n",
    "import scipy.optimize\n",
    "import numpy\n",
    "import random"
   ]
  },
  {
   "cell_type": "code",
   "execution_count": 29,
   "metadata": {},
   "outputs": [],
   "source": [
    "def readCSV(path):\n",
    "  f = open(path, 'rt')\n",
    "  f.readline()\n",
    "  for l in f:\n",
    "    yield l.strip().split(',')\n",
    "    \n",
    "def calc_model_stats(pred,label):\n",
    "    \n",
    "    TP,FP,TN,FN = calc_metrics(pred,label)\n",
    "\n",
    "    # print(\"Stats\")\n",
    "    # print(TP,FP,TN,FN)\n",
    "\n",
    "    # print(\"Predict N: {} ({}%)\".format(TN+FN,(TN+FN)/(TP+TN+FP+FN)))\n",
    "    # print(\"Predict P: {} ({}%)\".format(TP+FP,(TP+FP)/(TP+TN+FP+FN)))\n",
    "\n",
    "    accuracy, TPR, TNR, BER = calc_error_rates(TP, FP, TN, FN)\n",
    "\n",
    "    print(\"Accuracy: {}\".format(accuracy))\n",
    "    # print(\"TPR: {}\".format(TPR))\n",
    "    # print(\"TNR: {}\".format(TNR))\n",
    "    # print(\"BER: {}\".format(BER))\n",
    "    \n",
    "    return\n",
    " \n",
    "def calc_metrics(predictions, labels):\n",
    "    # Calculate True positives, false positives, etc.\n",
    "\n",
    "    TP_ = numpy.logical_and(predictions, labels)\n",
    "    FP_ = numpy.logical_and(predictions, numpy.logical_not(labels))\n",
    "    TN_ = numpy.logical_and(numpy.logical_not(predictions), numpy.logical_not(labels))\n",
    "    FN_ = numpy.logical_and(numpy.logical_not(predictions), labels)\n",
    "\n",
    "    TP=sum(TP_)\n",
    "    FP=sum(FP_)\n",
    "    TN=sum(TN_)\n",
    "    FN=sum(FN_)\n",
    "    \n",
    "    return TP,FP,TN,FN\n",
    "\n",
    "def calc_error_rates(TP, FP, TN, FN):\n",
    "    # Calculate accuracy, TPR, TNR and BER\n",
    "    accuracy = (TP+TN)/(TP+TN+FP+FN)\n",
    "    TPR = TP/(TP+FN)\n",
    "    TNR = TN/(TN+FP)\n",
    "    BER = 1.0 - (TPR+TNR)/2\n",
    "    \n",
    "    return accuracy, TPR, TNR, BER\n"
   ]
  },
  {
   "cell_type": "markdown",
   "metadata": {},
   "source": [
    "### Split Training Dataset into Train and Validation Datasets"
   ]
  },
  {
   "cell_type": "code",
   "execution_count": 30,
   "metadata": {},
   "outputs": [
    {
     "name": "stdout",
     "output_type": "stream",
     "text": [
      "200000 190001 9999\n"
     ]
    }
   ],
   "source": [
    "dataset = []\n",
    "\n",
    "for user,book,rating in readCSV(\"assignment1/train_Interactions.csv\"):\n",
    "  dataset.append([user,book,rating])\n",
    "\n",
    "random.shuffle(dataset)\n",
    "\n",
    "X = [values[0:2] for values in dataset]\n",
    "y = [int(values[-1]) for values in dataset]\n",
    "\n",
    "N = len(dataset)\n",
    "Ntrain = 190001\n",
    "\n",
    "Xtrain = X[:Ntrain]\n",
    "Xvalid = X[Ntrain:]\n",
    "\n",
    "ytrain = y[:Ntrain]\n",
    "yvalid = y[Ntrain:]\n",
    "\n",
    "print(N, len(ytrain),len(yvalid))"
   ]
  },
  {
   "cell_type": "markdown",
   "metadata": {},
   "source": [
    "### Adopt code from Workbook 4"
   ]
  },
  {
   "cell_type": "code",
   "execution_count": 31,
   "metadata": {},
   "outputs": [
    {
     "name": "stdout",
     "output_type": "stream",
     "text": [
      "11357 7170\n",
      "['u99982278', 'u77373498', 'u43600627']\n",
      "['b63832417', 'b78539874', 'b71574797']\n"
     ]
    }
   ],
   "source": [
    "ratingsPerUser = defaultdict(list)\n",
    "ratingsPerItem = defaultdict(list)\n",
    "\n",
    "for user,book,rating in dataset:\n",
    "    ratingsPerUser[user].append(rating)\n",
    "    ratingsPerItem[book].append(rating)\n",
    "\n",
    "N = len(Xtrain)\n",
    "nUsers = len(ratingsPerUser)\n",
    "nItems = len(ratingsPerItem)\n",
    "users = list(ratingsPerUser.keys())\n",
    "items = list(ratingsPerItem.keys())\n",
    "\n",
    "print (nUsers, nItems)\n",
    "print (users[:3])\n",
    "print (items[:3])"
   ]
  },
  {
   "cell_type": "code",
   "execution_count": 32,
   "metadata": {},
   "outputs": [
    {
     "name": "stdout",
     "output_type": "stream",
     "text": [
      "Mean of ratings in training set: 3.897295277393277\n"
     ]
    }
   ],
   "source": [
    "ratingMean = sum([y for y in ytrain])/len(ytrain)\n",
    "\n",
    "print(\"Mean of ratings in training set: {}\".format(ratingMean))"
   ]
  },
  {
   "cell_type": "markdown",
   "metadata": {},
   "source": [
    "## K = 1"
   ]
  },
  {
   "cell_type": "code",
   "execution_count": 14,
   "metadata": {},
   "outputs": [],
   "source": [
    "alpha = ratingMean\n",
    "\n",
    "userBiases = defaultdict(float)\n",
    "itemBiases = defaultdict(float)\n",
    "\n",
    "userGamma = {}\n",
    "itemGamma = {}\n",
    "\n",
    "K = 1\n",
    "\n",
    "# Initialize user and item Gammas\n",
    "for u in ratingsPerUser:\n",
    "    userGamma[u] = [random.random() * 0.1 - 0.05 for k in range(K)]\n",
    "for i in ratingsPerItem:\n",
    "    itemGamma[i] = [random.random() * 0.1 - 0.05 for k in range(K)]"
   ]
  },
  {
   "cell_type": "code",
   "execution_count": 33,
   "metadata": {},
   "outputs": [],
   "source": [
    "def MSE(predictions, labels):\n",
    "    differences = [(x-y)**2 for x,y in zip(predictions,labels)]\n",
    "    return sum(differences) / len(differences)\n",
    "\n",
    "def unpack(theta):\n",
    "    global alpha\n",
    "    global userBiases\n",
    "    global itemBiases\n",
    "    global userGamma\n",
    "    global itemGamma\n",
    "    index = 0\n",
    "    alpha = theta[index]\n",
    "    index += 1\n",
    "    userBiases = dict(zip(users, theta[index:index+nUsers]))\n",
    "    index += nUsers\n",
    "    itemBiases = dict(zip(items, theta[index:index+nItems]))\n",
    "    index += nItems\n",
    "    for u in users:\n",
    "        userGamma[u] = theta[index:index+K]\n",
    "        index += K\n",
    "    for i in items:\n",
    "        itemGamma[i] = theta[index:index+K]\n",
    "        index += K\n",
    "        \n",
    "def inner(x, y):\n",
    "    return sum([a*b for a,b in zip(x,y)])\n",
    "\n",
    "def prediction(user, item):\n",
    "    return alpha + userBiases[user] + itemBiases[item] + inner(userGamma[user], itemGamma[item])\n",
    "\n",
    "   \n",
    "def cost(theta, labels, lamb):\n",
    "    unpack(theta)\n",
    "    predictions = [prediction(user, book) for user,book in Xtrain]\n",
    "    cost = MSE(predictions, labels)\n",
    "    print(\"MSE = \" + str(cost))\n",
    "    for u in users:\n",
    "        cost += lamb*userBiases[u]**2\n",
    "        for k in range(K):\n",
    "            cost += lamb*userGamma[u][k]**2\n",
    "    for i in items:\n",
    "        cost += lamb*itemBiases[i]**2\n",
    "        for k in range(K):\n",
    "            cost += lamb*itemGamma[i][k]**2\n",
    "    return cost\n",
    "\n",
    "\n",
    "def derivative(theta, labels, lamb):\n",
    "    unpack(theta)\n",
    "    N = len(dataset)\n",
    "    dalpha = 0\n",
    "    dUserBiases = defaultdict(float)\n",
    "    dItemBiases = defaultdict(float)\n",
    "    dUserGamma = {}\n",
    "    dItemGamma = {}\n",
    "    for u in ratingsPerUser:\n",
    "        dUserGamma[u] = [0.0 for k in range(K)]\n",
    "    for i in ratingsPerItem:\n",
    "        dItemGamma[i] = [0.0 for k in range(K)]\n",
    "    for value in zip(Xtrain,ytrain):\n",
    "        x,rating = value\n",
    "        u = x[0]\n",
    "        i = x[1]\n",
    "        pred = prediction(u, i)\n",
    "        diff = pred - rating\n",
    "        dalpha += 2/N*diff\n",
    "        dUserBiases[u] += 2/N*diff\n",
    "        dItemBiases[i] += 2/N*diff\n",
    "        for k in range(K):\n",
    "            dUserGamma[u][k] += 2/N*itemGamma[i][k]*diff\n",
    "            dItemGamma[i][k] += 2/N*userGamma[u][k]*diff\n",
    "    for u in userBiases:\n",
    "        dUserBiases[u] += 2*lamb*userBiases[u]\n",
    "        for k in range(K):\n",
    "            dUserGamma[u][k] += 2*lamb*userGamma[u][k]\n",
    "    for i in itemBiases:\n",
    "        dItemBiases[i] += 2*lamb*itemBiases[i]\n",
    "        for k in range(K):\n",
    "            dItemGamma[i][k] += 2*lamb*itemGamma[i][k]\n",
    "    dtheta = [dalpha] + [dUserBiases[u] for u in users] + [dItemBiases[i] for i in items]\n",
    "    for u in users:\n",
    "        dtheta += dUserGamma[u]\n",
    "    for i in items:\n",
    "        dtheta += dItemGamma[i]\n",
    "    return numpy.array(dtheta)"
   ]
  },
  {
   "cell_type": "code",
   "execution_count": 16,
   "metadata": {},
   "outputs": [
    {
     "name": "stdout",
     "output_type": "stream",
     "text": [
      "MSE = 1.4765490193751099\n",
      "MSE = 1.4606364710776734\n",
      "MSE = 8.967859681871094\n",
      "MSE = 1.4591346200772974\n",
      "MSE = 1.3677428000449716\n",
      "MSE = 1.3672542490505748\n",
      "MSE = 1.3654879401592468\n",
      "MSE = 1.3638402882278156\n",
      "MSE = 1.3641382233627937\n",
      "MSE = 1.363928261790367\n",
      "MSE = 1.3642953476841342\n",
      "MSE = 1.3639875294052421\n",
      "MSE = 1.363939957829823\n",
      "MSE = 1.3639306577197992\n",
      "MSE = 1.3639287563274232\n",
      "MSE = 1.3639283640256947\n",
      "MSE = 1.3639282829319872\n",
      "MSE = 1.3639282661626693\n",
      "MSE = 1.363928262694558\n",
      "MSE = 1.3639282619772106\n",
      "MSE = 1.3639282618288702\n",
      "MSE = 1.363928261798207\n",
      "MSE = 1.3639282617920343\n",
      "MSE = 1.3639282617906197\n",
      "MSE = 1.3639282617904016\n",
      "MSE = 1.363928261790368\n",
      "MSE = 1.363928261790368\n",
      "MSE = 1.3639282617903852\n",
      "MSE = 1.3639282617903683\n",
      "MSE = 1.3639282617903683\n",
      "MSE = 1.3639291279908072\n",
      "MSE = 1.3639325980903845\n",
      "MSE = 1.3639298509155207\n",
      "MSE = 1.363929280774454\n",
      "MSE = 1.36392965704182\n",
      "MSE = 1.3639293601689337\n",
      "MSE = 1.363929280774454\n"
     ]
    },
    {
     "data": {
      "text/plain": [
       "(array([ 3.87860867e+00, -1.52219967e-02,  6.07051488e-02, ...,\n",
       "        -2.66208278e-05, -7.15064324e-05,  7.06443796e-04]),\n",
       " 1.4127966891376775,\n",
       " {'funcalls': 37,\n",
       "  'grad': array([-1.92748925e-05, -5.21393619e-07,  8.22469930e-07, ...,\n",
       "         -6.22932132e-08, -1.36993040e-07,  1.41211902e-06]),\n",
       "  'nit': 7,\n",
       "  'task': b'CONVERGENCE: REL_REDUCTION_OF_F_<=_FACTR*EPSMCH',\n",
       "  'warnflag': 0})"
      ]
     },
     "execution_count": 16,
     "metadata": {},
     "output_type": "execute_result"
    }
   ],
   "source": [
    "lamb = 0.001\n",
    "theta_init = [alpha] + [0.0]*(nUsers+nItems) +  \\\n",
    "            [random.random() * 0.1 - 0.05 for k in range(K*(nUsers+nItems))]\n",
    "scipy.optimize.fmin_l_bfgs_b(cost, theta_init, derivative, args = (ytrain, lamb))"
   ]
  },
  {
   "cell_type": "code",
   "execution_count": null,
   "metadata": {},
   "outputs": [
    {
     "name": "stdout",
     "output_type": "stream",
     "text": [
      "Lambda = 0.0001\n",
      "MSE = 1.477067554982756\n",
      "MSE = 2.314675873936082\n",
      "MSE = 1.4715461458907713\n",
      "MSE = 1.4713176555782184\n",
      "MSE = 1.470882941185417\n"
     ]
    }
   ],
   "source": [
    "lamb_values = [1e-4, 8e-5, 6e-5, 5e-5, 4e-5, 3e-5, 2e-5, 1e-5]\n",
    "MSE_valid =[]\n",
    "thetas=[]\n",
    "best_theta = []\n",
    "best_MSE = 0\n",
    "\n",
    "for lamb in lamb_values:\n",
    "    print(\"Lambda = {}\".format(lamb))\n",
    "  \n",
    "    theta_init = [alpha] + [0.0]*(nUsers+nItems) +  \\\n",
    "            [random.random() * 0.1 - 0.05 for k in range(K*(nUsers+nItems))]\n",
    "    unpack(theta_init)\n",
    "    \n",
    "    def cost(theta, labels, lamb):\n",
    "        unpack(theta)\n",
    "        predictions = [prediction(user, book) for user,book in Xtrain]\n",
    "        cost = MSE(predictions, labels)\n",
    "        print(\"MSE = \" + str(cost))\n",
    "        for u in users:\n",
    "            cost += lamb*userBiases[u]**2\n",
    "            for k in range(K):\n",
    "                cost += lamb*userGamma[u][k]**2\n",
    "        for i in items:\n",
    "            cost += lamb*itemBiases[i]**2\n",
    "            for k in range(K):\n",
    "                cost += lamb*itemGamma[i][k]**2\n",
    "        return cost\n",
    "\n",
    "    def derivative(theta, labels, lamb):\n",
    "        unpack(theta)\n",
    "        N = len(dataset)\n",
    "        dalpha = 0\n",
    "        dUserBiases = defaultdict(float)\n",
    "        dItemBiases = defaultdict(float)\n",
    "        dUserGamma = {}\n",
    "        dItemGamma = {}\n",
    "        for u in ratingsPerUser:\n",
    "            dUserGamma[u] = [0.0 for k in range(K)]\n",
    "        for i in ratingsPerItem:\n",
    "            dItemGamma[i] = [0.0 for k in range(K)]\n",
    "        for value in zip(Xtrain,ytrain):\n",
    "            x,rating = value\n",
    "            u = x[0]\n",
    "            i = x[1]\n",
    "            pred = prediction(u, i)\n",
    "            diff = pred - rating\n",
    "            dalpha += 2/N*diff\n",
    "            dUserBiases[u] += 2/N*diff\n",
    "            dItemBiases[i] += 2/N*diff\n",
    "            for k in range(K):\n",
    "                dUserGamma[u][k] += 2/N*itemGamma[i][k]*diff\n",
    "                dItemGamma[i][k] += 2/N*userGamma[u][k]*diff\n",
    "        for u in userBiases:\n",
    "            dUserBiases[u] += 2*lamb*userBiases[u]\n",
    "            for k in range(K):\n",
    "                dUserGamma[u][k] += 2*lamb*userGamma[u][k]\n",
    "        for i in itemBiases:\n",
    "            dItemBiases[i] += 2*lamb*itemBiases[i]\n",
    "            for k in range(K):\n",
    "                dItemGamma[i][k] += 2*lamb*itemGamma[i][k]\n",
    "        dtheta = [dalpha] + [dUserBiases[u] for u in users] + [dItemBiases[i] for i in items]\n",
    "        for u in users:\n",
    "            dtheta += dUserGamma[u]\n",
    "        for i in items:\n",
    "            dtheta += dItemGamma[i]\n",
    "        return numpy.array(dtheta)\n",
    "    \n",
    "    theta,_,_ = scipy.optimize.fmin_l_bfgs_b(cost, theta_init, derivative, args = (ytrain, lamb))\n",
    "    thetas.append(theta)  # save thetas\n",
    "\n",
    "    unpack(theta)\n",
    "    predictions = [prediction(user, book) for user,book in Xvalid]\n",
    "    cost = MSE(predictions, yvalid)\n",
    "    \n",
    "    if best_MSE is 0:\n",
    "        best_MSE = cost\n",
    "        best_theta = theta\n",
    "        print(\"Save best theta...\")\n",
    "    else:\n",
    "        if cost < best_MSE:\n",
    "            best_MSE = cost\n",
    "            best_theta = theta\n",
    "            print(\"Save best theta...\")\n",
    "    \n",
    "    MSE_valid.append(cost)\n",
    "    print(cost)"
   ]
  },
  {
   "cell_type": "code",
   "execution_count": 20,
   "metadata": {},
   "outputs": [
    {
     "data": {
      "text/plain": [
       "[1.1354888408443011,\n",
       " 1.126889102062727,\n",
       " 1.1200679980274029,\n",
       " 1.1099650964970464,\n",
       " 1.1053380468891385,\n",
       " 1.0866419507119878,\n",
       " 1.0773779107523835,\n",
       " 1.115193975444481,\n",
       " 1.1495772617743998,\n",
       " 1.2075015706784267]"
      ]
     },
     "execution_count": 20,
     "metadata": {},
     "output_type": "execute_result"
    }
   ],
   "source": [
    "MSE_valid"
   ]
  },
  {
   "cell_type": "code",
   "execution_count": 25,
   "metadata": {},
   "outputs": [
    {
     "data": {
      "text/plain": [
       "1.0773779107523835"
      ]
     },
     "execution_count": 25,
     "metadata": {},
     "output_type": "execute_result"
    }
   ],
   "source": [
    "best_MSE"
   ]
  },
  {
   "cell_type": "code",
   "execution_count": 22,
   "metadata": {},
   "outputs": [
    {
     "data": {
      "image/png": "[encoded data removed]",
      "text/plain": [
       "<matplotlib.figure.Figure at 0x7f35e4fc87f0>"
      ]
     },
     "metadata": {},
     "output_type": "display_data"
    }
   ],
   "source": [
    "import matplotlib\n",
    "import matplotlib.pyplot as plt\n",
    "\n",
    "plt.figure(figsize=(10,7))\n",
    "\n",
    "plt.xlabel('Lambda')\n",
    "plt.title('Validation MSE')\n",
    "plt.xscale('log')\n",
    "plt.grid(True)\n",
    "\n",
    "plt.plot(lamb_values, MSE_valid, label='Validation MSE')\n",
    "\n",
    "plt.legend()\n",
    "plt.show()"
   ]
  },
  {
   "cell_type": "code",
   "execution_count": 27,
   "metadata": {},
   "outputs": [],
   "source": [
    "### Rating baseline: compute averages for each user, or return \n",
    "### the global average if we've never seen the user before\n",
    "\n",
    "predictions = open(\"assignment1/predictions_Rating.txt\", 'w')\n",
    "unpack(best_theta)\n",
    "\n",
    "for l in open(\"assignment1/pairs_Rating.txt\"):\n",
    "  # write header  \n",
    "  if l.startswith(\"userID\"):\n",
    "    predictions.write(l)\n",
    "    continue\n",
    "    \n",
    "  # write user-item-rating\n",
    "  u,b = l.strip().split('-')\n",
    "  predictions.write(u + '-' + b + ',' + str(prediction(u,b)) + '\\n')\n",
    "\n",
    "predictions.close()"
   ]
  },
  {
   "cell_type": "code",
   "execution_count": 26,
   "metadata": {},
   "outputs": [
    {
     "data": {
      "text/plain": [
       "1.0773779107523835"
      ]
     },
     "execution_count": 26,
     "metadata": {},
     "output_type": "execute_result"
    }
   ],
   "source": [
    "unpack(best_theta)\n",
    "predictions = [prediction(user, book) for user,book in Xvalid]\n",
    "MSE(predictions, yvalid)"
   ]
  },
  {
   "cell_type": "code",
   "execution_count": null,
   "metadata": {},
   "outputs": [],
   "source": []
  }
 ],
 "metadata": {
  "kernelspec": {
   "display_name": "Python [default]",
   "language": "python",
   "name": "python3"
  },
  "language_info": {
   "codemirror_mode": {
    "name": "ipython",
    "version": 3
   },
   "file_extension": ".py",
   "mimetype": "text/x-python",
   "name": "python",
   "nbconvert_exporter": "python",
   "pygments_lexer": "ipython3",
   "version": "3.6.4"
  }
 },
 "nbformat": 4,
 "nbformat_minor": 2
}
