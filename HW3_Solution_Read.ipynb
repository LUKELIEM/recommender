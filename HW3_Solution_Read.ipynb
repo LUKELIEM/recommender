{
 "cells": [
  {
   "cell_type": "code",
   "execution_count": 2,
   "metadata": {},
   "outputs": [],
   "source": [
    "import gzip\n",
    "from collections import defaultdict\n",
    "import math\n",
    "import scipy.optimize\n",
    "from sklearn import svm\n",
    "import numpy\n",
    "import string\n",
    "import random\n",
    "import string\n",
    "from sklearn import linear_model"
   ]
  },
  {
   "cell_type": "code",
   "execution_count": 3,
   "metadata": {},
   "outputs": [],
   "source": [
    "def readGz(path):\n",
    "    for l in gzip.open(path, 'rt'):\n",
    "        yield eval(l)\n",
    "\n",
    "def readCSV(path):\n",
    "    f = gzip.open(path, 'rt')\n",
    "    f.readline()\n",
    "    for l in f:\n",
    "        u,b,r = l.strip().split(',')\n",
    "        r = int(r)\n",
    "        yield u,b,r"
   ]
  },
  {
   "cell_type": "code",
   "execution_count": 7,
   "metadata": {},
   "outputs": [],
   "source": [
    "allRatings = []\n",
    "for l in readCSV('assignment1/train_Interactions.csv.gz'):\n",
    "    allRatings.append(l)\n",
    "    \n",
    "ratingsTrain = allRatings[:190000]\n",
    "ratingsValid = allRatings[190000:]\n",
    "ratingsPerUser = defaultdict(list)\n",
    "ratingsPerItem = defaultdict(list)\n",
    "for u,b,r in ratingsTrain:\n",
    "    ratingsPerUser[u].append((b,r))\n",
    "    ratingsPerItem[b].append((u,r))"
   ]
  },
  {
   "cell_type": "code",
   "execution_count": 8,
   "metadata": {},
   "outputs": [],
   "source": [
    "# Generate a negative set\n",
    "\n",
    "userSet = set()\n",
    "bookSet = set()\n",
    "readSet = set()\n",
    "\n",
    "for u,b,r in allRatings:\n",
    "    userSet.add(u)\n",
    "    bookSet.add(b)\n",
    "    readSet.add((u,b))\n",
    "\n",
    "lUserSet = list(userSet)\n",
    "lBookSet = list(bookSet)\n",
    "\n",
    "notRead = set()\n",
    "for u,b,r in ratingsValid:\n",
    "    #u = random.choice(lUserSet)\n",
    "    b = random.choice(lBookSet)\n",
    "    if (u,b) in readSet or (u,b) in notRead: continue\n",
    "    notRead.add((u,b))\n",
    "\n",
    "readValid = set()\n",
    "for u,b,r in ratingsValid:\n",
    "    readValid.add((u,b))"
   ]
  },
  {
   "cell_type": "code",
   "execution_count": 9,
   "metadata": {},
   "outputs": [],
   "source": [
    "def Jaccard(s1, s2):\n",
    "    numer = len(s1.intersection(s2))\n",
    "    denom = len(s1.union(s2))\n",
    "    if denom > 0:\n",
    "        return numer/denom\n",
    "    return 0"
   ]
  },
  {
   "cell_type": "code",
   "execution_count": 10,
   "metadata": {},
   "outputs": [],
   "source": [
    "# Slow implementation, could easily be improved following the code from Lecture 7\n",
    "\n",
    "correct = 0\n",
    "p0, p1 = 0,0\n",
    "for (label,sample) in [(1, readValid), (0, notRead)]:\n",
    "    for (u,b) in sample:\n",
    "        maxSim = 0\n",
    "        users = set(ratingsPerItem[b])\n",
    "        for b2,_ in ratingsPerUser[u]:\n",
    "            sim = Jaccard(users,set(ratingsPerItem[b2]))\n",
    "            if sim > maxSim:\n",
    "                maxSim = sim\n",
    "        pred = 0\n",
    "        if maxSim > 0.013 or len(ratingsPerItem[b]) > 40:\n",
    "            pred = 1\n",
    "            p1 += 1\n",
    "        else:\n",
    "            p0 += 1\n",
    "        if pred == label:\n",
    "            correct += 1"
   ]
  },
  {
   "cell_type": "code",
   "execution_count": 11,
   "metadata": {},
   "outputs": [],
   "source": [
    "predictions = open(\"assignment1/HWpredictions_Read.txt\", 'w')\n",
    "for l in open(\"assignment1/pairs_Read.txt\"):\n",
    "    if l.startswith(\"userID\"):\n",
    "        predictions.write(l)\n",
    "        continue\n",
    "    u,b = l.strip().split('-')\n",
    "    maxSim = 0\n",
    "    users = set(ratingsPerItem[b])\n",
    "    for b2,_ in ratingsPerUser[u]:\n",
    "        sim = Jaccard(users,set(ratingsPerItem[b2]))\n",
    "        if sim > maxSim:\n",
    "            maxSim = sim\n",
    "    pred = 0\n",
    "    if maxSim > 0.013 or len(ratingsPerItem[b]) > 40:\n",
    "        pred = 1\n",
    "    _ = predictions.write(u + '-' + b + ',' + str(pred) + '\\n')\n",
    "\n",
    "predictions.close()"
   ]
  },
  {
   "cell_type": "code",
   "execution_count": null,
   "metadata": {},
   "outputs": [],
   "source": []
  }
 ],
 "metadata": {
  "kernelspec": {
   "display_name": "Python [default]",
   "language": "python",
   "name": "python3"
  },
  "language_info": {
   "codemirror_mode": {
    "name": "ipython",
    "version": 3
   },
   "file_extension": ".py",
   "mimetype": "text/x-python",
   "name": "python",
   "nbconvert_exporter": "python",
   "pygments_lexer": "ipython3",
   "version": "3.6.9"
  }
 },
 "nbformat": 4,
 "nbformat_minor": 2
}
