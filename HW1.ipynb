{
 "cells": [
  {
   "cell_type": "markdown",
   "metadata": {},
   "source": [
    "# CSE 258 HW1\n",
    "\n",
    "## Luke Liem \n",
    "### A53231779"
   ]
  },
  {
   "cell_type": "code",
   "execution_count": 114,
   "metadata": {
    "collapsed": true
   },
   "outputs": [],
   "source": [
    "import numpy\n",
    "from urllib.request import urlopen  # Read data from a webpage like a file\n",
    "import scipy.optimize  # optimization\n",
    "import random\n",
    "import csv"
   ]
  },
  {
   "cell_type": "code",
   "execution_count": 115,
   "metadata": {
    "collapsed": true
   },
   "outputs": [],
   "source": [
    "def extract_data(file_path):\n",
    "    f = open(file_path)\n",
    "    \n",
    "    dataset = []\n",
    "    # Read the header:\n",
    "    header = f.readline().strip().split('\\t')\n",
    "    for line in f:\n",
    "        # Separate by tabs\n",
    "        line = line.split('\\t')\n",
    "        # Convert to key-value pairs\n",
    "        d = dict(zip(header, line))\n",
    "        # Convert strings to integers for some fields:\n",
    "        d['star_rating'] = int(d['star_rating'])\n",
    "        d['helpful_votes'] = int(d['helpful_votes'])\n",
    "        d['total_votes'] = int(d['total_votes'])\n",
    "        dataset.append(d)\n",
    "    f.close()\n",
    "        \n",
    "    return dataset"
   ]
  },
  {
   "cell_type": "markdown",
   "metadata": {},
   "source": [
    "### Extract dataset"
   ]
  },
  {
   "cell_type": "code",
   "execution_count": 116,
   "metadata": {
    "collapsed": true
   },
   "outputs": [],
   "source": [
    "path = \"amazon_reviews_us_Gift_Card_v1_00.tsv\"\n",
    "dataset = extract_data(path)\n"
   ]
  },
  {
   "cell_type": "markdown",
   "metadata": {},
   "source": [
    "### Check out the data"
   ]
  },
  {
   "cell_type": "code",
   "execution_count": 117,
   "metadata": {},
   "outputs": [
    {
     "data": {
      "text/plain": [
       "{'customer_id': '24371595',\n",
       " 'helpful_votes': 0,\n",
       " 'marketplace': 'US',\n",
       " 'product_category': 'Gift Card',\n",
       " 'product_id': 'B004LLIL5A',\n",
       " 'product_parent': '346014806',\n",
       " 'product_title': 'Amazon eGift Card - Celebrate',\n",
       " 'review_body': 'Great birthday gift for a young adult.',\n",
       " 'review_date': '2015-08-31\\n',\n",
       " 'review_headline': 'Five Stars',\n",
       " 'review_id': 'R27ZP1F1CD0C3Y',\n",
       " 'star_rating': 5,\n",
       " 'total_votes': 0,\n",
       " 'verified_purchase': 'Y',\n",
       " 'vine': 'N'}"
      ]
     },
     "execution_count": 117,
     "metadata": {},
     "output_type": "execute_result"
    }
   ],
   "source": [
    "dataset[0]"
   ]
  },
  {
   "cell_type": "code",
   "execution_count": 118,
   "metadata": {},
   "outputs": [
    {
     "data": {
      "text/plain": [
       "149086"
      ]
     },
     "execution_count": 118,
     "metadata": {},
     "output_type": "execute_result"
    }
   ],
   "source": [
    "nRatings = len(dataset)\n",
    "nRatings"
   ]
  },
  {
   "cell_type": "markdown",
   "metadata": {},
   "source": [
    "### (1) Distribution of Ratings"
   ]
  },
  {
   "cell_type": "code",
   "execution_count": 119,
   "metadata": {},
   "outputs": [
    {
     "name": "stdout",
     "output_type": "stream",
     "text": [
      "(array([  4793,   1569,   3156,   9859, 129709]), array([1, 2, 3, 4, 5, 6]))\n"
     ]
    }
   ],
   "source": [
    "ratings = []\n",
    "for d in dataset:\n",
    "    ratings.append(d['star_rating'])\n",
    "\n",
    "histogram = numpy.histogram(ratings, bins=[1,2,3,4,5,6])\n",
    "\n",
    "print (histogram)"
   ]
  },
  {
   "cell_type": "markdown",
   "metadata": {},
   "source": [
    "### Create input data"
   ]
  },
  {
   "cell_type": "code",
   "execution_count": 120,
   "metadata": {
    "collapsed": true
   },
   "outputs": [],
   "source": [
    "verified = []\n",
    "review_lengths = []\n",
    "\n",
    "for d in dataset:\n",
    "    \n",
    "    if d['verified_purchase'] is 'Y':\n",
    "        verified.append(1)\n",
    "    else:\n",
    "        verified.append(0)\n",
    "    \n",
    "    review_lengths.append(len(d['review_body']))"
   ]
  },
  {
   "cell_type": "code",
   "execution_count": 121,
   "metadata": {},
   "outputs": [
    {
     "data": {
      "text/plain": [
       "[1, 1, 1, 1, 1, 1, 1, 1, 1, 1]"
      ]
     },
     "execution_count": 121,
     "metadata": {},
     "output_type": "execute_result"
    }
   ],
   "source": [
    "verified[:10]"
   ]
  },
  {
   "cell_type": "code",
   "execution_count": 122,
   "metadata": {},
   "outputs": [
    {
     "data": {
      "text/plain": [
       "[38, 101, 4, 4, 76, 94, 8, 26, 13, 37]"
      ]
     },
     "execution_count": 122,
     "metadata": {},
     "output_type": "execute_result"
    }
   ],
   "source": [
    "review_lengths[:10]"
   ]
  },
  {
   "cell_type": "code",
   "execution_count": 123,
   "metadata": {
    "collapsed": true
   },
   "outputs": [],
   "source": [
    "X = [[1,x1,x2] for (x1,x2) in zip(verified,review_lengths)]\n",
    "y = [d for d in ratings]"
   ]
  },
  {
   "cell_type": "code",
   "execution_count": 124,
   "metadata": {},
   "outputs": [
    {
     "name": "stderr",
     "output_type": "stream",
     "text": [
      "/home/lukeliem/miniconda3/lib/python3.6/site-packages/ipykernel/__main__.py:1: FutureWarning: `rcond` parameter will change to the default of machine precision times ``max(M, N)`` where M and N are the input matrix dimensions.\n",
      "To use the future default and silence this warning we advise to pass `rcond=None`, to keep using the old, explicitly pass `rcond=-1`.\n",
      "  if __name__ == '__main__':\n"
     ]
    }
   ],
   "source": [
    "theta,residuals,rank,s = numpy.linalg.lstsq(X, y)"
   ]
  },
  {
   "cell_type": "markdown",
   "metadata": {},
   "source": [
    "## (3) Star Rating Predictor (2 features)\n",
    "\n",
    "Theta_0 or offset is 4.84.\n",
    "\n",
    "Theta_1 is 0.05, this mean if this is a verified purchase, the star rating is higher by 0.05.\n",
    "\n",
    "Theta_2 is -0.00125, this means the longer the review, the lower the star rating. A 1000 character review will lower the star rating by 1.25."
   ]
  },
  {
   "cell_type": "code",
   "execution_count": 125,
   "metadata": {},
   "outputs": [
    {
     "data": {
      "text/plain": [
       "array([ 4.84461817e+00,  5.04148265e-02, -1.24659895e-03])"
      ]
     },
     "execution_count": 125,
     "metadata": {},
     "output_type": "execute_result"
    }
   ],
   "source": [
    "theta"
   ]
  },
  {
   "cell_type": "code",
   "execution_count": 126,
   "metadata": {
    "collapsed": true
   },
   "outputs": [],
   "source": [
    "X = [[1,d] for d in verified]\n",
    "y = [d for d in ratings]"
   ]
  },
  {
   "cell_type": "code",
   "execution_count": 127,
   "metadata": {},
   "outputs": [
    {
     "name": "stderr",
     "output_type": "stream",
     "text": [
      "/home/lukeliem/miniconda3/lib/python3.6/site-packages/ipykernel/__main__.py:1: FutureWarning: `rcond` parameter will change to the default of machine precision times ``max(M, N)`` where M and N are the input matrix dimensions.\n",
      "To use the future default and silence this warning we advise to pass `rcond=None`, to keep using the old, explicitly pass `rcond=-1`.\n",
      "  if __name__ == '__main__':\n"
     ]
    }
   ],
   "source": [
    "theta,residuals,rank,s = numpy.linalg.lstsq(X, y)"
   ]
  },
  {
   "cell_type": "markdown",
   "metadata": {},
   "source": [
    "## (4) Star Rating Predictor (1 features)\n",
    "\n",
    "Theta_0 or offset is 4.58.\n",
    "\n",
    "Theta_1 is 0.17, this mean if this is a verified purchase, the star rating is higher by 0.17.\n",
    "\n",
    "The coefficients of the new predictor is different because it is trying to predict the star ratings with only 1 feature instead of two."
   ]
  },
  {
   "cell_type": "code",
   "execution_count": 128,
   "metadata": {},
   "outputs": [
    {
     "data": {
      "text/plain": [
       "array([4.57758356, 0.16852426])"
      ]
     },
     "execution_count": 128,
     "metadata": {},
     "output_type": "execute_result"
    }
   ],
   "source": [
    "theta"
   ]
  },
  {
   "cell_type": "markdown",
   "metadata": {},
   "source": [
    "### Split Test and Training Dataset"
   ]
  },
  {
   "cell_type": "code",
   "execution_count": 129,
   "metadata": {
    "collapsed": true
   },
   "outputs": [],
   "source": [
    "N = len(dataset)\n",
    "\n",
    "split = N*9//10  # 90-10 train-test split\n",
    "\n",
    "X_train = X[:split]\n",
    "y_train = y[:split]\n",
    "X_test= X[split:]\n",
    "y_test = y[split:]"
   ]
  },
  {
   "cell_type": "code",
   "execution_count": 130,
   "metadata": {},
   "outputs": [
    {
     "data": {
      "text/plain": [
       "(14909, 134177, 14909, 134177)"
      ]
     },
     "execution_count": 130,
     "metadata": {},
     "output_type": "execute_result"
    }
   ],
   "source": [
    "len(X_test), len(X_train),len(y_test), len(y_train)"
   ]
  },
  {
   "cell_type": "code",
   "execution_count": 131,
   "metadata": {},
   "outputs": [
    {
     "name": "stderr",
     "output_type": "stream",
     "text": [
      "/home/lukeliem/miniconda3/lib/python3.6/site-packages/ipykernel/__main__.py:1: FutureWarning: `rcond` parameter will change to the default of machine precision times ``max(M, N)`` where M and N are the input matrix dimensions.\n",
      "To use the future default and silence this warning we advise to pass `rcond=None`, to keep using the old, explicitly pass `rcond=-1`.\n",
      "  if __name__ == '__main__':\n"
     ]
    }
   ],
   "source": [
    "theta,residuals,rank,s = numpy.linalg.lstsq(X_train, y_train)"
   ]
  },
  {
   "cell_type": "code",
   "execution_count": 132,
   "metadata": {},
   "outputs": [
    {
     "data": {
      "text/plain": [
       "array([4.43657178, 0.31944366])"
      ]
     },
     "execution_count": 132,
     "metadata": {},
     "output_type": "execute_result"
    }
   ],
   "source": [
    "theta"
   ]
  },
  {
   "cell_type": "markdown",
   "metadata": {},
   "source": [
    "## (5) MSE for training set is 0.65; MSE for test set is 0.97"
   ]
  },
  {
   "cell_type": "code",
   "execution_count": 133,
   "metadata": {},
   "outputs": [
    {
     "data": {
      "text/plain": [
       "0.6557415620280942"
      ]
     },
     "execution_count": 133,
     "metadata": {},
     "output_type": "execute_result"
    }
   ],
   "source": [
    "mse_train = numpy.sum(residuals/len(y_train))\n",
    "mse_train"
   ]
  },
  {
   "cell_type": "code",
   "execution_count": 134,
   "metadata": {
    "collapsed": true
   },
   "outputs": [],
   "source": [
    "def calc_mse(X,y,theta):\n",
    "    X = numpy.matrix(X)\n",
    "    y = numpy.matrix(y)\n",
    "    theta = numpy.matrix(theta)\n",
    "    y_pred = theta * X.T\n",
    "    nData = y.shape[1]\n",
    "    mse = numpy.sum(numpy.square(y_pred-y))/nData\n",
    "    return mse"
   ]
  },
  {
   "cell_type": "code",
   "execution_count": 135,
   "metadata": {},
   "outputs": [
    {
     "data": {
      "text/plain": [
       "0.9713823241630476"
      ]
     },
     "execution_count": 135,
     "metadata": {},
     "output_type": "execute_result"
    }
   ],
   "source": [
    "mse_test = calc_mse(X_test, y_test, theta)\n",
    "mse_test"
   ]
  },
  {
   "cell_type": "code",
   "execution_count": 136,
   "metadata": {},
   "outputs": [
    {
     "name": "stderr",
     "output_type": "stream",
     "text": [
      "/home/lukeliem/miniconda3/lib/python3.6/site-packages/ipykernel/__main__.py:29: FutureWarning: `rcond` parameter will change to the default of machine precision times ``max(M, N)`` where M and N are the input matrix dimensions.\n",
      "To use the future default and silence this warning we advise to pass `rcond=None`, to keep using the old, explicitly pass `rcond=-1`.\n"
     ]
    },
    {
     "name": "stdout",
     "output_type": "stream",
     "text": [
      "0.7006982282502987 0.6951867111781488\n",
      "0.7268142699984984 0.6966317384721408\n",
      "0.6825042293074014 0.7032213259218499\n",
      "0.6208235649583758 0.7140572226189882\n",
      "0.5966716821200916 0.7250954771553023\n",
      "0.5887728993796847 0.7374054106582334\n",
      "0.5951413645076097 0.7468276449082581\n",
      "0.5881553617648668 0.7633095448029433\n",
      "0.57466977090579 0.7899097813325713\n",
      "0.583882314406162 0.800700621078346\n",
      "0.5948417190920834 0.8108609179725353\n",
      "0.6118910539567901 0.8106254541772369\n",
      "0.6377280754933884 0.7923955289027994\n",
      "0.639582946257374 0.8128031456332272\n",
      "0.6407258411572475 0.8434395602973844\n",
      "0.6380905777790898 0.8979453776960673\n",
      "0.6427986606218588 0.9557986803515324\n",
      "0.6557415620280942 0.9713823241630476\n",
      "0.6547734414381697 1.270901343842741\n"
     ]
    }
   ],
   "source": [
    "verified = []\n",
    "ratings = []\n",
    "    \n",
    "for d in dataset:\n",
    "    \n",
    "    if d['verified_purchase'] is 'Y':\n",
    "        verified.append(1)\n",
    "    else:\n",
    "        verified.append(0)\n",
    "    ratings.append(d['star_rating'])\n",
    "    \n",
    "X = [[1,d] for d in verified]\n",
    "y = [d for d in ratings]\n",
    "\n",
    "N = len(dataset)\n",
    "traindata_fractions = [0.05*i for i in range(1,20)]\n",
    "splits = [int(N*f) for f in traindata_fractions]\n",
    "\n",
    "test_mses = []\n",
    "train_mses = []\n",
    "\n",
    "for split in splits:\n",
    "    \n",
    "    X_train = X[:split]\n",
    "    y_train = y[:split]\n",
    "    X_test = X[split:]\n",
    "    y_test = y[split:]\n",
    "    \n",
    "    theta,residuals,rank,s = numpy.linalg.lstsq(X_train, y_train)\n",
    "    mse_train = numpy.sum(residuals/len(y_train))\n",
    "    mse_test = calc_mse(X_test, y_test, theta)\n",
    "    \n",
    "    print (mse_train, mse_test)\n",
    "    \n",
    "    test_mses.append(mse_test)\n",
    "    train_mses.append(mse_train)"
   ]
  },
  {
   "cell_type": "markdown",
   "metadata": {},
   "source": [
    "## (7) Train and Test Error as function of Train Data Size\n",
    "\n",
    "As train data size increases, train error is maintained between 0.6 and 0.7, but test error increases from 0.7 to 1.2. This is likely due to the fact that the dataset has not been shuffled prior to splitting into train and test datasets."
   ]
  },
  {
   "cell_type": "code",
   "execution_count": 137,
   "metadata": {},
   "outputs": [
    {
     "data": {
      "image/png": "[encoded data removed]",
      "text/plain": [
       "<matplotlib.figure.Figure at 0x7f55e4c0df28>"
      ]
     },
     "metadata": {},
     "output_type": "display_data"
    }
   ],
   "source": [
    "import matplotlib\n",
    "import matplotlib.pyplot as plt\n",
    "\n",
    "plt.figure(figsize=(10,7))\n",
    "\n",
    "plt.xlabel('Train Data Fraction (%)')\n",
    "plt.title('MSE (Train and Test)')\n",
    "plt.ylim(0,1.5)\n",
    "plt.grid(True)\n",
    "\n",
    "plt.plot(traindata_fractions, test_mses, label='Test MSE',)\n",
    "plt.plot(traindata_fractions, train_mses, label='Train MSE',)\n",
    "\n",
    "plt.legend()\n",
    "plt.show()"
   ]
  },
  {
   "cell_type": "markdown",
   "metadata": {},
   "source": [
    "### Rerun experiment with shuffled dataset"
   ]
  },
  {
   "cell_type": "code",
   "execution_count": 138,
   "metadata": {
    "collapsed": true
   },
   "outputs": [],
   "source": [
    "path = \"amazon_reviews_us_Gift_Card_v1_00.tsv\"\n",
    "dataset = extract_data(path)\n",
    "random.shuffle(dataset)"
   ]
  },
  {
   "cell_type": "code",
   "execution_count": 139,
   "metadata": {},
   "outputs": [
    {
     "name": "stderr",
     "output_type": "stream",
     "text": [
      "/home/lukeliem/miniconda3/lib/python3.6/site-packages/ipykernel/__main__.py:29: FutureWarning: `rcond` parameter will change to the default of machine precision times ``max(M, N)`` where M and N are the input matrix dimensions.\n",
      "To use the future default and silence this warning we advise to pass `rcond=None`, to keep using the old, explicitly pass `rcond=-1`.\n"
     ]
    },
    {
     "name": "stdout",
     "output_type": "stream",
     "text": [
      "0.720588139308838 0.6840579830307647\n",
      "0.715611047585481 0.6822179725799437\n",
      "0.6892187014458216 0.6848506807998394\n",
      "0.6903579052548512 0.684358190357688\n",
      "0.6901446230678507 0.6839644011182304\n",
      "0.6825286449045777 0.686742751421079\n",
      "0.6749779124408092 0.6911470470574455\n",
      "0.6790988476869942 0.6897376314220678\n",
      "0.6841529555206305 0.6865608068005906\n",
      "0.6802723901573082 0.6906865239275276\n",
      "0.6794430854907546 0.6928660285246062\n",
      "0.6824611448189933 0.6900073546523573\n",
      "0.6829423938648116 0.6901944489167364\n",
      "0.6845603912715954 0.6876211777960245\n",
      "0.6836410804631466 0.6909869279749952\n",
      "0.6842185978203469 0.6905152541477338\n",
      "0.6858334262128104 0.6834624701425727\n",
      "0.68753935343354 0.6669323825330008\n",
      "0.6859921133976677 0.675697705480562\n"
     ]
    }
   ],
   "source": [
    "verified = []\n",
    "ratings = []\n",
    "    \n",
    "for d in dataset:\n",
    "    \n",
    "    if d['verified_purchase'] is 'Y':\n",
    "        verified.append(1)\n",
    "    else:\n",
    "        verified.append(0)\n",
    "    ratings.append(d['star_rating'])\n",
    "    \n",
    "X = [[1,d] for d in verified]\n",
    "y = [d for d in ratings]\n",
    "\n",
    "N = len(dataset)\n",
    "traindata_fractions = [0.05*i for i in range(1,20)]\n",
    "splits = [int(N*f) for f in traindata_fractions]\n",
    "\n",
    "test_mses = []\n",
    "train_mses = []\n",
    "\n",
    "for split in splits:\n",
    "    \n",
    "    X_train = X[:split]\n",
    "    y_train = y[:split]\n",
    "    X_test = X[split:]\n",
    "    y_test = y[split:]\n",
    "    \n",
    "    theta,residuals,rank,s = numpy.linalg.lstsq(X_train, y_train)\n",
    "    mse_train = numpy.sum(residuals/len(y_train))\n",
    "    mse_test = calc_mse(X_test, y_test, theta)\n",
    "    \n",
    "    print (mse_train, mse_test)\n",
    "    \n",
    "    test_mses.append(mse_test)\n",
    "    train_mses.append(mse_train)"
   ]
  },
  {
   "cell_type": "code",
   "execution_count": 140,
   "metadata": {},
   "outputs": [
    {
     "data": {
      "image/png": "[encoded data removed]",
      "text/plain": [
       "<matplotlib.figure.Figure at 0x7f55e2704a58>"
      ]
     },
     "metadata": {},
     "output_type": "display_data"
    }
   ],
   "source": [
    "import matplotlib\n",
    "import matplotlib.pyplot as plt\n",
    "\n",
    "plt.figure(figsize=(10,7))\n",
    "\n",
    "plt.xlabel('Train Data Fraction (%)')\n",
    "plt.title('MSE (Train and Test)')\n",
    "plt.ylim(0,1.0)\n",
    "plt.grid(True)\n",
    "\n",
    "plt.plot(traindata_fractions, test_mses, label='Test MSE',)\n",
    "plt.plot(traindata_fractions, train_mses, label='Train MSE',)\n",
    "\n",
    "plt.legend()\n",
    "plt.show()"
   ]
  },
  {
   "cell_type": "code",
   "execution_count": 141,
   "metadata": {
    "collapsed": true
   },
   "outputs": [],
   "source": [
    "from sklearn import linear_model"
   ]
  },
  {
   "cell_type": "code",
   "execution_count": 142,
   "metadata": {
    "collapsed": true
   },
   "outputs": [],
   "source": [
    "path = \"amazon_reviews_us_Gift_Card_v1_00.tsv\"\n",
    "dataset = extract_data(path)"
   ]
  },
  {
   "cell_type": "code",
   "execution_count": 143,
   "metadata": {
    "collapsed": true
   },
   "outputs": [],
   "source": [
    "verified = []\n",
    "review_lengths = []\n",
    "ratings = []\n",
    "\n",
    "for d in dataset:\n",
    "    \n",
    "    if d['verified_purchase'] is 'Y':\n",
    "        verified.append(1)\n",
    "    else:\n",
    "        verified.append(0)\n",
    "    \n",
    "    review_lengths.append(len(d['review_body']))\n",
    "    ratings.append(d['star_rating'])\n"
   ]
  },
  {
   "cell_type": "code",
   "execution_count": 144,
   "metadata": {
    "collapsed": true
   },
   "outputs": [],
   "source": [
    "X = [[1,x1,x2] for (x1,x2) in zip(ratings,review_lengths)]\n",
    "y = [d for d in verified]"
   ]
  },
  {
   "cell_type": "code",
   "execution_count": 145,
   "metadata": {},
   "outputs": [
    {
     "data": {
      "text/plain": [
       "(14909, 134177, 14909, 134177)"
      ]
     },
     "execution_count": 145,
     "metadata": {},
     "output_type": "execute_result"
    }
   ],
   "source": [
    "N = len(dataset)\n",
    "\n",
    "split = N*9//10  # 90-10 train-test split\n",
    "\n",
    "X_train = X[:split]\n",
    "y_train = y[:split]\n",
    "X_test= X[split:]\n",
    "y_test = y[split:]\n",
    "\n",
    "len(X_test), len(X_train),len(y_test), len(y_train)"
   ]
  },
  {
   "cell_type": "code",
   "execution_count": 146,
   "metadata": {},
   "outputs": [
    {
     "name": "stderr",
     "output_type": "stream",
     "text": [
      "/home/lukeliem/miniconda3/lib/python3.6/site-packages/sklearn/linear_model/logistic.py:432: FutureWarning: Default solver will be changed to 'lbfgs' in 0.22. Specify a solver to silence this warning.\n",
      "  FutureWarning)\n"
     ]
    },
    {
     "data": {
      "text/plain": [
       "LogisticRegression(C=1.0, class_weight=None, dual=False, fit_intercept=True,\n",
       "                   intercept_scaling=1, l1_ratio=None, max_iter=100,\n",
       "                   multi_class='warn', n_jobs=None, penalty='l2',\n",
       "                   random_state=None, solver='warn', tol=0.0001, verbose=0,\n",
       "                   warm_start=False)"
      ]
     },
     "execution_count": 146,
     "metadata": {},
     "output_type": "execute_result"
    }
   ],
   "source": [
    "model = linear_model.LogisticRegression()\n",
    "model.fit(X_train, y_train)"
   ]
  },
  {
   "cell_type": "markdown",
   "metadata": {},
   "source": [
    "## (8) Logistic Regression\n",
    "\n",
    "The logistic regressor has a training accuracy of 95%, but it attains a test accuracy of only 56%. This is because of the difference in prevalance of \"verified purchase\" in the two datasets. 91% of the overall dataset (training+test) have positive labels (verified reviews), while only 56% of the test dataset have positive labels."
   ]
  },
  {
   "cell_type": "code",
   "execution_count": 147,
   "metadata": {},
   "outputs": [
    {
     "data": {
      "text/plain": [
       "0.9516161488183519"
      ]
     },
     "execution_count": 147,
     "metadata": {},
     "output_type": "execute_result"
    }
   ],
   "source": [
    "train_predictions = model.predict(X_train)\n",
    "correct_trainPredictions = train_predictions == y_train\n",
    "\n",
    "sum(correct_trainPredictions) / len(correct_trainPredictions)"
   ]
  },
  {
   "cell_type": "code",
   "execution_count": 148,
   "metadata": {},
   "outputs": [
    {
     "data": {
      "text/plain": [
       "0.5589241397813401"
      ]
     },
     "execution_count": 148,
     "metadata": {},
     "output_type": "execute_result"
    }
   ],
   "source": [
    "test_predictions = model.predict(X_test)\n",
    "correct_testPredictions = test_predictions == y_test\n",
    "\n",
    "sum(correct_testPredictions) / len(correct_testPredictions)"
   ]
  },
  {
   "cell_type": "code",
   "execution_count": 149,
   "metadata": {},
   "outputs": [
    {
     "data": {
      "text/plain": [
       "0.9125068752263794"
      ]
     },
     "execution_count": 149,
     "metadata": {},
     "output_type": "execute_result"
    }
   ],
   "source": [
    "sum(y) / len(y)"
   ]
  },
  {
   "cell_type": "code",
   "execution_count": 150,
   "metadata": {},
   "outputs": [
    {
     "data": {
      "text/plain": [
       "0.5586558454624724"
      ]
     },
     "execution_count": 150,
     "metadata": {},
     "output_type": "execute_result"
    }
   ],
   "source": [
    "sum(y_test) / len(y_test)"
   ]
  },
  {
   "cell_type": "code",
   "execution_count": 151,
   "metadata": {
    "collapsed": true
   },
   "outputs": [],
   "source": [
    "path = \"amazon_reviews_us_Gift_Card_v1_00.tsv\"\n",
    "dataset = extract_data(path)\n",
    "random.shuffle(dataset)"
   ]
  },
  {
   "cell_type": "code",
   "execution_count": 154,
   "metadata": {
    "collapsed": true
   },
   "outputs": [],
   "source": [
    "verified = []\n",
    "helpful_votes = []\n",
    "total_votes = []\n",
    "ratings = []\n",
    "\n",
    "for d in dataset:\n",
    "    \n",
    "    if d['verified_purchase'] is 'Y':\n",
    "        verified.append(1)\n",
    "    else:\n",
    "        verified.append(0)\n",
    "    \n",
    "    helpful_votes.append(d['helpful_votes'])\n",
    "    total_votes.append(d['total_votes'])\n",
    "    ratings.append(d['star_rating'])"
   ]
  },
  {
   "cell_type": "code",
   "execution_count": 155,
   "metadata": {
    "collapsed": true
   },
   "outputs": [],
   "source": [
    "X = [[1,x1,x2,x3] for (x1,x2,x3) in zip(ratings,helpful_votes,total_votes )]\n",
    "y = [d for d in verified]"
   ]
  },
  {
   "cell_type": "code",
   "execution_count": 156,
   "metadata": {},
   "outputs": [
    {
     "data": {
      "text/plain": [
       "(14909, 134177, 14909, 134177)"
      ]
     },
     "execution_count": 156,
     "metadata": {},
     "output_type": "execute_result"
    }
   ],
   "source": [
    "N = len(dataset)\n",
    "\n",
    "split = N*9//10  # 90-10 train-test split\n",
    "\n",
    "X_train = X[:split]\n",
    "y_train = y[:split]\n",
    "X_test= X[split:]\n",
    "y_test = y[split:]\n",
    "\n",
    "len(X_test), len(X_train),len(y_test), len(y_train)"
   ]
  },
  {
   "cell_type": "code",
   "execution_count": 157,
   "metadata": {},
   "outputs": [
    {
     "name": "stderr",
     "output_type": "stream",
     "text": [
      "/home/lukeliem/miniconda3/lib/python3.6/site-packages/sklearn/linear_model/logistic.py:432: FutureWarning: Default solver will be changed to 'lbfgs' in 0.22. Specify a solver to silence this warning.\n",
      "  FutureWarning)\n"
     ]
    },
    {
     "data": {
      "text/plain": [
       "LogisticRegression(C=1.0, class_weight=None, dual=False, fit_intercept=True,\n",
       "                   intercept_scaling=1, l1_ratio=None, max_iter=100,\n",
       "                   multi_class='warn', n_jobs=None, penalty='l2',\n",
       "                   random_state=None, solver='warn', tol=0.0001, verbose=0,\n",
       "                   warm_start=False)"
      ]
     },
     "execution_count": 157,
     "metadata": {},
     "output_type": "execute_result"
    }
   ],
   "source": [
    "model = linear_model.LogisticRegression()\n",
    "model.fit(X_train, y_train)"
   ]
  },
  {
   "cell_type": "markdown",
   "metadata": {},
   "source": [
    "## (9) More accurate predictor\n",
    "\n",
    "I have built a 3-feature predictor using ratings, helpful_votes and total_votes. It has test and training accuracy of 91%. "
   ]
  },
  {
   "cell_type": "code",
   "execution_count": 158,
   "metadata": {},
   "outputs": [
    {
     "data": {
      "text/plain": [
       "0.9122006841505131"
      ]
     },
     "execution_count": 158,
     "metadata": {},
     "output_type": "execute_result"
    }
   ],
   "source": [
    "test_predictions = model.predict(X_test)\n",
    "correct_testPredictions = test_predictions == y_test\n",
    "\n",
    "sum(correct_testPredictions) / len(correct_testPredictions)"
   ]
  },
  {
   "cell_type": "code",
   "execution_count": 159,
   "metadata": {},
   "outputs": [
    {
     "data": {
      "text/plain": [
       "0.9126452372612296"
      ]
     },
     "execution_count": 159,
     "metadata": {},
     "output_type": "execute_result"
    }
   ],
   "source": [
    "train_predictions = model.predict(X_train)\n",
    "correct_trainPredictions = train_predictions == y_train\n",
    "\n",
    "sum(correct_trainPredictions) / len(correct_trainPredictions)"
   ]
  },
  {
   "cell_type": "code",
   "execution_count": null,
   "metadata": {
    "collapsed": true
   },
   "outputs": [],
   "source": []
  }
 ],
 "metadata": {
  "kernelspec": {
   "display_name": "Python [default]",
   "language": "python",
   "name": "python3"
  },
  "language_info": {
   "codemirror_mode": {
    "name": "ipython",
    "version": 3
   },
   "file_extension": ".py",
   "mimetype": "text/x-python",
   "name": "python",
   "nbconvert_exporter": "python",
   "pygments_lexer": "ipython3",
   "version": "3.6.4"
  }
 },
 "nbformat": 4,
 "nbformat_minor": 2
}
