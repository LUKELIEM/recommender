{
 "cells": [
  {
   "cell_type": "code",
   "execution_count": 1,
   "metadata": {},
   "outputs": [],
   "source": [
    "import numpy\n",
    "from urllib.request import urlopen  # Read data from a webpage like a file\n",
    "import scipy.optimize  # optimization\n",
    "import random"
   ]
  },
  {
   "cell_type": "code",
   "execution_count": 2,
   "metadata": {},
   "outputs": [],
   "source": [
    "def parseData(fname):\n",
    "  for l in open(fname):\n",
    "    yield eval(l)\n",
    "\n",
    "def parseDataFromURL(fname):\n",
    "  for l in urlopen(fname):\n",
    "    yield eval(l)"
   ]
  },
  {
   "cell_type": "code",
   "execution_count": 3,
   "metadata": {},
   "outputs": [
    {
     "name": "stdout",
     "output_type": "stream",
     "text": [
      "Reading data...\n",
      "done\n"
     ]
    }
   ],
   "source": [
    "print(\"Reading data...\")\n",
    "# data = list(parseDataFromURL(\"http://jmcauley.ucsd.edu/cse255/data/beer/beer_50000.json\"))\n",
    "# Save the file to disk first...\n",
    "data = list(parseData(\"beer_50000.json\"))\n",
    "print(\"done\")"
   ]
  },
  {
   "cell_type": "code",
   "execution_count": 9,
   "metadata": {},
   "outputs": [
    {
     "data": {
      "text/plain": [
       "50000"
      ]
     },
     "execution_count": 9,
     "metadata": {},
     "output_type": "execute_result"
    }
   ],
   "source": [
    "len(data)"
   ]
  },
  {
   "cell_type": "code",
   "execution_count": 8,
   "metadata": {},
   "outputs": [
    {
     "data": {
      "text/plain": [
       "{'beer/ABV': 7.7,\n",
       " 'beer/beerId': '64883',\n",
       " 'beer/brewerId': '1075',\n",
       " 'beer/name': 'Cauldron DIPA',\n",
       " 'beer/style': 'American Double / Imperial IPA',\n",
       " 'review/appearance': 4.0,\n",
       " 'review/aroma': 4.5,\n",
       " 'review/overall': 4.0,\n",
       " 'review/palate': 4.0,\n",
       " 'review/taste': 4.5,\n",
       " 'review/text': \"According to the website, the style for the Caldera Cauldron changes every year. The current release is a DIPA, which frankly is the only cauldron I'm familiar with (it was an IPA/DIPA the last time I ordered a cauldron at the horsebrass several years back). In any event... at the Horse Brass yesterday.\\t\\tThe beer pours an orange copper color with good head retention and lacing. The nose is all hoppy IPA goodness, showcasing a huge aroma of dry citrus, pine and sandlewood. The flavor profile replicates the nose pretty closely in this West Coast all the way DIPA. This DIPA is not for the faint of heart and is a bit much even for a hophead like myslf. The finish is quite dry and hoppy, and there's barely enough sweet malt to balance and hold up the avalanche of hoppy bitterness in this beer. Mouthfeel is actually fairly light, with a long, persistentely bitter finish. Drinkability is good, with the alcohol barely noticeable in this well crafted beer. Still, this beer is so hugely hoppy/bitter, it's really hard for me to imagine ordering more than a single glass. Regardless, this is a very impressive beer from the folks at Caldera.\",\n",
       " 'review/timeStruct': {'hour': 18,\n",
       "  'isdst': 0,\n",
       "  'mday': 30,\n",
       "  'min': 53,\n",
       "  'mon': 12,\n",
       "  'sec': 26,\n",
       "  'wday': 3,\n",
       "  'yday': 364,\n",
       "  'year': 2010},\n",
       " 'review/timeUnix': 1293735206,\n",
       " 'user/ageInSeconds': 3581417047,\n",
       " 'user/birthdayRaw': 'Jun 16, 1901',\n",
       " 'user/birthdayUnix': -2163081600,\n",
       " 'user/gender': 'Male',\n",
       " 'user/profileName': 'johnmichaelsen'}"
      ]
     },
     "execution_count": 8,
     "metadata": {},
     "output_type": "execute_result"
    }
   ],
   "source": [
    "data[4]"
   ]
  },
  {
   "cell_type": "code",
   "execution_count": 10,
   "metadata": {},
   "outputs": [],
   "source": [
    "# Pick reviewers aged 80yo or less\n",
    "data1 = [d for d in data if 'user/ageInSeconds' in d and d['user/ageInSeconds'] < 60*60*24*365*80]"
   ]
  },
  {
   "cell_type": "code",
   "execution_count": 11,
   "metadata": {},
   "outputs": [
    {
     "data": {
      "text/plain": [
       "10389"
      ]
     },
     "execution_count": 11,
     "metadata": {},
     "output_type": "execute_result"
    }
   ],
   "source": [
    "len(data1)"
   ]
  },
  {
   "cell_type": "code",
   "execution_count": 12,
   "metadata": {},
   "outputs": [
    {
     "data": {
      "text/plain": [
       "{'beer/ABV': 5.6,\n",
       " 'beer/beerId': '12386',\n",
       " 'beer/brewerId': '1075',\n",
       " 'beer/name': 'Caldera OBF 15',\n",
       " 'beer/style': 'American Pale Lager',\n",
       " 'review/appearance': 4.0,\n",
       " 'review/aroma': 3.0,\n",
       " 'review/overall': 4.0,\n",
       " 'review/palate': 4.0,\n",
       " 'review/taste': 4.0,\n",
       " 'review/text': \"More of a 'dry' than a lager, tasted at the 2002 Oregon Brewers Festival. Orange color, orange flavor in nose. Light malts and fairly aggressively hopped; yet it is not very bitter. Interesting taste, complex and subtle. Light yet flavorful. Mouthfeel is full and round. Finish is clean and smooth. Aftertaste is slightly bitter. Nice beer. Would be a great beer to sip during a hot summer day.\",\n",
       " 'review/timeStruct': {'hour': 6,\n",
       "  'isdst': 0,\n",
       "  'mday': 31,\n",
       "  'min': 25,\n",
       "  'mon': 8,\n",
       "  'sec': 23,\n",
       "  'wday': 6,\n",
       "  'yday': 243,\n",
       "  'year': 2003},\n",
       " 'review/timeUnix': 1062311123,\n",
       " 'user/ageInSeconds': 1782054247,\n",
       " 'user/birthdayRaw': 'Jun 23, 1958',\n",
       " 'user/birthdayUnix': -363718800,\n",
       " 'user/gender': 'Male',\n",
       " 'user/profileName': 'beerguy101'}"
      ]
     },
     "execution_count": 12,
     "metadata": {},
     "output_type": "execute_result"
    }
   ],
   "source": [
    "data1[0]"
   ]
  },
  {
   "cell_type": "code",
   "execution_count": 13,
   "metadata": {},
   "outputs": [],
   "source": [
    "# y_i = theta_0 + theta_1 x age_i\n",
    "#     = [theta_0, theta_1] . [1, age_i]\n",
    "def feature(datum):\n",
    "  feat = [1]\n",
    "  feat.append(datum['user/ageInSeconds'])\n",
    "  return feat"
   ]
  },
  {
   "cell_type": "code",
   "execution_count": 18,
   "metadata": {},
   "outputs": [],
   "source": [
    "X = [feature(d) for d in data1]\n",
    "y = [d['review/overall'] for d in data1]"
   ]
  },
  {
   "cell_type": "code",
   "execution_count": 15,
   "metadata": {},
   "outputs": [
    {
     "data": {
      "text/plain": [
       "[[1, 1782054247],\n",
       " [1, 983372647],\n",
       " [1, 1263823447],\n",
       " [1, 893171047],\n",
       " [1, 958748647],\n",
       " [1, 1137506648],\n",
       " [1, 1018364647],\n",
       " [1, 1036073047],\n",
       " [1, 1239462247],\n",
       " [1, 1204383847]]"
      ]
     },
     "execution_count": 15,
     "metadata": {},
     "output_type": "execute_result"
    }
   ],
   "source": [
    "X[:10]"
   ]
  },
  {
   "cell_type": "code",
   "execution_count": 19,
   "metadata": {},
   "outputs": [
    {
     "data": {
      "text/plain": [
       "[4.0, 4.0, 4.5, 4.5, 4.5, 4.0, 4.0, 2.5, 4.5, 4.5]"
      ]
     },
     "execution_count": 19,
     "metadata": {},
     "output_type": "execute_result"
    }
   ],
   "source": [
    "y[:10]"
   ]
  },
  {
   "cell_type": "code",
   "execution_count": 20,
   "metadata": {},
   "outputs": [
    {
     "name": "stderr",
     "output_type": "stream",
     "text": [
      "/home/lukeliem/miniconda3/lib/python3.6/site-packages/ipykernel/__main__.py:1: FutureWarning: `rcond` parameter will change to the default of machine precision times ``max(M, N)`` where M and N are the input matrix dimensions.\n",
      "To use the future default and silence this warning we advise to pass `rcond=None`, to keep using the old, explicitly pass `rcond=-1`.\n",
      "  if __name__ == '__main__':\n"
     ]
    }
   ],
   "source": [
    "theta,residuals,rank,s = numpy.linalg.lstsq(X, y)"
   ]
  },
  {
   "cell_type": "code",
   "execution_count": 21,
   "metadata": {},
   "outputs": [
    {
     "data": {
      "text/plain": [
       "array([ 4.09478473e+00, -1.58610537e-10])"
      ]
     },
     "execution_count": 21,
     "metadata": {},
     "output_type": "execute_result"
    }
   ],
   "source": [
    "theta"
   ]
  },
  {
   "cell_type": "code",
   "execution_count": 33,
   "metadata": {},
   "outputs": [],
   "source": [
    "# y_i = theta_0 + theta_1 x ABV\n",
    "#     = [theta_0, theta_1] . [1, ABV_i]\n",
    "def feature(datum):\n",
    "  feat = [1]\n",
    "  feat.append(datum['beer/ABV'])\n",
    "  return feat"
   ]
  },
  {
   "cell_type": "code",
   "execution_count": 34,
   "metadata": {},
   "outputs": [
    {
     "name": "stderr",
     "output_type": "stream",
     "text": [
      "/home/lukeliem/miniconda3/lib/python3.6/site-packages/ipykernel/__main__.py:3: FutureWarning: `rcond` parameter will change to the default of machine precision times ``max(M, N)`` where M and N are the input matrix dimensions.\n",
      "To use the future default and silence this warning we advise to pass `rcond=None`, to keep using the old, explicitly pass `rcond=-1`.\n",
      "  app.launch_new_instance()\n"
     ]
    }
   ],
   "source": [
    "X = [feature(d) for d in data1]\n",
    "y = [d['review/overall'] for d in data1]\n",
    "theta,residuals,rank,s = numpy.linalg.lstsq(X, y)"
   ]
  },
  {
   "cell_type": "code",
   "execution_count": 35,
   "metadata": {},
   "outputs": [
    {
     "data": {
      "text/plain": [
       "array([3.4324085 , 0.06434933])"
      ]
     },
     "execution_count": 35,
     "metadata": {},
     "output_type": "execute_result"
    }
   ],
   "source": [
    "theta"
   ]
  },
  {
   "cell_type": "code",
   "execution_count": 36,
   "metadata": {},
   "outputs": [
    {
     "data": {
      "text/plain": [
       "array([0.46916258])"
      ]
     },
     "execution_count": 36,
     "metadata": {},
     "output_type": "execute_result"
    }
   ],
   "source": [
    "# MSE\n",
    "residuals/len(data1)"
   ]
  },
  {
   "cell_type": "code",
   "execution_count": 27,
   "metadata": {},
   "outputs": [
    {
     "data": {
      "text/plain": [
       "matrix([[3.4324085 ],\n",
       "        [0.06434933]])"
      ]
     },
     "execution_count": 27,
     "metadata": {},
     "output_type": "execute_result"
    }
   ],
   "source": [
    "X = numpy.matrix(X)\n",
    "y = numpy.matrix(y)\n",
    "numpy.linalg.inv(X.T * X) * X.T * y.T"
   ]
  },
  {
   "cell_type": "code",
   "execution_count": 28,
   "metadata": {},
   "outputs": [],
   "source": [
    "# y_i = theta_0 + theta_1 x ABV_i + theta_2 x ABV_i**2\n",
    "#     = [theta_0, theta_1, theta_2] . [1, ABV_i, ABV_i**2]\n",
    "def feature(datum):\n",
    "  feat = [1]\n",
    "  feat.append(datum['beer/ABV'])\n",
    "  feat.append(datum['beer/ABV']**2)\n",
    "  return feat"
   ]
  },
  {
   "cell_type": "code",
   "execution_count": 29,
   "metadata": {},
   "outputs": [
    {
     "name": "stderr",
     "output_type": "stream",
     "text": [
      "/home/lukeliem/miniconda3/lib/python3.6/site-packages/ipykernel/__main__.py:3: FutureWarning: `rcond` parameter will change to the default of machine precision times ``max(M, N)`` where M and N are the input matrix dimensions.\n",
      "To use the future default and silence this warning we advise to pass `rcond=None`, to keep using the old, explicitly pass `rcond=-1`.\n",
      "  app.launch_new_instance()\n"
     ]
    }
   ],
   "source": [
    "X = [feature(d) for d in data1]\n",
    "y = [d['review/overall'] for d in data1]\n",
    "theta,residuals,rank,s = numpy.linalg.lstsq(X, y)"
   ]
  },
  {
   "cell_type": "code",
   "execution_count": 30,
   "metadata": {},
   "outputs": [
    {
     "data": {
      "text/plain": [
       "array([ 3.03398592,  0.17131556, -0.00656061])"
      ]
     },
     "execution_count": 30,
     "metadata": {},
     "output_type": "execute_result"
    }
   ],
   "source": [
    "theta"
   ]
  },
  {
   "cell_type": "code",
   "execution_count": 31,
   "metadata": {},
   "outputs": [
    {
     "data": {
      "text/plain": [
       "array([4820.9913367])"
      ]
     },
     "execution_count": 31,
     "metadata": {},
     "output_type": "execute_result"
    }
   ],
   "source": [
    "residuals"
   ]
  },
  {
   "cell_type": "code",
   "execution_count": 32,
   "metadata": {},
   "outputs": [
    {
     "data": {
      "text/plain": [
       "array([0.46404768])"
      ]
     },
     "execution_count": 32,
     "metadata": {},
     "output_type": "execute_result"
    }
   ],
   "source": [
    "# MSE\n",
    "residuals/len(data1)"
   ]
  },
  {
   "cell_type": "code",
   "execution_count": null,
   "metadata": {},
   "outputs": [],
   "source": []
  }
 ],
 "metadata": {
  "kernelspec": {
   "display_name": "Python [conda env:miniconda3]",
   "language": "python",
   "name": "conda-env-miniconda3-py"
  },
  "language_info": {
   "codemirror_mode": {
    "name": "ipython",
    "version": 3
   },
   "file_extension": ".py",
   "mimetype": "text/x-python",
   "name": "python",
   "nbconvert_exporter": "python",
   "pygments_lexer": "ipython3",
   "version": "3.6.4"
  }
 },
 "nbformat": 4,
 "nbformat_minor": 2
}
