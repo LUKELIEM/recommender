{
 "cells": [
  {
   "cell_type": "markdown",
   "metadata": {},
   "source": [
    "# CSE258 HW2\n",
    "## Luke Liem\n",
    "## A53231779"
   ]
  },
  {
   "cell_type": "code",
   "execution_count": 114,
   "metadata": {},
   "outputs": [],
   "source": [
    "from sklearn import linear_model\n",
    "from sklearn.decomposition import PCA\n",
    "import numpy\n",
    "import random"
   ]
  },
  {
   "cell_type": "code",
   "execution_count": 26,
   "metadata": {},
   "outputs": [],
   "source": [
    "f = open(\"5year.arff\", 'r')\n",
    "\n",
    "while not '@data' in f.readline():\n",
    "    pass\n",
    "\n",
    "dataset = []\n",
    "for l in f:\n",
    "    if '?' in l: # Missing entry\n",
    "        continue\n",
    "    l = l.split(',')\n",
    "    values = [1] + [float(x) for x in l]\n",
    "    values[-1] = values[-1] > 0 # Convert to bool\n",
    "    dataset.append(values)"
   ]
  },
  {
   "cell_type": "code",
   "execution_count": 27,
   "metadata": {},
   "outputs": [
    {
     "data": {
      "text/plain": [
       "3031"
      ]
     },
     "execution_count": 27,
     "metadata": {},
     "output_type": "execute_result"
    }
   ],
   "source": [
    "len(dataset)"
   ]
  },
  {
   "cell_type": "code",
   "execution_count": 28,
   "metadata": {},
   "outputs": [
    {
     "data": {
      "text/plain": [
       "[1,\n",
       " 0.099486,\n",
       " 0.59991,\n",
       " 0.37489,\n",
       " 1.6529,\n",
       " 19.036,\n",
       " 0.21084,\n",
       " 0.12395,\n",
       " 0.6669,\n",
       " 1.0972,\n",
       " 0.40009,\n",
       " 0.12395,\n",
       " 0.21587,\n",
       " 0.082929,\n",
       " 0.12395,\n",
       " 1638.2,\n",
       " 0.22281,\n",
       " 1.6669,\n",
       " 0.12395,\n",
       " 0.076897,\n",
       " 66.783,\n",
       " 1.2422,\n",
       " 0.13452,\n",
       " 0.061722,\n",
       " 0.2644,\n",
       " 0.40009,\n",
       " 0.18204,\n",
       " 0.91571,\n",
       " 7.3601,\n",
       " 4.2136,\n",
       " 0.37159,\n",
       " 0.076897,\n",
       " 142.66,\n",
       " 2.5586,\n",
       " 0.22424,\n",
       " 0.13452,\n",
       " 1.6118,\n",
       " 25.411,\n",
       " 0.42583,\n",
       " 0.08346,\n",
       " 0.006603,\n",
       " 0.13673,\n",
       " 0.08346,\n",
       " 214.06,\n",
       " 147.27,\n",
       " 0.33734,\n",
       " 1.1393,\n",
       " 73.273,\n",
       " 0.1248,\n",
       " 0.077428,\n",
       " 1.582,\n",
       " 0.57417,\n",
       " 0.39084,\n",
       " 7.8547,\n",
       " 8.3601,\n",
       " 6131.0,\n",
       " 0.088581,\n",
       " 0.24866,\n",
       " 0.91142,\n",
       " 0.064344,\n",
       " 5.4655,\n",
       " 2.4784,\n",
       " 130.02,\n",
       " 2.8072,\n",
       " 31.645,\n",
       " False]"
      ]
     },
     "execution_count": 28,
     "metadata": {},
     "output_type": "execute_result"
    }
   ],
   "source": [
    "dataset[2]"
   ]
  },
  {
   "cell_type": "code",
   "execution_count": 29,
   "metadata": {},
   "outputs": [],
   "source": [
    "X = [values[:-1] for values in dataset]\n",
    "y = [values[-1] for values in dataset]"
   ]
  },
  {
   "cell_type": "markdown",
   "metadata": {},
   "source": [
    "### Number of True Labels - 102 out of 3031 (3.36%)"
   ]
  },
  {
   "cell_type": "code",
   "execution_count": 30,
   "metadata": {},
   "outputs": [
    {
     "data": {
      "text/plain": [
       "102"
      ]
     },
     "execution_count": 30,
     "metadata": {},
     "output_type": "execute_result"
    }
   ],
   "source": [
    "sum(y)"
   ]
  },
  {
   "cell_type": "code",
   "execution_count": 31,
   "metadata": {},
   "outputs": [
    {
     "name": "stderr",
     "output_type": "stream",
     "text": [
      "/home/lukeliem/miniconda3/lib/python3.6/site-packages/sklearn/linear_model/logistic.py:432: FutureWarning: Default solver will be changed to 'lbfgs' in 0.22. Specify a solver to silence this warning.\n",
      "  FutureWarning)\n",
      "/home/lukeliem/miniconda3/lib/python3.6/site-packages/sklearn/svm/base.py:929: ConvergenceWarning: Liblinear failed to converge, increase the number of iterations.\n",
      "  \"the number of iterations.\", ConvergenceWarning)\n"
     ]
    }
   ],
   "source": [
    "model = linear_model.LogisticRegression(C=1.0)\n",
    "model.fit(X, y)\n",
    "\n",
    "predictions = model.predict(X)"
   ]
  },
  {
   "cell_type": "code",
   "execution_count": 32,
   "metadata": {},
   "outputs": [],
   "source": [
    "def calc_metrics(predictions, labels):\n",
    "    # Calculate True positives, false positives, etc.\n",
    "\n",
    "    TP_ = numpy.logical_and(predictions, labels)\n",
    "    FP_ = numpy.logical_and(predictions, numpy.logical_not(labels))\n",
    "    TN_ = numpy.logical_and(numpy.logical_not(predictions), numpy.logical_not(labels))\n",
    "    FN_ = numpy.logical_and(numpy.logical_not(predictions), labels)\n",
    "\n",
    "    TP=sum(TP_)\n",
    "    FP=sum(FP_)\n",
    "    TN=sum(TN_)\n",
    "    FN=sum(FN_)\n",
    "    \n",
    "    return TP,FP,TN,FN\n",
    "\n",
    "def calc_error_rates(TP, FP, TN, FN):\n",
    "    # Calculate accuracy, TPR, TNR and BER\n",
    "    accuracy = (TP+TN)/(TP+TN+FP+FN)\n",
    "    TPR = TP/(TP+FN)\n",
    "    TNR = TN/(TN+FP)\n",
    "    BER = 1.0 - (TPR+TNR)/2\n",
    "    \n",
    "    return accuracy, TPR, TNR, BER"
   ]
  },
  {
   "cell_type": "code",
   "execution_count": 33,
   "metadata": {},
   "outputs": [
    {
     "name": "stdout",
     "output_type": "stream",
     "text": [
      "4 4 2925 98\n"
     ]
    }
   ],
   "source": [
    "TP,FP,TN,FN = calc_metrics(predictions,y)\n",
    "\n",
    "print(TP,FP,TN,FN)"
   ]
  },
  {
   "cell_type": "markdown",
   "metadata": {},
   "source": [
    "## (1) Accuracy = 0.966, BER = 0.481\n",
    "\n",
    "The model is mostly predicting Negative, as evidenced by the high TNR and very very low TPR. Doing so allows it to achieve a high classfication accuracy of 0.966, but at the expense of a high BER of 0.48."
   ]
  },
  {
   "cell_type": "code",
   "execution_count": 34,
   "metadata": {},
   "outputs": [
    {
     "name": "stdout",
     "output_type": "stream",
     "text": [
      "Accuracy: 0.9663477400197954\n",
      "TPR: 0.0392156862745098\n",
      "TNR: 0.99863434619324\n",
      "BER: 0.4810749837661251\n"
     ]
    }
   ],
   "source": [
    "accuracy, TPR, TNR, BER = calc_error_rates(TP, FP, TN, FN)\n",
    "\n",
    "print(\"Accuracy: {}\".format(accuracy))\n",
    "print(\"TPR: {}\".format(TPR))\n",
    "print(\"TNR: {}\".format(TNR))\n",
    "print(\"BER: {}\".format(BER))"
   ]
  },
  {
   "cell_type": "markdown",
   "metadata": {},
   "source": [
    "### Shuffle the dataset"
   ]
  },
  {
   "cell_type": "code",
   "execution_count": 35,
   "metadata": {},
   "outputs": [
    {
     "name": "stdout",
     "output_type": "stream",
     "text": [
      "3031 1515 2272\n"
     ]
    }
   ],
   "source": [
    "random.shuffle(dataset)\n",
    "\n",
    "X = [values[:-1] for values in dataset]\n",
    "y = [values[-1] for values in dataset]\n",
    "\n",
    "N = len(dataset)\n",
    "Ntrain = N*50//100  # 50-25-25 train-valid-test split\n",
    "Nvalid = N*25//100 \n",
    "\n",
    "print(N, Ntrain, Ntrain+Nvalid)"
   ]
  },
  {
   "cell_type": "code",
   "execution_count": 36,
   "metadata": {},
   "outputs": [],
   "source": [
    "Xtrain = X[:Ntrain]\n",
    "Xvalid = X[Ntrain:Ntrain+Nvalid]\n",
    "Xtest = X[Ntrain+Nvalid:]\n",
    "\n",
    "ytrain = y[:Ntrain]\n",
    "yvalid = y[Ntrain:Ntrain+Nvalid]\n",
    "ytest = y[Ntrain+Nvalid:]"
   ]
  },
  {
   "cell_type": "code",
   "execution_count": 37,
   "metadata": {},
   "outputs": [
    {
     "data": {
      "text/plain": [
       "1515"
      ]
     },
     "execution_count": 37,
     "metadata": {},
     "output_type": "execute_result"
    }
   ],
   "source": [
    "len(ytrain)"
   ]
  },
  {
   "cell_type": "markdown",
   "metadata": {},
   "source": [
    "### Train model on the training set"
   ]
  },
  {
   "cell_type": "code",
   "execution_count": 38,
   "metadata": {},
   "outputs": [
    {
     "name": "stderr",
     "output_type": "stream",
     "text": [
      "/home/lukeliem/miniconda3/lib/python3.6/site-packages/sklearn/linear_model/logistic.py:432: FutureWarning: Default solver will be changed to 'lbfgs' in 0.22. Specify a solver to silence this warning.\n",
      "  FutureWarning)\n",
      "/home/lukeliem/miniconda3/lib/python3.6/site-packages/sklearn/svm/base.py:929: ConvergenceWarning: Liblinear failed to converge, increase the number of iterations.\n",
      "  \"the number of iterations.\", ConvergenceWarning)\n"
     ]
    },
    {
     "data": {
      "text/plain": [
       "LogisticRegression(C=1.0, class_weight='balanced', dual=False,\n",
       "                   fit_intercept=True, intercept_scaling=1, l1_ratio=None,\n",
       "                   max_iter=100, multi_class='warn', n_jobs=None, penalty='l2',\n",
       "                   random_state=None, solver='warn', tol=0.0001, verbose=0,\n",
       "                   warm_start=False)"
      ]
     },
     "execution_count": 38,
     "metadata": {},
     "output_type": "execute_result"
    }
   ],
   "source": [
    "model = linear_model.LogisticRegression(C=1.0, class_weight='balanced')\n",
    "model.fit(Xtrain, ytrain)\n"
   ]
  },
  {
   "cell_type": "markdown",
   "metadata": {},
   "source": [
    "### Number of True Labels in Training set - 53 out of 1515 (3.5%)"
   ]
  },
  {
   "cell_type": "code",
   "execution_count": 40,
   "metadata": {},
   "outputs": [
    {
     "data": {
      "text/plain": [
       "53"
      ]
     },
     "execution_count": 40,
     "metadata": {},
     "output_type": "execute_result"
    }
   ],
   "source": [
    "sum(ytrain)"
   ]
  },
  {
   "cell_type": "markdown",
   "metadata": {},
   "source": [
    "## (3) Accuracy and BER of Training/Validation/Test Datasets\n",
    "\n",
    "### Training \n",
    "Accuracy: 0.7570957095709571  \n",
    "TPR: 0.7169811320754716  \n",
    "TNR: 0.7585499316005472  \n",
    "BER: 0.2622344681619906  \n",
    "\n",
    "### Validation \n",
    "Accuracy: 0.7807133421400264  \n",
    "TPR: 0.8461538461538461  \n",
    "TNR: 0.7783857729138167  \n",
    "BER: 0.18773019046616857  \n",
    "\n",
    "### Test\n",
    "Accuracy: 0.764163372859025  \n",
    "TPR: 0.6521739130434783  \n",
    "TNR: 0.7676630434782609  \n",
    "BER: 0.2900815217391304  "
   ]
  },
  {
   "cell_type": "code",
   "execution_count": 41,
   "metadata": {},
   "outputs": [],
   "source": [
    "train_pred = model.predict(Xtrain)\n",
    "valid_pred = model.predict(Xvalid)\n",
    "test_pred = model.predict(Xtest)"
   ]
  },
  {
   "cell_type": "code",
   "execution_count": 42,
   "metadata": {},
   "outputs": [
    {
     "name": "stdout",
     "output_type": "stream",
     "text": [
      "38 353 1109 15\n",
      "Accuracy: 0.7570957095709571\n",
      "TPR: 0.7169811320754716\n",
      "TNR: 0.7585499316005472\n",
      "BER: 0.2622344681619906\n"
     ]
    }
   ],
   "source": [
    "TP,FP,TN,FN = calc_metrics(train_pred,ytrain)\n",
    "print(TP,FP,TN,FN)\n",
    "\n",
    "accuracy, TPR, TNR, BER = calc_error_rates(TP, FP, TN, FN)\n",
    "\n",
    "print(\"Accuracy: {}\".format(accuracy))\n",
    "print(\"TPR: {}\".format(TPR))\n",
    "print(\"TNR: {}\".format(TNR))\n",
    "print(\"BER: {}\".format(BER))"
   ]
  },
  {
   "cell_type": "code",
   "execution_count": 43,
   "metadata": {},
   "outputs": [
    {
     "name": "stdout",
     "output_type": "stream",
     "text": [
      "22 162 569 4\n",
      "Accuracy: 0.7807133421400264\n",
      "TPR: 0.8461538461538461\n",
      "TNR: 0.7783857729138167\n",
      "BER: 0.18773019046616857\n"
     ]
    }
   ],
   "source": [
    "TP,FP,TN,FN = calc_metrics(valid_pred,yvalid)\n",
    "print(TP,FP,TN,FN)\n",
    "\n",
    "accuracy, TPR, TNR, BER = calc_error_rates(TP, FP, TN, FN)\n",
    "\n",
    "print(\"Accuracy: {}\".format(accuracy))\n",
    "print(\"TPR: {}\".format(TPR))\n",
    "print(\"TNR: {}\".format(TNR))\n",
    "print(\"BER: {}\".format(BER))"
   ]
  },
  {
   "cell_type": "code",
   "execution_count": 44,
   "metadata": {},
   "outputs": [
    {
     "name": "stdout",
     "output_type": "stream",
     "text": [
      "15 171 565 8\n",
      "Accuracy: 0.764163372859025\n",
      "TPR: 0.6521739130434783\n",
      "TNR: 0.7676630434782609\n",
      "BER: 0.2900815217391304\n"
     ]
    }
   ],
   "source": [
    "TP,FP,TN,FN = calc_metrics(test_pred,ytest)\n",
    "print(TP,FP,TN,FN)\n",
    "\n",
    "accuracy, TPR, TNR, BER = calc_error_rates(TP, FP, TN, FN)\n",
    "\n",
    "print(\"Accuracy: {}\".format(accuracy))\n",
    "print(\"TPR: {}\".format(TPR))\n",
    "print(\"TNR: {}\".format(TNR))\n",
    "print(\"BER: {}\".format(BER))"
   ]
  },
  {
   "cell_type": "markdown",
   "metadata": {},
   "source": [
    "### Reshuffle dataset"
   ]
  },
  {
   "cell_type": "code",
   "execution_count": 58,
   "metadata": {},
   "outputs": [],
   "source": [
    "random.shuffle(dataset)\n",
    "\n",
    "X = [values[:-1] for values in dataset]\n",
    "y = [values[-1] for values in dataset]\n",
    "\n",
    "N = len(dataset)\n",
    "Ntrain = N*50//100  # 50-25-25 train-valid-test split\n",
    "Nvalid = N*25//100\n",
    "\n",
    "Xtrain = X[:Ntrain]\n",
    "Xvalid = X[Ntrain:Ntrain+Nvalid]\n",
    "Xtest = X[Ntrain+Nvalid:]\n",
    "\n",
    "ytrain = y[:Ntrain]\n",
    "yvalid = y[Ntrain:Ntrain+Nvalid]\n",
    "ytest = y[Ntrain+Nvalid:]"
   ]
  },
  {
   "cell_type": "code",
   "execution_count": 59,
   "metadata": {},
   "outputs": [
    {
     "name": "stderr",
     "output_type": "stream",
     "text": [
      "/home/lukeliem/miniconda3/lib/python3.6/site-packages/sklearn/linear_model/logistic.py:432: FutureWarning: Default solver will be changed to 'lbfgs' in 0.22. Specify a solver to silence this warning.\n",
      "  FutureWarning)\n",
      "/home/lukeliem/miniconda3/lib/python3.6/site-packages/sklearn/linear_model/logistic.py:432: FutureWarning: Default solver will be changed to 'lbfgs' in 0.22. Specify a solver to silence this warning.\n",
      "  FutureWarning)\n"
     ]
    },
    {
     "name": "stdout",
     "output_type": "stream",
     "text": [
      "33 329 1136 17\n",
      "Regularization constant = 0.0001\n",
      "Training\n",
      "Accuracy: 0.7716171617161716\n",
      "TPR: 0.66\n",
      "TNR: 0.7754266211604095\n",
      "BER: 0.2822866894197953\n",
      "22 178 546 11\n",
      "Validation\n",
      "Accuracy: 0.750330250990753\n",
      "TPR: 0.6666666666666666\n",
      "TNR: 0.7541436464088398\n",
      "BER: 0.28959484346224684\n",
      "12 151 589 7\n",
      "Test\n",
      "Accuracy: 0.7918313570487484\n",
      "TPR: 0.631578947368421\n",
      "TNR: 0.7959459459459459\n",
      "BER: 0.28623755334281653\n",
      "36 306 1159 14\n",
      "Regularization constant = 0.001\n",
      "Training\n",
      "Accuracy: 0.7887788778877888\n",
      "TPR: 0.72\n",
      "TNR: 0.7911262798634813\n",
      "BER: 0.24443686006825938\n",
      "27 169 555 6\n",
      "Validation\n",
      "Accuracy: 0.7688243064729194\n",
      "TPR: 0.8181818181818182\n",
      "TNR: 0.7665745856353591\n",
      "BER: 0.20762179809141135\n",
      "14 133 607 5\n",
      "Test\n",
      "Accuracy: 0.8181818181818182\n",
      "TPR: 0.7368421052631579\n",
      "TNR: 0.8202702702702702\n",
      "BER: 0.22144381223328602\n"
     ]
    },
    {
     "name": "stderr",
     "output_type": "stream",
     "text": [
      "/home/lukeliem/miniconda3/lib/python3.6/site-packages/sklearn/linear_model/logistic.py:432: FutureWarning: Default solver will be changed to 'lbfgs' in 0.22. Specify a solver to silence this warning.\n",
      "  FutureWarning)\n",
      "/home/lukeliem/miniconda3/lib/python3.6/site-packages/sklearn/svm/base.py:929: ConvergenceWarning: Liblinear failed to converge, increase the number of iterations.\n",
      "  \"the number of iterations.\", ConvergenceWarning)\n"
     ]
    },
    {
     "name": "stdout",
     "output_type": "stream",
     "text": [
      "33 309 1156 17\n",
      "Regularization constant = 0.01\n",
      "Training\n",
      "Accuracy: 0.7848184818481848\n",
      "TPR: 0.66\n",
      "TNR: 0.7890784982935154\n",
      "BER: 0.2754607508532423\n",
      "26 168 556 7\n",
      "Validation\n",
      "Accuracy: 0.7688243064729194\n",
      "TPR: 0.7878787878787878\n",
      "TNR: 0.7679558011049724\n",
      "BER: 0.22208270550811982\n",
      "13 138 602 6\n",
      "Test\n",
      "Accuracy: 0.8102766798418972\n",
      "TPR: 0.6842105263157895\n",
      "TNR: 0.8135135135135135\n",
      "BER: 0.2511379800853485\n"
     ]
    },
    {
     "name": "stderr",
     "output_type": "stream",
     "text": [
      "/home/lukeliem/miniconda3/lib/python3.6/site-packages/sklearn/linear_model/logistic.py:432: FutureWarning: Default solver will be changed to 'lbfgs' in 0.22. Specify a solver to silence this warning.\n",
      "  FutureWarning)\n",
      "/home/lukeliem/miniconda3/lib/python3.6/site-packages/sklearn/svm/base.py:929: ConvergenceWarning: Liblinear failed to converge, increase the number of iterations.\n",
      "  \"the number of iterations.\", ConvergenceWarning)\n"
     ]
    },
    {
     "name": "stdout",
     "output_type": "stream",
     "text": [
      "36 305 1160 14\n",
      "Regularization constant = 0.1\n",
      "Training\n",
      "Accuracy: 0.7894389438943894\n",
      "TPR: 0.72\n",
      "TNR: 0.7918088737201365\n",
      "BER: 0.24409556313993175\n",
      "29 165 559 4\n",
      "Validation\n",
      "Accuracy: 0.7767503302509907\n",
      "TPR: 0.8787878787878788\n",
      "TNR: 0.7720994475138122\n",
      "BER: 0.1745563368491545\n",
      "14 134 606 5\n",
      "Test\n",
      "Accuracy: 0.8168642951251647\n",
      "TPR: 0.7368421052631579\n",
      "TNR: 0.8189189189189189\n",
      "BER: 0.22211948790896163\n"
     ]
    },
    {
     "name": "stderr",
     "output_type": "stream",
     "text": [
      "/home/lukeliem/miniconda3/lib/python3.6/site-packages/sklearn/linear_model/logistic.py:432: FutureWarning: Default solver will be changed to 'lbfgs' in 0.22. Specify a solver to silence this warning.\n",
      "  FutureWarning)\n",
      "/home/lukeliem/miniconda3/lib/python3.6/site-packages/sklearn/svm/base.py:929: ConvergenceWarning: Liblinear failed to converge, increase the number of iterations.\n",
      "  \"the number of iterations.\", ConvergenceWarning)\n",
      "/home/lukeliem/miniconda3/lib/python3.6/site-packages/sklearn/linear_model/logistic.py:432: FutureWarning: Default solver will be changed to 'lbfgs' in 0.22. Specify a solver to silence this warning.\n",
      "  FutureWarning)\n"
     ]
    },
    {
     "name": "stdout",
     "output_type": "stream",
     "text": [
      "42 339 1126 8\n",
      "Regularization constant = 1.0\n",
      "Training\n",
      "Accuracy: 0.7709570957095709\n",
      "TPR: 0.84\n",
      "TNR: 0.7686006825938566\n",
      "BER: 0.1956996587030717\n",
      "31 194 530 2\n",
      "Validation\n",
      "Accuracy: 0.7410832232496698\n",
      "TPR: 0.9393939393939394\n",
      "TNR: 0.7320441988950276\n",
      "BER: 0.16428093085551643\n",
      "14 161 579 5\n",
      "Test\n",
      "Accuracy: 0.7812911725955204\n",
      "TPR: 0.7368421052631579\n",
      "TNR: 0.7824324324324324\n",
      "BER: 0.24036273115220486\n"
     ]
    },
    {
     "name": "stderr",
     "output_type": "stream",
     "text": [
      "/home/lukeliem/miniconda3/lib/python3.6/site-packages/sklearn/svm/base.py:929: ConvergenceWarning: Liblinear failed to converge, increase the number of iterations.\n",
      "  \"the number of iterations.\", ConvergenceWarning)\n",
      "/home/lukeliem/miniconda3/lib/python3.6/site-packages/sklearn/linear_model/logistic.py:432: FutureWarning: Default solver will be changed to 'lbfgs' in 0.22. Specify a solver to silence this warning.\n",
      "  FutureWarning)\n"
     ]
    },
    {
     "name": "stdout",
     "output_type": "stream",
     "text": [
      "42 341 1124 8\n",
      "Regularization constant = 10.0\n",
      "Training\n",
      "Accuracy: 0.7696369636963697\n",
      "TPR: 0.84\n",
      "TNR: 0.7672354948805461\n",
      "BER: 0.19638225255972697\n",
      "31 196 528 2\n",
      "Validation\n",
      "Accuracy: 0.7384412153236459\n",
      "TPR: 0.9393939393939394\n",
      "TNR: 0.7292817679558011\n",
      "BER: 0.16566214632512977\n",
      "14 158 582 5\n",
      "Test\n",
      "Accuracy: 0.7852437417654808\n",
      "TPR: 0.7368421052631579\n",
      "TNR: 0.7864864864864864\n",
      "BER: 0.2383357041251779\n"
     ]
    },
    {
     "name": "stderr",
     "output_type": "stream",
     "text": [
      "/home/lukeliem/miniconda3/lib/python3.6/site-packages/sklearn/svm/base.py:929: ConvergenceWarning: Liblinear failed to converge, increase the number of iterations.\n",
      "  \"the number of iterations.\", ConvergenceWarning)\n",
      "/home/lukeliem/miniconda3/lib/python3.6/site-packages/sklearn/linear_model/logistic.py:432: FutureWarning: Default solver will be changed to 'lbfgs' in 0.22. Specify a solver to silence this warning.\n",
      "  FutureWarning)\n"
     ]
    },
    {
     "name": "stdout",
     "output_type": "stream",
     "text": [
      "36 311 1154 14\n",
      "Regularization constant = 100.0\n",
      "Training\n",
      "Accuracy: 0.7854785478547854\n",
      "TPR: 0.72\n",
      "TNR: 0.7877133105802048\n",
      "BER: 0.24614334470989763\n",
      "29 169 555 4\n",
      "Validation\n",
      "Accuracy: 0.7714663143989432\n",
      "TPR: 0.8787878787878788\n",
      "TNR: 0.7665745856353591\n",
      "BER: 0.17731876778838107\n",
      "14 132 608 5\n",
      "Test\n",
      "Accuracy: 0.8194993412384717\n",
      "TPR: 0.7368421052631579\n",
      "TNR: 0.8216216216216217\n",
      "BER: 0.22076813655761018\n"
     ]
    },
    {
     "name": "stderr",
     "output_type": "stream",
     "text": [
      "/home/lukeliem/miniconda3/lib/python3.6/site-packages/sklearn/svm/base.py:929: ConvergenceWarning: Liblinear failed to converge, increase the number of iterations.\n",
      "  \"the number of iterations.\", ConvergenceWarning)\n",
      "/home/lukeliem/miniconda3/lib/python3.6/site-packages/sklearn/linear_model/logistic.py:432: FutureWarning: Default solver will be changed to 'lbfgs' in 0.22. Specify a solver to silence this warning.\n",
      "  FutureWarning)\n"
     ]
    },
    {
     "name": "stdout",
     "output_type": "stream",
     "text": [
      "36 314 1151 14\n",
      "Regularization constant = 1000.0\n",
      "Training\n",
      "Accuracy: 0.7834983498349835\n",
      "TPR: 0.72\n",
      "TNR: 0.7856655290102389\n",
      "BER: 0.24716723549488062\n",
      "27 169 555 6\n",
      "Validation\n",
      "Accuracy: 0.7688243064729194\n",
      "TPR: 0.8181818181818182\n",
      "TNR: 0.7665745856353591\n",
      "BER: 0.20762179809141135\n",
      "14 127 613 5\n",
      "Test\n",
      "Accuracy: 0.8260869565217391\n",
      "TPR: 0.7368421052631579\n",
      "TNR: 0.8283783783783784\n",
      "BER: 0.2173897581792319\n",
      "36 308 1157 14\n",
      "Regularization constant = 10000.0\n",
      "Training\n",
      "Accuracy: 0.7874587458745874\n",
      "TPR: 0.72\n",
      "TNR: 0.7897610921501707\n",
      "BER: 0.24511945392491463\n",
      "29 166 558 4\n",
      "Validation\n",
      "Accuracy: 0.7754293262879789\n",
      "TPR: 0.8787878787878788\n",
      "TNR: 0.7707182320441989\n",
      "BER: 0.17524694458396117\n",
      "14 134 606 5\n",
      "Test\n",
      "Accuracy: 0.8168642951251647\n",
      "TPR: 0.7368421052631579\n",
      "TNR: 0.8189189189189189\n",
      "BER: 0.22211948790896163\n"
     ]
    },
    {
     "name": "stderr",
     "output_type": "stream",
     "text": [
      "/home/lukeliem/miniconda3/lib/python3.6/site-packages/sklearn/svm/base.py:929: ConvergenceWarning: Liblinear failed to converge, increase the number of iterations.\n",
      "  \"the number of iterations.\", ConvergenceWarning)\n"
     ]
    }
   ],
   "source": [
    "C_values = [1e-4, 1e-3, 1e-2, 1e-1, 1.0, 1e1, 1e2, 1e3, 1e4]\n",
    "\n",
    "train_accuracies=[]\n",
    "train_TPRs=[]\n",
    "train_TNRs=[]\n",
    "train_BERs=[]\n",
    "\n",
    "valid_accuracies=[]\n",
    "valid_TPRs=[]\n",
    "valid_TNRs=[]\n",
    "valid_BERs=[]\n",
    "\n",
    "test_accuracies=[]\n",
    "test_TPRs=[]\n",
    "test_TNRs=[]\n",
    "test_BERs=[]\n",
    "\n",
    "for C in C_values:\n",
    "    model = linear_model.LogisticRegression(C=C, class_weight='balanced')\n",
    "    model.fit(Xtrain, ytrain)\n",
    "    \n",
    "    train_pred = model.predict(Xtrain)\n",
    "    valid_pred = model.predict(Xvalid)\n",
    "    test_pred = model.predict(Xtest)\n",
    "    \n",
    "    TP,FP,TN,FN = calc_metrics(train_pred,ytrain)\n",
    "    print(TP,FP,TN,FN)\n",
    "\n",
    "    accuracy, TPR, TNR, BER = calc_error_rates(TP, FP, TN, FN)\n",
    "    \n",
    "    print (\"Regularization constant = {}\".format(C))\n",
    "    \n",
    "    print (\"Training\")\n",
    "\n",
    "    print(\"Accuracy: {}\".format(accuracy))\n",
    "    print(\"TPR: {}\".format(TPR))\n",
    "    print(\"TNR: {}\".format(TNR))\n",
    "    print(\"BER: {}\".format(BER))\n",
    "    \n",
    "    train_accuracies.append(accuracy)\n",
    "    train_TPRs.append(TPR)\n",
    "    train_TNRs.append(TNR)\n",
    "    train_BERs.append(BER)\n",
    "    \n",
    "    TP,FP,TN,FN = calc_metrics(valid_pred,yvalid)\n",
    "    print(TP,FP,TN,FN)\n",
    "\n",
    "    accuracy, TPR, TNR, BER = calc_error_rates(TP, FP, TN, FN)\n",
    "\n",
    "    print (\"Validation\")\n",
    "\n",
    "    print(\"Accuracy: {}\".format(accuracy))\n",
    "    print(\"TPR: {}\".format(TPR))\n",
    "    print(\"TNR: {}\".format(TNR))\n",
    "    print(\"BER: {}\".format(BER))\n",
    "    \n",
    "    valid_accuracies.append(accuracy)\n",
    "    valid_TPRs.append(TPR)\n",
    "    valid_TNRs.append(TNR)\n",
    "    valid_BERs.append(BER)\n",
    "    \n",
    "    TP,FP,TN,FN = calc_metrics(test_pred,ytest)\n",
    "    print(TP,FP,TN,FN)\n",
    "\n",
    "    accuracy, TPR, TNR, BER = calc_error_rates(TP, FP, TN, FN)\n",
    "    \n",
    "    print (\"Test\")\n",
    "\n",
    "    print(\"Accuracy: {}\".format(accuracy))\n",
    "    print(\"TPR: {}\".format(TPR))\n",
    "    print(\"TNR: {}\".format(TNR))\n",
    "    print(\"BER: {}\".format(BER))\n",
    "    \n",
    "    test_accuracies.append(accuracy)\n",
    "    test_TPRs.append(TPR)\n",
    "    test_TNRs.append(TNR)\n",
    "    test_BERs.append(BER)\n",
    "    "
   ]
  },
  {
   "cell_type": "markdown",
   "metadata": {},
   "source": [
    "## (4) Hyperparameter optimization - C=1.0\n",
    "\n",
    "Using BER as the optimization measure, the model should be trained on the training dataset, and the model that attains the lowest BER on the validation dataset set should be selected.\n",
    "\n",
    "In this case, C=1.0 gives us the model that attains the lowest BER on the validation dataset."
   ]
  },
  {
   "cell_type": "code",
   "execution_count": 60,
   "metadata": {},
   "outputs": [
    {
     "data": {
      "image/png": "[encoded data removed]",
      "text/plain": [
       "<matplotlib.figure.Figure at 0x7fb9bcdb55c0>"
      ]
     },
     "metadata": {},
     "output_type": "display_data"
    }
   ],
   "source": [
    "import matplotlib\n",
    "import matplotlib.pyplot as plt\n",
    "\n",
    "plt.figure(figsize=(10,7))\n",
    "\n",
    "plt.xlabel('Regularization Constant C')\n",
    "plt.title('BER (Train, Valid and Test)')\n",
    "plt.grid(True)\n",
    "plt.xscale('log')\n",
    "\n",
    "plt.plot(C_values, train_BERs, label='Train BER',)\n",
    "plt.plot(C_values, valid_BERs, label='Valid BER',)\n",
    "plt.plot(C_values, test_BERs, label='Test BER',)\n",
    "\n",
    "plt.legend()\n",
    "plt.show()"
   ]
  },
  {
   "cell_type": "code",
   "execution_count": 73,
   "metadata": {},
   "outputs": [
    {
     "name": "stdout",
     "output_type": "stream",
     "text": [
      "22 25 55\n"
     ]
    }
   ],
   "source": [
    "random.shuffle(dataset)\n",
    "\n",
    "X = [values[:-1] for values in dataset]\n",
    "y = [values[-1] for values in dataset]\n",
    "\n",
    "N = len(dataset)\n",
    "Ntrain = N*50//100  # 50-25-25 train-valid-test split\n",
    "Nvalid = N*25//100\n",
    "\n",
    "Xtrain = X[:Ntrain]\n",
    "Xvalid = X[Ntrain:Ntrain+Nvalid]\n",
    "Xtest = X[Ntrain+Nvalid:]\n",
    "\n",
    "ytrain = y[:Ntrain]\n",
    "yvalid = y[Ntrain:Ntrain+Nvalid]\n",
    "ytest = y[Ntrain+Nvalid:]\n",
    "\n",
    "print (sum(ytest), sum(yvalid), sum(ytrain))"
   ]
  },
  {
   "cell_type": "code",
   "execution_count": 74,
   "metadata": {},
   "outputs": [
    {
     "name": "stderr",
     "output_type": "stream",
     "text": [
      "/home/lukeliem/miniconda3/lib/python3.6/site-packages/sklearn/linear_model/logistic.py:947: ConvergenceWarning: lbfgs failed to converge. Increase the number of iterations.\n",
      "  \"of iterations.\", ConvergenceWarning)\n"
     ]
    },
    {
     "data": {
      "text/plain": [
       "LogisticRegression(C=1, class_weight=None, dual=False, fit_intercept=True,\n",
       "                   intercept_scaling=1, l1_ratio=None, max_iter=100,\n",
       "                   multi_class='warn', n_jobs=None, penalty='l2',\n",
       "                   random_state=None, solver='lbfgs', tol=0.0001, verbose=0,\n",
       "                   warm_start=False)"
      ]
     },
     "execution_count": 74,
     "metadata": {},
     "output_type": "execute_result"
    }
   ],
   "source": [
    "weights = [1.0] * len(ytrain)\n",
    "model = linear_model.LogisticRegression(C=1, solver='lbfgs')\n",
    "model.fit(Xtrain, ytrain, sample_weight=weights)"
   ]
  },
  {
   "cell_type": "code",
   "execution_count": 81,
   "metadata": {},
   "outputs": [
    {
     "name": "stdout",
     "output_type": "stream",
     "text": [
      "Retrieved bankrupcies: 8\n",
      "Relevant bankrupcies: 102\n",
      "Retrieved ∩ Relevant: 4\n",
      "Recall: 0.0392156862745098\n",
      "Precision@8: 0.5\n",
      "Precision@10: 0.4\n"
     ]
    }
   ],
   "source": [
    "# Run model on test dataset\n",
    "pred = model.predict(Xtest)\n",
    "\n",
    "# Sort labels and scores in descending order\n",
    "scores = model.decision_function(Xtest)\n",
    "scores_labels = list(zip(scores, ytest))\n",
    "scores_labels.sort(reverse = True)\n",
    "\n",
    "sortedlabels = [x[1] for x in scores_labels] # generate sorted labels\n",
    "\n",
    "# retrieved, relevant and intersection\n",
    "retrieved = sum(pred)  # retrieved is the # bankrupt companies in the test dataset\n",
    "relevant = sum(y)   # relevant is the # bankrupt companies in the entire dataset\n",
    "intersection = sum([y and p for y,p in zip(ytest,pred)])\n",
    "\n",
    "print(\"Retrieved bankrupcies: {}\".format(retrieved))\n",
    "print(\"Relevant bankrupcies: {}\".format(relevant))\n",
    "print(\"Retrieved ∩ Relevant: {}\".format(intersection))\n",
    "\n",
    "# precision / recall\n",
    "precision = intersection / retrieved\n",
    "recall = intersection / relevant\n",
    "\n",
    "print(\"Recall: {}\".format(recall))\n",
    "print(\"Precision@{}: {}\".format(retrieved, precision))\n",
    "print(\"Precision@10: {}\".format(sum(sortedlabels[:10]) / 10))\n"
   ]
  },
  {
   "cell_type": "code",
   "execution_count": 78,
   "metadata": {},
   "outputs": [
    {
     "data": {
      "text/plain": [
       "[(2.300410533888123, False),\n",
       " (2.1859629725027068, True),\n",
       " (2.1853039011354753, False),\n",
       " (0.4305841955890778, True),\n",
       " (0.17844269703895935, False),\n",
       " (0.1624728145489697, False),\n",
       " (0.12429876189998171, True),\n",
       " (0.004794728122243485, True),\n",
       " (-0.2679866003641622, False),\n",
       " (-0.31219950067470814, False)]"
      ]
     },
     "execution_count": 78,
     "metadata": {},
     "output_type": "execute_result"
    }
   ],
   "source": [
    "scores_labels[:10]"
   ]
  },
  {
   "cell_type": "code",
   "execution_count": 79,
   "metadata": {},
   "outputs": [
    {
     "data": {
      "text/plain": [
       "[(2.300410533888123, False),\n",
       " (2.1859629725027068, True),\n",
       " (2.1853039011354753, False),\n",
       " (0.4305841955890778, True),\n",
       " (0.17844269703895935, False),\n",
       " (0.1624728145489697, False),\n",
       " (0.12429876189998171, True),\n",
       " (0.004794728122243485, True)]"
      ]
     },
     "execution_count": 79,
     "metadata": {},
     "output_type": "execute_result"
    }
   ],
   "source": [
    "scores_labels[:8]"
   ]
  },
  {
   "cell_type": "markdown",
   "metadata": {},
   "source": [
    "## (6) F1 Score = 0.0727, F10 Score = 0.0396 @ Sample Weight = 1.0\n",
    "\n",
    "When all samples have the same weight, the model has precision of only 0.5 and recall of 0.0392. This means it misses most of the bankrupcies in the test dataset. And of the companies it predicts to go bankrupt, only 50% of them actually went bankrupt.\n",
    "\n",
    "Retrieved bankrupcies: 8   \n",
    "Relevant bankrupcies: 102   \n",
    "Retrieved ∩ Relevant: 4   \n",
    "Recall: 0.0392156862745098  \n",
    "Precision@8: 0.5   \n",
    "Precision@10: 0.4   "
   ]
  },
  {
   "cell_type": "code",
   "execution_count": 84,
   "metadata": {},
   "outputs": [
    {
     "name": "stdout",
     "output_type": "stream",
     "text": [
      "F1 score: 0.07272727272727272\n",
      "F10 score: 0.03957680250783699\n"
     ]
    }
   ],
   "source": [
    "beta=10\n",
    "\n",
    "F1=2*(precision*recall)/(precision+recall)  # precision is more important \n",
    "F_beta=(1+beta**2)*(precision*recall)/(precision*beta**2+recall)  # recall is more important\n",
    "\n",
    "print(\"F1 score: {}\".format(F1))\n",
    "print(\"F10 score: {}\".format(F_beta))"
   ]
  },
  {
   "cell_type": "code",
   "execution_count": 112,
   "metadata": {},
   "outputs": [
    {
     "name": "stdout",
     "output_type": "stream",
     "text": [
      "\n",
      " Weight = 0.1\n",
      "Retrieved bankrupcies: 1\n",
      "Relevant bankrupcies: 102\n",
      "Retrieved ∩ Relevant: 0\n",
      "Recall: 0.0\n",
      "Precision: 0.0\n",
      "Precision@10: 0.0\n",
      "F1 score: nan\n",
      "F10 score: nan\n",
      "\n",
      " Weight = 0.5\n",
      "Retrieved bankrupcies: 3\n",
      "Relevant bankrupcies: 102\n",
      "Retrieved ∩ Relevant: 1\n",
      "Recall: 0.00980392156862745\n",
      "Precision: 0.3333333333333333\n",
      "Precision@10: 0.4\n",
      "F1 score: 0.019047619047619046\n",
      "F10 score: 0.009899049299225719\n",
      "\n",
      " Weight = 1.0\n"
     ]
    },
    {
     "name": "stderr",
     "output_type": "stream",
     "text": [
      "/home/lukeliem/miniconda3/lib/python3.6/site-packages/sklearn/linear_model/logistic.py:947: ConvergenceWarning: lbfgs failed to converge. Increase the number of iterations.\n",
      "  \"of iterations.\", ConvergenceWarning)\n",
      "/home/lukeliem/miniconda3/lib/python3.6/site-packages/ipykernel/__main__.py:45: RuntimeWarning: invalid value encountered in double_scalars\n",
      "/home/lukeliem/miniconda3/lib/python3.6/site-packages/ipykernel/__main__.py:46: RuntimeWarning: invalid value encountered in double_scalars\n",
      "/home/lukeliem/miniconda3/lib/python3.6/site-packages/sklearn/linear_model/logistic.py:947: ConvergenceWarning: lbfgs failed to converge. Increase the number of iterations.\n",
      "  \"of iterations.\", ConvergenceWarning)\n",
      "/home/lukeliem/miniconda3/lib/python3.6/site-packages/sklearn/linear_model/logistic.py:947: ConvergenceWarning: lbfgs failed to converge. Increase the number of iterations.\n",
      "  \"of iterations.\", ConvergenceWarning)\n"
     ]
    },
    {
     "name": "stdout",
     "output_type": "stream",
     "text": [
      "Retrieved bankrupcies: 8\n",
      "Relevant bankrupcies: 102\n",
      "Retrieved ∩ Relevant: 4\n",
      "Recall: 0.0392156862745098\n",
      "Precision: 0.5\n",
      "Precision@10: 0.4\n",
      "F1 score: 0.07272727272727272\n",
      "F10 score: 0.03957680250783699\n",
      "\n",
      " Weight = 2\n",
      "Retrieved bankrupcies: 10\n",
      "Relevant bankrupcies: 102\n",
      "Retrieved ∩ Relevant: 4\n",
      "Recall: 0.0392156862745098\n",
      "Precision: 0.4\n",
      "Precision@10: 0.4\n",
      "F1 score: 0.07142857142857142\n",
      "F10 score: 0.039569049951028404\n",
      "\n",
      " Weight = 4\n",
      "Retrieved bankrupcies: 18\n",
      "Relevant bankrupcies: 102\n",
      "Retrieved ∩ Relevant: 6\n",
      "Recall: 0.058823529411764705\n",
      "Precision: 0.3333333333333333\n",
      "Precision@10: 0.5\n",
      "F1 score: 0.1\n",
      "F10 score: 0.05930710510863183\n",
      "\n",
      " Weight = 5\n"
     ]
    },
    {
     "name": "stderr",
     "output_type": "stream",
     "text": [
      "/home/lukeliem/miniconda3/lib/python3.6/site-packages/sklearn/linear_model/logistic.py:947: ConvergenceWarning: lbfgs failed to converge. Increase the number of iterations.\n",
      "  \"of iterations.\", ConvergenceWarning)\n",
      "/home/lukeliem/miniconda3/lib/python3.6/site-packages/sklearn/linear_model/logistic.py:947: ConvergenceWarning: lbfgs failed to converge. Increase the number of iterations.\n",
      "  \"of iterations.\", ConvergenceWarning)\n",
      "/home/lukeliem/miniconda3/lib/python3.6/site-packages/sklearn/linear_model/logistic.py:947: ConvergenceWarning: lbfgs failed to converge. Increase the number of iterations.\n",
      "  \"of iterations.\", ConvergenceWarning)\n",
      "/home/lukeliem/miniconda3/lib/python3.6/site-packages/sklearn/linear_model/logistic.py:947: ConvergenceWarning: lbfgs failed to converge. Increase the number of iterations.\n",
      "  \"of iterations.\", ConvergenceWarning)\n"
     ]
    },
    {
     "name": "stdout",
     "output_type": "stream",
     "text": [
      "Retrieved bankrupcies: 25\n",
      "Relevant bankrupcies: 102\n",
      "Retrieved ∩ Relevant: 7\n",
      "Recall: 0.06862745098039216\n",
      "Precision: 0.28\n",
      "Precision@10: 0.5\n",
      "F1 score: 0.11023622047244096\n",
      "F10 score: 0.06914425427872861\n",
      "\n",
      " Weight = 6\n",
      "Retrieved bankrupcies: 31\n",
      "Relevant bankrupcies: 102\n",
      "Retrieved ∩ Relevant: 8\n",
      "Recall: 0.0784313725490196\n",
      "Precision: 0.25806451612903225\n",
      "Precision@10: 0.5\n",
      "F1 score: 0.12030075187969926\n",
      "F10 score: 0.07897566220310821\n",
      "\n",
      " Weight = 7\n",
      "Retrieved bankrupcies: 35\n",
      "Relevant bankrupcies: 102\n",
      "Retrieved ∩ Relevant: 9\n",
      "Recall: 0.08823529411764706\n",
      "Precision: 0.2571428571428571\n",
      "Precision@10: 0.5\n",
      "F1 score: 0.13138686131386862\n",
      "F10 score: 0.08881289692232536\n",
      "\n",
      " Weight = 8\n",
      "Retrieved bankrupcies: 41\n",
      "Relevant bankrupcies: 102\n",
      "Retrieved ∩ Relevant: 9\n",
      "Recall: 0.08823529411764706\n",
      "Precision: 0.21951219512195122\n",
      "Precision@10: 0.5\n",
      "F1 score: 0.1258741258741259\n",
      "F10 score: 0.08876086319695342\n",
      "\n",
      " Weight = 9\n"
     ]
    },
    {
     "name": "stderr",
     "output_type": "stream",
     "text": [
      "/home/lukeliem/miniconda3/lib/python3.6/site-packages/sklearn/linear_model/logistic.py:947: ConvergenceWarning: lbfgs failed to converge. Increase the number of iterations.\n",
      "  \"of iterations.\", ConvergenceWarning)\n",
      "/home/lukeliem/miniconda3/lib/python3.6/site-packages/sklearn/linear_model/logistic.py:947: ConvergenceWarning: lbfgs failed to converge. Increase the number of iterations.\n",
      "  \"of iterations.\", ConvergenceWarning)\n",
      "/home/lukeliem/miniconda3/lib/python3.6/site-packages/sklearn/linear_model/logistic.py:947: ConvergenceWarning: lbfgs failed to converge. Increase the number of iterations.\n",
      "  \"of iterations.\", ConvergenceWarning)\n"
     ]
    },
    {
     "name": "stdout",
     "output_type": "stream",
     "text": [
      "Retrieved bankrupcies: 44\n",
      "Relevant bankrupcies: 102\n",
      "Retrieved ∩ Relevant: 9\n",
      "Recall: 0.08823529411764706\n",
      "Precision: 0.20454545454545456\n",
      "Precision@10: 0.5\n",
      "F1 score: 0.12328767123287673\n",
      "F10 score: 0.08873486919172198\n",
      "\n",
      " Weight = 10\n",
      "Retrieved bankrupcies: 47\n",
      "Relevant bankrupcies: 102\n",
      "Retrieved ∩ Relevant: 9\n",
      "Recall: 0.08823529411764706\n",
      "Precision: 0.19148936170212766\n",
      "Precision@10: 0.5\n",
      "F1 score: 0.12080536912751677\n",
      "F10 score: 0.08870889040694836\n",
      "\n",
      " Weight = 11\n",
      "Retrieved bankrupcies: 53\n",
      "Relevant bankrupcies: 102\n",
      "Retrieved ∩ Relevant: 9\n",
      "Recall: 0.08823529411764706\n",
      "Precision: 0.16981132075471697\n",
      "Precision@10: 0.5\n",
      "F1 score: 0.11612903225806452\n",
      "F10 score: 0.08865697844533306\n",
      "\n",
      " Weight = 12\n",
      "Retrieved bankrupcies: 63\n",
      "Relevant bankrupcies: 102\n",
      "Retrieved ∩ Relevant: 9\n",
      "Recall: 0.08823529411764706\n",
      "Precision: 0.14285714285714285\n",
      "Precision@10: 0.5\n",
      "F1 score: 0.10909090909090909\n",
      "F10 score: 0.08857059339374454\n",
      "\n",
      " Weight = 13\n"
     ]
    },
    {
     "name": "stderr",
     "output_type": "stream",
     "text": [
      "/home/lukeliem/miniconda3/lib/python3.6/site-packages/sklearn/linear_model/logistic.py:947: ConvergenceWarning: lbfgs failed to converge. Increase the number of iterations.\n",
      "  \"of iterations.\", ConvergenceWarning)\n",
      "/home/lukeliem/miniconda3/lib/python3.6/site-packages/sklearn/linear_model/logistic.py:947: ConvergenceWarning: lbfgs failed to converge. Increase the number of iterations.\n",
      "  \"of iterations.\", ConvergenceWarning)\n",
      "/home/lukeliem/miniconda3/lib/python3.6/site-packages/sklearn/linear_model/logistic.py:947: ConvergenceWarning: lbfgs failed to converge. Increase the number of iterations.\n",
      "  \"of iterations.\", ConvergenceWarning)\n",
      "/home/lukeliem/miniconda3/lib/python3.6/site-packages/sklearn/linear_model/logistic.py:947: ConvergenceWarning: lbfgs failed to converge. Increase the number of iterations.\n",
      "  \"of iterations.\", ConvergenceWarning)\n"
     ]
    },
    {
     "name": "stdout",
     "output_type": "stream",
     "text": [
      "Retrieved bankrupcies: 70\n",
      "Relevant bankrupcies: 102\n",
      "Retrieved ∩ Relevant: 9\n",
      "Recall: 0.08823529411764706\n",
      "Precision: 0.12857142857142856\n",
      "Precision@10: 0.5\n",
      "F1 score: 0.10465116279069767\n",
      "F10 score: 0.08851022395326193\n",
      "\n",
      " Weight = 14\n",
      "Retrieved bankrupcies: 68\n",
      "Relevant bankrupcies: 102\n",
      "Retrieved ∩ Relevant: 9\n",
      "Recall: 0.08823529411764706\n",
      "Precision: 0.1323529411764706\n",
      "Precision@10: 0.5\n",
      "F1 score: 0.10588235294117647\n",
      "F10 score: 0.08852746396571873\n",
      "\n",
      " Weight = 15\n",
      "Retrieved bankrupcies: 88\n",
      "Relevant bankrupcies: 102\n",
      "Retrieved ∩ Relevant: 10\n",
      "Recall: 0.09803921568627451\n",
      "Precision: 0.11363636363636363\n",
      "Precision@10: 0.5\n",
      "F1 score: 0.10526315789473685\n",
      "F10 score: 0.09817262830482115\n",
      "\n",
      " Weight = 16\n",
      "Retrieved bankrupcies: 99\n",
      "Relevant bankrupcies: 102\n",
      "Retrieved ∩ Relevant: 10\n",
      "Recall: 0.09803921568627451\n",
      "Precision: 0.10101010101010101\n",
      "Precision@10: 0.5\n",
      "F1 score: 0.09950248756218905\n",
      "F10 score: 0.09806777357024955\n",
      "\n",
      " Weight = 32\n"
     ]
    },
    {
     "name": "stderr",
     "output_type": "stream",
     "text": [
      "/home/lukeliem/miniconda3/lib/python3.6/site-packages/sklearn/linear_model/logistic.py:947: ConvergenceWarning: lbfgs failed to converge. Increase the number of iterations.\n",
      "  \"of iterations.\", ConvergenceWarning)\n",
      "/home/lukeliem/miniconda3/lib/python3.6/site-packages/sklearn/linear_model/logistic.py:947: ConvergenceWarning: lbfgs failed to converge. Increase the number of iterations.\n",
      "  \"of iterations.\", ConvergenceWarning)\n",
      "/home/lukeliem/miniconda3/lib/python3.6/site-packages/sklearn/linear_model/logistic.py:947: ConvergenceWarning: lbfgs failed to converge. Increase the number of iterations.\n",
      "  \"of iterations.\", ConvergenceWarning)\n",
      "/home/lukeliem/miniconda3/lib/python3.6/site-packages/sklearn/linear_model/logistic.py:947: ConvergenceWarning: lbfgs failed to converge. Increase the number of iterations.\n",
      "  \"of iterations.\", ConvergenceWarning)\n"
     ]
    },
    {
     "name": "stdout",
     "output_type": "stream",
     "text": [
      "Retrieved bankrupcies: 347\n",
      "Relevant bankrupcies: 102\n",
      "Retrieved ∩ Relevant: 16\n",
      "Recall: 0.1568627450980392\n",
      "Precision: 0.04610951008645533\n",
      "Precision@10: 0.5\n",
      "F1 score: 0.07126948775055679\n",
      "F10 score: 0.15321892481274293\n",
      "\n",
      " Weight = 64\n",
      "Retrieved bankrupcies: 516\n",
      "Relevant bankrupcies: 102\n",
      "Retrieved ∩ Relevant: 20\n",
      "Recall: 0.19607843137254902\n",
      "Precision: 0.03875968992248062\n",
      "Precision@10: 0.5\n",
      "F1 score: 0.06472491909385114\n",
      "F10 score: 0.18850317282568121\n",
      "\n",
      " Weight = 80\n",
      "Retrieved bankrupcies: 548\n",
      "Relevant bankrupcies: 102\n",
      "Retrieved ∩ Relevant: 20\n",
      "Recall: 0.19607843137254902\n",
      "Precision: 0.0364963503649635\n",
      "Precision@10: 0.5\n",
      "F1 score: 0.06153846153846154\n",
      "F10 score: 0.18794194268701153\n",
      "\n",
      " Weight = 100\n",
      "Retrieved bankrupcies: 596\n",
      "Relevant bankrupcies: 102\n",
      "Retrieved ∩ Relevant: 21\n",
      "Recall: 0.20588235294117646\n",
      "Precision: 0.03523489932885906\n",
      "Precision@10: 0.5\n",
      "F1 score: 0.06017191977077364\n",
      "F10 score: 0.19646165246387548\n",
      "\n",
      " Weight = 110\n"
     ]
    },
    {
     "name": "stderr",
     "output_type": "stream",
     "text": [
      "/home/lukeliem/miniconda3/lib/python3.6/site-packages/sklearn/linear_model/logistic.py:947: ConvergenceWarning: lbfgs failed to converge. Increase the number of iterations.\n",
      "  \"of iterations.\", ConvergenceWarning)\n",
      "/home/lukeliem/miniconda3/lib/python3.6/site-packages/sklearn/linear_model/logistic.py:947: ConvergenceWarning: lbfgs failed to converge. Increase the number of iterations.\n",
      "  \"of iterations.\", ConvergenceWarning)\n",
      "/home/lukeliem/miniconda3/lib/python3.6/site-packages/sklearn/linear_model/logistic.py:947: ConvergenceWarning: lbfgs failed to converge. Increase the number of iterations.\n",
      "  \"of iterations.\", ConvergenceWarning)\n",
      "/home/lukeliem/miniconda3/lib/python3.6/site-packages/sklearn/linear_model/logistic.py:947: ConvergenceWarning: lbfgs failed to converge. Increase the number of iterations.\n",
      "  \"of iterations.\", ConvergenceWarning)\n"
     ]
    },
    {
     "name": "stdout",
     "output_type": "stream",
     "text": [
      "Retrieved bankrupcies: 616\n",
      "Relevant bankrupcies: 102\n",
      "Retrieved ∩ Relevant: 21\n",
      "Recall: 0.20588235294117646\n",
      "Precision: 0.03409090909090909\n",
      "Precision@10: 0.5\n",
      "F1 score: 0.0584958217270195\n",
      "F10 score: 0.1960983727810651\n",
      "\n",
      " Weight = 120\n",
      "Retrieved bankrupcies: 654\n",
      "Relevant bankrupcies: 102\n",
      "Retrieved ∩ Relevant: 22\n",
      "Recall: 0.21568627450980393\n",
      "Precision: 0.03363914373088685\n",
      "Precision@10: 0.5\n",
      "F1 score: 0.058201058201058205\n",
      "F10 score: 0.2047171549659112\n",
      "\n",
      " Weight = 130\n",
      "Retrieved bankrupcies: 640\n",
      "Relevant bankrupcies: 102\n",
      "Retrieved ∩ Relevant: 21\n",
      "Recall: 0.20588235294117646\n",
      "Precision: 0.0328125\n",
      "Precision@10: 0.5\n",
      "F1 score: 0.05660377358490567\n",
      "F10 score: 0.19566420664206643\n",
      "\n",
      " Weight = 140\n",
      "Retrieved bankrupcies: 632\n",
      "Relevant bankrupcies: 102\n",
      "Retrieved ∩ Relevant: 21\n",
      "Recall: 0.20588235294117646\n",
      "Precision: 0.03322784810126582\n",
      "Precision@10: 0.5\n",
      "F1 score: 0.057220708446866476\n",
      "F10 score: 0.1958087149187592\n",
      "\n",
      " Weight = 200\n"
     ]
    },
    {
     "name": "stderr",
     "output_type": "stream",
     "text": [
      "/home/lukeliem/miniconda3/lib/python3.6/site-packages/sklearn/linear_model/logistic.py:947: ConvergenceWarning: lbfgs failed to converge. Increase the number of iterations.\n",
      "  \"of iterations.\", ConvergenceWarning)\n",
      "/home/lukeliem/miniconda3/lib/python3.6/site-packages/sklearn/linear_model/logistic.py:947: ConvergenceWarning: lbfgs failed to converge. Increase the number of iterations.\n",
      "  \"of iterations.\", ConvergenceWarning)\n",
      "/home/lukeliem/miniconda3/lib/python3.6/site-packages/sklearn/linear_model/logistic.py:947: ConvergenceWarning: lbfgs failed to converge. Increase the number of iterations.\n",
      "  \"of iterations.\", ConvergenceWarning)\n",
      "/home/lukeliem/miniconda3/lib/python3.6/site-packages/sklearn/linear_model/logistic.py:947: ConvergenceWarning: lbfgs failed to converge. Increase the number of iterations.\n",
      "  \"of iterations.\", ConvergenceWarning)\n",
      "/home/lukeliem/miniconda3/lib/python3.6/site-packages/sklearn/linear_model/logistic.py:947: ConvergenceWarning: lbfgs failed to converge. Increase the number of iterations.\n",
      "  \"of iterations.\", ConvergenceWarning)\n",
      "/home/lukeliem/miniconda3/lib/python3.6/site-packages/sklearn/linear_model/logistic.py:947: ConvergenceWarning: lbfgs failed to converge. Increase the number of iterations.\n",
      "  \"of iterations.\", ConvergenceWarning)\n"
     ]
    },
    {
     "name": "stdout",
     "output_type": "stream",
     "text": [
      "Retrieved bankrupcies: 668\n",
      "Relevant bankrupcies: 102\n",
      "Retrieved ∩ Relevant: 22\n",
      "Recall: 0.21568627450980393\n",
      "Precision: 0.03293413173652695\n",
      "Precision@10: 0.5\n",
      "F1 score: 0.05714285714285715\n",
      "F10 score: 0.20445344129554655\n",
      "\n",
      " Weight = 256\n",
      "Retrieved bankrupcies: 681\n",
      "Relevant bankrupcies: 102\n",
      "Retrieved ∩ Relevant: 22\n",
      "Recall: 0.21568627450980393\n",
      "Precision: 0.032305433186490456\n",
      "Precision@10: 0.5\n",
      "F1 score: 0.05619412515964241\n",
      "F10 score: 0.20420917195110744\n",
      "\n",
      " Weight = 512\n",
      "Retrieved bankrupcies: 700\n",
      "Relevant bankrupcies: 102\n",
      "Retrieved ∩ Relevant: 22\n",
      "Recall: 0.21568627450980393\n",
      "Precision: 0.03142857142857143\n",
      "Precision@10: 0.5\n",
      "F1 score: 0.054862842892768084\n",
      "F10 score: 0.2038532110091743\n",
      "\n",
      " Weight = 1024\n",
      "Retrieved bankrupcies: 704\n",
      "Relevant bankrupcies: 102\n",
      "Retrieved ∩ Relevant: 22\n",
      "Recall: 0.21568627450980393\n",
      "Precision: 0.03125\n",
      "Precision@10: 0.5\n",
      "F1 score: 0.05459057071960298\n",
      "F10 score: 0.2037784299339692\n"
     ]
    },
    {
     "name": "stderr",
     "output_type": "stream",
     "text": [
      "/home/lukeliem/miniconda3/lib/python3.6/site-packages/sklearn/linear_model/logistic.py:947: ConvergenceWarning: lbfgs failed to converge. Increase the number of iterations.\n",
      "  \"of iterations.\", ConvergenceWarning)\n"
     ]
    }
   ],
   "source": [
    "weight_values = [0.1, 0.5, 1.0, 2, 4, 5, 6, 7, 8, 9, 10, 11, 12, 13, 14, 15, 16, 32, 64, 80, 100, 110, 120, 130, \n",
    "                 140, 200, 256, 512, 1024]\n",
    "\n",
    "beta=10\n",
    "\n",
    "precisions = []\n",
    "recalls = []\n",
    "F1_scores = []\n",
    "F10_scores = []\n",
    "\n",
    "for w in weight_values:\n",
    "    print (\"\\n Weight = {}\".format(w))\n",
    "    \n",
    "    weights = [x*w if x is True else 1.0 for x in ytrain]\n",
    "    model = linear_model.LogisticRegression(C=1, solver='lbfgs')\n",
    "    model.fit(Xtrain, ytrain, sample_weight=weights)\n",
    "    \n",
    "    # Run model on test dataset\n",
    "    pred = model.predict(Xtest)\n",
    "\n",
    "    # Sort labels and scores in descending order\n",
    "    scores = model.decision_function(Xtest)\n",
    "    scores_labels = list(zip(scores, ytest))\n",
    "    scores_labels.sort(reverse = True)\n",
    "\n",
    "    sortedlabels = [x[1] for x in scores_labels] # generate sorted labels\n",
    "\n",
    "    # retrieved, relevant and intersection\n",
    "    retrieved = sum(pred)  # retrieved is the # bankrupt companies in the test dataset\n",
    "    relevant = sum(y)   # relevant is the # bankrupt companies in the entire dataset\n",
    "    intersection = sum([y and p for y,p in zip(ytest,pred)])\n",
    "\n",
    "    print(\"Retrieved bankrupcies: {}\".format(retrieved))\n",
    "    print(\"Relevant bankrupcies: {}\".format(relevant))\n",
    "    print(\"Retrieved ∩ Relevant: {}\".format(intersection))\n",
    "\n",
    "    # precision / recall\n",
    "    precision = intersection / retrieved\n",
    "    recall = intersection / relevant\n",
    "\n",
    "    print(\"Recall: {}\".format(recall))\n",
    "    print(\"Precision: {}\".format(precision))\n",
    "    print(\"Precision@10: {}\".format(sum(sortedlabels[:10]) / 10))\n",
    "\n",
    "    F1=2*(precision*recall)/(precision+recall)  # precision is more important \n",
    "    F_beta=(1+beta**2)*(precision*recall)/(precision*beta**2+recall)  # recall is more important\n",
    "\n",
    "    print(\"F1 score: {}\".format(F1))\n",
    "    print(\"F10 score: {}\".format(F_beta))\n",
    "    \n",
    "    precisions.append(precision)\n",
    "    recalls.append(recall)\n",
    "    F1_scores.append(F1)\n",
    "    F10_scores.append(F_beta)\n",
    "\n",
    " "
   ]
  },
  {
   "cell_type": "markdown",
   "metadata": {},
   "source": [
    "## (6) Optimal F1 Score = 0.131 @ W = 7; Optimal F10 Score = 0.2047 @ W = 120\n",
    "\n",
    "F10 score is highest at sample_weight=120, where the model caught all 22 bankrupcies in the test dataset. But this is accomplished by the model predicting mostly bankrupcies (654 out of 759 instances).\n",
    "\n",
    " Weight = 120    \n",
    "Retrieved bankrupcies: 654  \n",
    "Relevant bankrupcies: 102  \n",
    "Retrieved ∩ Relevant: 22  \n",
    "Recall: 0.21568627450980393  \n",
    "Precision: 0.03363914373088685  \n",
    "Precision@10: 0.5  \n",
    "F1 score: 0.058201058201058205  \n",
    "**F10 score: 0.2047171549659112**  \n",
    "\n",
    "F1 score is highest at sample_weight=7, when it predicted 35 bankrupcies of which only 9 (25.7%) actually took place.  \n",
    "\n",
    "Retrieved bankrupcies: 35  \n",
    "Relevant bankrupcies: 102  \n",
    "Retrieved ∩ Relevant: 9  \n",
    "Recall: 0.08823529411764706  \n",
    "Precision: 0.2571428571428571    \n",
    "Precision@10: 0.5  \n",
    "**F1 score: 0.13138686131386862**  \n",
    "F10 score: 0.08881289692232536  \n",
    "\n"
   ]
  },
  {
   "cell_type": "code",
   "execution_count": 113,
   "metadata": {},
   "outputs": [
    {
     "data": {
      "image/png": "[encoded data removed]",
      "text/plain": [
       "<matplotlib.figure.Figure at 0x7fb9bc9b2cf8>"
      ]
     },
     "metadata": {},
     "output_type": "display_data"
    }
   ],
   "source": [
    "import matplotlib\n",
    "import matplotlib.pyplot as plt\n",
    "\n",
    "plt.figure(figsize=(10,7))\n",
    "\n",
    "plt.xlabel('Sample weight')\n",
    "plt.title('F1 and F10 Scores')\n",
    "plt.grid(True)\n",
    "plt.xscale('log')\n",
    "\n",
    "plt.plot(weight_values, F1_scores, label='F1_scores',)\n",
    "plt.plot(weight_values, F10_scores, label='F10_scores',)\n",
    "\n",
    "plt.legend()\n",
    "plt.show()"
   ]
  },
  {
   "cell_type": "markdown",
   "metadata": {},
   "source": [
    "## (7) First PCA component"
   ]
  },
  {
   "cell_type": "code",
   "execution_count": 126,
   "metadata": {},
   "outputs": [
    {
     "name": "stdout",
     "output_type": "stream",
     "text": [
      "(5, 65)\n",
      "[ 1.03892808e-29  1.91960153e-07 -8.34428898e-07  9.74534682e-07\n",
      "  4.89595216e-06  2.04801189e-03  7.44527917e-07  2.21813194e-07\n",
      "  5.96258730e-06 -5.49777226e-07  7.82939397e-07  1.85033076e-07\n",
      "  1.15710485e-06 -4.57462650e-06  2.21494128e-07 -3.61918196e-03\n",
      "  1.09287735e-06  6.50973463e-06  1.04222929e-07  4.72934000e-07\n",
      "  3.19143807e-05 -1.17427546e-08  1.56926509e-07  4.43411571e-07\n",
      "  6.09877164e-07  9.93907480e-07  9.52155719e-07 -5.06026046e-05\n",
      "  2.36879437e-05  3.46616851e-06 -1.93460665e-06  4.58144820e-07\n",
      " -3.86871414e-04  3.98980802e-06 -1.45222884e-06  1.30870345e-07\n",
      " -5.61830338e-07  1.05446040e-03  6.41271473e-07  1.89753406e-07\n",
      "  2.45581404e-06  1.65800551e-07  3.20951506e-07  4.56861735e-05\n",
      "  1.37697374e-05 -1.02555054e-06  3.74147343e-06 -4.46147010e-05\n",
      "  1.93156977e-07  4.64493749e-07  4.68914839e-06 -6.53042652e-07\n",
      " -1.02631067e-06 -3.55160892e-06  2.37098199e-05  9.99990688e-01\n",
      "  2.06368882e-07 -1.60384844e-07 -2.87356300e-07 -1.08864430e-07\n",
      " -7.45175094e-05 -1.14477716e-05 -2.32110831e-04  5.14910985e-06\n",
      " -8.59079987e-06]\n"
     ]
    }
   ],
   "source": [
    "pca = PCA(n_components=5)\n",
    "pca.fit(Xtrain)\n",
    "\n",
    "print(pca.components_.shape)\n",
    "print(pca.components_[0])"
   ]
  },
  {
   "cell_type": "code",
   "execution_count": 127,
   "metadata": {},
   "outputs": [],
   "source": [
    "# Rotate the datasets\n",
    "Xpca_train = numpy.matmul(Xtrain, pca.components_.T)\n",
    "Xpca_valid = numpy.matmul(Xvalid, pca.components_.T)\n",
    "Xpca_test = numpy.matmul(Xtest, pca.components_.T)"
   ]
  },
  {
   "cell_type": "code",
   "execution_count": 128,
   "metadata": {},
   "outputs": [
    {
     "name": "stderr",
     "output_type": "stream",
     "text": [
      "/home/lukeliem/miniconda3/lib/python3.6/site-packages/sklearn/linear_model/logistic.py:432: FutureWarning: Default solver will be changed to 'lbfgs' in 0.22. Specify a solver to silence this warning.\n",
      "  FutureWarning)\n"
     ]
    },
    {
     "data": {
      "text/plain": [
       "LogisticRegression(C=1.0, class_weight='balanced', dual=False,\n",
       "                   fit_intercept=True, intercept_scaling=1, l1_ratio=None,\n",
       "                   max_iter=100, multi_class='warn', n_jobs=None, penalty='l2',\n",
       "                   random_state=None, solver='warn', tol=0.0001, verbose=0,\n",
       "                   warm_start=False)"
      ]
     },
     "execution_count": 128,
     "metadata": {},
     "output_type": "execute_result"
    }
   ],
   "source": [
    "model = linear_model.LogisticRegression(C=1.0, class_weight='balanced')\n",
    "model.fit(Xpca_train, ytrain)"
   ]
  },
  {
   "cell_type": "code",
   "execution_count": 141,
   "metadata": {},
   "outputs": [
    {
     "name": "stdout",
     "output_type": "stream",
     "text": [
      "\n",
      " # PCA Components = 5\n",
      "Training\n",
      "47 710 750 8\n",
      "Accuracy: 0.526072607260726\n",
      "TPR: 0.8545454545454545\n",
      "TNR: 0.5136986301369864\n",
      "BER: 0.3158779576587796\n",
      "Validation\n",
      "20 353 379 5\n",
      "Accuracy: 0.5270805812417437\n",
      "TPR: 0.8\n",
      "TNR: 0.51775956284153\n",
      "BER: 0.341120218579235\n",
      "Test\n",
      "19 354 383 3\n",
      "Accuracy: 0.5296442687747036\n",
      "TPR: 0.8636363636363636\n",
      "TNR: 0.519674355495251\n",
      "BER: 0.30834464043419274\n",
      "\n",
      " # PCA Components = 10\n",
      "Training\n",
      "35 445 1015 20\n",
      "Accuracy: 0.693069306930693\n",
      "TPR: 0.6363636363636364\n",
      "TNR: 0.6952054794520548\n",
      "BER: 0.33421544209215437\n",
      "Validation\n",
      "11 209 523 14\n",
      "Accuracy: 0.7054161162483488\n",
      "TPR: 0.44\n",
      "TNR: 0.7144808743169399\n",
      "BER: 0.42275956284153005\n",
      "Test\n",
      "13 239 498 9\n",
      "Accuracy: 0.6732542819499341\n",
      "TPR: 0.5909090909090909\n",
      "TNR: 0.6757123473541384\n",
      "BER: 0.36668928086838526\n",
      "\n",
      " # PCA Components = 15\n"
     ]
    },
    {
     "name": "stderr",
     "output_type": "stream",
     "text": [
      "/home/lukeliem/miniconda3/lib/python3.6/site-packages/sklearn/linear_model/logistic.py:432: FutureWarning: Default solver will be changed to 'lbfgs' in 0.22. Specify a solver to silence this warning.\n",
      "  FutureWarning)\n",
      "/home/lukeliem/miniconda3/lib/python3.6/site-packages/sklearn/linear_model/logistic.py:432: FutureWarning: Default solver will be changed to 'lbfgs' in 0.22. Specify a solver to silence this warning.\n",
      "  FutureWarning)\n",
      "/home/lukeliem/miniconda3/lib/python3.6/site-packages/sklearn/linear_model/logistic.py:432: FutureWarning: Default solver will be changed to 'lbfgs' in 0.22. Specify a solver to silence this warning.\n",
      "  FutureWarning)\n",
      "/home/lukeliem/miniconda3/lib/python3.6/site-packages/sklearn/svm/base.py:929: ConvergenceWarning: Liblinear failed to converge, increase the number of iterations.\n",
      "  \"the number of iterations.\", ConvergenceWarning)\n",
      "/home/lukeliem/miniconda3/lib/python3.6/site-packages/sklearn/linear_model/logistic.py:432: FutureWarning: Default solver will be changed to 'lbfgs' in 0.22. Specify a solver to silence this warning.\n",
      "  FutureWarning)\n",
      "/home/lukeliem/miniconda3/lib/python3.6/site-packages/sklearn/svm/base.py:929: ConvergenceWarning: Liblinear failed to converge, increase the number of iterations.\n",
      "  \"the number of iterations.\", ConvergenceWarning)\n",
      "/home/lukeliem/miniconda3/lib/python3.6/site-packages/sklearn/linear_model/logistic.py:432: FutureWarning: Default solver will be changed to 'lbfgs' in 0.22. Specify a solver to silence this warning.\n",
      "  FutureWarning)\n"
     ]
    },
    {
     "name": "stdout",
     "output_type": "stream",
     "text": [
      "Training\n",
      "39 372 1088 16\n",
      "Accuracy: 0.7438943894389439\n",
      "TPR: 0.7090909090909091\n",
      "TNR: 0.7452054794520548\n",
      "BER: 0.2728518057285181\n",
      "Validation\n",
      "16 193 539 9\n",
      "Accuracy: 0.7331571994715984\n",
      "TPR: 0.64\n",
      "TNR: 0.7363387978142076\n",
      "BER: 0.3118306010928962\n",
      "Test\n",
      "14 212 525 8\n",
      "Accuracy: 0.7101449275362319\n",
      "TPR: 0.6363636363636364\n",
      "TNR: 0.7123473541383989\n",
      "BER: 0.32564450474898243\n",
      "\n",
      " # PCA Components = 20\n",
      "Training\n",
      "39 325 1135 16\n",
      "Accuracy: 0.7749174917491749\n",
      "TPR: 0.7090909090909091\n",
      "TNR: 0.7773972602739726\n",
      "BER: 0.25675591531755915\n",
      "Validation\n",
      "18 175 557 7\n",
      "Accuracy: 0.7595772787318362\n",
      "TPR: 0.72\n",
      "TNR: 0.7609289617486339\n",
      "BER: 0.25953551912568307\n",
      "Test\n",
      "13 192 545 9\n",
      "Accuracy: 0.7351778656126482\n",
      "TPR: 0.5909090909090909\n",
      "TNR: 0.7394843962008141\n",
      "BER: 0.3348032564450475\n",
      "\n",
      " # PCA Components = 25\n"
     ]
    },
    {
     "name": "stderr",
     "output_type": "stream",
     "text": [
      "/home/lukeliem/miniconda3/lib/python3.6/site-packages/sklearn/svm/base.py:929: ConvergenceWarning: Liblinear failed to converge, increase the number of iterations.\n",
      "  \"the number of iterations.\", ConvergenceWarning)\n",
      "/home/lukeliem/miniconda3/lib/python3.6/site-packages/sklearn/linear_model/logistic.py:432: FutureWarning: Default solver will be changed to 'lbfgs' in 0.22. Specify a solver to silence this warning.\n",
      "  FutureWarning)\n",
      "/home/lukeliem/miniconda3/lib/python3.6/site-packages/sklearn/svm/base.py:929: ConvergenceWarning: Liblinear failed to converge, increase the number of iterations.\n",
      "  \"the number of iterations.\", ConvergenceWarning)\n"
     ]
    },
    {
     "name": "stdout",
     "output_type": "stream",
     "text": [
      "Training\n",
      "39 321 1139 16\n",
      "Accuracy: 0.7775577557755775\n",
      "TPR: 0.7090909090909091\n",
      "TNR: 0.7801369863013699\n",
      "BER: 0.25538605230386047\n",
      "Validation\n",
      "18 156 576 7\n",
      "Accuracy: 0.7846763540290621\n",
      "TPR: 0.72\n",
      "TNR: 0.7868852459016393\n",
      "BER: 0.24655737704918035\n",
      "Test\n",
      "15 189 548 7\n",
      "Accuracy: 0.7417654808959157\n",
      "TPR: 0.6818181818181818\n",
      "TNR: 0.7435549525101763\n",
      "BER: 0.2873134328358209\n",
      "\n",
      " # PCA Components = 30\n",
      "Training\n",
      "39 336 1124 16\n",
      "Accuracy: 0.7676567656765677\n",
      "TPR: 0.7090909090909091\n",
      "TNR: 0.7698630136986301\n",
      "BER: 0.2605230386052304\n",
      "Validation\n",
      "18 172 560 7\n",
      "Accuracy: 0.7635402906208718\n",
      "TPR: 0.72\n",
      "TNR: 0.7650273224043715\n",
      "BER: 0.25748633879781424\n",
      "Test\n",
      "14 202 535 8\n",
      "Accuracy: 0.7233201581027668\n",
      "TPR: 0.6363636363636364\n",
      "TNR: 0.7259158751696065\n",
      "BER: 0.31886024423337855\n",
      "\n",
      " # PCA Components = 35\n"
     ]
    },
    {
     "name": "stderr",
     "output_type": "stream",
     "text": [
      "/home/lukeliem/miniconda3/lib/python3.6/site-packages/sklearn/linear_model/logistic.py:432: FutureWarning: Default solver will be changed to 'lbfgs' in 0.22. Specify a solver to silence this warning.\n",
      "  FutureWarning)\n",
      "/home/lukeliem/miniconda3/lib/python3.6/site-packages/sklearn/svm/base.py:929: ConvergenceWarning: Liblinear failed to converge, increase the number of iterations.\n",
      "  \"the number of iterations.\", ConvergenceWarning)\n"
     ]
    },
    {
     "name": "stdout",
     "output_type": "stream",
     "text": [
      "Training\n",
      "40 308 1152 15\n",
      "Accuracy: 0.7867986798679868\n",
      "TPR: 0.7272727272727273\n",
      "TNR: 0.7890410958904109\n",
      "BER: 0.24184308841843083\n",
      "Validation\n",
      "19 150 582 6\n",
      "Accuracy: 0.7939233817701453\n",
      "TPR: 0.76\n",
      "TNR: 0.7950819672131147\n",
      "BER: 0.22245901639344257\n",
      "Test\n",
      "16 172 565 6\n",
      "Accuracy: 0.7654808959156785\n",
      "TPR: 0.7272727272727273\n",
      "TNR: 0.7666214382632293\n",
      "BER: 0.2530529172320217\n",
      "\n",
      " # PCA Components = 40\n",
      "Training\n"
     ]
    },
    {
     "name": "stderr",
     "output_type": "stream",
     "text": [
      "/home/lukeliem/miniconda3/lib/python3.6/site-packages/sklearn/linear_model/logistic.py:432: FutureWarning: Default solver will be changed to 'lbfgs' in 0.22. Specify a solver to silence this warning.\n",
      "  FutureWarning)\n",
      "/home/lukeliem/miniconda3/lib/python3.6/site-packages/sklearn/svm/base.py:929: ConvergenceWarning: Liblinear failed to converge, increase the number of iterations.\n",
      "  \"the number of iterations.\", ConvergenceWarning)\n",
      "/home/lukeliem/miniconda3/lib/python3.6/site-packages/sklearn/linear_model/logistic.py:432: FutureWarning: Default solver will be changed to 'lbfgs' in 0.22. Specify a solver to silence this warning.\n",
      "  FutureWarning)\n"
     ]
    },
    {
     "name": "stdout",
     "output_type": "stream",
     "text": [
      "40 312 1148 15\n",
      "Accuracy: 0.7841584158415842\n",
      "TPR: 0.7272727272727273\n",
      "TNR: 0.7863013698630137\n",
      "BER: 0.2432129514321295\n",
      "Validation\n",
      "18 158 574 7\n",
      "Accuracy: 0.7820343461030383\n",
      "TPR: 0.72\n",
      "TNR: 0.7841530054644809\n",
      "BER: 0.24792349726775953\n",
      "Test\n",
      "15 190 547 7\n",
      "Accuracy: 0.7404479578392622\n",
      "TPR: 0.6818181818181818\n",
      "TNR: 0.7421981004070556\n",
      "BER: 0.2879918588873813\n",
      "\n",
      " # PCA Components = 45\n"
     ]
    },
    {
     "name": "stderr",
     "output_type": "stream",
     "text": [
      "/home/lukeliem/miniconda3/lib/python3.6/site-packages/sklearn/svm/base.py:929: ConvergenceWarning: Liblinear failed to converge, increase the number of iterations.\n",
      "  \"the number of iterations.\", ConvergenceWarning)\n",
      "/home/lukeliem/miniconda3/lib/python3.6/site-packages/sklearn/linear_model/logistic.py:432: FutureWarning: Default solver will be changed to 'lbfgs' in 0.22. Specify a solver to silence this warning.\n",
      "  FutureWarning)\n"
     ]
    },
    {
     "name": "stdout",
     "output_type": "stream",
     "text": [
      "Training\n",
      "40 304 1156 15\n",
      "Accuracy: 0.7894389438943894\n",
      "TPR: 0.7272727272727273\n",
      "TNR: 0.7917808219178082\n",
      "BER: 0.24047322540473226\n",
      "Validation\n",
      "18 148 584 7\n",
      "Accuracy: 0.7952443857331571\n",
      "TPR: 0.72\n",
      "TNR: 0.7978142076502732\n",
      "BER: 0.2410928961748634\n",
      "Test\n",
      "15 177 560 7\n",
      "Accuracy: 0.7575757575757576\n",
      "TPR: 0.6818181818181818\n",
      "TNR: 0.7598371777476255\n",
      "BER: 0.27917232021709637\n",
      "\n",
      " # PCA Components = 50\n"
     ]
    },
    {
     "name": "stderr",
     "output_type": "stream",
     "text": [
      "/home/lukeliem/miniconda3/lib/python3.6/site-packages/sklearn/svm/base.py:929: ConvergenceWarning: Liblinear failed to converge, increase the number of iterations.\n",
      "  \"the number of iterations.\", ConvergenceWarning)\n",
      "/home/lukeliem/miniconda3/lib/python3.6/site-packages/sklearn/linear_model/logistic.py:432: FutureWarning: Default solver will be changed to 'lbfgs' in 0.22. Specify a solver to silence this warning.\n",
      "  FutureWarning)\n"
     ]
    },
    {
     "name": "stdout",
     "output_type": "stream",
     "text": [
      "Training\n",
      "40 319 1141 15\n",
      "Accuracy: 0.7795379537953795\n",
      "TPR: 0.7272727272727273\n",
      "TNR: 0.7815068493150685\n",
      "BER: 0.2456102117061021\n",
      "Validation\n",
      "18 163 569 7\n",
      "Accuracy: 0.7754293262879789\n",
      "TPR: 0.72\n",
      "TNR: 0.7773224043715847\n",
      "BER: 0.25133879781420765\n",
      "Test\n",
      "14 193 544 8\n",
      "Accuracy: 0.7351778656126482\n",
      "TPR: 0.6363636363636364\n",
      "TNR: 0.7381275440976933\n",
      "BER: 0.3127544097693351\n",
      "\n",
      " # PCA Components = 55\n"
     ]
    },
    {
     "name": "stderr",
     "output_type": "stream",
     "text": [
      "/home/lukeliem/miniconda3/lib/python3.6/site-packages/sklearn/svm/base.py:929: ConvergenceWarning: Liblinear failed to converge, increase the number of iterations.\n",
      "  \"the number of iterations.\", ConvergenceWarning)\n",
      "/home/lukeliem/miniconda3/lib/python3.6/site-packages/sklearn/linear_model/logistic.py:432: FutureWarning: Default solver will be changed to 'lbfgs' in 0.22. Specify a solver to silence this warning.\n",
      "  FutureWarning)\n"
     ]
    },
    {
     "name": "stdout",
     "output_type": "stream",
     "text": [
      "Training\n",
      "41 334 1126 14\n",
      "Accuracy: 0.7702970297029703\n",
      "TPR: 0.7454545454545455\n",
      "TNR: 0.7712328767123288\n",
      "BER: 0.24165628891656288\n",
      "Validation\n",
      "18 169 563 7\n",
      "Accuracy: 0.7675033025099075\n",
      "TPR: 0.72\n",
      "TNR: 0.7691256830601093\n",
      "BER: 0.2554371584699453\n",
      "Test\n",
      "15 198 539 7\n",
      "Accuracy: 0.7299077733860343\n",
      "TPR: 0.6818181818181818\n",
      "TNR: 0.7313432835820896\n",
      "BER: 0.29341926729986434\n",
      "\n",
      " # PCA Components = 60\n"
     ]
    },
    {
     "name": "stderr",
     "output_type": "stream",
     "text": [
      "/home/lukeliem/miniconda3/lib/python3.6/site-packages/sklearn/svm/base.py:929: ConvergenceWarning: Liblinear failed to converge, increase the number of iterations.\n",
      "  \"the number of iterations.\", ConvergenceWarning)\n",
      "/home/lukeliem/miniconda3/lib/python3.6/site-packages/sklearn/linear_model/logistic.py:432: FutureWarning: Default solver will be changed to 'lbfgs' in 0.22. Specify a solver to silence this warning.\n",
      "  FutureWarning)\n"
     ]
    },
    {
     "name": "stdout",
     "output_type": "stream",
     "text": [
      "Training\n",
      "40 319 1141 15\n",
      "Accuracy: 0.7795379537953795\n",
      "TPR: 0.7272727272727273\n",
      "TNR: 0.7815068493150685\n",
      "BER: 0.2456102117061021\n",
      "Validation\n",
      "18 160 572 7\n",
      "Accuracy: 0.7793923381770145\n",
      "TPR: 0.72\n",
      "TNR: 0.7814207650273224\n",
      "BER: 0.24928961748633882\n",
      "Test\n",
      "14 190 547 8\n",
      "Accuracy: 0.7391304347826086\n",
      "TPR: 0.6363636363636364\n",
      "TNR: 0.7421981004070556\n",
      "BER: 0.31071913161465403\n",
      "\n",
      " # PCA Components = 65\n",
      "Training\n",
      "40 294 1166 15\n",
      "Accuracy: 0.7960396039603961\n",
      "TPR: 0.7272727272727273\n",
      "TNR: 0.7986301369863014\n",
      "BER: 0.23704856787048567\n",
      "Validation\n",
      "18 141 591 7\n",
      "Accuracy: 0.8044914134742405\n",
      "TPR: 0.72\n",
      "TNR: 0.8073770491803278\n",
      "BER: 0.2363114754098361\n",
      "Test\n",
      "15 165 572 7\n",
      "Accuracy: 0.7733860342555995\n",
      "TPR: 0.6818181818181818\n",
      "TNR: 0.7761194029850746\n",
      "BER: 0.27103120759837185\n"
     ]
    },
    {
     "name": "stderr",
     "output_type": "stream",
     "text": [
      "/home/lukeliem/miniconda3/lib/python3.6/site-packages/sklearn/svm/base.py:929: ConvergenceWarning: Liblinear failed to converge, increase the number of iterations.\n",
      "  \"the number of iterations.\", ConvergenceWarning)\n"
     ]
    }
   ],
   "source": [
    "N_values = [5,10,15,20,25,30,35,40,45,50,55,60,65]\n",
    "\n",
    "train_accuracies=[]\n",
    "train_TPRs=[]\n",
    "train_TNRs=[]\n",
    "train_BERs=[]\n",
    "\n",
    "valid_accuracies=[]\n",
    "valid_TPRs=[]\n",
    "valid_TNRs=[]\n",
    "valid_BERs=[]\n",
    "\n",
    "test_accuracies=[]\n",
    "test_TPRs=[]\n",
    "test_TNRs=[]\n",
    "test_BERs=[]\n",
    "\n",
    "for N in N_values:\n",
    "    \n",
    "    print (\"\\n # PCA Components = {}\".format(N))\n",
    "    # Set PCA n_components\n",
    "    pca = PCA(n_components=N)\n",
    "    pca.fit(Xtrain)\n",
    "    \n",
    "    # Rotate the datasets\n",
    "    Xpca_train = numpy.matmul(Xtrain, pca.components_.T)\n",
    "    Xpca_valid = numpy.matmul(Xvalid, pca.components_.T)\n",
    "    Xpca_test = numpy.matmul(Xtest, pca.components_.T)\n",
    "    \n",
    "    model = linear_model.LogisticRegression(C=1.0, class_weight='balanced')\n",
    "    model.fit(Xpca_train, ytrain)\n",
    "    \n",
    "    train_pred = model.predict(Xpca_train)\n",
    "    valid_pred = model.predict(Xpca_valid)\n",
    "    test_pred = model.predict(Xpca_test)\n",
    "    \n",
    "    print (\"Training\")\n",
    "    TP,FP,TN,FN = calc_metrics(train_pred,ytrain)\n",
    "    print(TP,FP,TN,FN)\n",
    "\n",
    "    accuracy, TPR, TNR, BER = calc_error_rates(TP, FP, TN, FN)\n",
    "    print(\"Accuracy: {}\".format(accuracy))\n",
    "    print(\"TPR: {}\".format(TPR))\n",
    "    print(\"TNR: {}\".format(TNR))\n",
    "    print(\"BER: {}\".format(BER))\n",
    "    \n",
    "    train_accuracies.append(accuracy)\n",
    "    train_TPRs.append(TPR)\n",
    "    train_TNRs.append(TNR)\n",
    "    train_BERs.append(BER)\n",
    "\n",
    "    print (\"Validation\")\n",
    "    TP,FP,TN,FN = calc_metrics(valid_pred,yvalid)\n",
    "    print(TP,FP,TN,FN)\n",
    "\n",
    "    accuracy, TPR, TNR, BER = calc_error_rates(TP, FP, TN, FN)\n",
    "    print(\"Accuracy: {}\".format(accuracy))\n",
    "    print(\"TPR: {}\".format(TPR))\n",
    "    print(\"TNR: {}\".format(TNR))\n",
    "    print(\"BER: {}\".format(BER))\n",
    "    \n",
    "    valid_accuracies.append(accuracy)\n",
    "    valid_TPRs.append(TPR)\n",
    "    valid_TNRs.append(TNR)\n",
    "    valid_BERs.append(BER)\n",
    "    \n",
    "    print (\"Test\")\n",
    "    TP,FP,TN,FN = calc_metrics(test_pred,ytest)\n",
    "    print(TP,FP,TN,FN)\n",
    "\n",
    "    accuracy, TPR, TNR, BER = calc_error_rates(TP, FP, TN, FN)\n",
    "    print(\"Accuracy: {}\".format(accuracy))\n",
    "    print(\"TPR: {}\".format(TPR))\n",
    "    print(\"TNR: {}\".format(TNR))\n",
    "    print(\"BER: {}\".format(BER))\n",
    "    \n",
    "    test_accuracies.append(accuracy)\n",
    "    test_TPRs.append(TPR)\n",
    "    test_TNRs.append(TNR)\n",
    "    test_BERs.append(BER)\n",
    "    "
   ]
  },
  {
   "cell_type": "markdown",
   "metadata": {},
   "source": [
    "## (8) Validation and Test BER of a model using first N PCA components\n",
    "\n",
    "Hyperparameter search on N={5,10,.., 65}. The optimal BER is achieved when N=35."
   ]
  },
  {
   "cell_type": "code",
   "execution_count": 142,
   "metadata": {},
   "outputs": [
    {
     "name": "stdout",
     "output_type": "stream",
     "text": [
      "[0.341120218579235, 0.42275956284153005, 0.3118306010928962, 0.25953551912568307, 0.24655737704918035, 0.25748633879781424, 0.22245901639344257, 0.24792349726775953, 0.2410928961748634, 0.25133879781420765, 0.2554371584699453, 0.24928961748633882, 0.2363114754098361]\n"
     ]
    }
   ],
   "source": [
    "print(valid_BERs)"
   ]
  },
  {
   "cell_type": "code",
   "execution_count": 139,
   "metadata": {},
   "outputs": [
    {
     "name": "stdout",
     "output_type": "stream",
     "text": [
      "[0.30834464043419274, 0.39382632293080055, 0.33649932157394846, 0.32666214382632286, 0.31614654002713705, 0.31071913161465403, 0.2523744911804613, 0.24898236092265935]\n"
     ]
    }
   ],
   "source": [
    "print(test_BERs)"
   ]
  },
  {
   "cell_type": "code",
   "execution_count": 143,
   "metadata": {},
   "outputs": [
    {
     "data": {
      "image/png": "[encoded data removed]",
      "text/plain": [
       "<matplotlib.figure.Figure at 0x7fb9bc85dc18>"
      ]
     },
     "metadata": {},
     "output_type": "display_data"
    }
   ],
   "source": [
    "import matplotlib\n",
    "import matplotlib.pyplot as plt\n",
    "\n",
    "plt.figure(figsize=(10,7))\n",
    "\n",
    "plt.xlabel('Num PCA Components')\n",
    "plt.title('Training, Validation and Test BER')\n",
    "plt.grid(True)\n",
    "\n",
    "plt.plot(N_values, test_BERs, label='Test BER')\n",
    "plt.plot(N_values, valid_BERs, label='Validation BER')\n",
    "plt.plot(N_values, train_BERs, label='Training BER')\n",
    "\n",
    "plt.legend()\n",
    "plt.show()"
   ]
  },
  {
   "cell_type": "code",
   "execution_count": null,
   "metadata": {},
   "outputs": [],
   "source": []
  }
 ],
 "metadata": {
  "kernelspec": {
   "display_name": "Python [default]",
   "language": "python",
   "name": "python3"
  },
  "language_info": {
   "codemirror_mode": {
    "name": "ipython",
    "version": 3
   },
   "file_extension": ".py",
   "mimetype": "text/x-python",
   "name": "python",
   "nbconvert_exporter": "python",
   "pygments_lexer": "ipython3",
   "version": "3.6.4"
  }
 },
 "nbformat": 4,
 "nbformat_minor": 2
}
