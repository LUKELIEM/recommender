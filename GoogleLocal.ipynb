{
 "cells": [
  {
   "cell_type": "code",
   "execution_count": 38,
   "metadata": {},
   "outputs": [],
   "source": [
    "import torch\n",
    "from torch.autograd import Variable\n",
    "from collections import defaultdict\n",
    "import csv\n",
    "import numpy as np\n",
    "import random\n",
    "import matplotlib.pyplot as plt\n",
    "import math\n",
    "\n",
    "import pandas as pd "
   ]
  },
  {
   "cell_type": "code",
   "execution_count": 2,
   "metadata": {},
   "outputs": [
    {
     "name": "stdout",
     "output_type": "stream",
     "text": [
      "1.1.0\n"
     ]
    }
   ],
   "source": [
    "print(torch.__version__)"
   ]
  },
  {
   "cell_type": "code",
   "execution_count": 3,
   "metadata": {},
   "outputs": [
    {
     "name": "stdout",
     "output_type": "stream",
     "text": [
      "100000010817154263736 ['Thành phố Hồ Chí Minh, Việt Nam', [[], 108230990, 1066296640, 1]]\n",
      "100000013500285534661 ['Adana', [[], 370000000, 353213330, 1]]\n",
      "100000021336848867366 None\n",
      "100000030557048145331 None\n",
      "100000032416892623125 None\n",
      "100000035085750632094 ['Pomona, CA', [[], 340552270, -1177523050, 1]]\n",
      "100000036174088924566 None\n",
      "100000037905537879319 None\n",
      "100000039815955317902 None\n",
      "100000042779388982190 None\n",
      "100000043260896241030 None\n",
      "100000050936341836015 None\n",
      "100000053212755369563 None\n",
      "100000059843227870895 None\n",
      "100000062743976665256 None\n",
      "100000064326457959539 None\n",
      "100000067656171981860 ['roma', [[], 418954660, 124823240, 1]]\n",
      "100000069918550320216 None\n",
      "100000078935887875612 None\n"
     ]
    }
   ],
   "source": [
    "fname = \"../datasets/google_local/users.clean.json\"\n",
    "users_fname = \"../datasets/google_local/users.cvs\"\n",
    "\n",
    "i = 0\n",
    "for l in open(fname):\n",
    "    i += 1\n",
    "    if i < 20:\n",
    "        data = eval(l)\n",
    "    else:\n",
    "        break\n",
    "    \n",
    "    print(data['gPlusUserId'],data['currentPlace'] )\n",
    "    # print(data)"
   ]
  },
  {
   "cell_type": "code",
   "execution_count": 4,
   "metadata": {},
   "outputs": [
    {
     "name": "stdout",
     "output_type": "stream",
     "text": [
      "104699454385822125632 [33.703804, -117.003209]\n",
      "103054478949000078829 [38.979759, -76.547538]\n",
      "109810290098030327104 [43.22776, 44.762726]\n",
      "100327153115986850675 [43.529494, -96.792244]\n",
      "103368487323937936043 [-2.976256, 104.742662]\n",
      "103903929544828620241 [48.767817, 8.75612]\n",
      "103848836623683146185 [37.576427, -101.386182]\n",
      "114537653478141145113 [1.572255, 110.362958]\n",
      "100062881646354125752 [35.224978, 139.088382]\n",
      "118222137795476771294 [45.535176, -122.862242]\n",
      "106432060150136868000 [39.692899, -84.136173]\n",
      "111282238562509982741 [29.337011, -81.128647]\n",
      "104869934485244376571 [40.9908, -76.0117]\n",
      "107096337073237318840 [32.414204, 131.63109]\n",
      "101043078960050199039 [27.926719, -82.326991]\n",
      "111230142112807464303 [29.979443, -95.439439]\n",
      "102351867462083324344 [35.251385, 139.159618]\n",
      "115604558784949331949 [18.596771, 73.742188]\n",
      "100781305512646551142 [37.524039, 126.926004]\n"
     ]
    }
   ],
   "source": [
    "fname = \"../datasets/google_local/places.clean.json\"\n",
    "users_fname = \"../datasets/google_local/places.cvs\"\n",
    "\n",
    "i = 0\n",
    "for l in open(fname):\n",
    "    i += 1\n",
    "    if i < 20:\n",
    "        data = eval(l)\n",
    "    else:\n",
    "        break\n",
    "    \n",
    "    print(data['gPlusPlaceId'],data['gps'] )\n",
    "    # print(data)"
   ]
  },
  {
   "cell_type": "code",
   "execution_count": 5,
   "metadata": {},
   "outputs": [],
   "source": [
    "fname = \"../datasets/google_local/reviews.clean.json\"\n",
    "review_fname = \"../datasets/google_local/reviews.csv\"\n",
    "\n",
    "reviews = open(review_fname, 'w')\n",
    "reviews.write('gPlusPlaceId' + ',' + 'gPlusUserId' + ',' + 'rating'+ ',' + 'unixReviewTime' + '\\n')\n",
    "\n",
    "for l in open(fname):\n",
    "    data = eval(l)\n",
    "    reviews.write(data['gPlusPlaceId'] +','+ data['gPlusUserId'] +','+ str(data['rating'])  + ','+ \\\n",
    "                      str(data['unixReviewTime']) + '\\n')\n",
    "reviews.close()"
   ]
  },
  {
   "cell_type": "code",
   "execution_count": 5,
   "metadata": {},
   "outputs": [
    {
     "name": "stdout",
     "output_type": "stream",
     "text": [
      "<class 'pandas.core.frame.DataFrame'>\n",
      "RangeIndex: 11453845 entries, 0 to 11453844\n",
      "Data columns (total 4 columns):\n",
      "gPlusPlaceId      object\n",
      "gPlusUserId       object\n",
      "rating            float64\n",
      "unixReviewTime    object\n",
      "dtypes: float64(1), object(3)\n",
      "memory usage: 349.5+ MB\n"
     ]
    }
   ],
   "source": [
    "places = pd.read_csv(\"../datasets/google_local/reviews.csv\")\n",
    "places.info()"
   ]
  },
  {
   "cell_type": "code",
   "execution_count": 6,
   "metadata": {},
   "outputs": [
    {
     "data": {
      "text/html": [
       "<div>\n",
       "<style scoped>\n",
       "    .dataframe tbody tr th:only-of-type {\n",
       "        vertical-align: middle;\n",
       "    }\n",
       "\n",
       "    .dataframe tbody tr th {\n",
       "        vertical-align: top;\n",
       "    }\n",
       "\n",
       "    .dataframe thead th {\n",
       "        text-align: right;\n",
       "    }\n",
       "</style>\n",
       "<table border=\"1\" class=\"dataframe\">\n",
       "  <thead>\n",
       "    <tr style=\"text-align: right;\">\n",
       "      <th></th>\n",
       "      <th>gPlusPlaceId</th>\n",
       "      <th>gPlusUserId</th>\n",
       "      <th>rating</th>\n",
       "      <th>unixReviewTime</th>\n",
       "    </tr>\n",
       "  </thead>\n",
       "  <tbody>\n",
       "    <tr>\n",
       "      <th>0</th>\n",
       "      <td>108103314380004200232</td>\n",
       "      <td>100000010817154263736</td>\n",
       "      <td>3.0</td>\n",
       "      <td>1372686659</td>\n",
       "    </tr>\n",
       "    <tr>\n",
       "      <th>1</th>\n",
       "      <td>102194128241608748649</td>\n",
       "      <td>100000013500285534661</td>\n",
       "      <td>5.0</td>\n",
       "      <td>1342870724</td>\n",
       "    </tr>\n",
       "    <tr>\n",
       "      <th>2</th>\n",
       "      <td>101409858828175402384</td>\n",
       "      <td>100000021336848867366</td>\n",
       "      <td>5.0</td>\n",
       "      <td>1390653513</td>\n",
       "    </tr>\n",
       "    <tr>\n",
       "      <th>3</th>\n",
       "      <td>101477177500158511502</td>\n",
       "      <td>100000021336848867366</td>\n",
       "      <td>5.0</td>\n",
       "      <td>1389187706</td>\n",
       "    </tr>\n",
       "    <tr>\n",
       "      <th>4</th>\n",
       "      <td>106994170641063333085</td>\n",
       "      <td>100000021336848867366</td>\n",
       "      <td>4.0</td>\n",
       "      <td>1390486279</td>\n",
       "    </tr>\n",
       "  </tbody>\n",
       "</table>\n",
       "</div>"
      ],
      "text/plain": [
       "            gPlusPlaceId            gPlusUserId  rating unixReviewTime\n",
       "0  108103314380004200232  100000010817154263736     3.0     1372686659\n",
       "1  102194128241608748649  100000013500285534661     5.0     1342870724\n",
       "2  101409858828175402384  100000021336848867366     5.0     1390653513\n",
       "3  101477177500158511502  100000021336848867366     5.0     1389187706\n",
       "4  106994170641063333085  100000021336848867366     4.0     1390486279"
      ]
     },
     "execution_count": 6,
     "metadata": {},
     "output_type": "execute_result"
    }
   ],
   "source": [
    "places.head()"
   ]
  },
  {
   "cell_type": "code",
   "execution_count": 7,
   "metadata": {},
   "outputs": [
    {
     "data": {
      "image/png": "[encoded data removed]",
      "text/plain": [
       "<Figure size 432x288 with 1 Axes>"
      ]
     },
     "metadata": {},
     "output_type": "display_data"
    }
   ],
   "source": [
    "import seaborn as sns \n",
    "\n",
    "places['rating'].describe()\n",
    "\n",
    "sns.distplot(places['rating'],kde=False)\n",
    "plt.ylabel('Number of records')\n",
    "plt.show()"
   ]
  },
  {
   "cell_type": "code",
   "execution_count": 8,
   "metadata": {},
   "outputs": [
    {
     "data": {
      "text/plain": [
       "count                  11453845\n",
       "unique                  3116785\n",
       "top       118197036100848201903\n",
       "freq                       1662\n",
       "Name: gPlusPlaceId, dtype: object"
      ]
     },
     "execution_count": 8,
     "metadata": {},
     "output_type": "execute_result"
    }
   ],
   "source": [
    "places['gPlusPlaceId'].describe()"
   ]
  },
  {
   "cell_type": "code",
   "execution_count": 9,
   "metadata": {},
   "outputs": [
    {
     "data": {
      "text/plain": [
       "count                  11453845\n",
       "unique                  5054567\n",
       "top       100689039355298728862\n",
       "freq                       3221\n",
       "Name: gPlusUserId, dtype: object"
      ]
     },
     "execution_count": 9,
     "metadata": {},
     "output_type": "execute_result"
    }
   ],
   "source": [
    "places['gPlusUserId'].describe()"
   ]
  },
  {
   "cell_type": "code",
   "execution_count": 6,
   "metadata": {},
   "outputs": [
    {
     "name": "stdout",
     "output_type": "stream",
     "text": [
      "3116785\n",
      "5054567\n"
     ]
    }
   ],
   "source": [
    "place_ids = places['gPlusPlaceId'].unique()\n",
    "print(len(place_ids))\n",
    "\n",
    "user_ids = places['gPlusUserId'].unique()\n",
    "print(len(user_ids))"
   ]
  },
  {
   "cell_type": "code",
   "execution_count": 7,
   "metadata": {},
   "outputs": [],
   "source": [
    "place_freq = places['gPlusPlaceId'].value_counts()"
   ]
  },
  {
   "cell_type": "code",
   "execution_count": 8,
   "metadata": {},
   "outputs": [
    {
     "data": {
      "text/plain": [
       "186075"
      ]
     },
     "execution_count": 8,
     "metadata": {},
     "output_type": "execute_result"
    }
   ],
   "source": [
    "popularPlaces = place_freq.where(place_freq>10).dropna()\n",
    "\n",
    "len(popularPlaces)"
   ]
  },
  {
   "cell_type": "code",
   "execution_count": 9,
   "metadata": {},
   "outputs": [
    {
     "data": {
      "text/plain": [
       "['118197036100848201903',\n",
       " '113708963026857003945',\n",
       " '107836749011706685871',\n",
       " '114299893842663642400',\n",
       " '105221456964199450690',\n",
       " '104102841184199673397',\n",
       " '106603537575677448372',\n",
       " '111652147815121544598',\n",
       " '110471016000628728985',\n",
       " '107596156349032509891']"
      ]
     },
     "execution_count": 9,
     "metadata": {},
     "output_type": "execute_result"
    }
   ],
   "source": [
    "popular = list(popularPlaces.index)\n",
    "popular[:10]"
   ]
  },
  {
   "cell_type": "code",
   "execution_count": 10,
   "metadata": {},
   "outputs": [
    {
     "data": {
      "text/plain": [
       "2930710"
      ]
     },
     "execution_count": 10,
     "metadata": {},
     "output_type": "execute_result"
    }
   ],
   "source": [
    "unpopularPlaces = place_freq.where(place_freq<=10).dropna()\n",
    "\n",
    "len(unpopularPlaces)"
   ]
  },
  {
   "cell_type": "code",
   "execution_count": 15,
   "metadata": {},
   "outputs": [
    {
     "data": {
      "text/plain": [
       "106174313550867022745    1.0\n",
       "117206567287006496088    1.0\n",
       "101455552251310718382    1.0\n",
       "105989423747024588503    1.0\n",
       "117681682163074753210    1.0\n",
       "114580717568494122648    1.0\n",
       "103779917393801791276    1.0\n",
       "107265599515534139726    1.0\n",
       "103532781815911190520    1.0\n",
       "115215334990553664535    1.0\n",
       "Name: gPlusPlaceId, dtype: float64"
      ]
     },
     "execution_count": 15,
     "metadata": {},
     "output_type": "execute_result"
    }
   ],
   "source": [
    "unpopularPlaces[-10:]"
   ]
  },
  {
   "cell_type": "code",
   "execution_count": 12,
   "metadata": {},
   "outputs": [
    {
     "data": {
      "text/plain": [
       "['115645060619630436232',\n",
       " '111945018419539052112',\n",
       " '103753228841205777597',\n",
       " '107442578096910532491',\n",
       " '102194971723154061725',\n",
       " '105386152160778377107',\n",
       " '107868880398999118099',\n",
       " '114008602831101541059',\n",
       " '105907457049396163929',\n",
       " '108956567732898102764']"
      ]
     },
     "execution_count": 12,
     "metadata": {},
     "output_type": "execute_result"
    }
   ],
   "source": [
    "unpopular = list(unpopularPlaces.index)\n",
    "unpopular[:10]"
   ]
  },
  {
   "cell_type": "markdown",
   "metadata": {},
   "source": [
    "## Less Popular Places - Lower Rating\n",
    "\n"
   ]
  },
  {
   "cell_type": "code",
   "execution_count": 20,
   "metadata": {},
   "outputs": [
    {
     "data": {
      "text/html": [
       "<div>\n",
       "<style scoped>\n",
       "    .dataframe tbody tr th:only-of-type {\n",
       "        vertical-align: middle;\n",
       "    }\n",
       "\n",
       "    .dataframe tbody tr th {\n",
       "        vertical-align: top;\n",
       "    }\n",
       "\n",
       "    .dataframe thead th {\n",
       "        text-align: right;\n",
       "    }\n",
       "</style>\n",
       "<table border=\"1\" class=\"dataframe\">\n",
       "  <thead>\n",
       "    <tr style=\"text-align: right;\">\n",
       "      <th></th>\n",
       "      <th>gPlusPlaceId</th>\n",
       "      <th>gPlusUserId</th>\n",
       "      <th>rating</th>\n",
       "      <th>unixReviewTime</th>\n",
       "    </tr>\n",
       "  </thead>\n",
       "  <tbody>\n",
       "    <tr>\n",
       "      <th>20</th>\n",
       "      <td>110484732624327291509</td>\n",
       "      <td>100000036174088924566</td>\n",
       "      <td>5.0</td>\n",
       "      <td>1388050006</td>\n",
       "    </tr>\n",
       "    <tr>\n",
       "      <th>24</th>\n",
       "      <td>114222269311366452319</td>\n",
       "      <td>100000042779388982190</td>\n",
       "      <td>2.0</td>\n",
       "      <td>1372840159</td>\n",
       "    </tr>\n",
       "    <tr>\n",
       "      <th>26</th>\n",
       "      <td>104231480695579463827</td>\n",
       "      <td>100000050936341836015</td>\n",
       "      <td>5.0</td>\n",
       "      <td>1362944666</td>\n",
       "    </tr>\n",
       "    <tr>\n",
       "      <th>33</th>\n",
       "      <td>110058017192925236130</td>\n",
       "      <td>100000062743976665256</td>\n",
       "      <td>3.0</td>\n",
       "      <td>1380378214</td>\n",
       "    </tr>\n",
       "    <tr>\n",
       "      <th>34</th>\n",
       "      <td>101223243259821862422</td>\n",
       "      <td>100000064326457959539</td>\n",
       "      <td>2.0</td>\n",
       "      <td>1381887379</td>\n",
       "    </tr>\n",
       "  </tbody>\n",
       "</table>\n",
       "</div>"
      ],
      "text/plain": [
       "             gPlusPlaceId            gPlusUserId  rating unixReviewTime\n",
       "20  110484732624327291509  100000036174088924566     5.0     1388050006\n",
       "24  114222269311366452319  100000042779388982190     2.0     1372840159\n",
       "26  104231480695579463827  100000050936341836015     5.0     1362944666\n",
       "33  110058017192925236130  100000062743976665256     3.0     1380378214\n",
       "34  101223243259821862422  100000064326457959539     2.0     1381887379"
      ]
     },
     "execution_count": 20,
     "metadata": {},
     "output_type": "execute_result"
    }
   ],
   "source": [
    "review_pop_places = places[places['gPlusPlaceId'].isin(popular)]\n",
    "\n",
    "review_pop_places.head()"
   ]
  },
  {
   "cell_type": "code",
   "execution_count": 54,
   "metadata": {},
   "outputs": [],
   "source": [
    "review_pop_places.to_csv (r'../datasets/google_local/popPlaces.cvs', index = None, header=True)"
   ]
  },
  {
   "cell_type": "code",
   "execution_count": 21,
   "metadata": {},
   "outputs": [
    {
     "data": {
      "text/html": [
       "<div>\n",
       "<style scoped>\n",
       "    .dataframe tbody tr th:only-of-type {\n",
       "        vertical-align: middle;\n",
       "    }\n",
       "\n",
       "    .dataframe tbody tr th {\n",
       "        vertical-align: top;\n",
       "    }\n",
       "\n",
       "    .dataframe thead th {\n",
       "        text-align: right;\n",
       "    }\n",
       "</style>\n",
       "<table border=\"1\" class=\"dataframe\">\n",
       "  <thead>\n",
       "    <tr style=\"text-align: right;\">\n",
       "      <th></th>\n",
       "      <th>gPlusPlaceId</th>\n",
       "      <th>gPlusUserId</th>\n",
       "      <th>rating</th>\n",
       "      <th>unixReviewTime</th>\n",
       "    </tr>\n",
       "  </thead>\n",
       "  <tbody>\n",
       "    <tr>\n",
       "      <th>0</th>\n",
       "      <td>108103314380004200232</td>\n",
       "      <td>100000010817154263736</td>\n",
       "      <td>3.0</td>\n",
       "      <td>1372686659</td>\n",
       "    </tr>\n",
       "    <tr>\n",
       "      <th>1</th>\n",
       "      <td>102194128241608748649</td>\n",
       "      <td>100000013500285534661</td>\n",
       "      <td>5.0</td>\n",
       "      <td>1342870724</td>\n",
       "    </tr>\n",
       "    <tr>\n",
       "      <th>2</th>\n",
       "      <td>101409858828175402384</td>\n",
       "      <td>100000021336848867366</td>\n",
       "      <td>5.0</td>\n",
       "      <td>1390653513</td>\n",
       "    </tr>\n",
       "    <tr>\n",
       "      <th>3</th>\n",
       "      <td>101477177500158511502</td>\n",
       "      <td>100000021336848867366</td>\n",
       "      <td>5.0</td>\n",
       "      <td>1389187706</td>\n",
       "    </tr>\n",
       "    <tr>\n",
       "      <th>4</th>\n",
       "      <td>106994170641063333085</td>\n",
       "      <td>100000021336848867366</td>\n",
       "      <td>4.0</td>\n",
       "      <td>1390486279</td>\n",
       "    </tr>\n",
       "  </tbody>\n",
       "</table>\n",
       "</div>"
      ],
      "text/plain": [
       "            gPlusPlaceId            gPlusUserId  rating unixReviewTime\n",
       "0  108103314380004200232  100000010817154263736     3.0     1372686659\n",
       "1  102194128241608748649  100000013500285534661     5.0     1342870724\n",
       "2  101409858828175402384  100000021336848867366     5.0     1390653513\n",
       "3  101477177500158511502  100000021336848867366     5.0     1389187706\n",
       "4  106994170641063333085  100000021336848867366     4.0     1390486279"
      ]
     },
     "execution_count": 21,
     "metadata": {},
     "output_type": "execute_result"
    }
   ],
   "source": [
    "review_unpop_places = places[places['gPlusPlaceId'].isin(unpopular)]\n",
    "\n",
    "review_unpop_places.head()"
   ]
  },
  {
   "cell_type": "code",
   "execution_count": 24,
   "metadata": {},
   "outputs": [
    {
     "name": "stdout",
     "output_type": "stream",
     "text": [
      "3.9884472213488045\n"
     ]
    }
   ],
   "source": [
    "unpopularRating_mean = review_unpop_places['rating'].mean()\n",
    "\n",
    "print(unpopularRating_mean)"
   ]
  },
  {
   "cell_type": "code",
   "execution_count": 26,
   "metadata": {},
   "outputs": [
    {
     "name": "stdout",
     "output_type": "stream",
     "text": [
      "4.0\n"
     ]
    }
   ],
   "source": [
    "unpopularRating_median = review_unpop_places['rating'].median()\n",
    "\n",
    "print(unpopularRating_median)"
   ]
  },
  {
   "cell_type": "code",
   "execution_count": 22,
   "metadata": {},
   "outputs": [
    {
     "name": "stdout",
     "output_type": "stream",
     "text": [
      "4.154573200772505\n"
     ]
    }
   ],
   "source": [
    "popularRating_mean = review_pop_places['rating'].mean()\n",
    "\n",
    "print(popularRating_mean)"
   ]
  },
  {
   "cell_type": "code",
   "execution_count": 23,
   "metadata": {},
   "outputs": [
    {
     "name": "stdout",
     "output_type": "stream",
     "text": [
      "5.0\n"
     ]
    }
   ],
   "source": [
    "popularRating_median = review_pop_places['rating'].median()\n",
    "\n",
    "print(popularRating_median)"
   ]
  },
  {
   "cell_type": "code",
   "execution_count": 49,
   "metadata": {},
   "outputs": [
    {
     "data": {
      "text/plain": [
       "(4059520, 1)"
      ]
     },
     "execution_count": 49,
     "metadata": {},
     "output_type": "execute_result"
    }
   ],
   "source": [
    "y_train = np.array(review_pop_places['rating'], dtype=np.float32)\n",
    "y_train = y_train.reshape(-1, 1)\n",
    "\n",
    "y_train.shape"
   ]
  },
  {
   "cell_type": "code",
   "execution_count": 32,
   "metadata": {},
   "outputs": [],
   "source": [
    "x_train = np.array(x_values, dtype=np.float32)\n",
    "x_train = x_train.reshape(-1, 1)\n",
    "\n",
    "y_train = np.array(review_pop_places['rating'], dtype=np.float32)\n",
    "y_train = y_train.reshape(-1, 1)"
   ]
  },
  {
   "cell_type": "code",
   "execution_count": 39,
   "metadata": {},
   "outputs": [],
   "source": [
    "class linearRegression(torch.nn.Module):\n",
    "    def __init__(self, inputSize, outputSize):\n",
    "        super(linearRegression, self).__init__()\n",
    "        self.linear = torch.nn.Linear(inputSize, outputSize)\n",
    "\n",
    "    def forward(self, x):\n",
    "        out = self.linear(x)\n",
    "        return out"
   ]
  },
  {
   "cell_type": "markdown",
   "metadata": {},
   "source": [
    "## Linear Regression Model in PyTorch"
   ]
  },
  {
   "cell_type": "code",
   "execution_count": 40,
   "metadata": {},
   "outputs": [],
   "source": [
    "inputDim = 1        # takes variable 'x' \n",
    "outputDim = 1       # takes variable 'y'\n",
    "learningRate = 0.01 \n",
    "epochs = 100\n",
    "\n",
    "model = linearRegression(inputDim, outputDim)\n",
    "##### For GPU #######\n",
    "if torch.cuda.is_available():\n",
    "    model.cuda()"
   ]
  },
  {
   "cell_type": "code",
   "execution_count": 41,
   "metadata": {},
   "outputs": [],
   "source": [
    "criterion = torch.nn.MSELoss() \n",
    "optimizer = torch.optim.SGD(model.parameters(), lr=learningRate)"
   ]
  },
  {
   "cell_type": "code",
   "execution_count": 42,
   "metadata": {},
   "outputs": [
    {
     "name": "stdout",
     "output_type": "stream",
     "text": [
      "tensor(346.4097, device='cuda:0', grad_fn=<MseLossBackward>)\n",
      "epoch 0, loss 346.4096984863281\n",
      "tensor(28.4164, device='cuda:0', grad_fn=<MseLossBackward>)\n",
      "epoch 1, loss 28.416357040405273\n",
      "tensor(2.4768, device='cuda:0', grad_fn=<MseLossBackward>)\n",
      "epoch 2, loss 2.4768383502960205\n",
      "tensor(0.3593, device='cuda:0', grad_fn=<MseLossBackward>)\n",
      "epoch 3, loss 0.35925766825675964\n",
      "tensor(0.1848, device='cuda:0', grad_fn=<MseLossBackward>)\n",
      "epoch 4, loss 0.184777170419693\n",
      "tensor(0.1688, device='cuda:0', grad_fn=<MseLossBackward>)\n",
      "epoch 5, loss 0.16880939900875092\n",
      "tensor(0.1658, device='cuda:0', grad_fn=<MseLossBackward>)\n",
      "epoch 6, loss 0.16579017043113708\n",
      "tensor(0.1638, device='cuda:0', grad_fn=<MseLossBackward>)\n",
      "epoch 7, loss 0.16384631395339966\n",
      "tensor(0.1620, device='cuda:0', grad_fn=<MseLossBackward>)\n",
      "epoch 8, loss 0.1620091199874878\n",
      "tensor(0.1602, device='cuda:0', grad_fn=<MseLossBackward>)\n",
      "epoch 9, loss 0.1601993292570114\n",
      "tensor(0.1584, device='cuda:0', grad_fn=<MseLossBackward>)\n",
      "epoch 10, loss 0.15841031074523926\n",
      "tensor(0.1566, device='cuda:0', grad_fn=<MseLossBackward>)\n",
      "epoch 11, loss 0.15664152801036835\n",
      "tensor(0.1549, device='cuda:0', grad_fn=<MseLossBackward>)\n",
      "epoch 12, loss 0.1548922061920166\n",
      "tensor(0.1532, device='cuda:0', grad_fn=<MseLossBackward>)\n",
      "epoch 13, loss 0.1531626433134079\n",
      "tensor(0.1515, device='cuda:0', grad_fn=<MseLossBackward>)\n",
      "epoch 14, loss 0.15145225822925568\n",
      "tensor(0.1498, device='cuda:0', grad_fn=<MseLossBackward>)\n",
      "epoch 15, loss 0.14976100623607635\n",
      "tensor(0.1481, device='cuda:0', grad_fn=<MseLossBackward>)\n",
      "epoch 16, loss 0.14808861911296844\n",
      "tensor(0.1464, device='cuda:0', grad_fn=<MseLossBackward>)\n",
      "epoch 17, loss 0.14643491804599762\n",
      "tensor(0.1448, device='cuda:0', grad_fn=<MseLossBackward>)\n",
      "epoch 18, loss 0.1447998434305191\n",
      "tensor(0.1432, device='cuda:0', grad_fn=<MseLossBackward>)\n",
      "epoch 19, loss 0.14318276941776276\n",
      "tensor(0.1416, device='cuda:0', grad_fn=<MseLossBackward>)\n",
      "epoch 20, loss 0.14158396422863007\n",
      "tensor(0.1400, device='cuda:0', grad_fn=<MseLossBackward>)\n",
      "epoch 21, loss 0.14000281691551208\n",
      "tensor(0.1384, device='cuda:0', grad_fn=<MseLossBackward>)\n",
      "epoch 22, loss 0.13843947649002075\n",
      "tensor(0.1369, device='cuda:0', grad_fn=<MseLossBackward>)\n",
      "epoch 23, loss 0.13689355552196503\n",
      "tensor(0.1354, device='cuda:0', grad_fn=<MseLossBackward>)\n",
      "epoch 24, loss 0.135364830493927\n",
      "tensor(0.1339, device='cuda:0', grad_fn=<MseLossBackward>)\n",
      "epoch 25, loss 0.13385328650474548\n",
      "tensor(0.1324, device='cuda:0', grad_fn=<MseLossBackward>)\n",
      "epoch 26, loss 0.13235847651958466\n",
      "tensor(0.1309, device='cuda:0', grad_fn=<MseLossBackward>)\n",
      "epoch 27, loss 0.13088063895702362\n",
      "tensor(0.1294, device='cuda:0', grad_fn=<MseLossBackward>)\n",
      "epoch 28, loss 0.12941893935203552\n",
      "tensor(0.1280, device='cuda:0', grad_fn=<MseLossBackward>)\n",
      "epoch 29, loss 0.1279737800359726\n",
      "tensor(0.1265, device='cuda:0', grad_fn=<MseLossBackward>)\n",
      "epoch 30, loss 0.12654468417167664\n",
      "tensor(0.1251, device='cuda:0', grad_fn=<MseLossBackward>)\n",
      "epoch 31, loss 0.12513156235218048\n",
      "tensor(0.1237, device='cuda:0', grad_fn=<MseLossBackward>)\n",
      "epoch 32, loss 0.1237342581152916\n",
      "tensor(0.1224, device='cuda:0', grad_fn=<MseLossBackward>)\n",
      "epoch 33, loss 0.12235257029533386\n",
      "tensor(0.1210, device='cuda:0', grad_fn=<MseLossBackward>)\n",
      "epoch 34, loss 0.12098629772663116\n",
      "tensor(0.1196, device='cuda:0', grad_fn=<MseLossBackward>)\n",
      "epoch 35, loss 0.11963525414466858\n",
      "tensor(0.1183, device='cuda:0', grad_fn=<MseLossBackward>)\n",
      "epoch 36, loss 0.11829929053783417\n",
      "tensor(0.1170, device='cuda:0', grad_fn=<MseLossBackward>)\n",
      "epoch 37, loss 0.1169782355427742\n",
      "tensor(0.1157, device='cuda:0', grad_fn=<MseLossBackward>)\n",
      "epoch 38, loss 0.1156720221042633\n",
      "tensor(0.1144, device='cuda:0', grad_fn=<MseLossBackward>)\n",
      "epoch 39, loss 0.11438031494617462\n",
      "tensor(0.1131, device='cuda:0', grad_fn=<MseLossBackward>)\n",
      "epoch 40, loss 0.11310303211212158\n",
      "tensor(0.1118, device='cuda:0', grad_fn=<MseLossBackward>)\n",
      "epoch 41, loss 0.11183995753526688\n",
      "tensor(0.1106, device='cuda:0', grad_fn=<MseLossBackward>)\n",
      "epoch 42, loss 0.11059107631444931\n",
      "tensor(0.1094, device='cuda:0', grad_fn=<MseLossBackward>)\n",
      "epoch 43, loss 0.1093561202287674\n",
      "tensor(0.1081, device='cuda:0', grad_fn=<MseLossBackward>)\n",
      "epoch 44, loss 0.10813503712415695\n",
      "tensor(0.1069, device='cuda:0', grad_fn=<MseLossBackward>)\n",
      "epoch 45, loss 0.10692746937274933\n",
      "tensor(0.1057, device='cuda:0', grad_fn=<MseLossBackward>)\n",
      "epoch 46, loss 0.10573344677686691\n",
      "tensor(0.1046, device='cuda:0', grad_fn=<MseLossBackward>)\n",
      "epoch 47, loss 0.10455277562141418\n",
      "tensor(0.1034, device='cuda:0', grad_fn=<MseLossBackward>)\n",
      "epoch 48, loss 0.10338518023490906\n",
      "tensor(0.1022, device='cuda:0', grad_fn=<MseLossBackward>)\n",
      "epoch 49, loss 0.10223075747489929\n",
      "tensor(0.1011, device='cuda:0', grad_fn=<MseLossBackward>)\n",
      "epoch 50, loss 0.10108911991119385\n",
      "tensor(0.1000, device='cuda:0', grad_fn=<MseLossBackward>)\n",
      "epoch 51, loss 0.09996021538972855\n",
      "tensor(0.0988, device='cuda:0', grad_fn=<MseLossBackward>)\n",
      "epoch 52, loss 0.09884405881166458\n",
      "tensor(0.0977, device='cuda:0', grad_fn=<MseLossBackward>)\n",
      "epoch 53, loss 0.0977402925491333\n",
      "tensor(0.0966, device='cuda:0', grad_fn=<MseLossBackward>)\n",
      "epoch 54, loss 0.09664881974458694\n",
      "tensor(0.0956, device='cuda:0', grad_fn=<MseLossBackward>)\n",
      "epoch 55, loss 0.09556963294744492\n",
      "tensor(0.0945, device='cuda:0', grad_fn=<MseLossBackward>)\n",
      "epoch 56, loss 0.09450230747461319\n",
      "tensor(0.0934, device='cuda:0', grad_fn=<MseLossBackward>)\n",
      "epoch 57, loss 0.0934469997882843\n",
      "tensor(0.0924, device='cuda:0', grad_fn=<MseLossBackward>)\n",
      "epoch 58, loss 0.09240350127220154\n",
      "tensor(0.0914, device='cuda:0', grad_fn=<MseLossBackward>)\n",
      "epoch 59, loss 0.09137167781591415\n",
      "tensor(0.0904, device='cuda:0', grad_fn=<MseLossBackward>)\n",
      "epoch 60, loss 0.09035137295722961\n",
      "tensor(0.0893, device='cuda:0', grad_fn=<MseLossBackward>)\n",
      "epoch 61, loss 0.0893423855304718\n",
      "tensor(0.0883, device='cuda:0', grad_fn=<MseLossBackward>)\n",
      "epoch 62, loss 0.0883447453379631\n",
      "tensor(0.0874, device='cuda:0', grad_fn=<MseLossBackward>)\n",
      "epoch 63, loss 0.087358258664608\n",
      "tensor(0.0864, device='cuda:0', grad_fn=<MseLossBackward>)\n",
      "epoch 64, loss 0.0863826796412468\n",
      "tensor(0.0854, device='cuda:0', grad_fn=<MseLossBackward>)\n",
      "epoch 65, loss 0.08541803807020187\n",
      "tensor(0.0845, device='cuda:0', grad_fn=<MseLossBackward>)\n",
      "epoch 66, loss 0.08446422219276428\n",
      "tensor(0.0835, device='cuda:0', grad_fn=<MseLossBackward>)\n",
      "epoch 67, loss 0.08352097123861313\n",
      "tensor(0.0826, device='cuda:0', grad_fn=<MseLossBackward>)\n",
      "epoch 68, loss 0.08258828520774841\n",
      "tensor(0.0817, device='cuda:0', grad_fn=<MseLossBackward>)\n",
      "epoch 69, loss 0.08166608214378357\n",
      "tensor(0.0808, device='cuda:0', grad_fn=<MseLossBackward>)\n",
      "epoch 70, loss 0.08075415343046188\n",
      "tensor(0.0799, device='cuda:0', grad_fn=<MseLossBackward>)\n",
      "epoch 71, loss 0.07985231280326843\n",
      "tensor(0.0790, device='cuda:0', grad_fn=<MseLossBackward>)\n",
      "epoch 72, loss 0.07896066457033157\n",
      "tensor(0.0781, device='cuda:0', grad_fn=<MseLossBackward>)\n",
      "epoch 73, loss 0.0780789777636528\n",
      "tensor(0.0772, device='cuda:0', grad_fn=<MseLossBackward>)\n",
      "epoch 74, loss 0.07720699906349182\n",
      "tensor(0.0763, device='cuda:0', grad_fn=<MseLossBackward>)\n",
      "epoch 75, loss 0.07634489983320236\n",
      "tensor(0.0755, device='cuda:0', grad_fn=<MseLossBackward>)\n",
      "epoch 76, loss 0.07549233734607697\n",
      "tensor(0.0746, device='cuda:0', grad_fn=<MseLossBackward>)\n",
      "epoch 77, loss 0.07464934885501862\n",
      "tensor(0.0738, device='cuda:0', grad_fn=<MseLossBackward>)\n",
      "epoch 78, loss 0.0738157108426094\n",
      "tensor(0.0730, device='cuda:0', grad_fn=<MseLossBackward>)\n",
      "epoch 79, loss 0.07299146801233292\n",
      "tensor(0.0722, device='cuda:0', grad_fn=<MseLossBackward>)\n",
      "epoch 80, loss 0.07217635959386826\n",
      "tensor(0.0714, device='cuda:0', grad_fn=<MseLossBackward>)\n",
      "epoch 81, loss 0.07137038558721542\n",
      "tensor(0.0706, device='cuda:0', grad_fn=<MseLossBackward>)\n",
      "epoch 82, loss 0.07057342678308487\n",
      "tensor(0.0698, device='cuda:0', grad_fn=<MseLossBackward>)\n",
      "epoch 83, loss 0.06978526711463928\n",
      "tensor(0.0690, device='cuda:0', grad_fn=<MseLossBackward>)\n",
      "epoch 84, loss 0.06900601834058762\n",
      "tensor(0.0682, device='cuda:0', grad_fn=<MseLossBackward>)\n",
      "epoch 85, loss 0.06823544949293137\n",
      "tensor(0.0675, device='cuda:0', grad_fn=<MseLossBackward>)\n",
      "epoch 86, loss 0.06747350841760635\n",
      "tensor(0.0667, device='cuda:0', grad_fn=<MseLossBackward>)\n",
      "epoch 87, loss 0.06671995669603348\n",
      "tensor(0.0660, device='cuda:0', grad_fn=<MseLossBackward>)\n",
      "epoch 88, loss 0.0659748986363411\n",
      "tensor(0.0652, device='cuda:0', grad_fn=<MseLossBackward>)\n",
      "epoch 89, loss 0.06523821502923965\n",
      "tensor(0.0645, device='cuda:0', grad_fn=<MseLossBackward>)\n",
      "epoch 90, loss 0.06450966745615005\n",
      "tensor(0.0638, device='cuda:0', grad_fn=<MseLossBackward>)\n",
      "epoch 91, loss 0.06378932297229767\n",
      "tensor(0.0631, device='cuda:0', grad_fn=<MseLossBackward>)\n",
      "epoch 92, loss 0.06307702511548996\n",
      "tensor(0.0624, device='cuda:0', grad_fn=<MseLossBackward>)\n",
      "epoch 93, loss 0.06237272918224335\n",
      "tensor(0.0617, device='cuda:0', grad_fn=<MseLossBackward>)\n",
      "epoch 94, loss 0.061676159501075745\n",
      "tensor(0.0610, device='cuda:0', grad_fn=<MseLossBackward>)\n",
      "epoch 95, loss 0.06098740175366402\n",
      "tensor(0.0603, device='cuda:0', grad_fn=<MseLossBackward>)\n",
      "epoch 96, loss 0.0603063702583313\n",
      "tensor(0.0596, device='cuda:0', grad_fn=<MseLossBackward>)\n",
      "epoch 97, loss 0.05963294580578804\n",
      "tensor(0.0590, device='cuda:0', grad_fn=<MseLossBackward>)\n",
      "epoch 98, loss 0.058967068791389465\n",
      "tensor(0.0583, device='cuda:0', grad_fn=<MseLossBackward>)\n",
      "epoch 99, loss 0.058308567851781845\n"
     ]
    }
   ],
   "source": [
    "for epoch in range(epochs):\n",
    "    # Converting inputs and labels to Variable\n",
    "    if torch.cuda.is_available():\n",
    "        inputs = Variable(torch.from_numpy(x_train).cuda())\n",
    "        labels = Variable(torch.from_numpy(y_train).cuda())\n",
    "    else:\n",
    "        inputs = Variable(torch.from_numpy(x_train))\n",
    "        labels = Variable(torch.from_numpy(y_train))\n",
    "\n",
    "    # Clear gradient buffers because we don't want any gradient from previous epoch to carry forward, dont want to cummulate gradients\n",
    "    optimizer.zero_grad()\n",
    "\n",
    "    # get output from the model, given the inputs\n",
    "    outputs = model(inputs)\n",
    "\n",
    "    # get loss for the predicted output\n",
    "    loss = criterion(outputs, labels)\n",
    "    print(loss)\n",
    "    # get gradients w.r.t to parameters\n",
    "    loss.backward()\n",
    "\n",
    "    # update parameters\n",
    "    optimizer.step()\n",
    "\n",
    "    print('epoch {}, loss {}'.format(epoch, loss.item()))"
   ]
  },
  {
   "cell_type": "code",
   "execution_count": 43,
   "metadata": {},
   "outputs": [
    {
     "name": "stdout",
     "output_type": "stream",
     "text": [
      "[[ 0.5508139]\n",
      " [ 2.6155007]\n",
      " [ 4.680187 ]\n",
      " [ 6.744874 ]\n",
      " [ 8.809561 ]\n",
      " [10.874248 ]\n",
      " [12.938934 ]\n",
      " [15.003621 ]\n",
      " [17.068308 ]\n",
      " [19.132996 ]\n",
      " [21.197681 ]]\n"
     ]
    }
   ],
   "source": [
    "with torch.no_grad(): # we don't need gradients in the testing phase\n",
    "    if torch.cuda.is_available():\n",
    "        predicted = model(Variable(torch.from_numpy(x_train).cuda())).cpu().data.numpy()\n",
    "    else:\n",
    "        predicted = model(Variable(torch.from_numpy(x_train))).data.numpy()\n",
    "    print(predicted)"
   ]
  },
  {
   "cell_type": "code",
   "execution_count": 44,
   "metadata": {},
   "outputs": [
    {
     "data": {
      "image/png": "[encoded data removed]",
      "text/plain": [
       "<Figure size 432x288 with 1 Axes>"
      ]
     },
     "metadata": {},
     "output_type": "display_data"
    }
   ],
   "source": [
    "plt.clf()\n",
    "plt.plot(x_train, y_train, 'go', label='True data', alpha=0.5)\n",
    "plt.plot(x_train, predicted, '--', label='Predictions', alpha=0.5)\n",
    "plt.legend(loc='best')\n",
    "plt.show()"
   ]
  },
  {
   "cell_type": "markdown",
   "metadata": {},
   "source": []
  },
  {
   "cell_type": "code",
   "execution_count": 50,
   "metadata": {},
   "outputs": [],
   "source": [
    "class MF():\n",
    "\n",
    "    def __init__(self, R, K, alpha, beta, iterations):\n",
    "        \"\"\"\n",
    "        Perform matrix factorization to predict empty\n",
    "        entries in a matrix.\n",
    "\n",
    "        Arguments\n",
    "        - R (ndarray)   : user-item rating matrix\n",
    "        - K (int)       : number of latent dimensions\n",
    "        - alpha (float) : learning rate\n",
    "        - beta (float)  : regularization parameter\n",
    "        \"\"\"\n",
    "\n",
    "        self.R = R\n",
    "        self.num_users, self.num_items = R.shape\n",
    "        self.K = K\n",
    "        self.alpha = alpha\n",
    "        self.beta = beta\n",
    "        self.iterations = iterations\n",
    "\n",
    "    def train(self):\n",
    "        # Initialize user and item latent feature matrice\n",
    "        self.P = np.random.normal(scale=1./self.K, size=(self.num_users, self.K))\n",
    "        self.Q = np.random.normal(scale=1./self.K, size=(self.num_items, self.K))\n",
    "\n",
    "        # Initialize the biases\n",
    "        self.b_u = np.zeros(self.num_users)\n",
    "        self.b_i = np.zeros(self.num_items)\n",
    "        self.b = np.mean(self.R[np.where(self.R != 0)])\n",
    "\n",
    "        # Create a list of training samples\n",
    "        self.samples = [\n",
    "            (i, j, self.R[i, j])\n",
    "            for i in range(self.num_users)\n",
    "            for j in range(self.num_items)\n",
    "            if self.R[i, j] > 0\n",
    "        ]\n",
    "\n",
    "        # Perform stochastic gradient descent for number of iterations\n",
    "        training_process = []\n",
    "        for i in range(self.iterations):\n",
    "            np.random.shuffle(self.samples)\n",
    "            self.sgd()\n",
    "            mse = self.mse()\n",
    "            training_process.append((i, mse))\n",
    "            if (i+1) % 10 == 0:\n",
    "                print(\"Iteration: %d ; error = %.4f\" % (i+1, mse))\n",
    "\n",
    "        return training_process\n",
    "\n",
    "    def mse(self):\n",
    "        \"\"\"\n",
    "        A function to compute the total mean square error\n",
    "        \"\"\"\n",
    "        xs, ys = self.R.nonzero()\n",
    "        predicted = self.full_matrix()\n",
    "        error = 0\n",
    "        for x, y in zip(xs, ys):\n",
    "            error += pow(self.R[x, y] - predicted[x, y], 2)\n",
    "        return np.sqrt(error)\n",
    "\n",
    "    def sgd(self):\n",
    "        \"\"\"\n",
    "        Perform stochastic graident descent\n",
    "        \"\"\"\n",
    "        for i, j, r in self.samples:\n",
    "            # Computer prediction and error\n",
    "            prediction = self.get_rating(i, j)\n",
    "            e = (r - prediction)\n",
    "\n",
    "            # Update biases\n",
    "            self.b_u[i] += self.alpha * (e - self.beta * self.b_u[i])\n",
    "            self.b_i[j] += self.alpha * (e - self.beta * self.b_i[j])\n",
    "\n",
    "            # Update user and item latent feature matrices\n",
    "            self.P[i, :] += self.alpha * (e * self.Q[j, :] - self.beta * self.P[i,:])\n",
    "            self.Q[j, :] += self.alpha * (e * self.P[i, :] - self.beta * self.Q[j,:])\n",
    "\n",
    "    def get_rating(self, i, j):\n",
    "        \"\"\"\n",
    "        Get the predicted rating of user i and item j\n",
    "        \"\"\"\n",
    "        prediction = self.b + self.b_u[i] + self.b_i[j] + self.P[i, :].dot(self.Q[j, :].T)\n",
    "        return prediction\n",
    "\n",
    "    def full_matrix(self):\n",
    "        \"\"\"\n",
    "        Computer the full matrix using the resultant biases, P and Q\n",
    "        \"\"\"\n",
    "        return self.b + self.b_u[:,np.newaxis] + self.b_i[np.newaxis:,] + self.P.dot(self.Q.T)"
   ]
  },
  {
   "cell_type": "code",
   "execution_count": 51,
   "metadata": {},
   "outputs": [],
   "source": [
    "R = np.array([\n",
    "    [5, 3, 0, 1],\n",
    "    [4, 0, 0, 1],\n",
    "    [1, 1, 0, 5],\n",
    "    [1, 0, 0, 4],\n",
    "    [0, 1, 5, 4],\n",
    "])\n",
    "\n",
    "mf = MF(R, K=2, alpha=0.1, beta=0.01, iterations=20)\n"
   ]
  },
  {
   "cell_type": "code",
   "execution_count": 52,
   "metadata": {},
   "outputs": [
    {
     "name": "stdout",
     "output_type": "stream",
     "text": [
      "Iteration: 10 ; error = 0.6349\n",
      "Iteration: 20 ; error = 0.1473\n"
     ]
    }
   ],
   "source": [
    "training_process = mf.train()"
   ]
  },
  {
   "cell_type": "code",
   "execution_count": 53,
   "metadata": {},
   "outputs": [
    {
     "data": {
      "image/png": "[encoded data removed]",
      "text/plain": [
       "<Figure size 1152x288 with 1 Axes>"
      ]
     },
     "metadata": {},
     "output_type": "display_data"
    }
   ],
   "source": [
    "x = [x for x, y in training_process]\n",
    "y = [y for x, y in training_process]\n",
    "plt.figure(figsize=((16,4)))\n",
    "plt.plot(x, y)\n",
    "plt.xticks(x, x)\n",
    "plt.xlabel(\"Iterations\")\n",
    "plt.ylabel(\"Mean Square Error\")\n",
    "plt.grid(axis=\"y\")"
   ]
  },
  {
   "cell_type": "code",
   "execution_count": null,
   "metadata": {},
   "outputs": [],
   "source": []
  }
 ],
 "metadata": {
  "kernelspec": {
   "display_name": "Python [conda env:py36]",
   "language": "python",
   "name": "conda-env-py36-py"
  },
  "language_info": {
   "codemirror_mode": {
    "name": "ipython",
    "version": 3
   },
   "file_extension": ".py",
   "mimetype": "text/x-python",
   "name": "python",
   "nbconvert_exporter": "python",
   "pygments_lexer": "ipython3",
   "version": "3.6.8"
  }
 },
 "nbformat": 4,
 "nbformat_minor": 2
}
