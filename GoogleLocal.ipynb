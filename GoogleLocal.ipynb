{
 "cells": [
  {
   "cell_type": "code",
   "execution_count": 57,
   "metadata": {},
   "outputs": [],
   "source": [
    "import torch\n",
    "from torch.autograd import Variable\n",
    "from collections import defaultdict\n",
    "import csv\n",
    "import numpy as np\n",
    "import random\n",
    "import matplotlib.pyplot as plt\n",
    "import math\n",
    "import time\n",
    "\n",
    "import pandas as pd \n",
    "from IPython.display import display\n",
    "import seaborn as sns"
   ]
  },
  {
   "cell_type": "code",
   "execution_count": 2,
   "metadata": {},
   "outputs": [
    {
     "name": "stdout",
     "output_type": "stream",
     "text": [
      "1.1.0\n"
     ]
    }
   ],
   "source": [
    "print(torch.__version__)"
   ]
  },
  {
   "cell_type": "code",
   "execution_count": 3,
   "metadata": {},
   "outputs": [
    {
     "name": "stdout",
     "output_type": "stream",
     "text": [
      "100000010817154263736 ['Thành phố Hồ Chí Minh, Việt Nam', [[], 108230990, 1066296640, 1]]\n",
      "100000013500285534661 ['Adana', [[], 370000000, 353213330, 1]]\n",
      "100000021336848867366 None\n",
      "100000030557048145331 None\n",
      "100000032416892623125 None\n",
      "100000035085750632094 ['Pomona, CA', [[], 340552270, -1177523050, 1]]\n",
      "100000036174088924566 None\n",
      "100000037905537879319 None\n",
      "100000039815955317902 None\n"
     ]
    }
   ],
   "source": [
    "fname = \"../datasets/google_local/users.clean.json\"\n",
    "users_fname = \"../datasets/google_local/users.cvs\"\n",
    "\n",
    "i = 0\n",
    "for l in open(fname):\n",
    "    i += 1\n",
    "    if i < 10:\n",
    "        data = eval(l)\n",
    "    else:\n",
    "        break\n",
    "    \n",
    "    print(data['gPlusUserId'],data['currentPlace'] )\n",
    "    # print(data)"
   ]
  },
  {
   "cell_type": "code",
   "execution_count": 4,
   "metadata": {},
   "outputs": [
    {
     "name": "stdout",
     "output_type": "stream",
     "text": [
      "104699454385822125632 [33.703804, -117.003209]\n",
      "103054478949000078829 [38.979759, -76.547538]\n",
      "109810290098030327104 [43.22776, 44.762726]\n",
      "100327153115986850675 [43.529494, -96.792244]\n",
      "103368487323937936043 [-2.976256, 104.742662]\n",
      "103903929544828620241 [48.767817, 8.75612]\n",
      "103848836623683146185 [37.576427, -101.386182]\n",
      "114537653478141145113 [1.572255, 110.362958]\n",
      "100062881646354125752 [35.224978, 139.088382]\n"
     ]
    }
   ],
   "source": [
    "fname = \"../datasets/google_local/places.clean.json\"\n",
    "users_fname = \"../datasets/google_local/places.cvs\"\n",
    "\n",
    "i = 0\n",
    "for l in open(fname):\n",
    "    i += 1\n",
    "    if i < 10:\n",
    "        data = eval(l)\n",
    "    else:\n",
    "        break\n",
    "    \n",
    "    print(data['gPlusPlaceId'],data['gps'] )\n",
    "    # print(data)"
   ]
  },
  {
   "cell_type": "markdown",
   "metadata": {},
   "source": [
    "## Extract ('PlaceId','UserId','rating,'Time') --> reviews.csv"
   ]
  },
  {
   "cell_type": "code",
   "execution_count": 5,
   "metadata": {},
   "outputs": [],
   "source": [
    "fname = \"../datasets/google_local/reviews.clean.json\"\n",
    "review_fname = \"../datasets/google_local/reviews.csv\"\n",
    "\n",
    "reviews = open(review_fname, 'w')\n",
    "reviews.write('gPlusPlaceId' + ',' + 'gPlusUserId' + ',' + 'rating'+ ',' + 'unixReviewTime' + '\\n')\n",
    "\n",
    "for l in open(fname):\n",
    "    data = eval(l)\n",
    "    reviews.write(data['gPlusPlaceId'] +','+ data['gPlusUserId'] +','+ str(data['rating'])  + ','+ \\\n",
    "                      str(data['unixReviewTime']) + '\\n')\n",
    "reviews.close()"
   ]
  },
  {
   "cell_type": "code",
   "execution_count": 5,
   "metadata": {},
   "outputs": [
    {
     "name": "stdout",
     "output_type": "stream",
     "text": [
      "<class 'pandas.core.frame.DataFrame'>\n",
      "RangeIndex: 11453845 entries, 0 to 11453844\n",
      "Data columns (total 4 columns):\n",
      "gPlusPlaceId      object\n",
      "gPlusUserId       object\n",
      "rating            float64\n",
      "unixReviewTime    object\n",
      "dtypes: float64(1), object(3)\n",
      "memory usage: 349.5+ MB\n"
     ]
    }
   ],
   "source": [
    "places = pd.read_csv(\"../datasets/google_local/reviews.csv\")\n",
    "places.info()"
   ]
  },
  {
   "cell_type": "code",
   "execution_count": 6,
   "metadata": {},
   "outputs": [
    {
     "data": {
      "text/html": [
       "<div>\n",
       "<style scoped>\n",
       "    .dataframe tbody tr th:only-of-type {\n",
       "        vertical-align: middle;\n",
       "    }\n",
       "\n",
       "    .dataframe tbody tr th {\n",
       "        vertical-align: top;\n",
       "    }\n",
       "\n",
       "    .dataframe thead th {\n",
       "        text-align: right;\n",
       "    }\n",
       "</style>\n",
       "<table border=\"1\" class=\"dataframe\">\n",
       "  <thead>\n",
       "    <tr style=\"text-align: right;\">\n",
       "      <th></th>\n",
       "      <th>gPlusPlaceId</th>\n",
       "      <th>gPlusUserId</th>\n",
       "      <th>rating</th>\n",
       "      <th>unixReviewTime</th>\n",
       "    </tr>\n",
       "  </thead>\n",
       "  <tbody>\n",
       "    <tr>\n",
       "      <th>0</th>\n",
       "      <td>108103314380004200232</td>\n",
       "      <td>100000010817154263736</td>\n",
       "      <td>3.0</td>\n",
       "      <td>1372686659</td>\n",
       "    </tr>\n",
       "    <tr>\n",
       "      <th>1</th>\n",
       "      <td>102194128241608748649</td>\n",
       "      <td>100000013500285534661</td>\n",
       "      <td>5.0</td>\n",
       "      <td>1342870724</td>\n",
       "    </tr>\n",
       "    <tr>\n",
       "      <th>2</th>\n",
       "      <td>101409858828175402384</td>\n",
       "      <td>100000021336848867366</td>\n",
       "      <td>5.0</td>\n",
       "      <td>1390653513</td>\n",
       "    </tr>\n",
       "    <tr>\n",
       "      <th>3</th>\n",
       "      <td>101477177500158511502</td>\n",
       "      <td>100000021336848867366</td>\n",
       "      <td>5.0</td>\n",
       "      <td>1389187706</td>\n",
       "    </tr>\n",
       "    <tr>\n",
       "      <th>4</th>\n",
       "      <td>106994170641063333085</td>\n",
       "      <td>100000021336848867366</td>\n",
       "      <td>4.0</td>\n",
       "      <td>1390486279</td>\n",
       "    </tr>\n",
       "  </tbody>\n",
       "</table>\n",
       "</div>"
      ],
      "text/plain": [
       "            gPlusPlaceId            gPlusUserId  rating unixReviewTime\n",
       "0  108103314380004200232  100000010817154263736     3.0     1372686659\n",
       "1  102194128241608748649  100000013500285534661     5.0     1342870724\n",
       "2  101409858828175402384  100000021336848867366     5.0     1390653513\n",
       "3  101477177500158511502  100000021336848867366     5.0     1389187706\n",
       "4  106994170641063333085  100000021336848867366     4.0     1390486279"
      ]
     },
     "execution_count": 6,
     "metadata": {},
     "output_type": "execute_result"
    }
   ],
   "source": [
    "places.head()"
   ]
  },
  {
   "cell_type": "markdown",
   "metadata": {},
   "source": [
    "## Rating Distribution"
   ]
  },
  {
   "cell_type": "code",
   "execution_count": 33,
   "metadata": {},
   "outputs": [
    {
     "name": "stdout",
     "output_type": "stream",
     "text": [
      "[3.0, 5.0, 4.0, 2.0, 1.0, 0.0]\n",
      "[5722956, 2689692, 1510797, 921153, 609203, 44]\n"
     ]
    }
   ],
   "source": [
    "print(list(places['rating'].unique()))\n",
    "print(list(places['rating'].value_counts()))"
   ]
  },
  {
   "cell_type": "code",
   "execution_count": 32,
   "metadata": {},
   "outputs": [
    {
     "data": {
      "text/plain": [
       "count    1.145384e+07\n",
       "mean     4.047326e+00\n",
       "std      1.195725e+00\n",
       "min      0.000000e+00\n",
       "25%      3.000000e+00\n",
       "50%      4.000000e+00\n",
       "75%      5.000000e+00\n",
       "max      5.000000e+00\n",
       "Name: rating, dtype: float64"
      ]
     },
     "metadata": {},
     "output_type": "display_data"
    },
    {
     "data": {
      "image/png": "[encoded data removed]",
      "text/plain": [
       "<Figure size 432x288 with 1 Axes>"
      ]
     },
     "metadata": {},
     "output_type": "display_data"
    },
    {
     "data": {
      "text/plain": [
       "<function matplotlib.pyplot.show>"
      ]
     },
     "execution_count": 32,
     "metadata": {},
     "output_type": "execute_result"
    },
    {
     "data": {
      "image/png": "[encoded data removed]",
      "text/plain": [
       "<Figure size 432x288 with 1 Axes>"
      ]
     },
     "metadata": {},
     "output_type": "display_data"
    }
   ],
   "source": [
    "display(places['rating'].describe())\n",
    "\n",
    "sns.distplot(places['rating'],kde=False)\n",
    "plt.ylabel('Number of records')\n",
    "plt.show()\n",
    "\n",
    "\n",
    "labels = list(places['rating'].unique())\n",
    "percentages = list(places['rating'].value_counts())\n",
    "explode=(0.1,0,0,0,0,0)\n",
    "plt.pie(percentages, explode=explode, labels=labels,  \n",
    "       autopct='%1.0f%%', \n",
    "       shadow=False, startangle=0,   \n",
    "       pctdistance=1.2,labeldistance=1.4)\n",
    "plt.axis('equal')\n",
    "plt.legend(frameon=False, bbox_to_anchor=(1.5,0.8))\n",
    "plt.show"
   ]
  },
  {
   "cell_type": "code",
   "execution_count": 8,
   "metadata": {},
   "outputs": [
    {
     "data": {
      "text/plain": [
       "count                  11453845\n",
       "unique                  3116785\n",
       "top       118197036100848201903\n",
       "freq                       1662\n",
       "Name: gPlusPlaceId, dtype: object"
      ]
     },
     "execution_count": 8,
     "metadata": {},
     "output_type": "execute_result"
    }
   ],
   "source": [
    "places['gPlusPlaceId'].describe()"
   ]
  },
  {
   "cell_type": "code",
   "execution_count": 9,
   "metadata": {},
   "outputs": [
    {
     "data": {
      "text/plain": [
       "count                  11453845\n",
       "unique                  5054567\n",
       "top       100689039355298728862\n",
       "freq                       3221\n",
       "Name: gPlusUserId, dtype: object"
      ]
     },
     "execution_count": 9,
     "metadata": {},
     "output_type": "execute_result"
    }
   ],
   "source": [
    "places['gPlusUserId'].describe()"
   ]
  },
  {
   "cell_type": "code",
   "execution_count": 6,
   "metadata": {},
   "outputs": [
    {
     "name": "stdout",
     "output_type": "stream",
     "text": [
      "3116785\n",
      "5054567\n"
     ]
    }
   ],
   "source": [
    "place_ids = places['gPlusPlaceId'].unique()\n",
    "print(len(place_ids))\n",
    "\n",
    "user_ids = places['gPlusUserId'].unique()\n",
    "print(len(user_ids))"
   ]
  },
  {
   "cell_type": "markdown",
   "metadata": {},
   "source": [
    "## Review Freq - Places"
   ]
  },
  {
   "cell_type": "code",
   "execution_count": 48,
   "metadata": {},
   "outputs": [],
   "source": [
    "freq = places['gPlusPlaceId'].value_counts()"
   ]
  },
  {
   "cell_type": "code",
   "execution_count": 49,
   "metadata": {},
   "outputs": [
    {
     "data": {
      "text/plain": [
       "118197036100848201903    1662\n",
       "113708963026857003945     982\n",
       "107836749011706685871     790\n",
       "114299893842663642400     663\n",
       "105221456964199450690     653\n",
       "104102841184199673397     639\n",
       "106603537575677448372     602\n",
       "111652147815121544598     572\n",
       "110471016000628728985     531\n",
       "107596156349032509891     530\n",
       "Name: gPlusPlaceId, dtype: int64"
      ]
     },
     "execution_count": 49,
     "metadata": {},
     "output_type": "execute_result"
    }
   ],
   "source": [
    "freq[:10]"
   ]
  },
  {
   "cell_type": "code",
   "execution_count": 50,
   "metadata": {},
   "outputs": [
    {
     "data": {
      "text/plain": [
       "count    3.116785e+06\n",
       "mean     3.674891e+00\n",
       "std      7.308351e+00\n",
       "min      1.000000e+00\n",
       "25%      1.000000e+00\n",
       "50%      2.000000e+00\n",
       "75%      4.000000e+00\n",
       "max      1.662000e+03\n",
       "Name: gPlusPlaceId, dtype: float64"
      ]
     },
     "metadata": {},
     "output_type": "display_data"
    },
    {
     "data": {
      "image/png": "[encoded data removed]",
      "text/plain": [
       "<Figure size 432x288 with 1 Axes>"
      ]
     },
     "metadata": {},
     "output_type": "display_data"
    }
   ],
   "source": [
    "display(freq.describe())\n",
    "\n",
    "sns.distplot(place_freq,kde=False)\n",
    "plt.ylabel('Number of ratings')\n",
    "plt.show()\n"
   ]
  },
  {
   "cell_type": "code",
   "execution_count": 62,
   "metadata": {},
   "outputs": [
    {
     "name": "stdout",
     "output_type": "stream",
     "text": [
      "2624231\n",
      "306479\n",
      "186075\n"
     ]
    }
   ],
   "source": [
    "verylow_review = freq[freq <= 5]\n",
    "\n",
    "print(len(verylow_review))\n",
    "\n",
    "low_review = freq[freq > 5][freq <= 10]\n",
    "\n",
    "print(len(low_review))\n",
    "\n",
    "high_review = freq[freq > 10]\n",
    "\n",
    "print(len(high_review))"
   ]
  },
  {
   "cell_type": "markdown",
   "metadata": {},
   "source": [
    "### Majority Places - 5 or less Reviews"
   ]
  },
  {
   "cell_type": "code",
   "execution_count": 67,
   "metadata": {},
   "outputs": [
    {
     "data": {
      "text/plain": [
       "<function matplotlib.pyplot.show>"
      ]
     },
     "execution_count": 67,
     "metadata": {},
     "output_type": "execute_result"
    },
    {
     "data": {
      "image/png": "[encoded data removed]",
      "text/plain": [
       "<Figure size 432x288 with 1 Axes>"
      ]
     },
     "metadata": {},
     "output_type": "display_data"
    }
   ],
   "source": [
    "labels = [\n",
    "    '5 or less ratings', \n",
    "    \"6 to 10 ratings\", \n",
    "    \"more than 10 ratings\"\n",
    "]\n",
    "\n",
    "percentages = [\n",
    "    len(verylow_review), \n",
    "    len(low_review), \n",
    "    len(high_review) \n",
    "]\n",
    "\n",
    "\n",
    "plt.pie(percentages, labels=labels,  \n",
    "       autopct='%1.0f%%', \n",
    "       shadow=False, startangle=0,   \n",
    "       pctdistance=1.2,labeldistance=1.4)\n",
    "plt.axis('equal')\n",
    "plt.legend(frameon=False, bbox_to_anchor=(1.5,0.8))\n",
    "plt.show\n"
   ]
  },
  {
   "cell_type": "code",
   "execution_count": 86,
   "metadata": {},
   "outputs": [
    {
     "name": "stdout",
     "output_type": "stream",
     "text": [
      "2624231\n",
      "306479\n",
      "186075\n"
     ]
    }
   ],
   "source": [
    "very_unpopular = list(verylow_review.index)\n",
    "unpopular = list(low_review.index)\n",
    "popular = list(high_review.index)\n",
    "\n",
    "print(len(very_unpopular))\n",
    "print(len(unpopular))\n",
    "print(len(popular))"
   ]
  },
  {
   "cell_type": "code",
   "execution_count": 84,
   "metadata": {},
   "outputs": [
    {
     "data": {
      "text/plain": [
       "count    4.059520e+06\n",
       "mean     4.154573e+00\n",
       "std      1.106464e+00\n",
       "min      0.000000e+00\n",
       "25%      4.000000e+00\n",
       "50%      5.000000e+00\n",
       "75%      5.000000e+00\n",
       "max      5.000000e+00\n",
       "Name: rating, dtype: float64"
      ]
     },
     "metadata": {},
     "output_type": "display_data"
    },
    {
     "data": {
      "image/png": "[encoded data removed]",
      "text/plain": [
       "<Figure size 432x288 with 1 Axes>"
      ]
     },
     "metadata": {},
     "output_type": "display_data"
    },
    {
     "data": {
      "text/plain": [
       "<function matplotlib.pyplot.show>"
      ]
     },
     "execution_count": 84,
     "metadata": {},
     "output_type": "execute_result"
    },
    {
     "data": {
      "image/png": "[encoded data removed]",
      "text/plain": [
       "<Figure size 432x288 with 1 Axes>"
      ]
     },
     "metadata": {},
     "output_type": "display_data"
    }
   ],
   "source": [
    "popular_places = places[places['gPlusPlaceId'].isin(popular)]\n",
    "\n",
    "display(popular_places['rating'].describe())\n",
    "\n",
    "sns.distplot(popular_places['rating'],kde=False)\n",
    "plt.ylabel('Number of records')\n",
    "plt.show()\n",
    "\n",
    "counts = popular_places['rating'].value_counts()\n",
    "labels = []\n",
    "percentages = []\n",
    "for index, count in counts.items() :\n",
    "    labels.append(index)\n",
    "    percentages.append(count)\n",
    "\n",
    "explode=(0.1,0,0,0,0,0)\n",
    "plt.pie(percentages, explode=explode, labels=labels,  \n",
    "       autopct='%1.0f%%', \n",
    "       shadow=False, startangle=0,   \n",
    "       pctdistance=1.2,labeldistance=1.4)\n",
    "plt.axis('equal')\n",
    "plt.legend(frameon=False, bbox_to_anchor=(1.5,0.8))\n",
    "plt.show"
   ]
  },
  {
   "cell_type": "code",
   "execution_count": 83,
   "metadata": {},
   "outputs": [
    {
     "data": {
      "text/plain": [
       "count    2.283467e+06\n",
       "mean     4.007662e+00\n",
       "std      1.221795e+00\n",
       "min      0.000000e+00\n",
       "25%      3.000000e+00\n",
       "50%      4.000000e+00\n",
       "75%      5.000000e+00\n",
       "max      5.000000e+00\n",
       "Name: rating, dtype: float64"
      ]
     },
     "metadata": {},
     "output_type": "display_data"
    },
    {
     "data": {
      "image/png": "[encoded data removed]",
      "text/plain": [
       "<Figure size 432x288 with 1 Axes>"
      ]
     },
     "metadata": {},
     "output_type": "display_data"
    },
    {
     "data": {
      "text/plain": [
       "<function matplotlib.pyplot.show>"
      ]
     },
     "execution_count": 83,
     "metadata": {},
     "output_type": "execute_result"
    },
    {
     "data": {
      "image/png": "[encoded data removed]",
      "text/plain": [
       "<Figure size 432x288 with 1 Axes>"
      ]
     },
     "metadata": {},
     "output_type": "display_data"
    }
   ],
   "source": [
    "unpopular_places = places[places['gPlusPlaceId'].isin(unpopular)]\n",
    "\n",
    "\n",
    "display(unpopular_places['rating'].describe())\n",
    "\n",
    "sns.distplot(unpopular_places['rating'],kde=False)\n",
    "plt.ylabel('Number of records')\n",
    "plt.show()\n",
    "\n",
    "counts = unpopular_places['rating'].value_counts()\n",
    "labels = []\n",
    "percentages = []\n",
    "for index, count in counts.items() :\n",
    "    labels.append(index)\n",
    "    percentages.append(count)\n",
    "\n",
    "explode=(0.1,0,0,0,0,0)\n",
    "plt.pie(percentages, explode=explode, labels=labels,  \n",
    "       autopct='%1.0f%%', \n",
    "       shadow=False, startangle=0,   \n",
    "       pctdistance=1.2,labeldistance=1.4)\n",
    "plt.axis('equal')\n",
    "plt.legend(frameon=False, bbox_to_anchor=(1.5,0.8))\n",
    "plt.show"
   ]
  },
  {
   "cell_type": "code",
   "execution_count": 88,
   "metadata": {},
   "outputs": [
    {
     "data": {
      "text/plain": [
       "count    5.110858e+06\n",
       "mean     3.979862e+00\n",
       "std      1.245166e+00\n",
       "min      0.000000e+00\n",
       "25%      3.000000e+00\n",
       "50%      4.000000e+00\n",
       "75%      5.000000e+00\n",
       "max      5.000000e+00\n",
       "Name: rating, dtype: float64"
      ]
     },
     "metadata": {},
     "output_type": "display_data"
    },
    {
     "data": {
      "image/png": "[encoded data removed]",
      "text/plain": [
       "<Figure size 432x288 with 1 Axes>"
      ]
     },
     "metadata": {},
     "output_type": "display_data"
    },
    {
     "data": {
      "text/plain": [
       "<function matplotlib.pyplot.show>"
      ]
     },
     "execution_count": 88,
     "metadata": {},
     "output_type": "execute_result"
    },
    {
     "data": {
      "image/png": "[encoded data removed]",
      "text/plain": [
       "<Figure size 432x288 with 1 Axes>"
      ]
     },
     "metadata": {},
     "output_type": "display_data"
    }
   ],
   "source": [
    "veryunpopular_places = places[places['gPlusPlaceId'].isin(very_unpopular)]\n",
    "\n",
    "display(veryunpopular_places ['rating'].describe())\n",
    "\n",
    "sns.distplot(veryunpopular_places ['rating'],kde=False)\n",
    "plt.ylabel('Number of records')\n",
    "plt.show()\n",
    "\n",
    "counts = veryunpopular_places['rating'].value_counts()\n",
    "labels = []\n",
    "percentages = []\n",
    "for index, count in counts.items() :\n",
    "    labels.append(index)\n",
    "    percentages.append(count)\n",
    "\n",
    "explode=(0.1,0,0,0,0,0)\n",
    "plt.pie(percentages, explode=explode, labels=labels,  \n",
    "       autopct='%1.0f%%', \n",
    "       shadow=False, startangle=0,   \n",
    "       pctdistance=1.2,labeldistance=1.4)\n",
    "plt.axis('equal')\n",
    "plt.legend(frameon=False, bbox_to_anchor=(1.5,0.8))\n",
    "plt.show"
   ]
  },
  {
   "cell_type": "markdown",
   "metadata": {},
   "source": [
    "## Less Popular Places - Lower Rating\n",
    "\n"
   ]
  },
  {
   "cell_type": "code",
   "execution_count": 20,
   "metadata": {},
   "outputs": [
    {
     "data": {
      "text/html": [
       "<div>\n",
       "<style scoped>\n",
       "    .dataframe tbody tr th:only-of-type {\n",
       "        vertical-align: middle;\n",
       "    }\n",
       "\n",
       "    .dataframe tbody tr th {\n",
       "        vertical-align: top;\n",
       "    }\n",
       "\n",
       "    .dataframe thead th {\n",
       "        text-align: right;\n",
       "    }\n",
       "</style>\n",
       "<table border=\"1\" class=\"dataframe\">\n",
       "  <thead>\n",
       "    <tr style=\"text-align: right;\">\n",
       "      <th></th>\n",
       "      <th>gPlusPlaceId</th>\n",
       "      <th>gPlusUserId</th>\n",
       "      <th>rating</th>\n",
       "      <th>unixReviewTime</th>\n",
       "    </tr>\n",
       "  </thead>\n",
       "  <tbody>\n",
       "    <tr>\n",
       "      <th>20</th>\n",
       "      <td>110484732624327291509</td>\n",
       "      <td>100000036174088924566</td>\n",
       "      <td>5.0</td>\n",
       "      <td>1388050006</td>\n",
       "    </tr>\n",
       "    <tr>\n",
       "      <th>24</th>\n",
       "      <td>114222269311366452319</td>\n",
       "      <td>100000042779388982190</td>\n",
       "      <td>2.0</td>\n",
       "      <td>1372840159</td>\n",
       "    </tr>\n",
       "    <tr>\n",
       "      <th>26</th>\n",
       "      <td>104231480695579463827</td>\n",
       "      <td>100000050936341836015</td>\n",
       "      <td>5.0</td>\n",
       "      <td>1362944666</td>\n",
       "    </tr>\n",
       "    <tr>\n",
       "      <th>33</th>\n",
       "      <td>110058017192925236130</td>\n",
       "      <td>100000062743976665256</td>\n",
       "      <td>3.0</td>\n",
       "      <td>1380378214</td>\n",
       "    </tr>\n",
       "    <tr>\n",
       "      <th>34</th>\n",
       "      <td>101223243259821862422</td>\n",
       "      <td>100000064326457959539</td>\n",
       "      <td>2.0</td>\n",
       "      <td>1381887379</td>\n",
       "    </tr>\n",
       "  </tbody>\n",
       "</table>\n",
       "</div>"
      ],
      "text/plain": [
       "             gPlusPlaceId            gPlusUserId  rating unixReviewTime\n",
       "20  110484732624327291509  100000036174088924566     5.0     1388050006\n",
       "24  114222269311366452319  100000042779388982190     2.0     1372840159\n",
       "26  104231480695579463827  100000050936341836015     5.0     1362944666\n",
       "33  110058017192925236130  100000062743976665256     3.0     1380378214\n",
       "34  101223243259821862422  100000064326457959539     2.0     1381887379"
      ]
     },
     "execution_count": 20,
     "metadata": {},
     "output_type": "execute_result"
    }
   ],
   "source": [
    "review_pop_places = places[places['gPlusPlaceId'].isin(popular)]\n",
    "\n",
    "review_pop_places.head()"
   ]
  },
  {
   "cell_type": "code",
   "execution_count": 54,
   "metadata": {},
   "outputs": [],
   "source": [
    "review_pop_places.to_csv (r'../datasets/google_local/popPlaces.cvs', index = None, header=True)"
   ]
  },
  {
   "cell_type": "code",
   "execution_count": 21,
   "metadata": {},
   "outputs": [
    {
     "data": {
      "text/html": [
       "<div>\n",
       "<style scoped>\n",
       "    .dataframe tbody tr th:only-of-type {\n",
       "        vertical-align: middle;\n",
       "    }\n",
       "\n",
       "    .dataframe tbody tr th {\n",
       "        vertical-align: top;\n",
       "    }\n",
       "\n",
       "    .dataframe thead th {\n",
       "        text-align: right;\n",
       "    }\n",
       "</style>\n",
       "<table border=\"1\" class=\"dataframe\">\n",
       "  <thead>\n",
       "    <tr style=\"text-align: right;\">\n",
       "      <th></th>\n",
       "      <th>gPlusPlaceId</th>\n",
       "      <th>gPlusUserId</th>\n",
       "      <th>rating</th>\n",
       "      <th>unixReviewTime</th>\n",
       "    </tr>\n",
       "  </thead>\n",
       "  <tbody>\n",
       "    <tr>\n",
       "      <th>0</th>\n",
       "      <td>108103314380004200232</td>\n",
       "      <td>100000010817154263736</td>\n",
       "      <td>3.0</td>\n",
       "      <td>1372686659</td>\n",
       "    </tr>\n",
       "    <tr>\n",
       "      <th>1</th>\n",
       "      <td>102194128241608748649</td>\n",
       "      <td>100000013500285534661</td>\n",
       "      <td>5.0</td>\n",
       "      <td>1342870724</td>\n",
       "    </tr>\n",
       "    <tr>\n",
       "      <th>2</th>\n",
       "      <td>101409858828175402384</td>\n",
       "      <td>100000021336848867366</td>\n",
       "      <td>5.0</td>\n",
       "      <td>1390653513</td>\n",
       "    </tr>\n",
       "    <tr>\n",
       "      <th>3</th>\n",
       "      <td>101477177500158511502</td>\n",
       "      <td>100000021336848867366</td>\n",
       "      <td>5.0</td>\n",
       "      <td>1389187706</td>\n",
       "    </tr>\n",
       "    <tr>\n",
       "      <th>4</th>\n",
       "      <td>106994170641063333085</td>\n",
       "      <td>100000021336848867366</td>\n",
       "      <td>4.0</td>\n",
       "      <td>1390486279</td>\n",
       "    </tr>\n",
       "  </tbody>\n",
       "</table>\n",
       "</div>"
      ],
      "text/plain": [
       "            gPlusPlaceId            gPlusUserId  rating unixReviewTime\n",
       "0  108103314380004200232  100000010817154263736     3.0     1372686659\n",
       "1  102194128241608748649  100000013500285534661     5.0     1342870724\n",
       "2  101409858828175402384  100000021336848867366     5.0     1390653513\n",
       "3  101477177500158511502  100000021336848867366     5.0     1389187706\n",
       "4  106994170641063333085  100000021336848867366     4.0     1390486279"
      ]
     },
     "execution_count": 21,
     "metadata": {},
     "output_type": "execute_result"
    }
   ],
   "source": [
    "review_unpop_places = places[places['gPlusPlaceId'].isin(unpopular)]\n",
    "\n",
    "review_unpop_places.head()"
   ]
  },
  {
   "cell_type": "code",
   "execution_count": 24,
   "metadata": {},
   "outputs": [
    {
     "name": "stdout",
     "output_type": "stream",
     "text": [
      "3.9884472213488045\n"
     ]
    }
   ],
   "source": [
    "unpopularRating_mean = review_unpop_places['rating'].mean()\n",
    "\n",
    "print(unpopularRating_mean)"
   ]
  },
  {
   "cell_type": "code",
   "execution_count": 26,
   "metadata": {},
   "outputs": [
    {
     "name": "stdout",
     "output_type": "stream",
     "text": [
      "4.0\n"
     ]
    }
   ],
   "source": [
    "unpopularRating_median = review_unpop_places['rating'].median()\n",
    "\n",
    "print(unpopularRating_median)"
   ]
  },
  {
   "cell_type": "code",
   "execution_count": 22,
   "metadata": {},
   "outputs": [
    {
     "name": "stdout",
     "output_type": "stream",
     "text": [
      "4.154573200772505\n"
     ]
    }
   ],
   "source": [
    "popularRating_mean = review_pop_places['rating'].mean()\n",
    "\n",
    "print(popularRating_mean)"
   ]
  },
  {
   "cell_type": "code",
   "execution_count": 23,
   "metadata": {},
   "outputs": [
    {
     "name": "stdout",
     "output_type": "stream",
     "text": [
      "5.0\n"
     ]
    }
   ],
   "source": [
    "popularRating_median = review_pop_places['rating'].median()\n",
    "\n",
    "print(popularRating_median)"
   ]
  },
  {
   "cell_type": "markdown",
   "metadata": {},
   "source": [
    "## Temporal Analysis"
   ]
  },
  {
   "cell_type": "code",
   "execution_count": 45,
   "metadata": {},
   "outputs": [
    {
     "name": "stdout",
     "output_type": "stream",
     "text": [
      "<class 'pandas.core.frame.DataFrame'>\n",
      "RangeIndex: 11453845 entries, 0 to 11453844\n",
      "Data columns (total 5 columns):\n",
      "gPlusPlaceId      int64\n",
      "gPlusUserId       int64\n",
      "rating            float64\n",
      "unixReviewTime    object\n",
      "num_reviews       int64\n",
      "dtypes: float64(1), int64(3), object(1)\n",
      "memory usage: 436.9+ MB\n"
     ]
    }
   ],
   "source": [
    "places = pd.read_csv(\"../datasets/google_local/reviews_freq.csv\")\n",
    "places.info()"
   ]
  },
  {
   "cell_type": "markdown",
   "metadata": {},
   "source": [
    "### Remove reviews with no Time"
   ]
  },
  {
   "cell_type": "code",
   "execution_count": 47,
   "metadata": {},
   "outputs": [],
   "source": [
    "# Get names of indexes for which column unixReviewTime has value 'None'\n",
    "indexNames = places[places[\"unixReviewTime\"]=='None'].index\n",
    " \n",
    "# Delete these row indexes from dataFrame\n",
    "places.drop(indexNames , inplace=True)"
   ]
  },
  {
   "cell_type": "code",
   "execution_count": 50,
   "metadata": {},
   "outputs": [],
   "source": [
    "places_timed = places.astype('int32')"
   ]
  },
  {
   "cell_type": "code",
   "execution_count": 51,
   "metadata": {},
   "outputs": [
    {
     "name": "stdout",
     "output_type": "stream",
     "text": [
      "<class 'pandas.core.frame.DataFrame'>\n",
      "Int64Index: 10601852 entries, 0 to 11453842\n",
      "Data columns (total 5 columns):\n",
      "gPlusPlaceId      int32\n",
      "gPlusUserId       int32\n",
      "rating            int32\n",
      "unixReviewTime    int32\n",
      "num_reviews       int32\n",
      "dtypes: int32(5)\n",
      "memory usage: 283.1 MB\n"
     ]
    }
   ],
   "source": [
    "places_timed.info()"
   ]
  },
  {
   "cell_type": "markdown",
   "metadata": {},
   "source": [
    "### Review Period: 12/1990 - 2/2014"
   ]
  },
  {
   "cell_type": "code",
   "execution_count": 89,
   "metadata": {},
   "outputs": [
    {
     "name": "stdout",
     "output_type": "stream",
     "text": [
      "662601600 31 Dec 1990, 12:00:00\n"
     ]
    }
   ],
   "source": [
    "Begin = time.gmtime(places_timed[\"unixReviewTime\"].min())\n",
    "BeginStruct = time.strftime(\"%d %b %Y, %I:%M:%S\", Begin)\n",
    "\n",
    "print(places_timed[\"unixReviewTime\"].min(), BeginStruct)"
   ]
  },
  {
   "cell_type": "code",
   "execution_count": 93,
   "metadata": {},
   "outputs": [
    {
     "name": "stdout",
     "output_type": "stream",
     "text": [
      "1396082360 29 Mar 2014, 08:39:20\n"
     ]
    }
   ],
   "source": [
    "End = time.gmtime(places_timed[\"unixReviewTime\"].max())\n",
    "EndStruct = time.strftime(\"%d %b %Y, %I:%M:%S\", End)\n",
    "\n",
    "print(places_timed[\"unixReviewTime\"].max(), EndStruct)"
   ]
  },
  {
   "cell_type": "markdown",
   "metadata": {},
   "source": [
    "### Most reviews - After 1-1-2012"
   ]
  },
  {
   "cell_type": "code",
   "execution_count": 58,
   "metadata": {},
   "outputs": [
    {
     "data": {
      "image/png": "[encoded data removed]",
      "text/plain": [
       "<Figure size 432x288 with 1 Axes>"
      ]
     },
     "metadata": {},
     "output_type": "display_data"
    }
   ],
   "source": [
    "sns.distplot(places_timed[\"unixReviewTime\"],kde=False)\n",
    "plt.ylabel('Number of records')\n",
    "plt.show()"
   ]
  },
  {
   "cell_type": "code",
   "execution_count": 107,
   "metadata": {},
   "outputs": [
    {
     "name": "stdout",
     "output_type": "stream",
     "text": [
      "Before 1-1-2010 (1262332800)\n",
      "Num Reviews=89769, (0.00847)\n",
      "\n",
      "\n",
      "Before 1-1-2011 (1293868800)\n",
      "Num Reviews=366902, (0.03461)\n",
      "\n",
      "\n",
      "Before 1-1-2012 (1325404800)\n",
      "Num Reviews=1526510, (0.14399)\n",
      "\n",
      "\n",
      "Before 1-1-2013 (1357027200)\n",
      "Num Reviews=4050530, (0.38206)\n",
      "\n",
      "\n",
      "Before 1-1-2014 (1388563200)\n",
      "Num Reviews=9239560, (0.87150)\n",
      "\n",
      "\n",
      "After 1-1-2014 (1388563200)\n",
      "Num Reviews=1362292, (0.12850)\n"
     ]
    }
   ],
   "source": [
    "Dates = [\"1-1-2010\",\"1-1-2011\",\"1-1-2012\",\"1-1-2013\",\"1-1-2014\"]\n",
    "\n",
    "def unix_time(date):\n",
    "    timeStruct = time.strptime(date, \"%d-%m-%Y\")\n",
    "    timeInt = time.mktime(timeStruct)\n",
    "    return timeInt\n",
    "\n",
    "total = len(places_timed.index)\n",
    "\n",
    "for date in Dates:\n",
    "    \n",
    "    print(\"Before {} ({:d})\".format(date,int(unix_time(date))))\n",
    "    num_reviews = len(places_timed[places_timed[\"unixReviewTime\"]<unix_time(date)].index)\n",
    "    print(\"Num Reviews={}, ({:.5f})\".format(num_reviews, num_reviews/total))\n",
    "    print(\"\\n\")\n",
    "\n",
    "num_reviews = len(places_timed[places_timed[\"unixReviewTime\"]>=unix_time(\"1-1-2014\")].index)\n",
    "print(\"After {} ({:d})\".format(date,int(unix_time(\"1-1-2014\"))))\n",
    "print(\"Num Reviews={}, ({:.5f})\".format(num_reviews, num_reviews/total))"
   ]
  },
  {
   "cell_type": "code",
   "execution_count": 94,
   "metadata": {},
   "outputs": [
    {
     "data": {
      "text/html": [
       "<div>\n",
       "<style scoped>\n",
       "    .dataframe tbody tr th:only-of-type {\n",
       "        vertical-align: middle;\n",
       "    }\n",
       "\n",
       "    .dataframe tbody tr th {\n",
       "        vertical-align: top;\n",
       "    }\n",
       "\n",
       "    .dataframe thead th {\n",
       "        text-align: right;\n",
       "    }\n",
       "</style>\n",
       "<table border=\"1\" class=\"dataframe\">\n",
       "  <thead>\n",
       "    <tr style=\"text-align: right;\">\n",
       "      <th></th>\n",
       "      <th>gPlusPlaceId</th>\n",
       "      <th>gPlusUserId</th>\n",
       "      <th>rating</th>\n",
       "      <th>unixReviewTime</th>\n",
       "      <th>num_reviews</th>\n",
       "    </tr>\n",
       "  </thead>\n",
       "  <tbody>\n",
       "    <tr>\n",
       "      <th>4615709</th>\n",
       "      <td>804813</td>\n",
       "      <td>2021440</td>\n",
       "      <td>4</td>\n",
       "      <td>662601600</td>\n",
       "      <td>9</td>\n",
       "    </tr>\n",
       "    <tr>\n",
       "      <th>897140</th>\n",
       "      <td>1918972</td>\n",
       "      <td>389663</td>\n",
       "      <td>4</td>\n",
       "      <td>662601600</td>\n",
       "      <td>20</td>\n",
       "    </tr>\n",
       "    <tr>\n",
       "      <th>6175469</th>\n",
       "      <td>449452</td>\n",
       "      <td>2709545</td>\n",
       "      <td>4</td>\n",
       "      <td>662601600</td>\n",
       "      <td>15</td>\n",
       "    </tr>\n",
       "    <tr>\n",
       "      <th>11192629</th>\n",
       "      <td>942354</td>\n",
       "      <td>4936600</td>\n",
       "      <td>4</td>\n",
       "      <td>662601600</td>\n",
       "      <td>293</td>\n",
       "    </tr>\n",
       "    <tr>\n",
       "      <th>1898989</th>\n",
       "      <td>3063673</td>\n",
       "      <td>828378</td>\n",
       "      <td>5</td>\n",
       "      <td>662601600</td>\n",
       "      <td>11</td>\n",
       "    </tr>\n",
       "    <tr>\n",
       "      <th>3605223</th>\n",
       "      <td>2437018</td>\n",
       "      <td>1575245</td>\n",
       "      <td>5</td>\n",
       "      <td>662601600</td>\n",
       "      <td>55</td>\n",
       "    </tr>\n",
       "    <tr>\n",
       "      <th>4608639</th>\n",
       "      <td>1005238</td>\n",
       "      <td>2018339</td>\n",
       "      <td>4</td>\n",
       "      <td>662601600</td>\n",
       "      <td>18</td>\n",
       "    </tr>\n",
       "    <tr>\n",
       "      <th>6175479</th>\n",
       "      <td>729337</td>\n",
       "      <td>2709545</td>\n",
       "      <td>5</td>\n",
       "      <td>662601600</td>\n",
       "      <td>7</td>\n",
       "    </tr>\n",
       "    <tr>\n",
       "      <th>6175480</th>\n",
       "      <td>737152</td>\n",
       "      <td>2709545</td>\n",
       "      <td>5</td>\n",
       "      <td>662601600</td>\n",
       "      <td>5</td>\n",
       "    </tr>\n",
       "    <tr>\n",
       "      <th>375399</th>\n",
       "      <td>2778756</td>\n",
       "      <td>165149</td>\n",
       "      <td>5</td>\n",
       "      <td>662601600</td>\n",
       "      <td>21</td>\n",
       "    </tr>\n",
       "    <tr>\n",
       "      <th>375396</th>\n",
       "      <td>2252640</td>\n",
       "      <td>165149</td>\n",
       "      <td>5</td>\n",
       "      <td>662601600</td>\n",
       "      <td>41</td>\n",
       "    </tr>\n",
       "    <tr>\n",
       "      <th>5918485</th>\n",
       "      <td>3108840</td>\n",
       "      <td>2595333</td>\n",
       "      <td>5</td>\n",
       "      <td>662601600</td>\n",
       "      <td>22</td>\n",
       "    </tr>\n",
       "    <tr>\n",
       "      <th>6175483</th>\n",
       "      <td>829156</td>\n",
       "      <td>2709545</td>\n",
       "      <td>4</td>\n",
       "      <td>662601600</td>\n",
       "      <td>9</td>\n",
       "    </tr>\n",
       "    <tr>\n",
       "      <th>10217241</th>\n",
       "      <td>657638</td>\n",
       "      <td>4495781</td>\n",
       "      <td>4</td>\n",
       "      <td>662601600</td>\n",
       "      <td>66</td>\n",
       "    </tr>\n",
       "    <tr>\n",
       "      <th>1991518</th>\n",
       "      <td>2568660</td>\n",
       "      <td>868850</td>\n",
       "      <td>4</td>\n",
       "      <td>662601600</td>\n",
       "      <td>30</td>\n",
       "    </tr>\n",
       "    <tr>\n",
       "      <th>6175497</th>\n",
       "      <td>1363208</td>\n",
       "      <td>2709545</td>\n",
       "      <td>4</td>\n",
       "      <td>662601600</td>\n",
       "      <td>12</td>\n",
       "    </tr>\n",
       "    <tr>\n",
       "      <th>375392</th>\n",
       "      <td>1304305</td>\n",
       "      <td>165149</td>\n",
       "      <td>5</td>\n",
       "      <td>662601600</td>\n",
       "      <td>37</td>\n",
       "    </tr>\n",
       "    <tr>\n",
       "      <th>6175501</th>\n",
       "      <td>1439674</td>\n",
       "      <td>2709545</td>\n",
       "      <td>4</td>\n",
       "      <td>662601600</td>\n",
       "      <td>17</td>\n",
       "    </tr>\n",
       "    <tr>\n",
       "      <th>375390</th>\n",
       "      <td>604325</td>\n",
       "      <td>165149</td>\n",
       "      <td>5</td>\n",
       "      <td>662601600</td>\n",
       "      <td>302</td>\n",
       "    </tr>\n",
       "    <tr>\n",
       "      <th>6893187</th>\n",
       "      <td>1810206</td>\n",
       "      <td>3025500</td>\n",
       "      <td>4</td>\n",
       "      <td>662601600</td>\n",
       "      <td>58</td>\n",
       "    </tr>\n",
       "    <tr>\n",
       "      <th>375389</th>\n",
       "      <td>380649</td>\n",
       "      <td>165149</td>\n",
       "      <td>4</td>\n",
       "      <td>662601600</td>\n",
       "      <td>70</td>\n",
       "    </tr>\n",
       "    <tr>\n",
       "      <th>375388</th>\n",
       "      <td>318794</td>\n",
       "      <td>165149</td>\n",
       "      <td>5</td>\n",
       "      <td>662601600</td>\n",
       "      <td>152</td>\n",
       "    </tr>\n",
       "    <tr>\n",
       "      <th>8126845</th>\n",
       "      <td>2659044</td>\n",
       "      <td>3568350</td>\n",
       "      <td>3</td>\n",
       "      <td>662601600</td>\n",
       "      <td>80</td>\n",
       "    </tr>\n",
       "    <tr>\n",
       "      <th>375394</th>\n",
       "      <td>2158766</td>\n",
       "      <td>165149</td>\n",
       "      <td>4</td>\n",
       "      <td>662601600</td>\n",
       "      <td>37</td>\n",
       "    </tr>\n",
       "    <tr>\n",
       "      <th>8208594</th>\n",
       "      <td>1037701</td>\n",
       "      <td>3604827</td>\n",
       "      <td>3</td>\n",
       "      <td>662601600</td>\n",
       "      <td>17</td>\n",
       "    </tr>\n",
       "    <tr>\n",
       "      <th>897141</th>\n",
       "      <td>2005950</td>\n",
       "      <td>389663</td>\n",
       "      <td>3</td>\n",
       "      <td>662601600</td>\n",
       "      <td>15</td>\n",
       "    </tr>\n",
       "    <tr>\n",
       "      <th>897146</th>\n",
       "      <td>2217044</td>\n",
       "      <td>389663</td>\n",
       "      <td>5</td>\n",
       "      <td>662601600</td>\n",
       "      <td>38</td>\n",
       "    </tr>\n",
       "    <tr>\n",
       "      <th>3183844</th>\n",
       "      <td>2548741</td>\n",
       "      <td>1389598</td>\n",
       "      <td>5</td>\n",
       "      <td>662601600</td>\n",
       "      <td>108</td>\n",
       "    </tr>\n",
       "    <tr>\n",
       "      <th>8622156</th>\n",
       "      <td>2366325</td>\n",
       "      <td>3787954</td>\n",
       "      <td>4</td>\n",
       "      <td>662601600</td>\n",
       "      <td>21</td>\n",
       "    </tr>\n",
       "    <tr>\n",
       "      <th>5659216</th>\n",
       "      <td>300319</td>\n",
       "      <td>2479630</td>\n",
       "      <td>5</td>\n",
       "      <td>662601600</td>\n",
       "      <td>74</td>\n",
       "    </tr>\n",
       "    <tr>\n",
       "      <th>...</th>\n",
       "      <td>...</td>\n",
       "      <td>...</td>\n",
       "      <td>...</td>\n",
       "      <td>...</td>\n",
       "      <td>...</td>\n",
       "    </tr>\n",
       "    <tr>\n",
       "      <th>2619333</th>\n",
       "      <td>426558</td>\n",
       "      <td>1143026</td>\n",
       "      <td>4</td>\n",
       "      <td>1396068402</td>\n",
       "      <td>3</td>\n",
       "    </tr>\n",
       "    <tr>\n",
       "      <th>10357913</th>\n",
       "      <td>388929</td>\n",
       "      <td>4559506</td>\n",
       "      <td>4</td>\n",
       "      <td>1396068498</td>\n",
       "      <td>10</td>\n",
       "    </tr>\n",
       "    <tr>\n",
       "      <th>6385258</th>\n",
       "      <td>1676757</td>\n",
       "      <td>2801503</td>\n",
       "      <td>5</td>\n",
       "      <td>1396068576</td>\n",
       "      <td>2</td>\n",
       "    </tr>\n",
       "    <tr>\n",
       "      <th>10315957</th>\n",
       "      <td>2506725</td>\n",
       "      <td>4540318</td>\n",
       "      <td>5</td>\n",
       "      <td>1396069120</td>\n",
       "      <td>2</td>\n",
       "    </tr>\n",
       "    <tr>\n",
       "      <th>8901585</th>\n",
       "      <td>1435507</td>\n",
       "      <td>3910464</td>\n",
       "      <td>5</td>\n",
       "      <td>1396069245</td>\n",
       "      <td>3</td>\n",
       "    </tr>\n",
       "    <tr>\n",
       "      <th>5820682</th>\n",
       "      <td>2936832</td>\n",
       "      <td>2551307</td>\n",
       "      <td>5</td>\n",
       "      <td>1396069306</td>\n",
       "      <td>6</td>\n",
       "    </tr>\n",
       "    <tr>\n",
       "      <th>10672190</th>\n",
       "      <td>2898227</td>\n",
       "      <td>4699528</td>\n",
       "      <td>4</td>\n",
       "      <td>1396069467</td>\n",
       "      <td>2</td>\n",
       "    </tr>\n",
       "    <tr>\n",
       "      <th>11336170</th>\n",
       "      <td>638320</td>\n",
       "      <td>5001442</td>\n",
       "      <td>5</td>\n",
       "      <td>1396069591</td>\n",
       "      <td>4</td>\n",
       "    </tr>\n",
       "    <tr>\n",
       "      <th>10951193</th>\n",
       "      <td>332746</td>\n",
       "      <td>4827016</td>\n",
       "      <td>5</td>\n",
       "      <td>1396069877</td>\n",
       "      <td>1</td>\n",
       "    </tr>\n",
       "    <tr>\n",
       "      <th>2866171</th>\n",
       "      <td>3105029</td>\n",
       "      <td>1251115</td>\n",
       "      <td>5</td>\n",
       "      <td>1396070009</td>\n",
       "      <td>6</td>\n",
       "    </tr>\n",
       "    <tr>\n",
       "      <th>10222645</th>\n",
       "      <td>198606</td>\n",
       "      <td>4498206</td>\n",
       "      <td>5</td>\n",
       "      <td>1396070418</td>\n",
       "      <td>8</td>\n",
       "    </tr>\n",
       "    <tr>\n",
       "      <th>10886593</th>\n",
       "      <td>1738343</td>\n",
       "      <td>4797072</td>\n",
       "      <td>5</td>\n",
       "      <td>1396070551</td>\n",
       "      <td>1</td>\n",
       "    </tr>\n",
       "    <tr>\n",
       "      <th>8823326</th>\n",
       "      <td>2646225</td>\n",
       "      <td>3875983</td>\n",
       "      <td>5</td>\n",
       "      <td>1396071002</td>\n",
       "      <td>10</td>\n",
       "    </tr>\n",
       "    <tr>\n",
       "      <th>1288467</th>\n",
       "      <td>2896901</td>\n",
       "      <td>561037</td>\n",
       "      <td>5</td>\n",
       "      <td>1396071033</td>\n",
       "      <td>5</td>\n",
       "    </tr>\n",
       "    <tr>\n",
       "      <th>1530302</th>\n",
       "      <td>1138686</td>\n",
       "      <td>666236</td>\n",
       "      <td>5</td>\n",
       "      <td>1396071451</td>\n",
       "      <td>3</td>\n",
       "    </tr>\n",
       "    <tr>\n",
       "      <th>1530303</th>\n",
       "      <td>2038024</td>\n",
       "      <td>666236</td>\n",
       "      <td>5</td>\n",
       "      <td>1396071677</td>\n",
       "      <td>5</td>\n",
       "    </tr>\n",
       "    <tr>\n",
       "      <th>1530301</th>\n",
       "      <td>621364</td>\n",
       "      <td>666236</td>\n",
       "      <td>5</td>\n",
       "      <td>1396071754</td>\n",
       "      <td>9</td>\n",
       "    </tr>\n",
       "    <tr>\n",
       "      <th>1530304</th>\n",
       "      <td>2909497</td>\n",
       "      <td>666236</td>\n",
       "      <td>3</td>\n",
       "      <td>1396071773</td>\n",
       "      <td>6</td>\n",
       "    </tr>\n",
       "    <tr>\n",
       "      <th>11410450</th>\n",
       "      <td>465697</td>\n",
       "      <td>5035338</td>\n",
       "      <td>5</td>\n",
       "      <td>1396072767</td>\n",
       "      <td>11</td>\n",
       "    </tr>\n",
       "    <tr>\n",
       "      <th>10736756</th>\n",
       "      <td>2508364</td>\n",
       "      <td>4728836</td>\n",
       "      <td>3</td>\n",
       "      <td>1396073379</td>\n",
       "      <td>1</td>\n",
       "    </tr>\n",
       "    <tr>\n",
       "      <th>7290388</th>\n",
       "      <td>2651369</td>\n",
       "      <td>3199461</td>\n",
       "      <td>5</td>\n",
       "      <td>1396073873</td>\n",
       "      <td>3</td>\n",
       "    </tr>\n",
       "    <tr>\n",
       "      <th>3118573</th>\n",
       "      <td>2821172</td>\n",
       "      <td>1361978</td>\n",
       "      <td>5</td>\n",
       "      <td>1396073916</td>\n",
       "      <td>8</td>\n",
       "    </tr>\n",
       "    <tr>\n",
       "      <th>1052047</th>\n",
       "      <td>1264215</td>\n",
       "      <td>456472</td>\n",
       "      <td>4</td>\n",
       "      <td>1396074148</td>\n",
       "      <td>5</td>\n",
       "    </tr>\n",
       "    <tr>\n",
       "      <th>3024885</th>\n",
       "      <td>3097026</td>\n",
       "      <td>1320626</td>\n",
       "      <td>5</td>\n",
       "      <td>1396074487</td>\n",
       "      <td>5</td>\n",
       "    </tr>\n",
       "    <tr>\n",
       "      <th>3664021</th>\n",
       "      <td>2699686</td>\n",
       "      <td>1601239</td>\n",
       "      <td>5</td>\n",
       "      <td>1396077471</td>\n",
       "      <td>2</td>\n",
       "    </tr>\n",
       "    <tr>\n",
       "      <th>7672378</th>\n",
       "      <td>1938164</td>\n",
       "      <td>3368185</td>\n",
       "      <td>5</td>\n",
       "      <td>1396078130</td>\n",
       "      <td>4</td>\n",
       "    </tr>\n",
       "    <tr>\n",
       "      <th>2626377</th>\n",
       "      <td>3045462</td>\n",
       "      <td>1146074</td>\n",
       "      <td>3</td>\n",
       "      <td>1396078210</td>\n",
       "      <td>3</td>\n",
       "    </tr>\n",
       "    <tr>\n",
       "      <th>1039327</th>\n",
       "      <td>2310847</td>\n",
       "      <td>450576</td>\n",
       "      <td>5</td>\n",
       "      <td>1396078950</td>\n",
       "      <td>2</td>\n",
       "    </tr>\n",
       "    <tr>\n",
       "      <th>7477958</th>\n",
       "      <td>2305605</td>\n",
       "      <td>3282501</td>\n",
       "      <td>5</td>\n",
       "      <td>1396079488</td>\n",
       "      <td>2</td>\n",
       "    </tr>\n",
       "    <tr>\n",
       "      <th>8297542</th>\n",
       "      <td>2106488</td>\n",
       "      <td>3643665</td>\n",
       "      <td>2</td>\n",
       "      <td>1396082360</td>\n",
       "      <td>6</td>\n",
       "    </tr>\n",
       "  </tbody>\n",
       "</table>\n",
       "<p>10601852 rows × 5 columns</p>\n",
       "</div>"
      ],
      "text/plain": [
       "          gPlusPlaceId  gPlusUserId  rating  unixReviewTime  num_reviews\n",
       "4615709         804813      2021440       4       662601600            9\n",
       "897140         1918972       389663       4       662601600           20\n",
       "6175469         449452      2709545       4       662601600           15\n",
       "11192629        942354      4936600       4       662601600          293\n",
       "1898989        3063673       828378       5       662601600           11\n",
       "3605223        2437018      1575245       5       662601600           55\n",
       "4608639        1005238      2018339       4       662601600           18\n",
       "6175479         729337      2709545       5       662601600            7\n",
       "6175480         737152      2709545       5       662601600            5\n",
       "375399         2778756       165149       5       662601600           21\n",
       "375396         2252640       165149       5       662601600           41\n",
       "5918485        3108840      2595333       5       662601600           22\n",
       "6175483         829156      2709545       4       662601600            9\n",
       "10217241        657638      4495781       4       662601600           66\n",
       "1991518        2568660       868850       4       662601600           30\n",
       "6175497        1363208      2709545       4       662601600           12\n",
       "375392         1304305       165149       5       662601600           37\n",
       "6175501        1439674      2709545       4       662601600           17\n",
       "375390          604325       165149       5       662601600          302\n",
       "6893187        1810206      3025500       4       662601600           58\n",
       "375389          380649       165149       4       662601600           70\n",
       "375388          318794       165149       5       662601600          152\n",
       "8126845        2659044      3568350       3       662601600           80\n",
       "375394         2158766       165149       4       662601600           37\n",
       "8208594        1037701      3604827       3       662601600           17\n",
       "897141         2005950       389663       3       662601600           15\n",
       "897146         2217044       389663       5       662601600           38\n",
       "3183844        2548741      1389598       5       662601600          108\n",
       "8622156        2366325      3787954       4       662601600           21\n",
       "5659216         300319      2479630       5       662601600           74\n",
       "...                ...          ...     ...             ...          ...\n",
       "2619333         426558      1143026       4      1396068402            3\n",
       "10357913        388929      4559506       4      1396068498           10\n",
       "6385258        1676757      2801503       5      1396068576            2\n",
       "10315957       2506725      4540318       5      1396069120            2\n",
       "8901585        1435507      3910464       5      1396069245            3\n",
       "5820682        2936832      2551307       5      1396069306            6\n",
       "10672190       2898227      4699528       4      1396069467            2\n",
       "11336170        638320      5001442       5      1396069591            4\n",
       "10951193        332746      4827016       5      1396069877            1\n",
       "2866171        3105029      1251115       5      1396070009            6\n",
       "10222645        198606      4498206       5      1396070418            8\n",
       "10886593       1738343      4797072       5      1396070551            1\n",
       "8823326        2646225      3875983       5      1396071002           10\n",
       "1288467        2896901       561037       5      1396071033            5\n",
       "1530302        1138686       666236       5      1396071451            3\n",
       "1530303        2038024       666236       5      1396071677            5\n",
       "1530301         621364       666236       5      1396071754            9\n",
       "1530304        2909497       666236       3      1396071773            6\n",
       "11410450        465697      5035338       5      1396072767           11\n",
       "10736756       2508364      4728836       3      1396073379            1\n",
       "7290388        2651369      3199461       5      1396073873            3\n",
       "3118573        2821172      1361978       5      1396073916            8\n",
       "1052047        1264215       456472       4      1396074148            5\n",
       "3024885        3097026      1320626       5      1396074487            5\n",
       "3664021        2699686      1601239       5      1396077471            2\n",
       "7672378        1938164      3368185       5      1396078130            4\n",
       "2626377        3045462      1146074       3      1396078210            3\n",
       "1039327        2310847       450576       5      1396078950            2\n",
       "7477958        2305605      3282501       5      1396079488            2\n",
       "8297542        2106488      3643665       2      1396082360            6\n",
       "\n",
       "[10601852 rows x 5 columns]"
      ]
     },
     "execution_count": 94,
     "metadata": {},
     "output_type": "execute_result"
    }
   ],
   "source": [
    "places_timed.sort_values(by=[\"unixReviewTime\"])"
   ]
  },
  {
   "cell_type": "code",
   "execution_count": 102,
   "metadata": {},
   "outputs": [
    {
     "name": "stdout",
     "output_type": "stream",
     "text": [
      "2014 3 29\n"
     ]
    }
   ],
   "source": [
    "timeStruct = time.gmtime(1396078950)\n",
    "\n",
    "year, month, day = map(int,time.strftime(\"%Y %m %d\",timeStruct).split())\n",
    "\n",
    "print(year, month, day)"
   ]
  },
  {
   "cell_type": "code",
   "execution_count": null,
   "metadata": {},
   "outputs": [],
   "source": []
  }
 ],
 "metadata": {
  "kernelspec": {
   "display_name": "Python [conda env:py36]",
   "language": "python",
   "name": "conda-env-py36-py"
  },
  "language_info": {
   "codemirror_mode": {
    "name": "ipython",
    "version": 3
   },
   "file_extension": ".py",
   "mimetype": "text/x-python",
   "name": "python",
   "nbconvert_exporter": "python",
   "pygments_lexer": "ipython3",
   "version": "3.6.8"
  }
 },
 "nbformat": 4,
 "nbformat_minor": 2
}
